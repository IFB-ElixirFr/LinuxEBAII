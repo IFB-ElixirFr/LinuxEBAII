{
 "cells": [
  {
   "cell_type": "markdown",
   "id": "71f1135d-0dcd-4004-a0f7-2b3fbae93207",
   "metadata": {},
   "source": [
    "# Stockage fichiers\n",
    "\n",
    "## Où stocker vos fichiers/dossiers ?\n",
    "\n",
    "Varie selon les plateformes. Se renseigner !\n",
    "\n",
    "**A l'IFB**\n",
    "\n",
    "❌\n",
    "Votre “maison”: `~` (e.g. `/shared/home/cnorris`)\n",
    "- Ce dossier est très limité en stockage\n",
    "- Pour les fichiers et dossiers **très peu volumineux**\n",
    "- **Pas pour faire des analyses**\n",
    "- Utiliser la commande `cd` (sans argument) pour vous rendre dans ce dossier\n",
    "- Le chemin vers le dossier home est symbolisé par `~`\n",
    "- Quota de **5Go**\n",
    "\n",
    "\n",
    "✅\n",
    "Votre dossier projet (e.g /shared/projects/<project>)\n",
    "- **C’est le dossier dans lequel vous devez téléverser* vos données**\n",
    "- **C’est LE dossier pour lancer vos analyses …**\n",
    "\n",
    "_* Vous pouvez aussi dire ‘uploader’ :)_\n",
    "    \n",
    "## Connaitre le contenu d'un répertoire\n",
    "\n",
    "On peut utiliser la commande `ls` (**l**i**s**t directory contents) afin de connaitre le contenu de notre dossier.\n",
    "\n",
    "Les trois options les plus utiles : -l -a -h.\n",
    "\n",
    "- -l : permet d'afficher le contenu sous forme de liste longue avec quelques infos bien utiles mais nous y reviendrons.\n",
    "- -a : permet d'afficher TOUS les fichiers, même les cachés (on les reconnait par la présence d'un `.` devant leur nom).\n",
    "- -h : Le meilleur ami de l'Homme, il permet d'afficher les poids de fichier de façon lisible par l'oeil humain. Fini les conversions !\n",
    "\n",
    "Essayons dans les exemples suivants. Commencez par vous rendre dans votre espace projet\n",
    "\n"
   ]
  },
  {
   "cell_type": "code",
   "execution_count": null,
   "id": "f1bb4a2f-e348-4e55-b8d5-934bec0feaf9",
   "metadata": {},
   "outputs": [],
   "source": [
    "# remplacer <project>\n",
    "# cd /shared/projects/<project>/\n",
    "# Dans le cadre de notre livre, <project> = 2325_ebaii/coursLinux/demo\n",
    "# attention de ne pas utiliser ce nom là mais le votre\n",
    "cd /shared/projects/2325_ebaii/coursLinux/demo\n",
    "\n",
    "# Lister les fichiers et dossiers présents\n",
    "ls\n",
    "ls -l\n",
    "ls -la\n",
    "ls -lah"
   ]
  },
  {
   "cell_type": "markdown",
   "id": "71f1135d-0dcd-4004-a0f7-2b3fbae93207",
   "metadata": {},
   "source": [
    "## Créer des répertoires\n",
    "\n",
    "On utilisera la commande `mkdir` (**m**a**k**e **dir**ectory).\n",
    "\n"
   ]
  },
  {
   "cell_type": "code",
   "execution_count": null,
   "id": "14983167-03a1-4cbf-a9f7-82b75b6a61b2",
   "metadata": {},
   "outputs": [],
   "source": [
    "# On crée le dossier\n",
    "mkdir chip-seq"
   ]
  },
  {
   "cell_type": "code",
   "execution_count": null,
   "id": "14983167-03a1-4cbf-a9f7-82b75b6a61b2",
   "metadata": {},
   "outputs": [],
   "source": [
    "# malheureusement il y a une erreur, vous vouliez écrire rna-seq\n",
    "# on va donc supprimer le dossier vide et en re-créer un avec le bon nom\n",
    "rmdir chip-seq\n",
    "mkdir rna-seq"
   ]
  },
  {
   "cell_type": "code",
   "execution_count": null,
   "id": "218f9aac-1d20-4216-8df3-e13ddfef0e6f",
   "metadata": {},
   "outputs": [],
   "source": [
    "# Vérifiez que le nouveau dossier apparaisse\n",
    "# Deplacez vous dans le dossier que vous venez de creer\n",
    "# Equivalent de cd ./rna-seq\n",
    "# L'utilisation de ./ est souvent facultative.\n",
    "cd rna-seq\n",
    "# Verifiez que vous avez bien créé le dossier\n",
    "ls -l"
   ]
  },
  {
   "cell_type": "code",
   "execution_count": null,
   "id": "c22e4433-e1af-44ca-8f0a-176ede036611",
   "metadata": {},
   "outputs": [],
   "source": [
    "# On crée deux dossiers d'un coup\n",
    "mkdir ref fastq"
   ]
  },
  {
   "cell_type": "code",
   "execution_count": null,
   "id": "0d81b1fd-dc47-45e6-a4d8-8d4d91c215a1",
   "metadata": {},
   "outputs": [],
   "source": [
    "# On a bien deux dossiers\n",
    "ls -l"
   ]
  },
  {
   "cell_type": "code",
   "execution_count": null,
   "id": "55a15440-82ea-42ac-a0cf-0cc3c4039991",
   "metadata": {},
   "outputs": [],
   "source": [
    "# On se déplace dans fastq\n",
    "cd fastq"
   ]
  },
  {
   "cell_type": "code",
   "execution_count": null,
   "id": "caead73b-a981-4369-91e3-f3fa471907ec",
   "metadata": {},
   "outputs": [],
   "source": [
    "# On remonte de deux niveaux\n",
    "cd ../.."
   ]
  },
  {
   "cell_type": "code",
   "execution_count": null,
   "id": "c0882cb8-c57d-400f-92b7-9eb914cc76d9",
   "metadata": {},
   "outputs": [],
   "source": [
    "# On créé un chemin vers un dossier ‘bam’\n",
    "# L'option -p permet de créer tous les dossiers intermédiaires manquants.",
    "mkdir -p rna-seq/output/bam"
   ]
  },
  {
   "cell_type": "code",
   "execution_count": null,
   "id": "3eb0d19f-d2f7-4899-809e-78b9c2612fb3",
   "metadata": {},
   "outputs": [],
   "source": [
    "# On liste Récursivement les dossiers\n",
    "ls -R"
   ]
  },
  {
   "cell_type": "code",
   "execution_count": null,
   "id": "f0530cd4-b45a-466f-9190-384171e4eaf0",
   "metadata": {},
   "outputs": [],
   "source": [
    "tree"
   ]
  },
  {
   "cell_type": "markdown",
   "id": "dcbed231-9f5f-4998-afe2-d44f51ca1c52",
   "metadata": {},
   "source": [
    "## Copier, couper et supprimer fichiers et dossiers\n",
    "WARNING : La ligne de commande est clémente mais bien moins protégée que Windows. Elle préviendra certaines bêtises mais pas toutes !\n",
    "Les actions suivantes sont donc à réaliser avec précaution\n",
    "\n",
    "- cp : (= copier/coller Windows) Permet de copier un fichier, option -r permet de le faire pour un dossier et l'ensemble de son contenu (récursive)\n",
    "\n",
    "      `cp chemin/pour/monfichier.txt chemin/de/destination` Il est possible de renommer le fichier au passage, il vous suffit de changer le nom de destination\n",
    "\n"
   ]
  },
  {
   "cell_type": "code",
   "execution_count": null,
   "id": "f0530cd4-b45a-466f-9190-384171e4eaf0",
   "metadata": {},
   "outputs": [],
   "source": [
    "# Copions le fichier /shared/bank/homo_sapiens/hg38/fasta/hg38.fa.fai dans le dossier ref/\n",
    "cp /shared/bank/homo_sapiens/hg38/fasta/hg38.fa.fai rna-seq/ref"
   ]
  },
  {
   "cell_type": "markdown",
   "id": "dcbed231-9f5f-4998-afe2-d44f51ca1c52",
   "metadata": {},
   "source": [
    " - mv : (= couper/coller Windows mais aussi renommer) Permet de déplacer un fichier ou un dossier mais aussi de le renommer\n",
    "\n",
    "        `mv chemin/fichier.txt chemin/fichier_renomme.txt # Pour renommer sans bouger`\n",
    "\n",
    "        `mv chemin/fichier.txt chemin/d/arrivee` # Pour déplacer sans renommer \n",
    "\n"
   ]
  },
  {
   "cell_type": "code",
   "execution_count": null,
   "id": "f0530cd4-b45a-466f-9190-384171e4eaf0",
   "metadata": {},
   "outputs": [],
   "source": [
    "# Déplaçons le fichier hg38.fa.fai dans le dossier rna-seq/output\n",
    "mv rna-seq/ref/hg38.fa.fai rna-seq/output\n",
    "tree # on vérifie que c'est fait\n",
    "# Finalement, le dossier rna-seq devait bien s'appeler chip-seq ! Renommons le.\n",
    "mv rna-seq/ chip-seq"
   ]
  },
  {
   "cell_type": "markdown",
   "id": "dcbed231-9f5f-4998-afe2-d44f51ca1c52",
   "metadata": {},
   "source": [
    " - rm : Permet de supprimer un fichier ou un dossier (-r) mais WARNING attention à son usage, si le fichier est important, on ne vous demandera pas si vous êtes VRAIMENT sûrs de vouloir le supprimer !\n",
    "\n",
    "        `rm chemin/fichier.txt`\n",
    "\n",
    "        `rm -r chemin/directory`\n",
    "\n"
   ]
  },
  {
   "cell_type": "code",
   "execution_count": null,
   "id": "f0530cd4-b45a-466f-9190-384171e4eaf0",
   "metadata": {},
   "outputs": [],
   "source": [
    "# Le fichier d'index ne nous sera pas utile, supprimons le\n",
    "rm chip-seq/output/hg38.fa.fai\n",
    "tree # on vérifie que c'est fait"
   ]
  },
  {
   "cell_type": "markdown",
   "id": "dcbed231-9f5f-4998-afe2-d44f51ca1c52",
   "metadata": {},
   "source": [
    "## Qui a le droit de quoi ?\n",
    "Parfois un message d'erreur peut apparaitre, annonçant que vous n'avez pas le droit de réaliser une action.\n",
    "\n",
    "Ces droits sont régis par trois lettres r, w et x.\n",
    " - r : read, droit de lire le fichier et de l'ouvrir \n",
    " - w : write, droit d'écrire et modifier un fichier\n",
    " - x : execute, droit d'executer le fichier (un script par exemple)\n",
    "Lorsque vous faites un `ls -l`, vous pouvez noter que certaines lignes commencent par un d, signifiant dossier\n",
    "Notons également le fait que les rwx se répète, ou non, trois fois.\n",
    "Le premier triplet correspond au droit que possède le propriétaire du fichier,\n",
    "le second correspond aux droits alloués aux utilisateurs du même groupe que le propriétaire du fichier,\n",
    "le dernier correspond aux droits de tous les autres utilisateurs.\n",
    "\n"
   ]
  },
  {
   "cell_type": "markdown",
   "id": "dcbed231-9f5f-4998-afe2-d44f51ca1c52",
   "metadata": {
    "tags": []
   },
   "source": [
    "## Exercices\n",
    "\n",
    "1. **Déplacez-vous dans votre dossier projet**\n",
    "2. Créez un répertoire **annotations dans votre dossier projet**\n",
    "3. **Déplacez-vous dans le dossier annotations**\n",
    "4. **Dans ce dossier créez un dossier hg38 et son sous-dossier gff (hg38/gff)**\n",
    "5. Déplacez-vous dans le répertoire **hg38/gff**\n",
    "6. Déplacez-vous dans annotations.\n",
    "7. Créez un sous-dossier **mm10** et son sous-dossier gff (**mm10/gff**)\n",
    "8. Déplacez-vous dans **mm10/gff**\n",
    "9. Depuis ce dossier listez le contenu du dossier **hg38**\n",
    "\n",
    "### Solutions"
   ]
  },
  {
   "cell_type": "code",
   "execution_count": null,
   "id": "e844248f-7810-41a9-88e9-c8913f3555ab",
   "metadata": {},
   "outputs": [],
   "source": [
    "# remplacer <project> \n",
    "# cd /shared/projects/<project>/\n",
    "cd /shared/projects/form_2022_32/coursLinux/demo"
   ]
  },
  {
   "cell_type": "code",
   "execution_count": null,
   "id": "48fbd798-bd28-497a-b3c4-4babd1f3515d",
   "metadata": {},
   "outputs": [],
   "source": [
    "# On crée le dossier\n",
    "mkdir annotations"
   ]
  },
  {
   "cell_type": "code",
   "execution_count": null,
   "id": "03eb7a9e-fa96-41c8-a4fd-79f7e7a1d40b",
   "metadata": {},
   "outputs": [],
   "source": [
    "# On se déplace\n",
    "cd annotations"
   ]
  },
  {
   "cell_type": "code",
   "execution_count": null,
   "id": "91ebd367-69d4-4b9f-b099-60826de52e9e",
   "metadata": {},
   "outputs": [],
   "source": [
    "# Où sommes nous ?\n",
    "pwd"
   ]
  },
  {
   "cell_type": "code",
   "execution_count": null,
   "id": "4b00698a-e112-4e05-898d-12ceea15ce01",
   "metadata": {},
   "outputs": [],
   "source": [
    "# On crée le dossier gff dans hg38\n",
    "mkdir -p hg38/gff"
   ]
  },
  {
   "cell_type": "code",
   "execution_count": null,
   "id": "17fa93c9-0ef4-457c-868e-940421f3674c",
   "metadata": {},
   "outputs": [],
   "source": [
    "# On se déplace\n",
    "cd hg38/gff"
   ]
  },
  {
   "cell_type": "code",
   "execution_count": null,
   "id": "e0867af1-1857-4d6e-bf20-7286e77080bf",
   "metadata": {},
   "outputs": [],
   "source": [
    "# On se déplace dans annotations\n",
    "cd ../.."
   ]
  },
  {
   "cell_type": "code",
   "execution_count": null,
   "id": "64754bf0-0b2e-4928-8a79-c2a1853f46f4",
   "metadata": {},
   "outputs": [],
   "source": [
    "# On crée le dossier gff dans mm10\n",
    "mkdir -p mm10/gff"
   ]
  },
  {
   "cell_type": "code",
   "execution_count": null,
   "id": "b25206d5-f8f7-44d4-9288-ce8601f3b5b1",
   "metadata": {},
   "outputs": [],
   "source": [
    "cd mm10/gff"
   ]
  },
  {
   "cell_type": "code",
   "execution_count": null,
   "id": "6cb3f516-4ec7-4b67-86c2-78cd053107aa",
   "metadata": {},
   "outputs": [],
   "source": [
    "# On voit un dossier gff\n",
    "ls ../../hg38"
   ]
  }
 ],
 "metadata": {
  "kernelspec": {
   "display_name": "Bash",
   "language": "bash",
   "name": "bash"
  },
  "language_info": {
   "codemirror_mode": "shell",
   "file_extension": ".sh",
   "mimetype": "text/x-sh",
   "name": "bash"
  }
 },
 "nbformat": 4,
 "nbformat_minor": 5
}
