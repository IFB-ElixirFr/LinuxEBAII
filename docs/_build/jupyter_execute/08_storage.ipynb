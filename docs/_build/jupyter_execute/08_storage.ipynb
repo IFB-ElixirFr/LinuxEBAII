{
 "cells": [
  {
   "cell_type": "markdown",
   "id": "71f1135d-0dcd-4004-a0f7-2b3fbae93207",
   "metadata": {},
   "source": [
    "# Stockage fichiers\n",
    "\n",
    "## Où stocker vos fichiers/dossiers ?\n",
    "\n",
    "Varie selon les plateformes. Se renseigner !\n",
    "\n",
    "**A l'IFB**\n",
    "\n",
    "❌\n",
    "Votre “maison”: ~ (e.g. /shared/home/cnorris)\n",
    "- Ce dossier est très limité en stockage\n",
    "- Pour les fichiers et dossiers **très peu volumineux**\n",
    "- **Pas pour faire des analyses**\n",
    "- Utiliser la commande cd (sans argument) pour vous rendre dans ce dossier\n",
    "- Le chemin vers le dossier home est symbolisé par ~\n",
    "- Quota de **5Go**\n",
    "\n",
    "\n",
    "✅\n",
    "Votre dossier projet (e.g /shared/projects/<project>)\n",
    "- **C’est le dossier dans lequel vous devez téléverser* vos données**\n",
    "- **C’est LE dossier pour lancer vos analyses …**\n",
    "\n",
    "_* Vous pouvez aussi dire ‘uploader’ :)_\n",
    "    \n",
    "## Créer des répertoires\n",
    "\n",
    "On utilisera la commande `mkdir` (**m**a**k**e **dir**ectory)."
   ]
  },
  {
   "cell_type": "code",
   "execution_count": 1,
   "id": "f1bb4a2f-e348-4e55-b8d5-934bec0feaf9",
   "metadata": {},
   "outputs": [],
   "source": [
    "# remplacer <project>\n",
    "# cd /shared/projects/<project>/\n",
    "cd /shared/projects/form_2022_32/coursLinux/demo"
   ]
  },
  {
   "cell_type": "code",
   "execution_count": 2,
   "id": "14983167-03a1-4cbf-a9f7-82b75b6a61b2",
   "metadata": {},
   "outputs": [],
   "source": [
    "# On crée le dossier\n",
    "mkdir chip-seq"
   ]
  },
  {
   "cell_type": "code",
   "execution_count": 3,
   "id": "218f9aac-1d20-4216-8df3-e13ddfef0e6f",
   "metadata": {},
   "outputs": [
    {
     "name": "stdout",
     "output_type": "stream",
     "text": [
      "total 4\n"
     ]
    },
    {
     "name": "stdout",
     "output_type": "stream",
     "text": [
      "drwxrwx---+ 2 tdenecker tdenecker 4096 Nov 12 22:05 \u001b[0m\u001b[38;5;27mchip-seq\u001b[0m\n"
     ]
    }
   ],
   "source": [
    "# Vérifier la création du dossier\n",
    "ls -l"
   ]
  },
  {
   "cell_type": "markdown",
   "id": "1462da45-15e6-409b-8892-b425d8c97f94",
   "metadata": {},
   "source": [
    "````{margin} Sur le ./\n",
    "L'utilisation de ./ est souvent facultative.\n",
    "````"
   ]
  },
  {
   "cell_type": "code",
   "execution_count": 4,
   "id": "1b2031e4-531b-4cac-807e-7aba9cca8daf",
   "metadata": {},
   "outputs": [],
   "source": [
    "# Equivalent de cd ./chip-seq\n",
    "cd chip-seq"
   ]
  },
  {
   "cell_type": "code",
   "execution_count": 5,
   "id": "c22e4433-e1af-44ca-8f0a-176ede036611",
   "metadata": {},
   "outputs": [],
   "source": [
    "# On crée deux dossiers d'un coup\n",
    "mkdir bam fastq\t "
   ]
  },
  {
   "cell_type": "code",
   "execution_count": 6,
   "id": "0d81b1fd-dc47-45e6-a4d8-8d4d91c215a1",
   "metadata": {},
   "outputs": [
    {
     "name": "stdout",
     "output_type": "stream",
     "text": [
      "total 8\n"
     ]
    },
    {
     "name": "stdout",
     "output_type": "stream",
     "text": [
      "drwxrwx---+ 2 tdenecker tdenecker 4096 Nov 12 22:05 \u001b[0m\u001b[38;5;27mbam\u001b[0m\n"
     ]
    },
    {
     "name": "stdout",
     "output_type": "stream",
     "text": [
      "drwxrwx---+ 2 tdenecker tdenecker 4096 Nov 12 22:05 \u001b[38;5;27mfastq\u001b[0m\n"
     ]
    }
   ],
   "source": [
    "# On a bien deux dossiers\n",
    "ls -l"
   ]
  },
  {
   "cell_type": "code",
   "execution_count": 7,
   "id": "55a15440-82ea-42ac-a0cf-0cc3c4039991",
   "metadata": {},
   "outputs": [],
   "source": [
    "# On se déplace dans fastq\n",
    "cd fastq"
   ]
  },
  {
   "cell_type": "code",
   "execution_count": 8,
   "id": "caead73b-a981-4369-91e3-f3fa471907ec",
   "metadata": {},
   "outputs": [],
   "source": [
    "# On remonte de deux niveaux\n",
    "cd ../.."
   ]
  },
  {
   "cell_type": "code",
   "execution_count": 9,
   "id": "c0882cb8-c57d-400f-92b7-9eb914cc76d9",
   "metadata": {},
   "outputs": [],
   "source": [
    "# On créé un chemin vers un dossier ‘bam’\n",
    "mkdir -p rna-seq/output/bam"
   ]
  },
  {
   "cell_type": "code",
   "execution_count": 10,
   "id": "3eb0d19f-d2f7-4899-809e-78b9c2612fb3",
   "metadata": {},
   "outputs": [
    {
     "name": "stdout",
     "output_type": "stream",
     "text": [
      ".:\n"
     ]
    },
    {
     "name": "stdout",
     "output_type": "stream",
     "text": [
      "\u001b[0m\u001b[38;5;27mchip-seq\u001b[0m  \u001b[38;5;27mrna-seq\u001b[0m\n"
     ]
    },
    {
     "name": "stdout",
     "output_type": "stream",
     "text": [
      "\n"
     ]
    },
    {
     "name": "stdout",
     "output_type": "stream",
     "text": [
      "./chip-seq:\n"
     ]
    },
    {
     "name": "stdout",
     "output_type": "stream",
     "text": [
      "\u001b[38;5;27mbam\u001b[0m  \u001b[38;5;27mfastq\u001b[0m\n"
     ]
    },
    {
     "name": "stdout",
     "output_type": "stream",
     "text": [
      "\n"
     ]
    },
    {
     "name": "stdout",
     "output_type": "stream",
     "text": [
      "./chip-seq/bam:\n"
     ]
    },
    {
     "name": "stdout",
     "output_type": "stream",
     "text": [
      "\n"
     ]
    },
    {
     "name": "stdout",
     "output_type": "stream",
     "text": [
      "./chip-seq/fastq:\n"
     ]
    },
    {
     "name": "stdout",
     "output_type": "stream",
     "text": [
      "\n"
     ]
    },
    {
     "name": "stdout",
     "output_type": "stream",
     "text": [
      "./rna-seq:\n"
     ]
    },
    {
     "name": "stdout",
     "output_type": "stream",
     "text": [
      "\u001b[38;5;27moutput\u001b[0m\n"
     ]
    },
    {
     "name": "stdout",
     "output_type": "stream",
     "text": [
      "\n"
     ]
    },
    {
     "name": "stdout",
     "output_type": "stream",
     "text": [
      "./rna-seq/output:\n"
     ]
    },
    {
     "name": "stdout",
     "output_type": "stream",
     "text": [
      "\u001b[38;5;27mbam\u001b[0m\n"
     ]
    },
    {
     "name": "stdout",
     "output_type": "stream",
     "text": [
      "\n"
     ]
    },
    {
     "name": "stdout",
     "output_type": "stream",
     "text": [
      "./rna-seq/output/bam:\n"
     ]
    }
   ],
   "source": [
    "# On liste Récursivement les dossiers\n",
    "ls -R"
   ]
  },
  {
   "cell_type": "code",
   "execution_count": 11,
   "id": "f0530cd4-b45a-466f-9190-384171e4eaf0",
   "metadata": {},
   "outputs": [
    {
     "name": "stdout",
     "output_type": "stream",
     "text": [
      ".\n"
     ]
    },
    {
     "name": "stdout",
     "output_type": "stream",
     "text": [
      "├── chip-seq\n"
     ]
    },
    {
     "name": "stdout",
     "output_type": "stream",
     "text": [
      "│   ├── bam\n"
     ]
    },
    {
     "name": "stdout",
     "output_type": "stream",
     "text": [
      "│   └── fastq\n"
     ]
    },
    {
     "name": "stdout",
     "output_type": "stream",
     "text": [
      "└── rna-seq\n"
     ]
    },
    {
     "name": "stdout",
     "output_type": "stream",
     "text": [
      "    └── output\n"
     ]
    },
    {
     "name": "stdout",
     "output_type": "stream",
     "text": [
      "        └── bam\n"
     ]
    },
    {
     "name": "stdout",
     "output_type": "stream",
     "text": [
      "\n"
     ]
    },
    {
     "name": "stdout",
     "output_type": "stream",
     "text": [
      "6 directories, 0 files\n"
     ]
    }
   ],
   "source": [
    "tree"
   ]
  },
  {
   "cell_type": "markdown",
   "id": "dcbed231-9f5f-4998-afe2-d44f51ca1c52",
   "metadata": {
    "tags": []
   },
   "source": [
    "## Exercices\n",
    "\n",
    "1. **Déplacez-vous dans votre dossier projet**\n",
    "2. Créez un répertoire **annotations dans votre dossier projet**\n",
    "3. **Déplacez-vous dans le dossier annotations**\n",
    "4. **Dans ce dossier créez un dossier hg38 et son sous-dossier gff (hg38/gff)**\n",
    "5. Déplacez-vous dans le répertoire **hg38/gff**\n",
    "6. Déplacez-vous dans annotations.\n",
    "7. Créez un sous-dossier **mm10** et son sous-dossier gff (**mm10/gff**)\n",
    "8. Déplacez-vous dans **mm10/gff**\n",
    "9. Depuis ce dossier listez le contenu du dossier **hg38**\n",
    "\n",
    "### Solutions"
   ]
  },
  {
   "cell_type": "code",
   "execution_count": 12,
   "id": "e844248f-7810-41a9-88e9-c8913f3555ab",
   "metadata": {},
   "outputs": [],
   "source": [
    "# remplacer <project> \n",
    "# cd /shared/projects/<project>/\n",
    "cd /shared/projects/form_2022_32/coursLinux/demo"
   ]
  },
  {
   "cell_type": "code",
   "execution_count": 13,
   "id": "48fbd798-bd28-497a-b3c4-4babd1f3515d",
   "metadata": {},
   "outputs": [],
   "source": [
    "# On crée le dossier\n",
    "mkdir annotations"
   ]
  },
  {
   "cell_type": "code",
   "execution_count": 14,
   "id": "03eb7a9e-fa96-41c8-a4fd-79f7e7a1d40b",
   "metadata": {},
   "outputs": [],
   "source": [
    "# On se déplace\n",
    "cd annotations"
   ]
  },
  {
   "cell_type": "code",
   "execution_count": 15,
   "id": "91ebd367-69d4-4b9f-b099-60826de52e9e",
   "metadata": {},
   "outputs": [
    {
     "name": "stdout",
     "output_type": "stream",
     "text": [
      "/shared/projects/form_2022_32/coursLinux/demo/annotations\n"
     ]
    }
   ],
   "source": [
    "# Où sommes nous ?\n",
    "pwd"
   ]
  },
  {
   "cell_type": "code",
   "execution_count": 16,
   "id": "4b00698a-e112-4e05-898d-12ceea15ce01",
   "metadata": {},
   "outputs": [],
   "source": [
    "# On crée le dossier gff dans hg38\n",
    "mkdir -p hg38/gff"
   ]
  },
  {
   "cell_type": "code",
   "execution_count": 17,
   "id": "17fa93c9-0ef4-457c-868e-940421f3674c",
   "metadata": {},
   "outputs": [],
   "source": [
    "# On se déplace\n",
    "cd hg38/gff"
   ]
  },
  {
   "cell_type": "code",
   "execution_count": 18,
   "id": "e0867af1-1857-4d6e-bf20-7286e77080bf",
   "metadata": {},
   "outputs": [],
   "source": [
    "# On se déplace dans annotations\n",
    "cd ../.."
   ]
  },
  {
   "cell_type": "code",
   "execution_count": 19,
   "id": "64754bf0-0b2e-4928-8a79-c2a1853f46f4",
   "metadata": {},
   "outputs": [],
   "source": [
    "# On crée le dossier gff dans mm10\n",
    "mkdir -p mm10/gff"
   ]
  },
  {
   "cell_type": "code",
   "execution_count": 20,
   "id": "b25206d5-f8f7-44d4-9288-ce8601f3b5b1",
   "metadata": {},
   "outputs": [],
   "source": [
    "cd mm10/gff"
   ]
  },
  {
   "cell_type": "code",
   "execution_count": 21,
   "id": "6cb3f516-4ec7-4b67-86c2-78cd053107aa",
   "metadata": {},
   "outputs": [
    {
     "name": "stdout",
     "output_type": "stream",
     "text": [
      "\u001b[0m\u001b[38;5;27mgff\u001b[0m\n"
     ]
    }
   ],
   "source": [
    "# On voit un dossier gff\n",
    "ls ../../hg38"
   ]
  }
 ],
 "metadata": {
  "kernelspec": {
   "display_name": "Bash",
   "language": "bash",
   "name": "bash"
  },
  "language_info": {
   "codemirror_mode": "shell",
   "file_extension": ".sh",
   "mimetype": "text/x-sh",
   "name": "bash"
  }
 },
 "nbformat": 4,
 "nbformat_minor": 5
}