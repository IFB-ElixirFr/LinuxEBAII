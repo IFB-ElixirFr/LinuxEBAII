{
 "cells": [
  {
   "cell_type": "markdown",
   "id": "71f1135d-0dcd-4004-a0f7-2b3fbae93207",
   "metadata": {},
   "source": [
    "# Stockage fichiers\n",
    "\n",
    "## Où stocker vos fichiers/dossiers ?\n",
    "\n",
    "Varie selon les plateformes. Se renseigner !\n",
    "\n",
    "**A l'IFB**\n",
    "\n",
    "❌\n",
    "Votre “maison”: ~ (e.g. /shared/home/cnorris)\n",
    "- Ce dossier est très limité en stockage\n",
    "- Pour les fichiers et dossiers **très peu volumineux**\n",
    "- **Pas pour faire des analyses**\n",
    "- Utiliser la commande cd (sans argument) pour vous rendre dans ce dossier\n",
    "- Le chemin vers le dossier home est symbolisé par ~\n",
    "- Quota de **5Go**\n",
    "\n",
    "\n",
    "✅\n",
    "Votre dossier projet (e.g /shared/projects/<project>)\n",
    "- **C’est le dossier dans lequel vous devez téléverser* vos données**\n",
    "- **C’est LE dossier pour lancer vos analyses …**\n",
    "\n",
    "_* Vous pouvez aussi dire ‘uploader’ :)_\n",
    "    \n",
    "## Créer des répertoires\n",
    "\n",
    "On utilisera la commande `mkdir` (**m**a**k**e **dir**ectory)."
   ]
  },
  {
   "cell_type": "code",
   "execution_count": 1,
   "id": "f1bb4a2f-e348-4e55-b8d5-934bec0feaf9",
   "metadata": {},
   "outputs": [],
   "source": [
    "# remplacer <project>\n",
    "# cd /shared/projects/<project>/\n",
    "cd /shared/projects/form_2022_32/coursLinux/"
   ]
  },
  {
   "cell_type": "code",
   "execution_count": 2,
   "id": "14983167-03a1-4cbf-a9f7-82b75b6a61b2",
   "metadata": {},
   "outputs": [],
   "source": [
    "# On crée le dossier\n",
    "mkdir chip-seq"
   ]
  },
  {
   "cell_type": "code",
   "execution_count": 3,
   "id": "218f9aac-1d20-4216-8df3-e13ddfef0e6f",
   "metadata": {},
   "outputs": [
    {
     "name": "stdout",
     "output_type": "stream",
     "text": [
      "total 96\n"
     ]
    },
    {
     "name": "stdout",
     "output_type": "stream",
     "text": [
      "drwxrwx---+ 2 tdenecker tdenecker  4096 10 nov.  17:27 \u001b[0m\u001b[38;5;27mchip-seq\u001b[0m\n"
     ]
    },
    {
     "name": "stdout",
     "output_type": "stream",
     "text": [
      "-rw-rw----+ 1 tdenecker tdenecker    62 10 nov.  16:41 cleanFolder.sh\n"
     ]
    },
    {
     "name": "stdout",
     "output_type": "stream",
     "text": [
      "-rw-rw----+ 1 tdenecker tdenecker 52296 10 nov.  15:14 cours1.ipynb\n"
     ]
    },
    {
     "name": "stdout",
     "output_type": "stream",
     "text": [
      "-rw-rw----+ 1 tdenecker tdenecker 23607 10 nov.  12:19 cours2.ipynb\n"
     ]
    },
    {
     "name": "stdout",
     "output_type": "stream",
     "text": [
      "drwxrwx---+ 3 tdenecker tdenecker  4096 10 nov.  12:09 \u001b[38;5;27mimages\u001b[0m\n"
     ]
    },
    {
     "name": "stdout",
     "output_type": "stream",
     "text": [
      "drwxrwx---+ 4 tdenecker tdenecker  4096 10 nov.  16:40 \u001b[38;5;27mLinuxEBAII\u001b[0m\n"
     ]
    }
   ],
   "source": [
    "# Vérifier la création du dossier\n",
    "ls -l"
   ]
  },
  {
   "cell_type": "markdown",
   "id": "1462da45-15e6-409b-8892-b425d8c97f94",
   "metadata": {},
   "source": [
    "````{margin} Sur le ./\n",
    "L'utilisation de ./ est souvent facultative.\n",
    "````"
   ]
  },
  {
   "cell_type": "code",
   "execution_count": 4,
   "id": "1b2031e4-531b-4cac-807e-7aba9cca8daf",
   "metadata": {},
   "outputs": [],
   "source": [
    "# Equivalent de cd ./chip-seq\n",
    "cd chip-seq"
   ]
  },
  {
   "cell_type": "code",
   "execution_count": 5,
   "id": "c22e4433-e1af-44ca-8f0a-176ede036611",
   "metadata": {},
   "outputs": [],
   "source": [
    "# On crée deux dossiers d'un coup\n",
    "mkdir bam fastq\t "
   ]
  },
  {
   "cell_type": "code",
   "execution_count": 6,
   "id": "0d81b1fd-dc47-45e6-a4d8-8d4d91c215a1",
   "metadata": {},
   "outputs": [
    {
     "name": "stdout",
     "output_type": "stream",
     "text": [
      "total 8\n"
     ]
    },
    {
     "name": "stdout",
     "output_type": "stream",
     "text": [
      "drwxrwx---+ 2 tdenecker tdenecker 4096 10 nov.  17:27 \u001b[0m\u001b[38;5;27mbam\u001b[0m\n"
     ]
    },
    {
     "name": "stdout",
     "output_type": "stream",
     "text": [
      "drwxrwx---+ 2 tdenecker tdenecker 4096 10 nov.  17:27 \u001b[38;5;27mfastq\u001b[0m\n"
     ]
    }
   ],
   "source": [
    "# On a bien deux dossiers\n",
    "ls -l"
   ]
  },
  {
   "cell_type": "code",
   "execution_count": 7,
   "id": "55a15440-82ea-42ac-a0cf-0cc3c4039991",
   "metadata": {},
   "outputs": [],
   "source": [
    "# On se déplace dans fastq\n",
    "cd fastq"
   ]
  },
  {
   "cell_type": "code",
   "execution_count": 8,
   "id": "caead73b-a981-4369-91e3-f3fa471907ec",
   "metadata": {},
   "outputs": [],
   "source": [
    "# On remonte de deux niveaux\n",
    "cd ../.."
   ]
  },
  {
   "cell_type": "code",
   "execution_count": 9,
   "id": "c0882cb8-c57d-400f-92b7-9eb914cc76d9",
   "metadata": {},
   "outputs": [],
   "source": [
    "# On créé un chemin vers un dossier ‘bam’\n",
    "mkdir -p rna-seq/output/bam"
   ]
  },
  {
   "cell_type": "code",
   "execution_count": 10,
   "id": "3eb0d19f-d2f7-4899-809e-78b9c2612fb3",
   "metadata": {},
   "outputs": [
    {
     "name": "stdout",
     "output_type": "stream",
     "text": [
      ".:\n"
     ]
    },
    {
     "name": "stdout",
     "output_type": "stream",
     "text": [
      "\u001b[0m\u001b[38;5;27mchip-seq\u001b[0m        cours1.ipynb  \u001b[38;5;27mimages\u001b[0m      \u001b[38;5;27mrna-seq\u001b[0m\n"
     ]
    },
    {
     "name": "stdout",
     "output_type": "stream",
     "text": [
      "cleanFolder.sh  cours2.ipynb  \u001b[38;5;27mLinuxEBAII\u001b[0m\n"
     ]
    },
    {
     "name": "stdout",
     "output_type": "stream",
     "text": [
      "\n"
     ]
    },
    {
     "name": "stdout",
     "output_type": "stream",
     "text": [
      "./chip-seq:\n"
     ]
    },
    {
     "name": "stdout",
     "output_type": "stream",
     "text": [
      "\u001b[38;5;27mbam\u001b[0m  \u001b[38;5;27mfastq\u001b[0m\n"
     ]
    },
    {
     "name": "stdout",
     "output_type": "stream",
     "text": [
      "\n"
     ]
    },
    {
     "name": "stdout",
     "output_type": "stream",
     "text": [
      "./chip-seq/bam:\n"
     ]
    },
    {
     "name": "stdout",
     "output_type": "stream",
     "text": [
      "\n"
     ]
    },
    {
     "name": "stdout",
     "output_type": "stream",
     "text": [
      "./chip-seq/fastq:\n"
     ]
    },
    {
     "name": "stdout",
     "output_type": "stream",
     "text": [
      "\n"
     ]
    },
    {
     "name": "stdout",
     "output_type": "stream",
     "text": [
      "./images:\n"
     ]
    },
    {
     "name": "stdout",
     "output_type": "stream",
     "text": [
      "\u001b[38;5;13marborescence2.png\u001b[0m               \u001b[38;5;13mebaii_fastqc_psqs_no.png\u001b[0m\n"
     ]
    },
    {
     "name": "stdout",
     "output_type": "stream",
     "text": [
      "\u001b[38;5;13marborescence3.png\u001b[0m               \u001b[38;5;13mebaii_fastqc_psqs_ok.png\u001b[0m\n"
     ]
    },
    {
     "name": "stdout",
     "output_type": "stream",
     "text": [
      "\u001b[38;5;13marborescence4.png\u001b[0m               \u001b[38;5;13mebaii_fastqc_ptsq_no.png\u001b[0m\n"
     ]
    },
    {
     "name": "stdout",
     "output_type": "stream",
     "text": [
      "\u001b[38;5;13marborescence.png\u001b[0m                \u001b[38;5;13mebaii_fastqc_ptsq_ok.png\u001b[0m\n"
     ]
    },
    {
     "name": "stdout",
     "output_type": "stream",
     "text": [
      "\u001b[38;5;13marchiCluster.png\u001b[0m                \u001b[38;5;13mebaii_fastqc_stat.png\u001b[0m\n"
     ]
    },
    {
     "name": "stdout",
     "output_type": "stream",
     "text": [
      "\u001b[38;5;13mBED.png\u001b[0m                         \u001b[38;5;13mebaii_fastqc_tricolore.png\u001b[0m\n"
     ]
    },
    {
     "name": "stdout",
     "output_type": "stream",
     "text": [
      "\u001b[38;5;13mebaii_4lignesFastq.png\u001b[0m          \u001b[38;5;13mebaii_GATA2publi.png\u001b[0m\n"
     ]
    },
    {
     "name": "stdout",
     "output_type": "stream",
     "text": [
      "\u001b[38;5;13mebaii_acces_html.png\u001b[0m            \u001b[38;5;13mebaii_jupyterAcces.png\u001b[0m\n"
     ]
    },
    {
     "name": "stdout",
     "output_type": "stream",
     "text": [
      "\u001b[38;5;13mebaii_accesJupyter.png\u001b[0m          \u001b[38;5;13mebaii_jupyterStop.png\u001b[0m\n"
     ]
    },
    {
     "name": "stdout",
     "output_type": "stream",
     "text": [
      "\u001b[38;5;13mebaii_Ascii_sanger.png\u001b[0m          \u001b[38;5;13mebaii_mapping.png\u001b[0m\n"
     ]
    },
    {
     "name": "stdout",
     "output_type": "stream",
     "text": [
      "\u001b[38;5;13mebaii_cigarEx.png\u001b[0m               \u001b[38;5;13mebaii_mapping_positions.png\u001b[0m\n"
     ]
    },
    {
     "name": "stdout",
     "output_type": "stream",
     "text": [
      "\u001b[38;5;13mebaii_cyberduck1.png\u001b[0m            \u001b[38;5;13mebaii_mapping_quality.png\u001b[0m\n"
     ]
    },
    {
     "name": "stdout",
     "output_type": "stream",
     "text": [
      "\u001b[38;5;13mebaii_cyberduck2.png\u001b[0m            \u001b[38;5;13mebaii_mapping_readSeed.png\u001b[0m\n"
     ]
    },
    {
     "name": "stdout",
     "output_type": "stream",
     "text": [
      "\u001b[38;5;13mebaii_cyberduck3.png\u001b[0m            \u001b[38;5;13mebaii_mapping_uniqMultiMap.png\u001b[0m\n"
     ]
    },
    {
     "name": "stdout",
     "output_type": "stream",
     "text": [
      "\u001b[38;5;13mebaii_cyberduck4.png\u001b[0m            \u001b[38;5;13mebaii_MAPQ.png\u001b[0m\n"
     ]
    },
    {
     "name": "stdout",
     "output_type": "stream",
     "text": [
      "\u001b[38;5;13mebaii_cyberduck5.png\u001b[0m            \u001b[38;5;13mebaii_protocole_Chipseq.png\u001b[0m\n"
     ]
    },
    {
     "name": "stdout",
     "output_type": "stream",
     "text": [
      "\u001b[38;5;13mebaii_fastqc_adaptor_litle.png\u001b[0m  \u001b[38;5;13mebaii_SangerScore.png\u001b[0m\n"
     ]
    },
    {
     "name": "stdout",
     "output_type": "stream",
     "text": [
      "\u001b[38;5;13mebaii_fastqc_adaptor_ok.png\u001b[0m     \u001b[38;5;13mebaii_sickle_slidingWindow.png\u001b[0m\n"
     ]
    },
    {
     "name": "stdout",
     "output_type": "stream",
     "text": [
      "\u001b[38;5;13mebaii_fastqc_duplicSeq_ok.png\u001b[0m   \u001b[38;5;13mebaii_trimmingPackman.png\u001b[0m\n"
     ]
    },
    {
     "name": "stdout",
     "output_type": "stream",
     "text": [
      "\u001b[38;5;13mebaii_fastqc_duplicSeq_RNA.png\u001b[0m  \u001b[38;5;13mJupyterConnect.png\u001b[0m\n"
     ]
    },
    {
     "name": "stdout",
     "output_type": "stream",
     "text": [
      "\u001b[38;5;13mebaii_fastqc_overSeq_polyA.png\u001b[0m  \u001b[38;5;13mJupyterConnexion.gif\u001b[0m\n"
     ]
    },
    {
     "name": "stdout",
     "output_type": "stream",
     "text": [
      "\u001b[38;5;13mebaii_fastqc_pbNc_no.png\u001b[0m        \u001b[38;5;13mjupyterHub.png\u001b[0m\n"
     ]
    },
    {
     "name": "stdout",
     "output_type": "stream",
     "text": [
      "\u001b[38;5;13mebaii_fastqc_pbNc_ok.png\u001b[0m        \u001b[38;5;13mJupyterProfile.png\u001b[0m\n"
     ]
    },
    {
     "name": "stdout",
     "output_type": "stream",
     "text": [
      "\u001b[38;5;13mebaii_fastqc_pbsc_no.png\u001b[0m        \u001b[38;5;13mmobaXterm2.png\u001b[0m\n"
     ]
    },
    {
     "name": "stdout",
     "output_type": "stream",
     "text": [
      "\u001b[38;5;13mebaii_fastqc_pbsc_ok.png\u001b[0m        \u001b[38;5;13mmobaXterm.png\u001b[0m\n"
     ]
    },
    {
     "name": "stdout",
     "output_type": "stream",
     "text": [
      "\u001b[38;5;13mebaii_fastqc_pbsq_no.png\u001b[0m        \u001b[38;5;13mprompt.png\u001b[0m\n"
     ]
    },
    {
     "name": "stdout",
     "output_type": "stream",
     "text": [
      "\u001b[38;5;13mebaii_fastqc_pbsq_ok.png\u001b[0m        \u001b[38;5;13mredirection.png\u001b[0m\n"
     ]
    },
    {
     "name": "stdout",
     "output_type": "stream",
     "text": [
      "\u001b[38;5;13mebaii_fastqc_psGCc_no.png\u001b[0m       \u001b[38;5;13mRoscoff.jpeg\u001b[0m\n"
     ]
    },
    {
     "name": "stdout",
     "output_type": "stream",
     "text": [
      "\u001b[38;5;13mebaii_fastqc_psGCc_ok.png\u001b[0m       \u001b[38;5;13mtabTab.gif\u001b[0m\n"
     ]
    },
    {
     "name": "stdout",
     "output_type": "stream",
     "text": [
      "\n"
     ]
    },
    {
     "name": "stdout",
     "output_type": "stream",
     "text": [
      "./LinuxEBAII:\n"
     ]
    },
    {
     "name": "stdout",
     "output_type": "stream",
     "text": [
      "\u001b[38;5;27mdocs\u001b[0m  LICENSE\n"
     ]
    },
    {
     "name": "stdout",
     "output_type": "stream",
     "text": [
      "\n"
     ]
    },
    {
     "name": "stdout",
     "output_type": "stream",
     "text": [
      "./LinuxEBAII/docs:\n"
     ]
    },
    {
     "name": "stdout",
     "output_type": "stream",
     "text": [
      "00_home.md              07_arborescence.ipynb  _config.yml\n"
     ]
    },
    {
     "name": "stdout",
     "output_type": "stream",
     "text": [
      "01_team.md              08_storage.ipynb       \u001b[38;5;27mimages\u001b[0m\n"
     ]
    },
    {
     "name": "stdout",
     "output_type": "stream",
     "text": [
      "02_introduction.ipynb   09_manipulate.ipynb    \u001b[38;5;13mlogo.png\u001b[0m\n"
     ]
    },
    {
     "name": "stdout",
     "output_type": "stream",
     "text": [
      "03_jupyter.md           10_redirection.ipynb   markdown-notebooks.md\n"
     ]
    },
    {
     "name": "stdout",
     "output_type": "stream",
     "text": [
      "04_bash.md              11_linuxIsMore.ipynb   references.bib\n"
     ]
    },
    {
     "name": "stdout",
     "output_type": "stream",
     "text": [
      "05_module.ipynb         12_raccourcis.md       requirements.txt\n"
     ]
    },
    {
     "name": "stdout",
     "output_type": "stream",
     "text": [
      "06_protoCommande.ipynb  \u001b[38;5;27m_build\u001b[0m                 _toc.yml\n"
     ]
    },
    {
     "name": "stdout",
     "output_type": "stream",
     "text": [
      "\n"
     ]
    },
    {
     "name": "stdout",
     "output_type": "stream",
     "text": [
      "./LinuxEBAII/docs/_build:\n"
     ]
    },
    {
     "name": "stdout",
     "output_type": "stream",
     "text": [
      "\u001b[38;5;27mhtml\u001b[0m  \u001b[38;5;27mjupyter_execute\u001b[0m\n"
     ]
    },
    {
     "name": "stdout",
     "output_type": "stream",
     "text": [
      "\n"
     ]
    },
    {
     "name": "stdout",
     "output_type": "stream",
     "text": [
      "./LinuxEBAII/docs/_build/html:\n"
     ]
    },
    {
     "name": "stdout",
     "output_type": "stream",
     "text": [
      "00_home.html           08_storage.html      markdown-notebooks.html\n"
     ]
    },
    {
     "name": "stdout",
     "output_type": "stream",
     "text": [
      "01_team.html           09_manipulate.html   objects.inv\n"
     ]
    },
    {
     "name": "stdout",
     "output_type": "stream",
     "text": [
      "02_introduction.html   10_redirection.html  \u001b[38;5;27mreports\u001b[0m\n"
     ]
    },
    {
     "name": "stdout",
     "output_type": "stream",
     "text": [
      "03_jupyter.html        11_linuxIsMore.html  search.html\n"
     ]
    },
    {
     "name": "stdout",
     "output_type": "stream",
     "text": [
      "04_bash.html           12_raccourcis.html   searchindex.js\n"
     ]
    },
    {
     "name": "stdout",
     "output_type": "stream",
     "text": [
      "05_module.html         genindex.html        \u001b[38;5;27m_sources\u001b[0m\n"
     ]
    },
    {
     "name": "stdout",
     "output_type": "stream",
     "text": [
      "06_protoCommande.html  \u001b[38;5;27m_images\u001b[0m              \u001b[38;5;27m_sphinx_design_static\u001b[0m\n"
     ]
    },
    {
     "name": "stdout",
     "output_type": "stream",
     "text": [
      "07_arborescence.html   index.html           \u001b[38;5;27m_static\u001b[0m\n"
     ]
    },
    {
     "name": "stdout",
     "output_type": "stream",
     "text": [
      "\n"
     ]
    },
    {
     "name": "stdout",
     "output_type": "stream",
     "text": [
      "./LinuxEBAII/docs/_build/html/_images:\n"
     ]
    },
    {
     "name": "stdout",
     "output_type": "stream",
     "text": [
      "\u001b[38;5;13marborescence2.png\u001b[0m  \u001b[38;5;13marchiCluster.png\u001b[0m      \u001b[38;5;13mjupyterHub.png\u001b[0m      \u001b[38;5;13mprompt.png\u001b[0m\n"
     ]
    },
    {
     "name": "stdout",
     "output_type": "stream",
     "text": [
      "\u001b[38;5;13marborescence3.png\u001b[0m  \u001b[38;5;13mBED.png\u001b[0m               \u001b[38;5;13mJupyterProfile.png\u001b[0m  \u001b[38;5;13mredirection.png\u001b[0m\n"
     ]
    },
    {
     "name": "stdout",
     "output_type": "stream",
     "text": [
      "\u001b[38;5;13marborescence4.png\u001b[0m  \u001b[38;5;13mJupyterConnect.png\u001b[0m    \u001b[38;5;13mmobaXterm2.png\u001b[0m      \u001b[38;5;13mtabTab.gif\u001b[0m\n"
     ]
    },
    {
     "name": "stdout",
     "output_type": "stream",
     "text": [
      "\u001b[38;5;13marborescence.png\u001b[0m   \u001b[38;5;13mJupyterConnexion.gif\u001b[0m  \u001b[38;5;13mmobaXterm.png\u001b[0m\n"
     ]
    },
    {
     "name": "stdout",
     "output_type": "stream",
     "text": [
      "\n"
     ]
    },
    {
     "name": "stdout",
     "output_type": "stream",
     "text": [
      "./LinuxEBAII/docs/_build/html/reports:\n"
     ]
    },
    {
     "name": "stdout",
     "output_type": "stream",
     "text": [
      "05_module.log\n"
     ]
    },
    {
     "name": "stdout",
     "output_type": "stream",
     "text": [
      "\n"
     ]
    },
    {
     "name": "stdout",
     "output_type": "stream",
     "text": [
      "./LinuxEBAII/docs/_build/html/_sources:\n"
     ]
    },
    {
     "name": "stdout",
     "output_type": "stream",
     "text": [
      "00_home.md             05_module.ipynb         10_redirection.ipynb\n"
     ]
    },
    {
     "name": "stdout",
     "output_type": "stream",
     "text": [
      "01_team.md             06_protoCommande.ipynb  11_linuxIsMore.ipynb\n"
     ]
    },
    {
     "name": "stdout",
     "output_type": "stream",
     "text": [
      "02_introduction.ipynb  07_arborescence.ipynb   12_raccourcis.md\n"
     ]
    },
    {
     "name": "stdout",
     "output_type": "stream",
     "text": [
      "03_jupyter.md          08_storage.ipynb        markdown-notebooks.ipynb\n"
     ]
    },
    {
     "name": "stdout",
     "output_type": "stream",
     "text": [
      "04_bash.md             09_manipulate.ipynb     markdown-notebooks.md\n"
     ]
    },
    {
     "name": "stdout",
     "output_type": "stream",
     "text": [
      "\n"
     ]
    },
    {
     "name": "stdout",
     "output_type": "stream",
     "text": [
      "./LinuxEBAII/docs/_build/html/_sphinx_design_static:\n"
     ]
    },
    {
     "name": "stdout",
     "output_type": "stream",
     "text": [
      "design-style.b7bb847fb20b106c3d81b95245e65545.min.css  design-tabs.js\n"
     ]
    },
    {
     "name": "stdout",
     "output_type": "stream",
     "text": [
      "\n"
     ]
    },
    {
     "name": "stdout",
     "output_type": "stream",
     "text": [
      "./LinuxEBAII/docs/_build/html/_static:\n"
     ]
    },
    {
     "name": "stdout",
     "output_type": "stream",
     "text": [
      "basic.css                                              \u001b[38;5;13mlogo.png\u001b[0m\n"
     ]
    },
    {
     "name": "stdout",
     "output_type": "stream",
     "text": [
      "\u001b[38;5;13mcheck-solid.svg\u001b[0m                                        \u001b[38;5;13mminus.png\u001b[0m\n"
     ]
    },
    {
     "name": "stdout",
     "output_type": "stream",
     "text": [
      "clipboard.min.js                                       mystnb.css\n"
     ]
    },
    {
     "name": "stdout",
     "output_type": "stream",
     "text": [
      "copybutton.css                                         \u001b[38;5;13mplus.png\u001b[0m\n"
     ]
    },
    {
     "name": "stdout",
     "output_type": "stream",
     "text": [
      "copybutton_funcs.js                                    pygments.css\n"
     ]
    },
    {
     "name": "stdout",
     "output_type": "stream",
     "text": [
      "copybutton.js                                          sbt-webpack-macros.html\n"
     ]
    },
    {
     "name": "stdout",
     "output_type": "stream",
     "text": [
      "\u001b[38;5;13mcopy-button.svg\u001b[0m                                        \u001b[38;5;27mscripts\u001b[0m\n"
     ]
    },
    {
     "name": "stdout",
     "output_type": "stream",
     "text": [
      "design-style.b7bb847fb20b106c3d81b95245e65545.min.css  searchtools.js\n"
     ]
    },
    {
     "name": "stdout",
     "output_type": "stream",
     "text": [
      "design-tabs.js                                         sphinx-thebe.css\n"
     ]
    },
    {
     "name": "stdout",
     "output_type": "stream",
     "text": [
      "doctools.js                                            sphinx-thebe.js\n"
     ]
    },
    {
     "name": "stdout",
     "output_type": "stream",
     "text": [
      "documentation_options.js                               \u001b[38;5;27mstyles\u001b[0m\n"
     ]
    },
    {
     "name": "stdout",
     "output_type": "stream",
     "text": [
      "\u001b[38;5;13mfile.png\u001b[0m                                               togglebutton.css\n"
     ]
    },
    {
     "name": "stdout",
     "output_type": "stream",
     "text": [
      "\u001b[38;5;27mimages\u001b[0m                                                 togglebutton.js\n"
     ]
    },
    {
     "name": "stdout",
     "output_type": "stream",
     "text": [
      "jquery-3.5.1.js                                        underscore-1.13.1.js\n"
     ]
    },
    {
     "name": "stdout",
     "output_type": "stream",
     "text": [
      "jquery.js                                              underscore.js\n"
     ]
    },
    {
     "name": "stdout",
     "output_type": "stream",
     "text": [
      "language_data.js                                       \u001b[38;5;27mvendor\u001b[0m\n"
     ]
    },
    {
     "name": "stdout",
     "output_type": "stream",
     "text": [
      "\u001b[38;5;27mlocales\u001b[0m                                                webpack-macros.html\n"
     ]
    },
    {
     "name": "stdout",
     "output_type": "stream",
     "text": [
      "\n"
     ]
    },
    {
     "name": "stdout",
     "output_type": "stream",
     "text": [
      "./LinuxEBAII/docs/_build/html/_static/images:\n"
     ]
    },
    {
     "name": "stdout",
     "output_type": "stream",
     "text": [
      "\u001b[38;5;13mlogo_binder.svg\u001b[0m  \u001b[38;5;13mlogo_colab.png\u001b[0m  \u001b[38;5;13mlogo_deepnote.svg\u001b[0m  \u001b[38;5;13mlogo_jupyterhub.svg\u001b[0m\n"
     ]
    },
    {
     "name": "stdout",
     "output_type": "stream",
     "text": [
      "\n"
     ]
    },
    {
     "name": "stdout",
     "output_type": "stream",
     "text": [
      "./LinuxEBAII/docs/_build/html/_static/locales:\n"
     ]
    },
    {
     "name": "stdout",
     "output_type": "stream",
     "text": [
      "\u001b[38;5;27mar\u001b[0m  \u001b[38;5;27mca\u001b[0m  \u001b[38;5;27mde\u001b[0m  \u001b[38;5;27mes\u001b[0m  \u001b[38;5;27mfr\u001b[0m  \u001b[38;5;27mit\u001b[0m  \u001b[38;5;27mko\u001b[0m  \u001b[38;5;27mml\u001b[0m  \u001b[38;5;27mnl\u001b[0m  \u001b[38;5;27mpt\u001b[0m  \u001b[38;5;27msk\u001b[0m  \u001b[38;5;27msv\u001b[0m  \u001b[38;5;27mtg\u001b[0m  \u001b[38;5;27mtr\u001b[0m  \u001b[38;5;27mvi\u001b[0m\n"
     ]
    },
    {
     "name": "stdout",
     "output_type": "stream",
     "text": [
      "\u001b[38;5;27mbg\u001b[0m  \u001b[38;5;27mcs\u001b[0m  \u001b[38;5;27mel\u001b[0m  \u001b[38;5;27met\u001b[0m  \u001b[38;5;27mhr\u001b[0m  \u001b[38;5;27miw\u001b[0m  \u001b[38;5;27mlt\u001b[0m  \u001b[38;5;27mmr\u001b[0m  \u001b[38;5;27mno\u001b[0m  \u001b[38;5;27mro\u001b[0m  \u001b[38;5;27msl\u001b[0m  \u001b[38;5;27mta\u001b[0m  \u001b[38;5;27mth\u001b[0m  \u001b[38;5;27muk\u001b[0m  \u001b[38;5;27mzh_CN\u001b[0m\n"
     ]
    },
    {
     "name": "stdout",
     "output_type": "stream",
     "text": [
      "\u001b[38;5;27mbn\u001b[0m  \u001b[38;5;27mda\u001b[0m  \u001b[38;5;27meo\u001b[0m  \u001b[38;5;27mfi\u001b[0m  \u001b[38;5;27mid\u001b[0m  \u001b[38;5;27mja\u001b[0m  \u001b[38;5;27mlv\u001b[0m  \u001b[38;5;27mms\u001b[0m  \u001b[38;5;27mpl\u001b[0m  \u001b[38;5;27mru\u001b[0m  \u001b[38;5;27msr\u001b[0m  \u001b[38;5;27mte\u001b[0m  \u001b[38;5;27mtl\u001b[0m  \u001b[38;5;27mur\u001b[0m  \u001b[38;5;27mzh_TW\u001b[0m\n"
     ]
    },
    {
     "name": "stdout",
     "output_type": "stream",
     "text": [
      "\n"
     ]
    },
    {
     "name": "stdout",
     "output_type": "stream",
     "text": [
      "./LinuxEBAII/docs/_build/html/_static/locales/ar:\n"
     ]
    },
    {
     "name": "stdout",
     "output_type": "stream",
     "text": [
      "\u001b[38;5;27mLC_MESSAGES\u001b[0m\n"
     ]
    },
    {
     "name": "stdout",
     "output_type": "stream",
     "text": [
      "\n"
     ]
    },
    {
     "name": "stdout",
     "output_type": "stream",
     "text": [
      "./LinuxEBAII/docs/_build/html/_static/locales/ar/LC_MESSAGES:\n"
     ]
    },
    {
     "name": "stdout",
     "output_type": "stream",
     "text": [
      "booktheme.po\n"
     ]
    },
    {
     "name": "stdout",
     "output_type": "stream",
     "text": [
      "\n"
     ]
    },
    {
     "name": "stdout",
     "output_type": "stream",
     "text": [
      "./LinuxEBAII/docs/_build/html/_static/locales/bg:\n"
     ]
    },
    {
     "name": "stdout",
     "output_type": "stream",
     "text": [
      "\u001b[38;5;27mLC_MESSAGES\u001b[0m\n"
     ]
    },
    {
     "name": "stdout",
     "output_type": "stream",
     "text": [
      "\n"
     ]
    },
    {
     "name": "stdout",
     "output_type": "stream",
     "text": [
      "./LinuxEBAII/docs/_build/html/_static/locales/bg/LC_MESSAGES:\n"
     ]
    },
    {
     "name": "stdout",
     "output_type": "stream",
     "text": [
      "booktheme.po\n"
     ]
    },
    {
     "name": "stdout",
     "output_type": "stream",
     "text": [
      "\n"
     ]
    },
    {
     "name": "stdout",
     "output_type": "stream",
     "text": [
      "./LinuxEBAII/docs/_build/html/_static/locales/bn:\n"
     ]
    },
    {
     "name": "stdout",
     "output_type": "stream",
     "text": [
      "\u001b[38;5;27mLC_MESSAGES\u001b[0m\n"
     ]
    },
    {
     "name": "stdout",
     "output_type": "stream",
     "text": [
      "\n"
     ]
    },
    {
     "name": "stdout",
     "output_type": "stream",
     "text": [
      "./LinuxEBAII/docs/_build/html/_static/locales/bn/LC_MESSAGES:\n"
     ]
    },
    {
     "name": "stdout",
     "output_type": "stream",
     "text": [
      "booktheme.po\n"
     ]
    },
    {
     "name": "stdout",
     "output_type": "stream",
     "text": [
      "\n"
     ]
    },
    {
     "name": "stdout",
     "output_type": "stream",
     "text": [
      "./LinuxEBAII/docs/_build/html/_static/locales/ca:\n"
     ]
    },
    {
     "name": "stdout",
     "output_type": "stream",
     "text": [
      "\u001b[38;5;27mLC_MESSAGES\u001b[0m\n"
     ]
    },
    {
     "name": "stdout",
     "output_type": "stream",
     "text": [
      "\n"
     ]
    },
    {
     "name": "stdout",
     "output_type": "stream",
     "text": [
      "./LinuxEBAII/docs/_build/html/_static/locales/ca/LC_MESSAGES:\n"
     ]
    },
    {
     "name": "stdout",
     "output_type": "stream",
     "text": [
      "booktheme.po\n"
     ]
    },
    {
     "name": "stdout",
     "output_type": "stream",
     "text": [
      "\n"
     ]
    },
    {
     "name": "stdout",
     "output_type": "stream",
     "text": [
      "./LinuxEBAII/docs/_build/html/_static/locales/cs:\n"
     ]
    },
    {
     "name": "stdout",
     "output_type": "stream",
     "text": [
      "\u001b[38;5;27mLC_MESSAGES\u001b[0m\n"
     ]
    },
    {
     "name": "stdout",
     "output_type": "stream",
     "text": [
      "\n"
     ]
    },
    {
     "name": "stdout",
     "output_type": "stream",
     "text": [
      "./LinuxEBAII/docs/_build/html/_static/locales/cs/LC_MESSAGES:\n"
     ]
    },
    {
     "name": "stdout",
     "output_type": "stream",
     "text": [
      "booktheme.po\n"
     ]
    },
    {
     "name": "stdout",
     "output_type": "stream",
     "text": [
      "\n"
     ]
    },
    {
     "name": "stdout",
     "output_type": "stream",
     "text": [
      "./LinuxEBAII/docs/_build/html/_static/locales/da:\n"
     ]
    },
    {
     "name": "stdout",
     "output_type": "stream",
     "text": [
      "\u001b[38;5;27mLC_MESSAGES\u001b[0m\n"
     ]
    },
    {
     "name": "stdout",
     "output_type": "stream",
     "text": [
      "\n"
     ]
    },
    {
     "name": "stdout",
     "output_type": "stream",
     "text": [
      "./LinuxEBAII/docs/_build/html/_static/locales/da/LC_MESSAGES:\n"
     ]
    },
    {
     "name": "stdout",
     "output_type": "stream",
     "text": [
      "booktheme.po\n"
     ]
    },
    {
     "name": "stdout",
     "output_type": "stream",
     "text": [
      "\n"
     ]
    },
    {
     "name": "stdout",
     "output_type": "stream",
     "text": [
      "./LinuxEBAII/docs/_build/html/_static/locales/de:\n"
     ]
    },
    {
     "name": "stdout",
     "output_type": "stream",
     "text": [
      "\u001b[38;5;27mLC_MESSAGES\u001b[0m\n"
     ]
    },
    {
     "name": "stdout",
     "output_type": "stream",
     "text": [
      "\n"
     ]
    },
    {
     "name": "stdout",
     "output_type": "stream",
     "text": [
      "./LinuxEBAII/docs/_build/html/_static/locales/de/LC_MESSAGES:\n"
     ]
    },
    {
     "name": "stdout",
     "output_type": "stream",
     "text": [
      "booktheme.po\n"
     ]
    },
    {
     "name": "stdout",
     "output_type": "stream",
     "text": [
      "\n"
     ]
    },
    {
     "name": "stdout",
     "output_type": "stream",
     "text": [
      "./LinuxEBAII/docs/_build/html/_static/locales/el:\n"
     ]
    },
    {
     "name": "stdout",
     "output_type": "stream",
     "text": [
      "\u001b[38;5;27mLC_MESSAGES\u001b[0m\n"
     ]
    },
    {
     "name": "stdout",
     "output_type": "stream",
     "text": [
      "\n"
     ]
    },
    {
     "name": "stdout",
     "output_type": "stream",
     "text": [
      "./LinuxEBAII/docs/_build/html/_static/locales/el/LC_MESSAGES:\n"
     ]
    },
    {
     "name": "stdout",
     "output_type": "stream",
     "text": [
      "booktheme.po\n"
     ]
    },
    {
     "name": "stdout",
     "output_type": "stream",
     "text": [
      "\n"
     ]
    },
    {
     "name": "stdout",
     "output_type": "stream",
     "text": [
      "./LinuxEBAII/docs/_build/html/_static/locales/eo:\n"
     ]
    },
    {
     "name": "stdout",
     "output_type": "stream",
     "text": [
      "\u001b[38;5;27mLC_MESSAGES\u001b[0m\n"
     ]
    },
    {
     "name": "stdout",
     "output_type": "stream",
     "text": [
      "\n"
     ]
    },
    {
     "name": "stdout",
     "output_type": "stream",
     "text": [
      "./LinuxEBAII/docs/_build/html/_static/locales/eo/LC_MESSAGES:\n"
     ]
    },
    {
     "name": "stdout",
     "output_type": "stream",
     "text": [
      "booktheme.po\n"
     ]
    },
    {
     "name": "stdout",
     "output_type": "stream",
     "text": [
      "\n"
     ]
    },
    {
     "name": "stdout",
     "output_type": "stream",
     "text": [
      "./LinuxEBAII/docs/_build/html/_static/locales/es:\n"
     ]
    },
    {
     "name": "stdout",
     "output_type": "stream",
     "text": [
      "\u001b[38;5;27mLC_MESSAGES\u001b[0m\n"
     ]
    },
    {
     "name": "stdout",
     "output_type": "stream",
     "text": [
      "\n"
     ]
    },
    {
     "name": "stdout",
     "output_type": "stream",
     "text": [
      "./LinuxEBAII/docs/_build/html/_static/locales/es/LC_MESSAGES:\n"
     ]
    },
    {
     "name": "stdout",
     "output_type": "stream",
     "text": [
      "booktheme.po\n"
     ]
    },
    {
     "name": "stdout",
     "output_type": "stream",
     "text": [
      "\n"
     ]
    },
    {
     "name": "stdout",
     "output_type": "stream",
     "text": [
      "./LinuxEBAII/docs/_build/html/_static/locales/et:\n"
     ]
    },
    {
     "name": "stdout",
     "output_type": "stream",
     "text": [
      "\u001b[38;5;27mLC_MESSAGES\u001b[0m\n"
     ]
    },
    {
     "name": "stdout",
     "output_type": "stream",
     "text": [
      "\n"
     ]
    },
    {
     "name": "stdout",
     "output_type": "stream",
     "text": [
      "./LinuxEBAII/docs/_build/html/_static/locales/et/LC_MESSAGES:\n"
     ]
    },
    {
     "name": "stdout",
     "output_type": "stream",
     "text": [
      "booktheme.po\n"
     ]
    },
    {
     "name": "stdout",
     "output_type": "stream",
     "text": [
      "\n"
     ]
    },
    {
     "name": "stdout",
     "output_type": "stream",
     "text": [
      "./LinuxEBAII/docs/_build/html/_static/locales/fi:\n"
     ]
    },
    {
     "name": "stdout",
     "output_type": "stream",
     "text": [
      "\u001b[38;5;27mLC_MESSAGES\u001b[0m\n"
     ]
    },
    {
     "name": "stdout",
     "output_type": "stream",
     "text": [
      "\n"
     ]
    },
    {
     "name": "stdout",
     "output_type": "stream",
     "text": [
      "./LinuxEBAII/docs/_build/html/_static/locales/fi/LC_MESSAGES:\n"
     ]
    },
    {
     "name": "stdout",
     "output_type": "stream",
     "text": [
      "booktheme.po\n"
     ]
    },
    {
     "name": "stdout",
     "output_type": "stream",
     "text": [
      "\n"
     ]
    },
    {
     "name": "stdout",
     "output_type": "stream",
     "text": [
      "./LinuxEBAII/docs/_build/html/_static/locales/fr:\n"
     ]
    },
    {
     "name": "stdout",
     "output_type": "stream",
     "text": [
      "\u001b[38;5;27mLC_MESSAGES\u001b[0m\n"
     ]
    },
    {
     "name": "stdout",
     "output_type": "stream",
     "text": [
      "\n"
     ]
    },
    {
     "name": "stdout",
     "output_type": "stream",
     "text": [
      "./LinuxEBAII/docs/_build/html/_static/locales/fr/LC_MESSAGES:\n"
     ]
    },
    {
     "name": "stdout",
     "output_type": "stream",
     "text": [
      "booktheme.po\n"
     ]
    },
    {
     "name": "stdout",
     "output_type": "stream",
     "text": [
      "\n"
     ]
    },
    {
     "name": "stdout",
     "output_type": "stream",
     "text": [
      "./LinuxEBAII/docs/_build/html/_static/locales/hr:\n"
     ]
    },
    {
     "name": "stdout",
     "output_type": "stream",
     "text": [
      "\u001b[38;5;27mLC_MESSAGES\u001b[0m\n"
     ]
    },
    {
     "name": "stdout",
     "output_type": "stream",
     "text": [
      "\n"
     ]
    },
    {
     "name": "stdout",
     "output_type": "stream",
     "text": [
      "./LinuxEBAII/docs/_build/html/_static/locales/hr/LC_MESSAGES:\n"
     ]
    },
    {
     "name": "stdout",
     "output_type": "stream",
     "text": [
      "booktheme.po\n"
     ]
    },
    {
     "name": "stdout",
     "output_type": "stream",
     "text": [
      "\n"
     ]
    },
    {
     "name": "stdout",
     "output_type": "stream",
     "text": [
      "./LinuxEBAII/docs/_build/html/_static/locales/id:\n"
     ]
    },
    {
     "name": "stdout",
     "output_type": "stream",
     "text": [
      "\u001b[38;5;27mLC_MESSAGES\u001b[0m\n"
     ]
    },
    {
     "name": "stdout",
     "output_type": "stream",
     "text": [
      "\n"
     ]
    },
    {
     "name": "stdout",
     "output_type": "stream",
     "text": [
      "./LinuxEBAII/docs/_build/html/_static/locales/id/LC_MESSAGES:\n"
     ]
    },
    {
     "name": "stdout",
     "output_type": "stream",
     "text": [
      "booktheme.po\n"
     ]
    },
    {
     "name": "stdout",
     "output_type": "stream",
     "text": [
      "\n"
     ]
    },
    {
     "name": "stdout",
     "output_type": "stream",
     "text": [
      "./LinuxEBAII/docs/_build/html/_static/locales/it:\n"
     ]
    },
    {
     "name": "stdout",
     "output_type": "stream",
     "text": [
      "\u001b[38;5;27mLC_MESSAGES\u001b[0m\n"
     ]
    },
    {
     "name": "stdout",
     "output_type": "stream",
     "text": [
      "\n"
     ]
    },
    {
     "name": "stdout",
     "output_type": "stream",
     "text": [
      "./LinuxEBAII/docs/_build/html/_static/locales/it/LC_MESSAGES:\n"
     ]
    },
    {
     "name": "stdout",
     "output_type": "stream",
     "text": [
      "booktheme.po\n"
     ]
    },
    {
     "name": "stdout",
     "output_type": "stream",
     "text": [
      "\n"
     ]
    },
    {
     "name": "stdout",
     "output_type": "stream",
     "text": [
      "./LinuxEBAII/docs/_build/html/_static/locales/iw:\n"
     ]
    },
    {
     "name": "stdout",
     "output_type": "stream",
     "text": [
      "\u001b[38;5;27mLC_MESSAGES\u001b[0m\n"
     ]
    },
    {
     "name": "stdout",
     "output_type": "stream",
     "text": [
      "\n"
     ]
    },
    {
     "name": "stdout",
     "output_type": "stream",
     "text": [
      "./LinuxEBAII/docs/_build/html/_static/locales/iw/LC_MESSAGES:\n"
     ]
    },
    {
     "name": "stdout",
     "output_type": "stream",
     "text": [
      "booktheme.po\n"
     ]
    },
    {
     "name": "stdout",
     "output_type": "stream",
     "text": [
      "\n"
     ]
    },
    {
     "name": "stdout",
     "output_type": "stream",
     "text": [
      "./LinuxEBAII/docs/_build/html/_static/locales/ja:\n"
     ]
    },
    {
     "name": "stdout",
     "output_type": "stream",
     "text": [
      "\u001b[38;5;27mLC_MESSAGES\u001b[0m\n"
     ]
    },
    {
     "name": "stdout",
     "output_type": "stream",
     "text": [
      "\n"
     ]
    },
    {
     "name": "stdout",
     "output_type": "stream",
     "text": [
      "./LinuxEBAII/docs/_build/html/_static/locales/ja/LC_MESSAGES:\n"
     ]
    },
    {
     "name": "stdout",
     "output_type": "stream",
     "text": [
      "booktheme.po\n"
     ]
    },
    {
     "name": "stdout",
     "output_type": "stream",
     "text": [
      "\n"
     ]
    },
    {
     "name": "stdout",
     "output_type": "stream",
     "text": [
      "./LinuxEBAII/docs/_build/html/_static/locales/ko:\n"
     ]
    },
    {
     "name": "stdout",
     "output_type": "stream",
     "text": [
      "\u001b[38;5;27mLC_MESSAGES\u001b[0m\n"
     ]
    },
    {
     "name": "stdout",
     "output_type": "stream",
     "text": [
      "\n"
     ]
    },
    {
     "name": "stdout",
     "output_type": "stream",
     "text": [
      "./LinuxEBAII/docs/_build/html/_static/locales/ko/LC_MESSAGES:\n"
     ]
    },
    {
     "name": "stdout",
     "output_type": "stream",
     "text": [
      "booktheme.po\n"
     ]
    },
    {
     "name": "stdout",
     "output_type": "stream",
     "text": [
      "\n"
     ]
    },
    {
     "name": "stdout",
     "output_type": "stream",
     "text": [
      "./LinuxEBAII/docs/_build/html/_static/locales/lt:\n"
     ]
    },
    {
     "name": "stdout",
     "output_type": "stream",
     "text": [
      "\u001b[38;5;27mLC_MESSAGES\u001b[0m\n"
     ]
    },
    {
     "name": "stdout",
     "output_type": "stream",
     "text": [
      "\n"
     ]
    },
    {
     "name": "stdout",
     "output_type": "stream",
     "text": [
      "./LinuxEBAII/docs/_build/html/_static/locales/lt/LC_MESSAGES:\n"
     ]
    },
    {
     "name": "stdout",
     "output_type": "stream",
     "text": [
      "booktheme.po\n"
     ]
    },
    {
     "name": "stdout",
     "output_type": "stream",
     "text": [
      "\n"
     ]
    },
    {
     "name": "stdout",
     "output_type": "stream",
     "text": [
      "./LinuxEBAII/docs/_build/html/_static/locales/lv:\n"
     ]
    },
    {
     "name": "stdout",
     "output_type": "stream",
     "text": [
      "\u001b[38;5;27mLC_MESSAGES\u001b[0m\n"
     ]
    },
    {
     "name": "stdout",
     "output_type": "stream",
     "text": [
      "\n"
     ]
    },
    {
     "name": "stdout",
     "output_type": "stream",
     "text": [
      "./LinuxEBAII/docs/_build/html/_static/locales/lv/LC_MESSAGES:\n"
     ]
    },
    {
     "name": "stdout",
     "output_type": "stream",
     "text": [
      "booktheme.po\n"
     ]
    },
    {
     "name": "stdout",
     "output_type": "stream",
     "text": [
      "\n"
     ]
    },
    {
     "name": "stdout",
     "output_type": "stream",
     "text": [
      "./LinuxEBAII/docs/_build/html/_static/locales/ml:\n"
     ]
    },
    {
     "name": "stdout",
     "output_type": "stream",
     "text": [
      "\u001b[38;5;27mLC_MESSAGES\u001b[0m\n"
     ]
    },
    {
     "name": "stdout",
     "output_type": "stream",
     "text": [
      "\n"
     ]
    },
    {
     "name": "stdout",
     "output_type": "stream",
     "text": [
      "./LinuxEBAII/docs/_build/html/_static/locales/ml/LC_MESSAGES:\n"
     ]
    },
    {
     "name": "stdout",
     "output_type": "stream",
     "text": [
      "booktheme.po\n"
     ]
    },
    {
     "name": "stdout",
     "output_type": "stream",
     "text": [
      "\n"
     ]
    },
    {
     "name": "stdout",
     "output_type": "stream",
     "text": [
      "./LinuxEBAII/docs/_build/html/_static/locales/mr:\n"
     ]
    },
    {
     "name": "stdout",
     "output_type": "stream",
     "text": [
      "\u001b[38;5;27mLC_MESSAGES\u001b[0m\n"
     ]
    },
    {
     "name": "stdout",
     "output_type": "stream",
     "text": [
      "\n"
     ]
    },
    {
     "name": "stdout",
     "output_type": "stream",
     "text": [
      "./LinuxEBAII/docs/_build/html/_static/locales/mr/LC_MESSAGES:\n"
     ]
    },
    {
     "name": "stdout",
     "output_type": "stream",
     "text": [
      "booktheme.po\n"
     ]
    },
    {
     "name": "stdout",
     "output_type": "stream",
     "text": [
      "\n"
     ]
    },
    {
     "name": "stdout",
     "output_type": "stream",
     "text": [
      "./LinuxEBAII/docs/_build/html/_static/locales/ms:\n"
     ]
    },
    {
     "name": "stdout",
     "output_type": "stream",
     "text": [
      "\u001b[38;5;27mLC_MESSAGES\u001b[0m\n"
     ]
    },
    {
     "name": "stdout",
     "output_type": "stream",
     "text": [
      "\n"
     ]
    },
    {
     "name": "stdout",
     "output_type": "stream",
     "text": [
      "./LinuxEBAII/docs/_build/html/_static/locales/ms/LC_MESSAGES:\n"
     ]
    },
    {
     "name": "stdout",
     "output_type": "stream",
     "text": [
      "booktheme.po\n"
     ]
    },
    {
     "name": "stdout",
     "output_type": "stream",
     "text": [
      "\n"
     ]
    },
    {
     "name": "stdout",
     "output_type": "stream",
     "text": [
      "./LinuxEBAII/docs/_build/html/_static/locales/nl:\n"
     ]
    },
    {
     "name": "stdout",
     "output_type": "stream",
     "text": [
      "\u001b[38;5;27mLC_MESSAGES\u001b[0m\n"
     ]
    },
    {
     "name": "stdout",
     "output_type": "stream",
     "text": [
      "\n"
     ]
    },
    {
     "name": "stdout",
     "output_type": "stream",
     "text": [
      "./LinuxEBAII/docs/_build/html/_static/locales/nl/LC_MESSAGES:\n"
     ]
    },
    {
     "name": "stdout",
     "output_type": "stream",
     "text": [
      "booktheme.po\n"
     ]
    },
    {
     "name": "stdout",
     "output_type": "stream",
     "text": [
      "\n"
     ]
    },
    {
     "name": "stdout",
     "output_type": "stream",
     "text": [
      "./LinuxEBAII/docs/_build/html/_static/locales/no:\n"
     ]
    },
    {
     "name": "stdout",
     "output_type": "stream",
     "text": [
      "\u001b[38;5;27mLC_MESSAGES\u001b[0m\n"
     ]
    },
    {
     "name": "stdout",
     "output_type": "stream",
     "text": [
      "\n"
     ]
    },
    {
     "name": "stdout",
     "output_type": "stream",
     "text": [
      "./LinuxEBAII/docs/_build/html/_static/locales/no/LC_MESSAGES:\n"
     ]
    },
    {
     "name": "stdout",
     "output_type": "stream",
     "text": [
      "booktheme.po\n"
     ]
    },
    {
     "name": "stdout",
     "output_type": "stream",
     "text": [
      "\n"
     ]
    },
    {
     "name": "stdout",
     "output_type": "stream",
     "text": [
      "./LinuxEBAII/docs/_build/html/_static/locales/pl:\n"
     ]
    },
    {
     "name": "stdout",
     "output_type": "stream",
     "text": [
      "\u001b[38;5;27mLC_MESSAGES\u001b[0m\n"
     ]
    },
    {
     "name": "stdout",
     "output_type": "stream",
     "text": [
      "\n"
     ]
    },
    {
     "name": "stdout",
     "output_type": "stream",
     "text": [
      "./LinuxEBAII/docs/_build/html/_static/locales/pl/LC_MESSAGES:\n"
     ]
    },
    {
     "name": "stdout",
     "output_type": "stream",
     "text": [
      "booktheme.po\n"
     ]
    },
    {
     "name": "stdout",
     "output_type": "stream",
     "text": [
      "\n"
     ]
    },
    {
     "name": "stdout",
     "output_type": "stream",
     "text": [
      "./LinuxEBAII/docs/_build/html/_static/locales/pt:\n"
     ]
    },
    {
     "name": "stdout",
     "output_type": "stream",
     "text": [
      "\u001b[38;5;27mLC_MESSAGES\u001b[0m\n"
     ]
    },
    {
     "name": "stdout",
     "output_type": "stream",
     "text": [
      "\n"
     ]
    },
    {
     "name": "stdout",
     "output_type": "stream",
     "text": [
      "./LinuxEBAII/docs/_build/html/_static/locales/pt/LC_MESSAGES:\n"
     ]
    },
    {
     "name": "stdout",
     "output_type": "stream",
     "text": [
      "booktheme.po\n"
     ]
    },
    {
     "name": "stdout",
     "output_type": "stream",
     "text": [
      "\n"
     ]
    },
    {
     "name": "stdout",
     "output_type": "stream",
     "text": [
      "./LinuxEBAII/docs/_build/html/_static/locales/ro:\n"
     ]
    },
    {
     "name": "stdout",
     "output_type": "stream",
     "text": [
      "\u001b[38;5;27mLC_MESSAGES\u001b[0m\n"
     ]
    },
    {
     "name": "stdout",
     "output_type": "stream",
     "text": [
      "\n"
     ]
    },
    {
     "name": "stdout",
     "output_type": "stream",
     "text": [
      "./LinuxEBAII/docs/_build/html/_static/locales/ro/LC_MESSAGES:\n"
     ]
    },
    {
     "name": "stdout",
     "output_type": "stream",
     "text": [
      "booktheme.po\n"
     ]
    },
    {
     "name": "stdout",
     "output_type": "stream",
     "text": [
      "\n"
     ]
    },
    {
     "name": "stdout",
     "output_type": "stream",
     "text": [
      "./LinuxEBAII/docs/_build/html/_static/locales/ru:\n"
     ]
    },
    {
     "name": "stdout",
     "output_type": "stream",
     "text": [
      "\u001b[38;5;27mLC_MESSAGES\u001b[0m\n"
     ]
    },
    {
     "name": "stdout",
     "output_type": "stream",
     "text": [
      "\n"
     ]
    },
    {
     "name": "stdout",
     "output_type": "stream",
     "text": [
      "./LinuxEBAII/docs/_build/html/_static/locales/ru/LC_MESSAGES:\n"
     ]
    },
    {
     "name": "stdout",
     "output_type": "stream",
     "text": [
      "booktheme.po\n"
     ]
    },
    {
     "name": "stdout",
     "output_type": "stream",
     "text": [
      "\n"
     ]
    },
    {
     "name": "stdout",
     "output_type": "stream",
     "text": [
      "./LinuxEBAII/docs/_build/html/_static/locales/sk:\n"
     ]
    },
    {
     "name": "stdout",
     "output_type": "stream",
     "text": [
      "\u001b[38;5;27mLC_MESSAGES\u001b[0m\n"
     ]
    },
    {
     "name": "stdout",
     "output_type": "stream",
     "text": [
      "\n"
     ]
    },
    {
     "name": "stdout",
     "output_type": "stream",
     "text": [
      "./LinuxEBAII/docs/_build/html/_static/locales/sk/LC_MESSAGES:\n"
     ]
    },
    {
     "name": "stdout",
     "output_type": "stream",
     "text": [
      "booktheme.po\n"
     ]
    },
    {
     "name": "stdout",
     "output_type": "stream",
     "text": [
      "\n"
     ]
    },
    {
     "name": "stdout",
     "output_type": "stream",
     "text": [
      "./LinuxEBAII/docs/_build/html/_static/locales/sl:\n"
     ]
    },
    {
     "name": "stdout",
     "output_type": "stream",
     "text": [
      "\u001b[38;5;27mLC_MESSAGES\u001b[0m\n"
     ]
    },
    {
     "name": "stdout",
     "output_type": "stream",
     "text": [
      "\n"
     ]
    },
    {
     "name": "stdout",
     "output_type": "stream",
     "text": [
      "./LinuxEBAII/docs/_build/html/_static/locales/sl/LC_MESSAGES:\n"
     ]
    },
    {
     "name": "stdout",
     "output_type": "stream",
     "text": [
      "booktheme.po\n"
     ]
    },
    {
     "name": "stdout",
     "output_type": "stream",
     "text": [
      "\n"
     ]
    },
    {
     "name": "stdout",
     "output_type": "stream",
     "text": [
      "./LinuxEBAII/docs/_build/html/_static/locales/sr:\n"
     ]
    },
    {
     "name": "stdout",
     "output_type": "stream",
     "text": [
      "\u001b[38;5;27mLC_MESSAGES\u001b[0m\n"
     ]
    },
    {
     "name": "stdout",
     "output_type": "stream",
     "text": [
      "\n"
     ]
    },
    {
     "name": "stdout",
     "output_type": "stream",
     "text": [
      "./LinuxEBAII/docs/_build/html/_static/locales/sr/LC_MESSAGES:\n"
     ]
    },
    {
     "name": "stdout",
     "output_type": "stream",
     "text": [
      "booktheme.po\n"
     ]
    },
    {
     "name": "stdout",
     "output_type": "stream",
     "text": [
      "\n"
     ]
    },
    {
     "name": "stdout",
     "output_type": "stream",
     "text": [
      "./LinuxEBAII/docs/_build/html/_static/locales/sv:\n"
     ]
    },
    {
     "name": "stdout",
     "output_type": "stream",
     "text": [
      "\u001b[38;5;27mLC_MESSAGES\u001b[0m\n"
     ]
    },
    {
     "name": "stdout",
     "output_type": "stream",
     "text": [
      "\n"
     ]
    },
    {
     "name": "stdout",
     "output_type": "stream",
     "text": [
      "./LinuxEBAII/docs/_build/html/_static/locales/sv/LC_MESSAGES:\n"
     ]
    },
    {
     "name": "stdout",
     "output_type": "stream",
     "text": [
      "booktheme.po\n"
     ]
    },
    {
     "name": "stdout",
     "output_type": "stream",
     "text": [
      "\n"
     ]
    },
    {
     "name": "stdout",
     "output_type": "stream",
     "text": [
      "./LinuxEBAII/docs/_build/html/_static/locales/ta:\n"
     ]
    },
    {
     "name": "stdout",
     "output_type": "stream",
     "text": [
      "\u001b[38;5;27mLC_MESSAGES\u001b[0m\n"
     ]
    },
    {
     "name": "stdout",
     "output_type": "stream",
     "text": [
      "\n"
     ]
    },
    {
     "name": "stdout",
     "output_type": "stream",
     "text": [
      "./LinuxEBAII/docs/_build/html/_static/locales/ta/LC_MESSAGES:\n"
     ]
    },
    {
     "name": "stdout",
     "output_type": "stream",
     "text": [
      "booktheme.po\n"
     ]
    },
    {
     "name": "stdout",
     "output_type": "stream",
     "text": [
      "\n"
     ]
    },
    {
     "name": "stdout",
     "output_type": "stream",
     "text": [
      "./LinuxEBAII/docs/_build/html/_static/locales/te:\n"
     ]
    },
    {
     "name": "stdout",
     "output_type": "stream",
     "text": [
      "\u001b[38;5;27mLC_MESSAGES\u001b[0m\n"
     ]
    },
    {
     "name": "stdout",
     "output_type": "stream",
     "text": [
      "\n"
     ]
    },
    {
     "name": "stdout",
     "output_type": "stream",
     "text": [
      "./LinuxEBAII/docs/_build/html/_static/locales/te/LC_MESSAGES:\n"
     ]
    },
    {
     "name": "stdout",
     "output_type": "stream",
     "text": [
      "booktheme.po\n"
     ]
    },
    {
     "name": "stdout",
     "output_type": "stream",
     "text": [
      "\n"
     ]
    },
    {
     "name": "stdout",
     "output_type": "stream",
     "text": [
      "./LinuxEBAII/docs/_build/html/_static/locales/tg:\n"
     ]
    },
    {
     "name": "stdout",
     "output_type": "stream",
     "text": [
      "\u001b[38;5;27mLC_MESSAGES\u001b[0m\n"
     ]
    },
    {
     "name": "stdout",
     "output_type": "stream",
     "text": [
      "\n"
     ]
    },
    {
     "name": "stdout",
     "output_type": "stream",
     "text": [
      "./LinuxEBAII/docs/_build/html/_static/locales/tg/LC_MESSAGES:\n"
     ]
    },
    {
     "name": "stdout",
     "output_type": "stream",
     "text": [
      "booktheme.po\n"
     ]
    },
    {
     "name": "stdout",
     "output_type": "stream",
     "text": [
      "\n"
     ]
    },
    {
     "name": "stdout",
     "output_type": "stream",
     "text": [
      "./LinuxEBAII/docs/_build/html/_static/locales/th:\n"
     ]
    },
    {
     "name": "stdout",
     "output_type": "stream",
     "text": [
      "\u001b[38;5;27mLC_MESSAGES\u001b[0m\n"
     ]
    },
    {
     "name": "stdout",
     "output_type": "stream",
     "text": [
      "\n"
     ]
    },
    {
     "name": "stdout",
     "output_type": "stream",
     "text": [
      "./LinuxEBAII/docs/_build/html/_static/locales/th/LC_MESSAGES:\n"
     ]
    },
    {
     "name": "stdout",
     "output_type": "stream",
     "text": [
      "booktheme.po\n"
     ]
    },
    {
     "name": "stdout",
     "output_type": "stream",
     "text": [
      "\n"
     ]
    },
    {
     "name": "stdout",
     "output_type": "stream",
     "text": [
      "./LinuxEBAII/docs/_build/html/_static/locales/tl:\n"
     ]
    },
    {
     "name": "stdout",
     "output_type": "stream",
     "text": [
      "\u001b[38;5;27mLC_MESSAGES\u001b[0m\n"
     ]
    },
    {
     "name": "stdout",
     "output_type": "stream",
     "text": [
      "\n"
     ]
    },
    {
     "name": "stdout",
     "output_type": "stream",
     "text": [
      "./LinuxEBAII/docs/_build/html/_static/locales/tl/LC_MESSAGES:\n"
     ]
    },
    {
     "name": "stdout",
     "output_type": "stream",
     "text": [
      "booktheme.po\n"
     ]
    },
    {
     "name": "stdout",
     "output_type": "stream",
     "text": [
      "\n"
     ]
    },
    {
     "name": "stdout",
     "output_type": "stream",
     "text": [
      "./LinuxEBAII/docs/_build/html/_static/locales/tr:\n"
     ]
    },
    {
     "name": "stdout",
     "output_type": "stream",
     "text": [
      "\u001b[38;5;27mLC_MESSAGES\u001b[0m\n"
     ]
    },
    {
     "name": "stdout",
     "output_type": "stream",
     "text": [
      "\n"
     ]
    },
    {
     "name": "stdout",
     "output_type": "stream",
     "text": [
      "./LinuxEBAII/docs/_build/html/_static/locales/tr/LC_MESSAGES:\n"
     ]
    },
    {
     "name": "stdout",
     "output_type": "stream",
     "text": [
      "booktheme.po\n"
     ]
    },
    {
     "name": "stdout",
     "output_type": "stream",
     "text": [
      "\n"
     ]
    },
    {
     "name": "stdout",
     "output_type": "stream",
     "text": [
      "./LinuxEBAII/docs/_build/html/_static/locales/uk:\n"
     ]
    },
    {
     "name": "stdout",
     "output_type": "stream",
     "text": [
      "\u001b[38;5;27mLC_MESSAGES\u001b[0m\n"
     ]
    },
    {
     "name": "stdout",
     "output_type": "stream",
     "text": [
      "\n"
     ]
    },
    {
     "name": "stdout",
     "output_type": "stream",
     "text": [
      "./LinuxEBAII/docs/_build/html/_static/locales/uk/LC_MESSAGES:\n"
     ]
    },
    {
     "name": "stdout",
     "output_type": "stream",
     "text": [
      "booktheme.po\n"
     ]
    },
    {
     "name": "stdout",
     "output_type": "stream",
     "text": [
      "\n"
     ]
    },
    {
     "name": "stdout",
     "output_type": "stream",
     "text": [
      "./LinuxEBAII/docs/_build/html/_static/locales/ur:\n"
     ]
    },
    {
     "name": "stdout",
     "output_type": "stream",
     "text": [
      "\u001b[38;5;27mLC_MESSAGES\u001b[0m\n"
     ]
    },
    {
     "name": "stdout",
     "output_type": "stream",
     "text": [
      "\n"
     ]
    },
    {
     "name": "stdout",
     "output_type": "stream",
     "text": [
      "./LinuxEBAII/docs/_build/html/_static/locales/ur/LC_MESSAGES:\n"
     ]
    },
    {
     "name": "stdout",
     "output_type": "stream",
     "text": [
      "booktheme.po\n"
     ]
    },
    {
     "name": "stdout",
     "output_type": "stream",
     "text": [
      "\n"
     ]
    },
    {
     "name": "stdout",
     "output_type": "stream",
     "text": [
      "./LinuxEBAII/docs/_build/html/_static/locales/vi:\n"
     ]
    },
    {
     "name": "stdout",
     "output_type": "stream",
     "text": [
      "\u001b[38;5;27mLC_MESSAGES\u001b[0m\n"
     ]
    },
    {
     "name": "stdout",
     "output_type": "stream",
     "text": [
      "\n"
     ]
    },
    {
     "name": "stdout",
     "output_type": "stream",
     "text": [
      "./LinuxEBAII/docs/_build/html/_static/locales/vi/LC_MESSAGES:\n"
     ]
    },
    {
     "name": "stdout",
     "output_type": "stream",
     "text": [
      "booktheme.po\n"
     ]
    },
    {
     "name": "stdout",
     "output_type": "stream",
     "text": [
      "\n"
     ]
    },
    {
     "name": "stdout",
     "output_type": "stream",
     "text": [
      "./LinuxEBAII/docs/_build/html/_static/locales/zh_CN:\n"
     ]
    },
    {
     "name": "stdout",
     "output_type": "stream",
     "text": [
      "\u001b[38;5;27mLC_MESSAGES\u001b[0m\n"
     ]
    },
    {
     "name": "stdout",
     "output_type": "stream",
     "text": [
      "\n"
     ]
    },
    {
     "name": "stdout",
     "output_type": "stream",
     "text": [
      "./LinuxEBAII/docs/_build/html/_static/locales/zh_CN/LC_MESSAGES:\n"
     ]
    },
    {
     "name": "stdout",
     "output_type": "stream",
     "text": [
      "booktheme.po\n"
     ]
    },
    {
     "name": "stdout",
     "output_type": "stream",
     "text": [
      "\n"
     ]
    },
    {
     "name": "stdout",
     "output_type": "stream",
     "text": [
      "./LinuxEBAII/docs/_build/html/_static/locales/zh_TW:\n"
     ]
    },
    {
     "name": "stdout",
     "output_type": "stream",
     "text": [
      "\u001b[38;5;27mLC_MESSAGES\u001b[0m\n"
     ]
    },
    {
     "name": "stdout",
     "output_type": "stream",
     "text": [
      "\n"
     ]
    },
    {
     "name": "stdout",
     "output_type": "stream",
     "text": [
      "./LinuxEBAII/docs/_build/html/_static/locales/zh_TW/LC_MESSAGES:\n"
     ]
    },
    {
     "name": "stdout",
     "output_type": "stream",
     "text": [
      "booktheme.po\n"
     ]
    },
    {
     "name": "stdout",
     "output_type": "stream",
     "text": [
      "\n"
     ]
    },
    {
     "name": "stdout",
     "output_type": "stream",
     "text": [
      "./LinuxEBAII/docs/_build/html/_static/scripts:\n"
     ]
    },
    {
     "name": "stdout",
     "output_type": "stream",
     "text": [
      "pydata-sphinx-theme.js  sphinx-book-theme.js  sphinx-book-theme.js.map\n"
     ]
    },
    {
     "name": "stdout",
     "output_type": "stream",
     "text": [
      "\n"
     ]
    },
    {
     "name": "stdout",
     "output_type": "stream",
     "text": [
      "./LinuxEBAII/docs/_build/html/_static/styles:\n"
     ]
    },
    {
     "name": "stdout",
     "output_type": "stream",
     "text": [
      "pydata-sphinx-theme.css  sphinx-book-theme.css  theme.css\n"
     ]
    },
    {
     "name": "stdout",
     "output_type": "stream",
     "text": [
      "\n"
     ]
    },
    {
     "name": "stdout",
     "output_type": "stream",
     "text": [
      "./LinuxEBAII/docs/_build/html/_static/vendor:\n"
     ]
    },
    {
     "name": "stdout",
     "output_type": "stream",
     "text": [
      "\u001b[38;5;27mfontawesome\u001b[0m\n"
     ]
    },
    {
     "name": "stdout",
     "output_type": "stream",
     "text": [
      "\n"
     ]
    },
    {
     "name": "stdout",
     "output_type": "stream",
     "text": [
      "./LinuxEBAII/docs/_build/html/_static/vendor/fontawesome:\n"
     ]
    },
    {
     "name": "stdout",
     "output_type": "stream",
     "text": [
      "\u001b[38;5;27m5.13.0\u001b[0m\n"
     ]
    },
    {
     "name": "stdout",
     "output_type": "stream",
     "text": [
      "\n"
     ]
    },
    {
     "name": "stdout",
     "output_type": "stream",
     "text": [
      "./LinuxEBAII/docs/_build/html/_static/vendor/fontawesome/5.13.0:\n"
     ]
    },
    {
     "name": "stdout",
     "output_type": "stream",
     "text": [
      "\u001b[38;5;27mcss\u001b[0m  LICENSE.txt  \u001b[38;5;27mwebfonts\u001b[0m\n"
     ]
    },
    {
     "name": "stdout",
     "output_type": "stream",
     "text": [
      "\n"
     ]
    },
    {
     "name": "stdout",
     "output_type": "stream",
     "text": [
      "./LinuxEBAII/docs/_build/html/_static/vendor/fontawesome/5.13.0/css:\n"
     ]
    },
    {
     "name": "stdout",
     "output_type": "stream",
     "text": [
      "all.min.css\n"
     ]
    },
    {
     "name": "stdout",
     "output_type": "stream",
     "text": [
      "\n"
     ]
    },
    {
     "name": "stdout",
     "output_type": "stream",
     "text": [
      "./LinuxEBAII/docs/_build/html/_static/vendor/fontawesome/5.13.0/webfonts:\n"
     ]
    },
    {
     "name": "stdout",
     "output_type": "stream",
     "text": [
      "fa-brands-400.eot    fa-regular-400.eot    fa-solid-900.eot\n"
     ]
    },
    {
     "name": "stdout",
     "output_type": "stream",
     "text": [
      "\u001b[38;5;13mfa-brands-400.svg\u001b[0m    \u001b[38;5;13mfa-regular-400.svg\u001b[0m    \u001b[38;5;13mfa-solid-900.svg\u001b[0m\n"
     ]
    },
    {
     "name": "stdout",
     "output_type": "stream",
     "text": [
      "fa-brands-400.ttf    fa-regular-400.ttf    fa-solid-900.ttf\n"
     ]
    },
    {
     "name": "stdout",
     "output_type": "stream",
     "text": [
      "fa-brands-400.woff   fa-regular-400.woff   fa-solid-900.woff\n"
     ]
    },
    {
     "name": "stdout",
     "output_type": "stream",
     "text": [
      "fa-brands-400.woff2  fa-regular-400.woff2  fa-solid-900.woff2\n"
     ]
    },
    {
     "name": "stdout",
     "output_type": "stream",
     "text": [
      "\n"
     ]
    },
    {
     "name": "stdout",
     "output_type": "stream",
     "text": [
      "./LinuxEBAII/docs/_build/jupyter_execute:\n"
     ]
    },
    {
     "name": "stdout",
     "output_type": "stream",
     "text": [
      "02_introduction.ipynb   07_arborescence.ipynb  10_redirection.ipynb\n"
     ]
    },
    {
     "name": "stdout",
     "output_type": "stream",
     "text": [
      "02_introduction.sh      07_arborescence.sh     10_redirection.sh\n"
     ]
    },
    {
     "name": "stdout",
     "output_type": "stream",
     "text": [
      "05_module.ipynb         08_storage.ipynb       11_linuxIsMore.ipynb\n"
     ]
    },
    {
     "name": "stdout",
     "output_type": "stream",
     "text": [
      "05_module.sh            08_storage.sh          11_linuxIsMore.sh\n"
     ]
    },
    {
     "name": "stdout",
     "output_type": "stream",
     "text": [
      "06_protoCommande.ipynb  09_manipulate.ipynb    markdown-notebooks.ipynb\n"
     ]
    },
    {
     "name": "stdout",
     "output_type": "stream",
     "text": [
      "06_protoCommande.sh     09_manipulate.sh       markdown-notebooks.py\n"
     ]
    },
    {
     "name": "stdout",
     "output_type": "stream",
     "text": [
      "\n"
     ]
    },
    {
     "name": "stdout",
     "output_type": "stream",
     "text": [
      "./LinuxEBAII/docs/images:\n"
     ]
    },
    {
     "name": "stdout",
     "output_type": "stream",
     "text": [
      "\u001b[38;5;13marborescence2.png\u001b[0m               \u001b[38;5;13mebaii_fastqc_psqs_no.png\u001b[0m\n"
     ]
    },
    {
     "name": "stdout",
     "output_type": "stream",
     "text": [
      "\u001b[38;5;13marborescence3.png\u001b[0m               \u001b[38;5;13mebaii_fastqc_psqs_ok.png\u001b[0m\n"
     ]
    },
    {
     "name": "stdout",
     "output_type": "stream",
     "text": [
      "\u001b[38;5;13marborescence4.png\u001b[0m               \u001b[38;5;13mebaii_fastqc_ptsq_no.png\u001b[0m\n"
     ]
    },
    {
     "name": "stdout",
     "output_type": "stream",
     "text": [
      "\u001b[38;5;13marborescence.png\u001b[0m                \u001b[38;5;13mebaii_fastqc_ptsq_ok.png\u001b[0m\n"
     ]
    },
    {
     "name": "stdout",
     "output_type": "stream",
     "text": [
      "\u001b[38;5;13marchiCluster.png\u001b[0m                \u001b[38;5;13mebaii_fastqc_stat.png\u001b[0m\n"
     ]
    },
    {
     "name": "stdout",
     "output_type": "stream",
     "text": [
      "\u001b[38;5;13mBED.png\u001b[0m                         \u001b[38;5;13mebaii_fastqc_tricolore.png\u001b[0m\n"
     ]
    },
    {
     "name": "stdout",
     "output_type": "stream",
     "text": [
      "\u001b[38;5;13mebaii_4lignesFastq.png\u001b[0m          \u001b[38;5;13mebaii_GATA2publi.png\u001b[0m\n"
     ]
    },
    {
     "name": "stdout",
     "output_type": "stream",
     "text": [
      "\u001b[38;5;13mebaii_acces_html.png\u001b[0m            \u001b[38;5;13mebaii_jupyterAcces.png\u001b[0m\n"
     ]
    },
    {
     "name": "stdout",
     "output_type": "stream",
     "text": [
      "\u001b[38;5;13mebaii_accesJupyter.png\u001b[0m          \u001b[38;5;13mebaii_jupyterStop.png\u001b[0m\n"
     ]
    },
    {
     "name": "stdout",
     "output_type": "stream",
     "text": [
      "\u001b[38;5;13mebaii_Ascii_sanger.png\u001b[0m          \u001b[38;5;13mebaii_mapping.png\u001b[0m\n"
     ]
    },
    {
     "name": "stdout",
     "output_type": "stream",
     "text": [
      "\u001b[38;5;13mebaii_cigarEx.png\u001b[0m               \u001b[38;5;13mebaii_mapping_positions.png\u001b[0m\n"
     ]
    },
    {
     "name": "stdout",
     "output_type": "stream",
     "text": [
      "\u001b[38;5;13mebaii_cyberduck1.png\u001b[0m            \u001b[38;5;13mebaii_mapping_quality.png\u001b[0m\n"
     ]
    },
    {
     "name": "stdout",
     "output_type": "stream",
     "text": [
      "\u001b[38;5;13mebaii_cyberduck2.png\u001b[0m            \u001b[38;5;13mebaii_mapping_readSeed.png\u001b[0m\n"
     ]
    },
    {
     "name": "stdout",
     "output_type": "stream",
     "text": [
      "\u001b[38;5;13mebaii_cyberduck3.png\u001b[0m            \u001b[38;5;13mebaii_mapping_uniqMultiMap.png\u001b[0m\n"
     ]
    },
    {
     "name": "stdout",
     "output_type": "stream",
     "text": [
      "\u001b[38;5;13mebaii_cyberduck4.png\u001b[0m            \u001b[38;5;13mebaii_MAPQ.png\u001b[0m\n"
     ]
    },
    {
     "name": "stdout",
     "output_type": "stream",
     "text": [
      "\u001b[38;5;13mebaii_cyberduck5.png\u001b[0m            \u001b[38;5;13mebaii_protocole_Chipseq.png\u001b[0m\n"
     ]
    },
    {
     "name": "stdout",
     "output_type": "stream",
     "text": [
      "\u001b[38;5;13mebaii_fastqc_adaptor_litle.png\u001b[0m  \u001b[38;5;13mebaii_SangerScore.png\u001b[0m\n"
     ]
    },
    {
     "name": "stdout",
     "output_type": "stream",
     "text": [
      "\u001b[38;5;13mebaii_fastqc_adaptor_ok.png\u001b[0m     \u001b[38;5;13mebaii_sickle_slidingWindow.png\u001b[0m\n"
     ]
    },
    {
     "name": "stdout",
     "output_type": "stream",
     "text": [
      "\u001b[38;5;13mebaii_fastqc_duplicSeq_ok.png\u001b[0m   \u001b[38;5;13mebaii_trimmingPackman.png\u001b[0m\n"
     ]
    },
    {
     "name": "stdout",
     "output_type": "stream",
     "text": [
      "\u001b[38;5;13mebaii_fastqc_duplicSeq_RNA.png\u001b[0m  \u001b[38;5;13mJupyterConnect.png\u001b[0m\n"
     ]
    },
    {
     "name": "stdout",
     "output_type": "stream",
     "text": [
      "\u001b[38;5;13mebaii_fastqc_overSeq_polyA.png\u001b[0m  \u001b[38;5;13mJupyterConnexion.gif\u001b[0m\n"
     ]
    },
    {
     "name": "stdout",
     "output_type": "stream",
     "text": [
      "\u001b[38;5;13mebaii_fastqc_pbNc_no.png\u001b[0m        \u001b[38;5;13mjupyterHub.png\u001b[0m\n"
     ]
    },
    {
     "name": "stdout",
     "output_type": "stream",
     "text": [
      "\u001b[38;5;13mebaii_fastqc_pbNc_ok.png\u001b[0m        \u001b[38;5;13mJupyterProfile.png\u001b[0m\n"
     ]
    },
    {
     "name": "stdout",
     "output_type": "stream",
     "text": [
      "\u001b[38;5;13mebaii_fastqc_pbsc_no.png\u001b[0m        \u001b[38;5;13mmobaXterm2.png\u001b[0m\n"
     ]
    },
    {
     "name": "stdout",
     "output_type": "stream",
     "text": [
      "\u001b[38;5;13mebaii_fastqc_pbsc_ok.png\u001b[0m        \u001b[38;5;13mmobaXterm.png\u001b[0m\n"
     ]
    },
    {
     "name": "stdout",
     "output_type": "stream",
     "text": [
      "\u001b[38;5;13mebaii_fastqc_pbsq_no.png\u001b[0m        \u001b[38;5;13mprompt.png\u001b[0m\n"
     ]
    },
    {
     "name": "stdout",
     "output_type": "stream",
     "text": [
      "\u001b[38;5;13mebaii_fastqc_pbsq_ok.png\u001b[0m        \u001b[38;5;13mredirection.png\u001b[0m\n"
     ]
    },
    {
     "name": "stdout",
     "output_type": "stream",
     "text": [
      "\u001b[38;5;13mebaii_fastqc_psGCc_no.png\u001b[0m       \u001b[38;5;13mRoscoff.jpeg\u001b[0m\n"
     ]
    },
    {
     "name": "stdout",
     "output_type": "stream",
     "text": [
      "\u001b[38;5;13mebaii_fastqc_psGCc_ok.png\u001b[0m       \u001b[38;5;13mtabTab.gif\u001b[0m\n"
     ]
    },
    {
     "name": "stdout",
     "output_type": "stream",
     "text": [
      "\n"
     ]
    },
    {
     "name": "stdout",
     "output_type": "stream",
     "text": [
      "./rna-seq:\n"
     ]
    },
    {
     "name": "stdout",
     "output_type": "stream",
     "text": [
      "\u001b[38;5;27moutput\u001b[0m\n"
     ]
    },
    {
     "name": "stdout",
     "output_type": "stream",
     "text": [
      "\n"
     ]
    },
    {
     "name": "stdout",
     "output_type": "stream",
     "text": [
      "./rna-seq/output:\n"
     ]
    },
    {
     "name": "stdout",
     "output_type": "stream",
     "text": [
      "\u001b[38;5;27mbam\u001b[0m\n"
     ]
    },
    {
     "name": "stdout",
     "output_type": "stream",
     "text": [
      "\n"
     ]
    },
    {
     "name": "stdout",
     "output_type": "stream",
     "text": [
      "./rna-seq/output/bam:\n"
     ]
    }
   ],
   "source": [
    "# On liste Récursivement les dossiers\n",
    "ls -R"
   ]
  },
  {
   "cell_type": "code",
   "execution_count": 11,
   "id": "f0530cd4-b45a-466f-9190-384171e4eaf0",
   "metadata": {},
   "outputs": [
    {
     "name": "stdout",
     "output_type": "stream",
     "text": [
      ".\n"
     ]
    },
    {
     "name": "stdout",
     "output_type": "stream",
     "text": [
      "├── chip-seq\n"
     ]
    },
    {
     "name": "stdout",
     "output_type": "stream",
     "text": [
      "│   ├── bam\n"
     ]
    },
    {
     "name": "stdout",
     "output_type": "stream",
     "text": [
      "│   └── fastq\n"
     ]
    },
    {
     "name": "stdout",
     "output_type": "stream",
     "text": [
      "├── cleanFolder.sh\n"
     ]
    },
    {
     "name": "stdout",
     "output_type": "stream",
     "text": [
      "├── cours1.ipynb\n"
     ]
    },
    {
     "name": "stdout",
     "output_type": "stream",
     "text": [
      "├── cours2.ipynb\n"
     ]
    },
    {
     "name": "stdout",
     "output_type": "stream",
     "text": [
      "├── images\n"
     ]
    },
    {
     "name": "stdout",
     "output_type": "stream",
     "text": [
      "│   ├── arborescence2.png\n"
     ]
    },
    {
     "name": "stdout",
     "output_type": "stream",
     "text": [
      "│   ├── arborescence3.png\n"
     ]
    },
    {
     "name": "stdout",
     "output_type": "stream",
     "text": [
      "│   ├── arborescence4.png\n"
     ]
    },
    {
     "name": "stdout",
     "output_type": "stream",
     "text": [
      "│   ├── arborescence.png\n"
     ]
    },
    {
     "name": "stdout",
     "output_type": "stream",
     "text": [
      "│   ├── archiCluster.png\n"
     ]
    },
    {
     "name": "stdout",
     "output_type": "stream",
     "text": [
      "│   ├── BED.png\n"
     ]
    },
    {
     "name": "stdout",
     "output_type": "stream",
     "text": [
      "│   ├── ebaii_4lignesFastq.png\n"
     ]
    },
    {
     "name": "stdout",
     "output_type": "stream",
     "text": [
      "│   ├── ebaii_acces_html.png\n"
     ]
    },
    {
     "name": "stdout",
     "output_type": "stream",
     "text": [
      "│   ├── ebaii_accesJupyter.png\n"
     ]
    },
    {
     "name": "stdout",
     "output_type": "stream",
     "text": [
      "│   ├── ebaii_Ascii_sanger.png\n"
     ]
    },
    {
     "name": "stdout",
     "output_type": "stream",
     "text": [
      "│   ├── ebaii_cigarEx.png\n"
     ]
    },
    {
     "name": "stdout",
     "output_type": "stream",
     "text": [
      "│   ├── ebaii_cyberduck1.png\n"
     ]
    },
    {
     "name": "stdout",
     "output_type": "stream",
     "text": [
      "│   ├── ebaii_cyberduck2.png\n"
     ]
    },
    {
     "name": "stdout",
     "output_type": "stream",
     "text": [
      "│   ├── ebaii_cyberduck3.png\n"
     ]
    },
    {
     "name": "stdout",
     "output_type": "stream",
     "text": [
      "│   ├── ebaii_cyberduck4.png\n"
     ]
    },
    {
     "name": "stdout",
     "output_type": "stream",
     "text": [
      "│   ├── ebaii_cyberduck5.png\n"
     ]
    },
    {
     "name": "stdout",
     "output_type": "stream",
     "text": [
      "│   ├── ebaii_fastqc_adaptor_litle.png\n"
     ]
    },
    {
     "name": "stdout",
     "output_type": "stream",
     "text": [
      "│   ├── ebaii_fastqc_adaptor_ok.png\n"
     ]
    },
    {
     "name": "stdout",
     "output_type": "stream",
     "text": [
      "│   ├── ebaii_fastqc_duplicSeq_ok.png\n"
     ]
    },
    {
     "name": "stdout",
     "output_type": "stream",
     "text": [
      "│   ├── ebaii_fastqc_duplicSeq_RNA.png\n"
     ]
    },
    {
     "name": "stdout",
     "output_type": "stream",
     "text": [
      "│   ├── ebaii_fastqc_overSeq_polyA.png\n"
     ]
    },
    {
     "name": "stdout",
     "output_type": "stream",
     "text": [
      "│   ├── ebaii_fastqc_pbNc_no.png\n"
     ]
    },
    {
     "name": "stdout",
     "output_type": "stream",
     "text": [
      "│   ├── ebaii_fastqc_pbNc_ok.png\n"
     ]
    },
    {
     "name": "stdout",
     "output_type": "stream",
     "text": [
      "│   ├── ebaii_fastqc_pbsc_no.png\n"
     ]
    },
    {
     "name": "stdout",
     "output_type": "stream",
     "text": [
      "│   ├── ebaii_fastqc_pbsc_ok.png\n"
     ]
    },
    {
     "name": "stdout",
     "output_type": "stream",
     "text": [
      "│   ├── ebaii_fastqc_pbsq_no.png\n"
     ]
    },
    {
     "name": "stdout",
     "output_type": "stream",
     "text": [
      "│   ├── ebaii_fastqc_pbsq_ok.png\n"
     ]
    },
    {
     "name": "stdout",
     "output_type": "stream",
     "text": [
      "│   ├── ebaii_fastqc_psGCc_no.png\n"
     ]
    },
    {
     "name": "stdout",
     "output_type": "stream",
     "text": [
      "│   ├── ebaii_fastqc_psGCc_ok.png\n"
     ]
    },
    {
     "name": "stdout",
     "output_type": "stream",
     "text": [
      "│   ├── ebaii_fastqc_psqs_no.png\n"
     ]
    },
    {
     "name": "stdout",
     "output_type": "stream",
     "text": [
      "│   ├── ebaii_fastqc_psqs_ok.png\n"
     ]
    },
    {
     "name": "stdout",
     "output_type": "stream",
     "text": [
      "│   ├── ebaii_fastqc_ptsq_no.png\n"
     ]
    },
    {
     "name": "stdout",
     "output_type": "stream",
     "text": [
      "│   ├── ebaii_fastqc_ptsq_ok.png\n"
     ]
    },
    {
     "name": "stdout",
     "output_type": "stream",
     "text": [
      "│   ├── ebaii_fastqc_stat.png\n"
     ]
    },
    {
     "name": "stdout",
     "output_type": "stream",
     "text": [
      "│   ├── ebaii_fastqc_tricolore.png\n"
     ]
    },
    {
     "name": "stdout",
     "output_type": "stream",
     "text": [
      "│   ├── ebaii_GATA2publi.png\n"
     ]
    },
    {
     "name": "stdout",
     "output_type": "stream",
     "text": [
      "│   ├── ebaii_jupyterAcces.png\n"
     ]
    },
    {
     "name": "stdout",
     "output_type": "stream",
     "text": [
      "│   ├── ebaii_jupyterStop.png\n"
     ]
    },
    {
     "name": "stdout",
     "output_type": "stream",
     "text": [
      "│   ├── ebaii_mapping.png\n"
     ]
    },
    {
     "name": "stdout",
     "output_type": "stream",
     "text": [
      "│   ├── ebaii_mapping_positions.png\n"
     ]
    },
    {
     "name": "stdout",
     "output_type": "stream",
     "text": [
      "│   ├── ebaii_mapping_quality.png\n"
     ]
    },
    {
     "name": "stdout",
     "output_type": "stream",
     "text": [
      "│   ├── ebaii_mapping_readSeed.png\n"
     ]
    },
    {
     "name": "stdout",
     "output_type": "stream",
     "text": [
      "│   ├── ebaii_mapping_uniqMultiMap.png\n"
     ]
    },
    {
     "name": "stdout",
     "output_type": "stream",
     "text": [
      "│   ├── ebaii_MAPQ.png\n"
     ]
    },
    {
     "name": "stdout",
     "output_type": "stream",
     "text": [
      "│   ├── ebaii_protocole_Chipseq.png\n"
     ]
    },
    {
     "name": "stdout",
     "output_type": "stream",
     "text": [
      "│   ├── ebaii_SangerScore.png\n"
     ]
    },
    {
     "name": "stdout",
     "output_type": "stream",
     "text": [
      "│   ├── ebaii_sickle_slidingWindow.png\n"
     ]
    },
    {
     "name": "stdout",
     "output_type": "stream",
     "text": [
      "│   ├── ebaii_trimmingPackman.png\n"
     ]
    },
    {
     "name": "stdout",
     "output_type": "stream",
     "text": [
      "│   ├── JupyterConnect.png\n"
     ]
    },
    {
     "name": "stdout",
     "output_type": "stream",
     "text": [
      "│   ├── JupyterConnexion.gif\n"
     ]
    },
    {
     "name": "stdout",
     "output_type": "stream",
     "text": [
      "│   ├── jupyterHub.png\n"
     ]
    },
    {
     "name": "stdout",
     "output_type": "stream",
     "text": [
      "│   ├── JupyterProfile.png\n"
     ]
    },
    {
     "name": "stdout",
     "output_type": "stream",
     "text": [
      "│   ├── mobaXterm2.png\n"
     ]
    },
    {
     "name": "stdout",
     "output_type": "stream",
     "text": [
      "│   ├── mobaXterm.png\n"
     ]
    },
    {
     "name": "stdout",
     "output_type": "stream",
     "text": [
      "│   ├── prompt.png\n"
     ]
    },
    {
     "name": "stdout",
     "output_type": "stream",
     "text": [
      "│   ├── redirection.png\n"
     ]
    },
    {
     "name": "stdout",
     "output_type": "stream",
     "text": [
      "│   ├── Roscoff.jpeg\n"
     ]
    },
    {
     "name": "stdout",
     "output_type": "stream",
     "text": [
      "│   └── tabTab.gif\n"
     ]
    },
    {
     "name": "stdout",
     "output_type": "stream",
     "text": [
      "├── LinuxEBAII\n"
     ]
    },
    {
     "name": "stdout",
     "output_type": "stream",
     "text": [
      "│   ├── docs\n"
     ]
    },
    {
     "name": "stdout",
     "output_type": "stream",
     "text": [
      "│   │   ├── 00_home.md\n"
     ]
    },
    {
     "name": "stdout",
     "output_type": "stream",
     "text": [
      "│   │   ├── 01_team.md\n"
     ]
    },
    {
     "name": "stdout",
     "output_type": "stream",
     "text": [
      "│   │   ├── 02_introduction.ipynb\n"
     ]
    },
    {
     "name": "stdout",
     "output_type": "stream",
     "text": [
      "│   │   ├── 03_jupyter.md\n"
     ]
    },
    {
     "name": "stdout",
     "output_type": "stream",
     "text": [
      "│   │   ├── 04_bash.md\n"
     ]
    },
    {
     "name": "stdout",
     "output_type": "stream",
     "text": [
      "│   │   ├── 05_module.ipynb\n"
     ]
    },
    {
     "name": "stdout",
     "output_type": "stream",
     "text": [
      "│   │   ├── 06_protoCommande.ipynb\n"
     ]
    },
    {
     "name": "stdout",
     "output_type": "stream",
     "text": [
      "│   │   ├── 07_arborescence.ipynb\n"
     ]
    },
    {
     "name": "stdout",
     "output_type": "stream",
     "text": [
      "│   │   ├── 08_storage.ipynb\n"
     ]
    },
    {
     "name": "stdout",
     "output_type": "stream",
     "text": [
      "│   │   ├── 09_manipulate.ipynb\n"
     ]
    },
    {
     "name": "stdout",
     "output_type": "stream",
     "text": [
      "│   │   ├── 10_redirection.ipynb\n"
     ]
    },
    {
     "name": "stdout",
     "output_type": "stream",
     "text": [
      "│   │   ├── 11_linuxIsMore.ipynb\n"
     ]
    },
    {
     "name": "stdout",
     "output_type": "stream",
     "text": [
      "│   │   ├── 12_raccourcis.md\n"
     ]
    },
    {
     "name": "stdout",
     "output_type": "stream",
     "text": [
      "│   │   ├── _build\n"
     ]
    },
    {
     "name": "stdout",
     "output_type": "stream",
     "text": [
      "│   │   │   ├── html\n"
     ]
    },
    {
     "name": "stdout",
     "output_type": "stream",
     "text": [
      "│   │   │   │   ├── 00_home.html\n"
     ]
    },
    {
     "name": "stdout",
     "output_type": "stream",
     "text": [
      "│   │   │   │   ├── 01_team.html\n"
     ]
    },
    {
     "name": "stdout",
     "output_type": "stream",
     "text": [
      "│   │   │   │   ├── 02_introduction.html\n"
     ]
    },
    {
     "name": "stdout",
     "output_type": "stream",
     "text": [
      "│   │   │   │   ├── 03_jupyter.html\n"
     ]
    },
    {
     "name": "stdout",
     "output_type": "stream",
     "text": [
      "│   │   │   │   ├── 04_bash.html\n"
     ]
    },
    {
     "name": "stdout",
     "output_type": "stream",
     "text": [
      "│   │   │   │   ├── 05_module.html\n"
     ]
    },
    {
     "name": "stdout",
     "output_type": "stream",
     "text": [
      "│   │   │   │   ├── 06_protoCommande.html\n"
     ]
    },
    {
     "name": "stdout",
     "output_type": "stream",
     "text": [
      "│   │   │   │   ├── 07_arborescence.html\n"
     ]
    },
    {
     "name": "stdout",
     "output_type": "stream",
     "text": [
      "│   │   │   │   ├── 08_storage.html\n"
     ]
    },
    {
     "name": "stdout",
     "output_type": "stream",
     "text": [
      "│   │   │   │   ├── 09_manipulate.html\n"
     ]
    },
    {
     "name": "stdout",
     "output_type": "stream",
     "text": [
      "│   │   │   │   ├── 10_redirection.html\n"
     ]
    },
    {
     "name": "stdout",
     "output_type": "stream",
     "text": [
      "│   │   │   │   ├── 11_linuxIsMore.html\n"
     ]
    },
    {
     "name": "stdout",
     "output_type": "stream",
     "text": [
      "│   │   │   │   ├── 12_raccourcis.html\n"
     ]
    },
    {
     "name": "stdout",
     "output_type": "stream",
     "text": [
      "│   │   │   │   ├── genindex.html\n"
     ]
    },
    {
     "name": "stdout",
     "output_type": "stream",
     "text": [
      "│   │   │   │   ├── _images\n"
     ]
    },
    {
     "name": "stdout",
     "output_type": "stream",
     "text": [
      "│   │   │   │   │   ├── arborescence2.png\n"
     ]
    },
    {
     "name": "stdout",
     "output_type": "stream",
     "text": [
      "│   │   │   │   │   ├── arborescence3.png\n"
     ]
    },
    {
     "name": "stdout",
     "output_type": "stream",
     "text": [
      "│   │   │   │   │   ├── arborescence4.png\n"
     ]
    },
    {
     "name": "stdout",
     "output_type": "stream",
     "text": [
      "│   │   │   │   │   ├── arborescence.png\n"
     ]
    },
    {
     "name": "stdout",
     "output_type": "stream",
     "text": [
      "│   │   │   │   │   ├── archiCluster.png\n"
     ]
    },
    {
     "name": "stdout",
     "output_type": "stream",
     "text": [
      "│   │   │   │   │   ├── BED.png\n"
     ]
    },
    {
     "name": "stdout",
     "output_type": "stream",
     "text": [
      "│   │   │   │   │   ├── JupyterConnect.png\n"
     ]
    },
    {
     "name": "stdout",
     "output_type": "stream",
     "text": [
      "│   │   │   │   │   ├── JupyterConnexion.gif\n"
     ]
    },
    {
     "name": "stdout",
     "output_type": "stream",
     "text": [
      "│   │   │   │   │   ├── jupyterHub.png\n"
     ]
    },
    {
     "name": "stdout",
     "output_type": "stream",
     "text": [
      "│   │   │   │   │   ├── JupyterProfile.png\n"
     ]
    },
    {
     "name": "stdout",
     "output_type": "stream",
     "text": [
      "│   │   │   │   │   ├── mobaXterm2.png\n"
     ]
    },
    {
     "name": "stdout",
     "output_type": "stream",
     "text": [
      "│   │   │   │   │   ├── mobaXterm.png\n"
     ]
    },
    {
     "name": "stdout",
     "output_type": "stream",
     "text": [
      "│   │   │   │   │   ├── prompt.png\n"
     ]
    },
    {
     "name": "stdout",
     "output_type": "stream",
     "text": [
      "│   │   │   │   │   ├── redirection.png\n"
     ]
    },
    {
     "name": "stdout",
     "output_type": "stream",
     "text": [
      "│   │   │   │   │   └── tabTab.gif\n"
     ]
    },
    {
     "name": "stdout",
     "output_type": "stream",
     "text": [
      "│   │   │   │   ├── index.html\n"
     ]
    },
    {
     "name": "stdout",
     "output_type": "stream",
     "text": [
      "│   │   │   │   ├── markdown-notebooks.html\n"
     ]
    },
    {
     "name": "stdout",
     "output_type": "stream",
     "text": [
      "│   │   │   │   ├── objects.inv\n"
     ]
    },
    {
     "name": "stdout",
     "output_type": "stream",
     "text": [
      "│   │   │   │   ├── reports\n"
     ]
    },
    {
     "name": "stdout",
     "output_type": "stream",
     "text": [
      "│   │   │   │   │   └── 05_module.log\n"
     ]
    },
    {
     "name": "stdout",
     "output_type": "stream",
     "text": [
      "│   │   │   │   ├── search.html\n"
     ]
    },
    {
     "name": "stdout",
     "output_type": "stream",
     "text": [
      "│   │   │   │   ├── searchindex.js\n"
     ]
    },
    {
     "name": "stdout",
     "output_type": "stream",
     "text": [
      "│   │   │   │   ├── _sources\n"
     ]
    },
    {
     "name": "stdout",
     "output_type": "stream",
     "text": [
      "│   │   │   │   │   ├── 00_home.md\n"
     ]
    },
    {
     "name": "stdout",
     "output_type": "stream",
     "text": [
      "│   │   │   │   │   ├── 01_team.md\n"
     ]
    },
    {
     "name": "stdout",
     "output_type": "stream",
     "text": [
      "│   │   │   │   │   ├── 02_introduction.ipynb\n"
     ]
    },
    {
     "name": "stdout",
     "output_type": "stream",
     "text": [
      "│   │   │   │   │   ├── 03_jupyter.md\n"
     ]
    },
    {
     "name": "stdout",
     "output_type": "stream",
     "text": [
      "│   │   │   │   │   ├── 04_bash.md\n"
     ]
    },
    {
     "name": "stdout",
     "output_type": "stream",
     "text": [
      "│   │   │   │   │   ├── 05_module.ipynb\n"
     ]
    },
    {
     "name": "stdout",
     "output_type": "stream",
     "text": [
      "│   │   │   │   │   ├── 06_protoCommande.ipynb\n"
     ]
    },
    {
     "name": "stdout",
     "output_type": "stream",
     "text": [
      "│   │   │   │   │   ├── 07_arborescence.ipynb\n"
     ]
    },
    {
     "name": "stdout",
     "output_type": "stream",
     "text": [
      "│   │   │   │   │   ├── 08_storage.ipynb\n"
     ]
    },
    {
     "name": "stdout",
     "output_type": "stream",
     "text": [
      "│   │   │   │   │   ├── 09_manipulate.ipynb\n"
     ]
    },
    {
     "name": "stdout",
     "output_type": "stream",
     "text": [
      "│   │   │   │   │   ├── 10_redirection.ipynb\n"
     ]
    },
    {
     "name": "stdout",
     "output_type": "stream",
     "text": [
      "│   │   │   │   │   ├── 11_linuxIsMore.ipynb\n"
     ]
    },
    {
     "name": "stdout",
     "output_type": "stream",
     "text": [
      "│   │   │   │   │   ├── 12_raccourcis.md\n"
     ]
    },
    {
     "name": "stdout",
     "output_type": "stream",
     "text": [
      "│   │   │   │   │   ├── markdown-notebooks.ipynb\n"
     ]
    },
    {
     "name": "stdout",
     "output_type": "stream",
     "text": [
      "│   │   │   │   │   └── markdown-notebooks.md\n"
     ]
    },
    {
     "name": "stdout",
     "output_type": "stream",
     "text": [
      "│   │   │   │   ├── _sphinx_design_static\n"
     ]
    },
    {
     "name": "stdout",
     "output_type": "stream",
     "text": [
      "│   │   │   │   │   ├── design-style.b7bb847fb20b106c3d81b95245e65545.min.css\n"
     ]
    },
    {
     "name": "stdout",
     "output_type": "stream",
     "text": [
      "│   │   │   │   │   └── design-tabs.js\n"
     ]
    },
    {
     "name": "stdout",
     "output_type": "stream",
     "text": [
      "│   │   │   │   └── _static\n"
     ]
    },
    {
     "name": "stdout",
     "output_type": "stream",
     "text": [
      "│   │   │   │       ├── basic.css\n"
     ]
    },
    {
     "name": "stdout",
     "output_type": "stream",
     "text": [
      "│   │   │   │       ├── check-solid.svg\n"
     ]
    },
    {
     "name": "stdout",
     "output_type": "stream",
     "text": [
      "│   │   │   │       ├── clipboard.min.js\n"
     ]
    },
    {
     "name": "stdout",
     "output_type": "stream",
     "text": [
      "│   │   │   │       ├── copybutton.css\n"
     ]
    },
    {
     "name": "stdout",
     "output_type": "stream",
     "text": [
      "│   │   │   │       ├── copybutton_funcs.js\n"
     ]
    },
    {
     "name": "stdout",
     "output_type": "stream",
     "text": [
      "│   │   │   │       ├── copybutton.js\n"
     ]
    },
    {
     "name": "stdout",
     "output_type": "stream",
     "text": [
      "│   │   │   │       ├── copy-button.svg\n"
     ]
    },
    {
     "name": "stdout",
     "output_type": "stream",
     "text": [
      "│   │   │   │       ├── design-style.b7bb847fb20b106c3d81b95245e65545.min.css\n"
     ]
    },
    {
     "name": "stdout",
     "output_type": "stream",
     "text": [
      "│   │   │   │       ├── design-tabs.js\n"
     ]
    },
    {
     "name": "stdout",
     "output_type": "stream",
     "text": [
      "│   │   │   │       ├── doctools.js\n"
     ]
    },
    {
     "name": "stdout",
     "output_type": "stream",
     "text": [
      "│   │   │   │       ├── documentation_options.js\n"
     ]
    },
    {
     "name": "stdout",
     "output_type": "stream",
     "text": [
      "│   │   │   │       ├── file.png\n"
     ]
    },
    {
     "name": "stdout",
     "output_type": "stream",
     "text": [
      "│   │   │   │       ├── images\n"
     ]
    },
    {
     "name": "stdout",
     "output_type": "stream",
     "text": [
      "│   │   │   │       │   ├── logo_binder.svg\n"
     ]
    },
    {
     "name": "stdout",
     "output_type": "stream",
     "text": [
      "│   │   │   │       │   ├── logo_colab.png\n"
     ]
    },
    {
     "name": "stdout",
     "output_type": "stream",
     "text": [
      "│   │   │   │       │   ├── logo_deepnote.svg\n"
     ]
    },
    {
     "name": "stdout",
     "output_type": "stream",
     "text": [
      "│   │   │   │       │   └── logo_jupyterhub.svg\n"
     ]
    },
    {
     "name": "stdout",
     "output_type": "stream",
     "text": [
      "│   │   │   │       ├── jquery-3.5.1.js\n"
     ]
    },
    {
     "name": "stdout",
     "output_type": "stream",
     "text": [
      "│   │   │   │       ├── jquery.js\n"
     ]
    },
    {
     "name": "stdout",
     "output_type": "stream",
     "text": [
      "│   │   │   │       ├── language_data.js\n"
     ]
    },
    {
     "name": "stdout",
     "output_type": "stream",
     "text": [
      "│   │   │   │       ├── locales\n"
     ]
    },
    {
     "name": "stdout",
     "output_type": "stream",
     "text": [
      "│   │   │   │       │   ├── ar\n"
     ]
    },
    {
     "name": "stdout",
     "output_type": "stream",
     "text": [
      "│   │   │   │       │   │   └── LC_MESSAGES\n"
     ]
    },
    {
     "name": "stdout",
     "output_type": "stream",
     "text": [
      "│   │   │   │       │   │       └── booktheme.po\n"
     ]
    },
    {
     "name": "stdout",
     "output_type": "stream",
     "text": [
      "│   │   │   │       │   ├── bg\n"
     ]
    },
    {
     "name": "stdout",
     "output_type": "stream",
     "text": [
      "│   │   │   │       │   │   └── LC_MESSAGES\n"
     ]
    },
    {
     "name": "stdout",
     "output_type": "stream",
     "text": [
      "│   │   │   │       │   │       └── booktheme.po\n"
     ]
    },
    {
     "name": "stdout",
     "output_type": "stream",
     "text": [
      "│   │   │   │       │   ├── bn\n"
     ]
    },
    {
     "name": "stdout",
     "output_type": "stream",
     "text": [
      "│   │   │   │       │   │   └── LC_MESSAGES\n"
     ]
    },
    {
     "name": "stdout",
     "output_type": "stream",
     "text": [
      "│   │   │   │       │   │       └── booktheme.po\n"
     ]
    },
    {
     "name": "stdout",
     "output_type": "stream",
     "text": [
      "│   │   │   │       │   ├── ca\n"
     ]
    },
    {
     "name": "stdout",
     "output_type": "stream",
     "text": [
      "│   │   │   │       │   │   └── LC_MESSAGES\n"
     ]
    },
    {
     "name": "stdout",
     "output_type": "stream",
     "text": [
      "│   │   │   │       │   │       └── booktheme.po\n"
     ]
    },
    {
     "name": "stdout",
     "output_type": "stream",
     "text": [
      "│   │   │   │       │   ├── cs\n"
     ]
    },
    {
     "name": "stdout",
     "output_type": "stream",
     "text": [
      "│   │   │   │       │   │   └── LC_MESSAGES\n"
     ]
    },
    {
     "name": "stdout",
     "output_type": "stream",
     "text": [
      "│   │   │   │       │   │       └── booktheme.po\n"
     ]
    },
    {
     "name": "stdout",
     "output_type": "stream",
     "text": [
      "│   │   │   │       │   ├── da\n"
     ]
    },
    {
     "name": "stdout",
     "output_type": "stream",
     "text": [
      "│   │   │   │       │   │   └── LC_MESSAGES\n"
     ]
    },
    {
     "name": "stdout",
     "output_type": "stream",
     "text": [
      "│   │   │   │       │   │       └── booktheme.po\n"
     ]
    },
    {
     "name": "stdout",
     "output_type": "stream",
     "text": [
      "│   │   │   │       │   ├── de\n"
     ]
    },
    {
     "name": "stdout",
     "output_type": "stream",
     "text": [
      "│   │   │   │       │   │   └── LC_MESSAGES\n"
     ]
    },
    {
     "name": "stdout",
     "output_type": "stream",
     "text": [
      "│   │   │   │       │   │       └── booktheme.po\n"
     ]
    },
    {
     "name": "stdout",
     "output_type": "stream",
     "text": [
      "│   │   │   │       │   ├── el\n"
     ]
    },
    {
     "name": "stdout",
     "output_type": "stream",
     "text": [
      "│   │   │   │       │   │   └── LC_MESSAGES\n"
     ]
    },
    {
     "name": "stdout",
     "output_type": "stream",
     "text": [
      "│   │   │   │       │   │       └── booktheme.po\n"
     ]
    },
    {
     "name": "stdout",
     "output_type": "stream",
     "text": [
      "│   │   │   │       │   ├── eo\n"
     ]
    },
    {
     "name": "stdout",
     "output_type": "stream",
     "text": [
      "│   │   │   │       │   │   └── LC_MESSAGES\n"
     ]
    },
    {
     "name": "stdout",
     "output_type": "stream",
     "text": [
      "│   │   │   │       │   │       └── booktheme.po\n"
     ]
    },
    {
     "name": "stdout",
     "output_type": "stream",
     "text": [
      "│   │   │   │       │   ├── es\n"
     ]
    },
    {
     "name": "stdout",
     "output_type": "stream",
     "text": [
      "│   │   │   │       │   │   └── LC_MESSAGES\n"
     ]
    },
    {
     "name": "stdout",
     "output_type": "stream",
     "text": [
      "│   │   │   │       │   │       └── booktheme.po\n"
     ]
    },
    {
     "name": "stdout",
     "output_type": "stream",
     "text": [
      "│   │   │   │       │   ├── et\n"
     ]
    },
    {
     "name": "stdout",
     "output_type": "stream",
     "text": [
      "│   │   │   │       │   │   └── LC_MESSAGES\n"
     ]
    },
    {
     "name": "stdout",
     "output_type": "stream",
     "text": [
      "│   │   │   │       │   │       └── booktheme.po\n"
     ]
    },
    {
     "name": "stdout",
     "output_type": "stream",
     "text": [
      "│   │   │   │       │   ├── fi\n"
     ]
    },
    {
     "name": "stdout",
     "output_type": "stream",
     "text": [
      "│   │   │   │       │   │   └── LC_MESSAGES\n"
     ]
    },
    {
     "name": "stdout",
     "output_type": "stream",
     "text": [
      "│   │   │   │       │   │       └── booktheme.po\n"
     ]
    },
    {
     "name": "stdout",
     "output_type": "stream",
     "text": [
      "│   │   │   │       │   ├── fr\n"
     ]
    },
    {
     "name": "stdout",
     "output_type": "stream",
     "text": [
      "│   │   │   │       │   │   └── LC_MESSAGES\n"
     ]
    },
    {
     "name": "stdout",
     "output_type": "stream",
     "text": [
      "│   │   │   │       │   │       └── booktheme.po\n"
     ]
    },
    {
     "name": "stdout",
     "output_type": "stream",
     "text": [
      "│   │   │   │       │   ├── hr\n"
     ]
    },
    {
     "name": "stdout",
     "output_type": "stream",
     "text": [
      "│   │   │   │       │   │   └── LC_MESSAGES\n"
     ]
    },
    {
     "name": "stdout",
     "output_type": "stream",
     "text": [
      "│   │   │   │       │   │       └── booktheme.po\n"
     ]
    },
    {
     "name": "stdout",
     "output_type": "stream",
     "text": [
      "│   │   │   │       │   ├── id\n"
     ]
    },
    {
     "name": "stdout",
     "output_type": "stream",
     "text": [
      "│   │   │   │       │   │   └── LC_MESSAGES\n"
     ]
    },
    {
     "name": "stdout",
     "output_type": "stream",
     "text": [
      "│   │   │   │       │   │       └── booktheme.po\n"
     ]
    },
    {
     "name": "stdout",
     "output_type": "stream",
     "text": [
      "│   │   │   │       │   ├── it\n"
     ]
    },
    {
     "name": "stdout",
     "output_type": "stream",
     "text": [
      "│   │   │   │       │   │   └── LC_MESSAGES\n"
     ]
    },
    {
     "name": "stdout",
     "output_type": "stream",
     "text": [
      "│   │   │   │       │   │       └── booktheme.po\n"
     ]
    },
    {
     "name": "stdout",
     "output_type": "stream",
     "text": [
      "│   │   │   │       │   ├── iw\n"
     ]
    },
    {
     "name": "stdout",
     "output_type": "stream",
     "text": [
      "│   │   │   │       │   │   └── LC_MESSAGES\n"
     ]
    },
    {
     "name": "stdout",
     "output_type": "stream",
     "text": [
      "│   │   │   │       │   │       └── booktheme.po\n"
     ]
    },
    {
     "name": "stdout",
     "output_type": "stream",
     "text": [
      "│   │   │   │       │   ├── ja\n"
     ]
    },
    {
     "name": "stdout",
     "output_type": "stream",
     "text": [
      "│   │   │   │       │   │   └── LC_MESSAGES\n"
     ]
    },
    {
     "name": "stdout",
     "output_type": "stream",
     "text": [
      "│   │   │   │       │   │       └── booktheme.po\n"
     ]
    },
    {
     "name": "stdout",
     "output_type": "stream",
     "text": [
      "│   │   │   │       │   ├── ko\n"
     ]
    },
    {
     "name": "stdout",
     "output_type": "stream",
     "text": [
      "│   │   │   │       │   │   └── LC_MESSAGES\n"
     ]
    },
    {
     "name": "stdout",
     "output_type": "stream",
     "text": [
      "│   │   │   │       │   │       └── booktheme.po\n"
     ]
    },
    {
     "name": "stdout",
     "output_type": "stream",
     "text": [
      "│   │   │   │       │   ├── lt\n"
     ]
    },
    {
     "name": "stdout",
     "output_type": "stream",
     "text": [
      "│   │   │   │       │   │   └── LC_MESSAGES\n"
     ]
    },
    {
     "name": "stdout",
     "output_type": "stream",
     "text": [
      "│   │   │   │       │   │       └── booktheme.po\n"
     ]
    },
    {
     "name": "stdout",
     "output_type": "stream",
     "text": [
      "│   │   │   │       │   ├── lv\n"
     ]
    },
    {
     "name": "stdout",
     "output_type": "stream",
     "text": [
      "│   │   │   │       │   │   └── LC_MESSAGES\n"
     ]
    },
    {
     "name": "stdout",
     "output_type": "stream",
     "text": [
      "│   │   │   │       │   │       └── booktheme.po\n"
     ]
    },
    {
     "name": "stdout",
     "output_type": "stream",
     "text": [
      "│   │   │   │       │   ├── ml\n"
     ]
    },
    {
     "name": "stdout",
     "output_type": "stream",
     "text": [
      "│   │   │   │       │   │   └── LC_MESSAGES\n"
     ]
    },
    {
     "name": "stdout",
     "output_type": "stream",
     "text": [
      "│   │   │   │       │   │       └── booktheme.po\n"
     ]
    },
    {
     "name": "stdout",
     "output_type": "stream",
     "text": [
      "│   │   │   │       │   ├── mr\n"
     ]
    },
    {
     "name": "stdout",
     "output_type": "stream",
     "text": [
      "│   │   │   │       │   │   └── LC_MESSAGES\n"
     ]
    },
    {
     "name": "stdout",
     "output_type": "stream",
     "text": [
      "│   │   │   │       │   │       └── booktheme.po\n"
     ]
    },
    {
     "name": "stdout",
     "output_type": "stream",
     "text": [
      "│   │   │   │       │   ├── ms\n"
     ]
    },
    {
     "name": "stdout",
     "output_type": "stream",
     "text": [
      "│   │   │   │       │   │   └── LC_MESSAGES\n"
     ]
    },
    {
     "name": "stdout",
     "output_type": "stream",
     "text": [
      "│   │   │   │       │   │       └── booktheme.po\n"
     ]
    },
    {
     "name": "stdout",
     "output_type": "stream",
     "text": [
      "│   │   │   │       │   ├── nl\n"
     ]
    },
    {
     "name": "stdout",
     "output_type": "stream",
     "text": [
      "│   │   │   │       │   │   └── LC_MESSAGES\n"
     ]
    },
    {
     "name": "stdout",
     "output_type": "stream",
     "text": [
      "│   │   │   │       │   │       └── booktheme.po\n"
     ]
    },
    {
     "name": "stdout",
     "output_type": "stream",
     "text": [
      "│   │   │   │       │   ├── no\n"
     ]
    },
    {
     "name": "stdout",
     "output_type": "stream",
     "text": [
      "│   │   │   │       │   │   └── LC_MESSAGES\n"
     ]
    },
    {
     "name": "stdout",
     "output_type": "stream",
     "text": [
      "│   │   │   │       │   │       └── booktheme.po\n"
     ]
    },
    {
     "name": "stdout",
     "output_type": "stream",
     "text": [
      "│   │   │   │       │   ├── pl\n"
     ]
    },
    {
     "name": "stdout",
     "output_type": "stream",
     "text": [
      "│   │   │   │       │   │   └── LC_MESSAGES\n"
     ]
    },
    {
     "name": "stdout",
     "output_type": "stream",
     "text": [
      "│   │   │   │       │   │       └── booktheme.po\n"
     ]
    },
    {
     "name": "stdout",
     "output_type": "stream",
     "text": [
      "│   │   │   │       │   ├── pt\n"
     ]
    },
    {
     "name": "stdout",
     "output_type": "stream",
     "text": [
      "│   │   │   │       │   │   └── LC_MESSAGES\n"
     ]
    },
    {
     "name": "stdout",
     "output_type": "stream",
     "text": [
      "│   │   │   │       │   │       └── booktheme.po\n"
     ]
    },
    {
     "name": "stdout",
     "output_type": "stream",
     "text": [
      "│   │   │   │       │   ├── ro\n"
     ]
    },
    {
     "name": "stdout",
     "output_type": "stream",
     "text": [
      "│   │   │   │       │   │   └── LC_MESSAGES\n"
     ]
    },
    {
     "name": "stdout",
     "output_type": "stream",
     "text": [
      "│   │   │   │       │   │       └── booktheme.po\n"
     ]
    },
    {
     "name": "stdout",
     "output_type": "stream",
     "text": [
      "│   │   │   │       │   ├── ru\n"
     ]
    },
    {
     "name": "stdout",
     "output_type": "stream",
     "text": [
      "│   │   │   │       │   │   └── LC_MESSAGES\n"
     ]
    },
    {
     "name": "stdout",
     "output_type": "stream",
     "text": [
      "│   │   │   │       │   │       └── booktheme.po\n"
     ]
    },
    {
     "name": "stdout",
     "output_type": "stream",
     "text": [
      "│   │   │   │       │   ├── sk\n"
     ]
    },
    {
     "name": "stdout",
     "output_type": "stream",
     "text": [
      "│   │   │   │       │   │   └── LC_MESSAGES\n"
     ]
    },
    {
     "name": "stdout",
     "output_type": "stream",
     "text": [
      "│   │   │   │       │   │       └── booktheme.po\n"
     ]
    },
    {
     "name": "stdout",
     "output_type": "stream",
     "text": [
      "│   │   │   │       │   ├── sl\n"
     ]
    },
    {
     "name": "stdout",
     "output_type": "stream",
     "text": [
      "│   │   │   │       │   │   └── LC_MESSAGES\n"
     ]
    },
    {
     "name": "stdout",
     "output_type": "stream",
     "text": [
      "│   │   │   │       │   │       └── booktheme.po\n"
     ]
    },
    {
     "name": "stdout",
     "output_type": "stream",
     "text": [
      "│   │   │   │       │   ├── sr\n"
     ]
    },
    {
     "name": "stdout",
     "output_type": "stream",
     "text": [
      "│   │   │   │       │   │   └── LC_MESSAGES\n"
     ]
    },
    {
     "name": "stdout",
     "output_type": "stream",
     "text": [
      "│   │   │   │       │   │       └── booktheme.po\n"
     ]
    },
    {
     "name": "stdout",
     "output_type": "stream",
     "text": [
      "│   │   │   │       │   ├── sv\n"
     ]
    },
    {
     "name": "stdout",
     "output_type": "stream",
     "text": [
      "│   │   │   │       │   │   └── LC_MESSAGES\n"
     ]
    },
    {
     "name": "stdout",
     "output_type": "stream",
     "text": [
      "│   │   │   │       │   │       └── booktheme.po\n"
     ]
    },
    {
     "name": "stdout",
     "output_type": "stream",
     "text": [
      "│   │   │   │       │   ├── ta\n"
     ]
    },
    {
     "name": "stdout",
     "output_type": "stream",
     "text": [
      "│   │   │   │       │   │   └── LC_MESSAGES\n"
     ]
    },
    {
     "name": "stdout",
     "output_type": "stream",
     "text": [
      "│   │   │   │       │   │       └── booktheme.po\n"
     ]
    },
    {
     "name": "stdout",
     "output_type": "stream",
     "text": [
      "│   │   │   │       │   ├── te\n"
     ]
    },
    {
     "name": "stdout",
     "output_type": "stream",
     "text": [
      "│   │   │   │       │   │   └── LC_MESSAGES\n"
     ]
    },
    {
     "name": "stdout",
     "output_type": "stream",
     "text": [
      "│   │   │   │       │   │       └── booktheme.po\n"
     ]
    },
    {
     "name": "stdout",
     "output_type": "stream",
     "text": [
      "│   │   │   │       │   ├── tg\n"
     ]
    },
    {
     "name": "stdout",
     "output_type": "stream",
     "text": [
      "│   │   │   │       │   │   └── LC_MESSAGES\n"
     ]
    },
    {
     "name": "stdout",
     "output_type": "stream",
     "text": [
      "│   │   │   │       │   │       └── booktheme.po\n"
     ]
    },
    {
     "name": "stdout",
     "output_type": "stream",
     "text": [
      "│   │   │   │       │   ├── th\n"
     ]
    },
    {
     "name": "stdout",
     "output_type": "stream",
     "text": [
      "│   │   │   │       │   │   └── LC_MESSAGES\n"
     ]
    },
    {
     "name": "stdout",
     "output_type": "stream",
     "text": [
      "│   │   │   │       │   │       └── booktheme.po\n"
     ]
    },
    {
     "name": "stdout",
     "output_type": "stream",
     "text": [
      "│   │   │   │       │   ├── tl\n"
     ]
    },
    {
     "name": "stdout",
     "output_type": "stream",
     "text": [
      "│   │   │   │       │   │   └── LC_MESSAGES\n"
     ]
    },
    {
     "name": "stdout",
     "output_type": "stream",
     "text": [
      "│   │   │   │       │   │       └── booktheme.po\n"
     ]
    },
    {
     "name": "stdout",
     "output_type": "stream",
     "text": [
      "│   │   │   │       │   ├── tr\n"
     ]
    },
    {
     "name": "stdout",
     "output_type": "stream",
     "text": [
      "│   │   │   │       │   │   └── LC_MESSAGES\n"
     ]
    },
    {
     "name": "stdout",
     "output_type": "stream",
     "text": [
      "│   │   │   │       │   │       └── booktheme.po\n"
     ]
    },
    {
     "name": "stdout",
     "output_type": "stream",
     "text": [
      "│   │   │   │       │   ├── uk\n"
     ]
    },
    {
     "name": "stdout",
     "output_type": "stream",
     "text": [
      "│   │   │   │       │   │   └── LC_MESSAGES\n"
     ]
    },
    {
     "name": "stdout",
     "output_type": "stream",
     "text": [
      "│   │   │   │       │   │       └── booktheme.po\n"
     ]
    },
    {
     "name": "stdout",
     "output_type": "stream",
     "text": [
      "│   │   │   │       │   ├── ur\n"
     ]
    },
    {
     "name": "stdout",
     "output_type": "stream",
     "text": [
      "│   │   │   │       │   │   └── LC_MESSAGES\n"
     ]
    },
    {
     "name": "stdout",
     "output_type": "stream",
     "text": [
      "│   │   │   │       │   │       └── booktheme.po\n"
     ]
    },
    {
     "name": "stdout",
     "output_type": "stream",
     "text": [
      "│   │   │   │       │   ├── vi\n"
     ]
    },
    {
     "name": "stdout",
     "output_type": "stream",
     "text": [
      "│   │   │   │       │   │   └── LC_MESSAGES\n"
     ]
    },
    {
     "name": "stdout",
     "output_type": "stream",
     "text": [
      "│   │   │   │       │   │       └── booktheme.po\n"
     ]
    },
    {
     "name": "stdout",
     "output_type": "stream",
     "text": [
      "│   │   │   │       │   ├── zh_CN\n"
     ]
    },
    {
     "name": "stdout",
     "output_type": "stream",
     "text": [
      "│   │   │   │       │   │   └── LC_MESSAGES\n"
     ]
    },
    {
     "name": "stdout",
     "output_type": "stream",
     "text": [
      "│   │   │   │       │   │       └── booktheme.po\n"
     ]
    },
    {
     "name": "stdout",
     "output_type": "stream",
     "text": [
      "│   │   │   │       │   └── zh_TW\n"
     ]
    },
    {
     "name": "stdout",
     "output_type": "stream",
     "text": [
      "│   │   │   │       │       └── LC_MESSAGES\n"
     ]
    },
    {
     "name": "stdout",
     "output_type": "stream",
     "text": [
      "│   │   │   │       │           └── booktheme.po\n"
     ]
    },
    {
     "name": "stdout",
     "output_type": "stream",
     "text": [
      "│   │   │   │       ├── logo.png\n"
     ]
    },
    {
     "name": "stdout",
     "output_type": "stream",
     "text": [
      "│   │   │   │       ├── minus.png\n"
     ]
    },
    {
     "name": "stdout",
     "output_type": "stream",
     "text": [
      "│   │   │   │       ├── mystnb.css\n"
     ]
    },
    {
     "name": "stdout",
     "output_type": "stream",
     "text": [
      "│   │   │   │       ├── plus.png\n"
     ]
    },
    {
     "name": "stdout",
     "output_type": "stream",
     "text": [
      "│   │   │   │       ├── pygments.css\n"
     ]
    },
    {
     "name": "stdout",
     "output_type": "stream",
     "text": [
      "│   │   │   │       ├── sbt-webpack-macros.html\n"
     ]
    },
    {
     "name": "stdout",
     "output_type": "stream",
     "text": [
      "│   │   │   │       ├── scripts\n"
     ]
    },
    {
     "name": "stdout",
     "output_type": "stream",
     "text": [
      "│   │   │   │       │   ├── pydata-sphinx-theme.js\n"
     ]
    },
    {
     "name": "stdout",
     "output_type": "stream",
     "text": [
      "│   │   │   │       │   ├── sphinx-book-theme.js\n"
     ]
    },
    {
     "name": "stdout",
     "output_type": "stream",
     "text": [
      "│   │   │   │       │   └── sphinx-book-theme.js.map\n"
     ]
    },
    {
     "name": "stdout",
     "output_type": "stream",
     "text": [
      "│   │   │   │       ├── searchtools.js\n"
     ]
    },
    {
     "name": "stdout",
     "output_type": "stream",
     "text": [
      "│   │   │   │       ├── sphinx-thebe.css\n"
     ]
    },
    {
     "name": "stdout",
     "output_type": "stream",
     "text": [
      "│   │   │   │       ├── sphinx-thebe.js\n"
     ]
    },
    {
     "name": "stdout",
     "output_type": "stream",
     "text": [
      "│   │   │   │       ├── styles\n"
     ]
    },
    {
     "name": "stdout",
     "output_type": "stream",
     "text": [
      "│   │   │   │       │   ├── pydata-sphinx-theme.css\n"
     ]
    },
    {
     "name": "stdout",
     "output_type": "stream",
     "text": [
      "│   │   │   │       │   ├── sphinx-book-theme.css\n"
     ]
    },
    {
     "name": "stdout",
     "output_type": "stream",
     "text": [
      "│   │   │   │       │   └── theme.css\n"
     ]
    },
    {
     "name": "stdout",
     "output_type": "stream",
     "text": [
      "│   │   │   │       ├── togglebutton.css\n"
     ]
    },
    {
     "name": "stdout",
     "output_type": "stream",
     "text": [
      "│   │   │   │       ├── togglebutton.js\n"
     ]
    },
    {
     "name": "stdout",
     "output_type": "stream",
     "text": [
      "│   │   │   │       ├── underscore-1.13.1.js\n"
     ]
    },
    {
     "name": "stdout",
     "output_type": "stream",
     "text": [
      "│   │   │   │       ├── underscore.js\n"
     ]
    },
    {
     "name": "stdout",
     "output_type": "stream",
     "text": [
      "│   │   │   │       ├── vendor\n"
     ]
    },
    {
     "name": "stdout",
     "output_type": "stream",
     "text": [
      "│   │   │   │       │   └── fontawesome\n"
     ]
    },
    {
     "name": "stdout",
     "output_type": "stream",
     "text": [
      "│   │   │   │       │       └── 5.13.0\n"
     ]
    },
    {
     "name": "stdout",
     "output_type": "stream",
     "text": [
      "│   │   │   │       │           ├── css\n"
     ]
    },
    {
     "name": "stdout",
     "output_type": "stream",
     "text": [
      "│   │   │   │       │           │   └── all.min.css\n"
     ]
    },
    {
     "name": "stdout",
     "output_type": "stream",
     "text": [
      "│   │   │   │       │           ├── LICENSE.txt\n"
     ]
    },
    {
     "name": "stdout",
     "output_type": "stream",
     "text": [
      "│   │   │   │       │           └── webfonts\n"
     ]
    },
    {
     "name": "stdout",
     "output_type": "stream",
     "text": [
      "│   │   │   │       │               ├── fa-brands-400.eot\n"
     ]
    },
    {
     "name": "stdout",
     "output_type": "stream",
     "text": [
      "│   │   │   │       │               ├── fa-brands-400.svg\n"
     ]
    },
    {
     "name": "stdout",
     "output_type": "stream",
     "text": [
      "│   │   │   │       │               ├── fa-brands-400.ttf\n"
     ]
    },
    {
     "name": "stdout",
     "output_type": "stream",
     "text": [
      "│   │   │   │       │               ├── fa-brands-400.woff\n"
     ]
    },
    {
     "name": "stdout",
     "output_type": "stream",
     "text": [
      "│   │   │   │       │               ├── fa-brands-400.woff2\n"
     ]
    },
    {
     "name": "stdout",
     "output_type": "stream",
     "text": [
      "│   │   │   │       │               ├── fa-regular-400.eot\n"
     ]
    },
    {
     "name": "stdout",
     "output_type": "stream",
     "text": [
      "│   │   │   │       │               ├── fa-regular-400.svg\n"
     ]
    },
    {
     "name": "stdout",
     "output_type": "stream",
     "text": [
      "│   │   │   │       │               ├── fa-regular-400.ttf\n"
     ]
    },
    {
     "name": "stdout",
     "output_type": "stream",
     "text": [
      "│   │   │   │       │               ├── fa-regular-400.woff\n"
     ]
    },
    {
     "name": "stdout",
     "output_type": "stream",
     "text": [
      "│   │   │   │       │               ├── fa-regular-400.woff2\n"
     ]
    },
    {
     "name": "stdout",
     "output_type": "stream",
     "text": [
      "│   │   │   │       │               ├── fa-solid-900.eot\n"
     ]
    },
    {
     "name": "stdout",
     "output_type": "stream",
     "text": [
      "│   │   │   │       │               ├── fa-solid-900.svg\n"
     ]
    },
    {
     "name": "stdout",
     "output_type": "stream",
     "text": [
      "│   │   │   │       │               ├── fa-solid-900.ttf\n"
     ]
    },
    {
     "name": "stdout",
     "output_type": "stream",
     "text": [
      "│   │   │   │       │               ├── fa-solid-900.woff\n"
     ]
    },
    {
     "name": "stdout",
     "output_type": "stream",
     "text": [
      "│   │   │   │       │               └── fa-solid-900.woff2\n"
     ]
    },
    {
     "name": "stdout",
     "output_type": "stream",
     "text": [
      "│   │   │   │       └── webpack-macros.html\n"
     ]
    },
    {
     "name": "stdout",
     "output_type": "stream",
     "text": [
      "│   │   │   └── jupyter_execute\n"
     ]
    },
    {
     "name": "stdout",
     "output_type": "stream",
     "text": [
      "│   │   │       ├── 02_introduction.ipynb\n"
     ]
    },
    {
     "name": "stdout",
     "output_type": "stream",
     "text": [
      "│   │   │       ├── 02_introduction.sh\n"
     ]
    },
    {
     "name": "stdout",
     "output_type": "stream",
     "text": [
      "│   │   │       ├── 05_module.ipynb\n"
     ]
    },
    {
     "name": "stdout",
     "output_type": "stream",
     "text": [
      "│   │   │       ├── 05_module.sh\n"
     ]
    },
    {
     "name": "stdout",
     "output_type": "stream",
     "text": [
      "│   │   │       ├── 06_protoCommande.ipynb\n"
     ]
    },
    {
     "name": "stdout",
     "output_type": "stream",
     "text": [
      "│   │   │       ├── 06_protoCommande.sh\n"
     ]
    },
    {
     "name": "stdout",
     "output_type": "stream",
     "text": [
      "│   │   │       ├── 07_arborescence.ipynb\n"
     ]
    },
    {
     "name": "stdout",
     "output_type": "stream",
     "text": [
      "│   │   │       ├── 07_arborescence.sh\n"
     ]
    },
    {
     "name": "stdout",
     "output_type": "stream",
     "text": [
      "│   │   │       ├── 08_storage.ipynb\n"
     ]
    },
    {
     "name": "stdout",
     "output_type": "stream",
     "text": [
      "│   │   │       ├── 08_storage.sh\n"
     ]
    },
    {
     "name": "stdout",
     "output_type": "stream",
     "text": [
      "│   │   │       ├── 09_manipulate.ipynb\n"
     ]
    },
    {
     "name": "stdout",
     "output_type": "stream",
     "text": [
      "│   │   │       ├── 09_manipulate.sh\n"
     ]
    },
    {
     "name": "stdout",
     "output_type": "stream",
     "text": [
      "│   │   │       ├── 10_redirection.ipynb\n"
     ]
    },
    {
     "name": "stdout",
     "output_type": "stream",
     "text": [
      "│   │   │       ├── 10_redirection.sh\n"
     ]
    },
    {
     "name": "stdout",
     "output_type": "stream",
     "text": [
      "│   │   │       ├── 11_linuxIsMore.ipynb\n"
     ]
    },
    {
     "name": "stdout",
     "output_type": "stream",
     "text": [
      "│   │   │       ├── 11_linuxIsMore.sh\n"
     ]
    },
    {
     "name": "stdout",
     "output_type": "stream",
     "text": [
      "│   │   │       ├── markdown-notebooks.ipynb\n"
     ]
    },
    {
     "name": "stdout",
     "output_type": "stream",
     "text": [
      "│   │   │       └── markdown-notebooks.py\n"
     ]
    },
    {
     "name": "stdout",
     "output_type": "stream",
     "text": [
      "│   │   ├── _config.yml\n"
     ]
    },
    {
     "name": "stdout",
     "output_type": "stream",
     "text": [
      "│   │   ├── images\n"
     ]
    },
    {
     "name": "stdout",
     "output_type": "stream",
     "text": [
      "│   │   │   ├── arborescence2.png\n"
     ]
    },
    {
     "name": "stdout",
     "output_type": "stream",
     "text": [
      "│   │   │   ├── arborescence3.png\n"
     ]
    },
    {
     "name": "stdout",
     "output_type": "stream",
     "text": [
      "│   │   │   ├── arborescence4.png\n"
     ]
    },
    {
     "name": "stdout",
     "output_type": "stream",
     "text": [
      "│   │   │   ├── arborescence.png\n"
     ]
    },
    {
     "name": "stdout",
     "output_type": "stream",
     "text": [
      "│   │   │   ├── archiCluster.png\n"
     ]
    },
    {
     "name": "stdout",
     "output_type": "stream",
     "text": [
      "│   │   │   ├── BED.png\n"
     ]
    },
    {
     "name": "stdout",
     "output_type": "stream",
     "text": [
      "│   │   │   ├── ebaii_4lignesFastq.png\n"
     ]
    },
    {
     "name": "stdout",
     "output_type": "stream",
     "text": [
      "│   │   │   ├── ebaii_acces_html.png\n"
     ]
    },
    {
     "name": "stdout",
     "output_type": "stream",
     "text": [
      "│   │   │   ├── ebaii_accesJupyter.png\n"
     ]
    },
    {
     "name": "stdout",
     "output_type": "stream",
     "text": [
      "│   │   │   ├── ebaii_Ascii_sanger.png\n"
     ]
    },
    {
     "name": "stdout",
     "output_type": "stream",
     "text": [
      "│   │   │   ├── ebaii_cigarEx.png\n"
     ]
    },
    {
     "name": "stdout",
     "output_type": "stream",
     "text": [
      "│   │   │   ├── ebaii_cyberduck1.png\n"
     ]
    },
    {
     "name": "stdout",
     "output_type": "stream",
     "text": [
      "│   │   │   ├── ebaii_cyberduck2.png\n"
     ]
    },
    {
     "name": "stdout",
     "output_type": "stream",
     "text": [
      "│   │   │   ├── ebaii_cyberduck3.png\n"
     ]
    },
    {
     "name": "stdout",
     "output_type": "stream",
     "text": [
      "│   │   │   ├── ebaii_cyberduck4.png\n"
     ]
    },
    {
     "name": "stdout",
     "output_type": "stream",
     "text": [
      "│   │   │   ├── ebaii_cyberduck5.png\n"
     ]
    },
    {
     "name": "stdout",
     "output_type": "stream",
     "text": [
      "│   │   │   ├── ebaii_fastqc_adaptor_litle.png\n"
     ]
    },
    {
     "name": "stdout",
     "output_type": "stream",
     "text": [
      "│   │   │   ├── ebaii_fastqc_adaptor_ok.png\n"
     ]
    },
    {
     "name": "stdout",
     "output_type": "stream",
     "text": [
      "│   │   │   ├── ebaii_fastqc_duplicSeq_ok.png\n"
     ]
    },
    {
     "name": "stdout",
     "output_type": "stream",
     "text": [
      "│   │   │   ├── ebaii_fastqc_duplicSeq_RNA.png\n"
     ]
    },
    {
     "name": "stdout",
     "output_type": "stream",
     "text": [
      "│   │   │   ├── ebaii_fastqc_overSeq_polyA.png\n"
     ]
    },
    {
     "name": "stdout",
     "output_type": "stream",
     "text": [
      "│   │   │   ├── ebaii_fastqc_pbNc_no.png\n"
     ]
    },
    {
     "name": "stdout",
     "output_type": "stream",
     "text": [
      "│   │   │   ├── ebaii_fastqc_pbNc_ok.png\n"
     ]
    },
    {
     "name": "stdout",
     "output_type": "stream",
     "text": [
      "│   │   │   ├── ebaii_fastqc_pbsc_no.png\n"
     ]
    },
    {
     "name": "stdout",
     "output_type": "stream",
     "text": [
      "│   │   │   ├── ebaii_fastqc_pbsc_ok.png\n"
     ]
    },
    {
     "name": "stdout",
     "output_type": "stream",
     "text": [
      "│   │   │   ├── ebaii_fastqc_pbsq_no.png\n"
     ]
    },
    {
     "name": "stdout",
     "output_type": "stream",
     "text": [
      "│   │   │   ├── ebaii_fastqc_pbsq_ok.png\n"
     ]
    },
    {
     "name": "stdout",
     "output_type": "stream",
     "text": [
      "│   │   │   ├── ebaii_fastqc_psGCc_no.png\n"
     ]
    },
    {
     "name": "stdout",
     "output_type": "stream",
     "text": [
      "│   │   │   ├── ebaii_fastqc_psGCc_ok.png\n"
     ]
    },
    {
     "name": "stdout",
     "output_type": "stream",
     "text": [
      "│   │   │   ├── ebaii_fastqc_psqs_no.png\n"
     ]
    },
    {
     "name": "stdout",
     "output_type": "stream",
     "text": [
      "│   │   │   ├── ebaii_fastqc_psqs_ok.png\n"
     ]
    },
    {
     "name": "stdout",
     "output_type": "stream",
     "text": [
      "│   │   │   ├── ebaii_fastqc_ptsq_no.png\n"
     ]
    },
    {
     "name": "stdout",
     "output_type": "stream",
     "text": [
      "│   │   │   ├── ebaii_fastqc_ptsq_ok.png\n"
     ]
    },
    {
     "name": "stdout",
     "output_type": "stream",
     "text": [
      "│   │   │   ├── ebaii_fastqc_stat.png\n"
     ]
    },
    {
     "name": "stdout",
     "output_type": "stream",
     "text": [
      "│   │   │   ├── ebaii_fastqc_tricolore.png\n"
     ]
    },
    {
     "name": "stdout",
     "output_type": "stream",
     "text": [
      "│   │   │   ├── ebaii_GATA2publi.png\n"
     ]
    },
    {
     "name": "stdout",
     "output_type": "stream",
     "text": [
      "│   │   │   ├── ebaii_jupyterAcces.png\n"
     ]
    },
    {
     "name": "stdout",
     "output_type": "stream",
     "text": [
      "│   │   │   ├── ebaii_jupyterStop.png\n"
     ]
    },
    {
     "name": "stdout",
     "output_type": "stream",
     "text": [
      "│   │   │   ├── ebaii_mapping.png\n"
     ]
    },
    {
     "name": "stdout",
     "output_type": "stream",
     "text": [
      "│   │   │   ├── ebaii_mapping_positions.png\n"
     ]
    },
    {
     "name": "stdout",
     "output_type": "stream",
     "text": [
      "│   │   │   ├── ebaii_mapping_quality.png\n"
     ]
    },
    {
     "name": "stdout",
     "output_type": "stream",
     "text": [
      "│   │   │   ├── ebaii_mapping_readSeed.png\n"
     ]
    },
    {
     "name": "stdout",
     "output_type": "stream",
     "text": [
      "│   │   │   ├── ebaii_mapping_uniqMultiMap.png\n"
     ]
    },
    {
     "name": "stdout",
     "output_type": "stream",
     "text": [
      "│   │   │   ├── ebaii_MAPQ.png\n"
     ]
    },
    {
     "name": "stdout",
     "output_type": "stream",
     "text": [
      "│   │   │   ├── ebaii_protocole_Chipseq.png\n"
     ]
    },
    {
     "name": "stdout",
     "output_type": "stream",
     "text": [
      "│   │   │   ├── ebaii_SangerScore.png\n"
     ]
    },
    {
     "name": "stdout",
     "output_type": "stream",
     "text": [
      "│   │   │   ├── ebaii_sickle_slidingWindow.png\n"
     ]
    },
    {
     "name": "stdout",
     "output_type": "stream",
     "text": [
      "│   │   │   ├── ebaii_trimmingPackman.png\n"
     ]
    },
    {
     "name": "stdout",
     "output_type": "stream",
     "text": [
      "│   │   │   ├── JupyterConnect.png\n"
     ]
    },
    {
     "name": "stdout",
     "output_type": "stream",
     "text": [
      "│   │   │   ├── JupyterConnexion.gif\n"
     ]
    },
    {
     "name": "stdout",
     "output_type": "stream",
     "text": [
      "│   │   │   ├── jupyterHub.png\n"
     ]
    },
    {
     "name": "stdout",
     "output_type": "stream",
     "text": [
      "│   │   │   ├── JupyterProfile.png\n"
     ]
    },
    {
     "name": "stdout",
     "output_type": "stream",
     "text": [
      "│   │   │   ├── mobaXterm2.png\n"
     ]
    },
    {
     "name": "stdout",
     "output_type": "stream",
     "text": [
      "│   │   │   ├── mobaXterm.png\n"
     ]
    },
    {
     "name": "stdout",
     "output_type": "stream",
     "text": [
      "│   │   │   ├── prompt.png\n"
     ]
    },
    {
     "name": "stdout",
     "output_type": "stream",
     "text": [
      "│   │   │   ├── redirection.png\n"
     ]
    },
    {
     "name": "stdout",
     "output_type": "stream",
     "text": [
      "│   │   │   ├── Roscoff.jpeg\n"
     ]
    },
    {
     "name": "stdout",
     "output_type": "stream",
     "text": [
      "│   │   │   └── tabTab.gif\n"
     ]
    },
    {
     "name": "stdout",
     "output_type": "stream",
     "text": [
      "│   │   ├── logo.png\n"
     ]
    },
    {
     "name": "stdout",
     "output_type": "stream",
     "text": [
      "│   │   ├── markdown-notebooks.md\n"
     ]
    },
    {
     "name": "stdout",
     "output_type": "stream",
     "text": [
      "│   │   ├── references.bib\n"
     ]
    },
    {
     "name": "stdout",
     "output_type": "stream",
     "text": [
      "│   │   ├── requirements.txt\n"
     ]
    },
    {
     "name": "stdout",
     "output_type": "stream",
     "text": [
      "│   │   └── _toc.yml\n"
     ]
    },
    {
     "name": "stdout",
     "output_type": "stream",
     "text": [
      "│   └── LICENSE\n"
     ]
    },
    {
     "name": "stdout",
     "output_type": "stream",
     "text": [
      "└── rna-seq\n"
     ]
    },
    {
     "name": "stdout",
     "output_type": "stream",
     "text": [
      "    └── output\n"
     ]
    },
    {
     "name": "stdout",
     "output_type": "stream",
     "text": [
      "        └── bam\n"
     ]
    },
    {
     "name": "stdout",
     "output_type": "stream",
     "text": [
      "\n"
     ]
    },
    {
     "name": "stdout",
     "output_type": "stream",
     "text": [
      "117 directories, 310 files\n"
     ]
    }
   ],
   "source": [
    "tree"
   ]
  },
  {
   "cell_type": "markdown",
   "id": "dcbed231-9f5f-4998-afe2-d44f51ca1c52",
   "metadata": {
    "tags": []
   },
   "source": [
    "## Exercices\n",
    "\n",
    "1. **Déplacez-vous dans votre dossier projet**\n",
    "2. Créez un répertoire **annotations dans votre dossier projet**\n",
    "3. **Déplacez-vous dans le dossier annotations**\n",
    "4. **Dans ce dossier créez un dossier hg38 et son sous-dossier gff (hg38/gff)**\n",
    "5. Déplacez-vous dans le répertoire **hg38/gff**\n",
    "6. Déplacez-vous dans annotations.\n",
    "7. Créez un sous-dossier **mm10** et son sous-dossier gff (**mm10/gff**)\n",
    "8. Déplacez-vous dans **mm10/gff**\n",
    "9. Depuis ce dossier listez le contenu du dossier **hg38**\n",
    "\n",
    "### Solutions"
   ]
  },
  {
   "cell_type": "code",
   "execution_count": 12,
   "id": "e844248f-7810-41a9-88e9-c8913f3555ab",
   "metadata": {},
   "outputs": [],
   "source": [
    "# remplacer <project> \n",
    "# cd /shared/projects/<project>/\n",
    "cd /shared/projects/form_2022_32/coursLinux/"
   ]
  },
  {
   "cell_type": "code",
   "execution_count": 13,
   "id": "48fbd798-bd28-497a-b3c4-4babd1f3515d",
   "metadata": {},
   "outputs": [],
   "source": [
    "# On crée le dossier\n",
    "mkdir annotations"
   ]
  },
  {
   "cell_type": "code",
   "execution_count": 14,
   "id": "03eb7a9e-fa96-41c8-a4fd-79f7e7a1d40b",
   "metadata": {},
   "outputs": [],
   "source": [
    "# On se déplace\n",
    "cd annotations"
   ]
  },
  {
   "cell_type": "code",
   "execution_count": 15,
   "id": "91ebd367-69d4-4b9f-b099-60826de52e9e",
   "metadata": {},
   "outputs": [
    {
     "name": "stdout",
     "output_type": "stream",
     "text": [
      "/shared/projects/form_2022_32/coursLinux/annotations\n"
     ]
    }
   ],
   "source": [
    "# Où sommes nous ?\n",
    "pwd"
   ]
  },
  {
   "cell_type": "code",
   "execution_count": 16,
   "id": "4b00698a-e112-4e05-898d-12ceea15ce01",
   "metadata": {},
   "outputs": [],
   "source": [
    "# On crée le dossier gff dans hg38\n",
    "mkdir -p hg38/gff"
   ]
  },
  {
   "cell_type": "code",
   "execution_count": 17,
   "id": "17fa93c9-0ef4-457c-868e-940421f3674c",
   "metadata": {},
   "outputs": [],
   "source": [
    "# On se déplace\n",
    "cd hg38/gff"
   ]
  },
  {
   "cell_type": "code",
   "execution_count": 18,
   "id": "e0867af1-1857-4d6e-bf20-7286e77080bf",
   "metadata": {},
   "outputs": [],
   "source": [
    "# On se déplace dans annotations\n",
    "cd ../.."
   ]
  },
  {
   "cell_type": "code",
   "execution_count": 19,
   "id": "64754bf0-0b2e-4928-8a79-c2a1853f46f4",
   "metadata": {},
   "outputs": [],
   "source": [
    "# On crée le dossier gff dans mm10\n",
    "mkdir -p mm10/gff"
   ]
  },
  {
   "cell_type": "code",
   "execution_count": 20,
   "id": "b25206d5-f8f7-44d4-9288-ce8601f3b5b1",
   "metadata": {},
   "outputs": [],
   "source": [
    "cd mm10/gff"
   ]
  },
  {
   "cell_type": "code",
   "execution_count": 21,
   "id": "6cb3f516-4ec7-4b67-86c2-78cd053107aa",
   "metadata": {},
   "outputs": [
    {
     "name": "stdout",
     "output_type": "stream",
     "text": [
      "\u001b[0m\u001b[38;5;27mgff\u001b[0m\n"
     ]
    }
   ],
   "source": [
    "# On voit un dossier gff\n",
    "ls ../../hg38"
   ]
  }
 ],
 "metadata": {
  "kernelspec": {
   "display_name": "Bash",
   "language": "bash",
   "name": "bash"
  },
  "language_info": {
   "codemirror_mode": "shell",
   "file_extension": ".sh",
   "mimetype": "text/x-sh",
   "name": "bash"
  }
 },
 "nbformat": 4,
 "nbformat_minor": 5
}