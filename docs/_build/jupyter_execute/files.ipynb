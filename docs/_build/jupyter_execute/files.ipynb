{
 "cells": [
  {
   "cell_type": "markdown",
   "id": "71f1135d-0dcd-4004-a0f7-2b3fbae93207",
   "metadata": {},
   "source": [
    "# Stockage et manipulation de fichiers\n",
    "\n",
    "## Où stocker vos fichiers/dossiers ?\n",
    "\n",
    "Varie selon les plateformes. Se renseigner !\n",
    "\n",
    "**A l'IFB**\n",
    "\n",
    "❌\n",
    "Votre “maison”: ~ (e.g. /shared/home/cnorris)\n",
    "- Ce dossier est très limité en stockage\n",
    "- Pour les fichiers et dossiers **très peu volumineux**\n",
    "- **Pas pour faire des analyses**\n",
    "- Utiliser la commande cd (sans argument) pour vous rendre dans ce dossier\n",
    "- Le chemin vers le dossier home est symbolisé par ~\n",
    "- Quota de **5Go**\n",
    "\n",
    "\n",
    "✅\n",
    "Votre dossier projet (e.g /shared/projects/<project>)\n",
    "- **C’est le dossier dans lequel vous devez téléverser* vos données**\n",
    "- **C’est LE dossier pour lancer vos analyses …**\n",
    "\n",
    "_* Vous pouvez aussi dire ‘uploader’ :)_\n",
    "    \n",
    "## Créer des répertoires\n",
    "\n",
    "On utilisera la commande `mkdir` (**m**a**k**e **dir**ectory)."
   ]
  },
  {
   "cell_type": "code",
   "execution_count": 1,
   "id": "f1bb4a2f-e348-4e55-b8d5-934bec0feaf9",
   "metadata": {},
   "outputs": [],
   "source": [
    "# remplacer <project>\n",
    "# cd /shared/projects/<project>/\n",
    "cd /shared/projects/form_2022_32/coursLinux/"
   ]
  },
  {
   "cell_type": "code",
   "execution_count": 2,
   "id": "14983167-03a1-4cbf-a9f7-82b75b6a61b2",
   "metadata": {},
   "outputs": [
    {
     "name": "stdout",
     "output_type": "stream",
     "text": [
      "mkdir: impossible de créer le répertoire « chip-seq »: Le fichier existe\n"
     ]
    },
    {
     "ename": "",
     "evalue": "1",
     "output_type": "error",
     "traceback": []
    }
   ],
   "source": [
    "# On crée le dossier\n",
    "mkdir chip-seq"
   ]
  },
  {
   "cell_type": "code",
   "execution_count": null,
   "id": "218f9aac-1d20-4216-8df3-e13ddfef0e6f",
   "metadata": {},
   "outputs": [],
   "source": [
    "# Vérifier la création du dossier\n",
    "ls -l"
   ]
  },
  {
   "cell_type": "markdown",
   "id": "1462da45-15e6-409b-8892-b425d8c97f94",
   "metadata": {},
   "source": [
    "````{margin} Sur le ./\n",
    "L'utilisation de ./ est souvent facultative.\n",
    "````"
   ]
  },
  {
   "cell_type": "code",
   "execution_count": null,
   "id": "1b2031e4-531b-4cac-807e-7aba9cca8daf",
   "metadata": {},
   "outputs": [],
   "source": [
    "# Equivalent de cd ./chip-seq\n",
    "cd chip-seq"
   ]
  },
  {
   "cell_type": "code",
   "execution_count": null,
   "id": "c22e4433-e1af-44ca-8f0a-176ede036611",
   "metadata": {},
   "outputs": [],
   "source": [
    "# On crée deux dossiers d'un coup\n",
    "mkdir bam fastq\t "
   ]
  },
  {
   "cell_type": "code",
   "execution_count": null,
   "id": "0d81b1fd-dc47-45e6-a4d8-8d4d91c215a1",
   "metadata": {},
   "outputs": [],
   "source": [
    "# On a bien deux dossiers\n",
    "ls -l"
   ]
  },
  {
   "cell_type": "code",
   "execution_count": null,
   "id": "55a15440-82ea-42ac-a0cf-0cc3c4039991",
   "metadata": {},
   "outputs": [],
   "source": [
    "# On se déplace dans fastq\n",
    "cd fastq"
   ]
  },
  {
   "cell_type": "code",
   "execution_count": null,
   "id": "caead73b-a981-4369-91e3-f3fa471907ec",
   "metadata": {},
   "outputs": [],
   "source": [
    "# On remonte de deux niveaux\n",
    "cd ../.."
   ]
  },
  {
   "cell_type": "code",
   "execution_count": null,
   "id": "c0882cb8-c57d-400f-92b7-9eb914cc76d9",
   "metadata": {},
   "outputs": [],
   "source": [
    "# On créé un chemin vers un dossier ‘bam’\n",
    "mkdir -p rna-seq/output/bam"
   ]
  },
  {
   "cell_type": "code",
   "execution_count": null,
   "id": "3eb0d19f-d2f7-4899-809e-78b9c2612fb3",
   "metadata": {},
   "outputs": [],
   "source": [
    "# On liste Récursivement les dossiers\n",
    "ls -R"
   ]
  },
  {
   "cell_type": "code",
   "execution_count": null,
   "id": "f0530cd4-b45a-466f-9190-384171e4eaf0",
   "metadata": {},
   "outputs": [],
   "source": [
    "tree"
   ]
  },
  {
   "cell_type": "markdown",
   "id": "dcbed231-9f5f-4998-afe2-d44f51ca1c52",
   "metadata": {},
   "source": [
    "## Exercices\n",
    "\n",
    "1. **Déplacez-vous dans votre dossier projet**\n",
    "2. Créez un répertoire **annotations dans votre dossier projet**\n",
    "3. **Déplacez-vous dans le dossier annotations**\n",
    "4. **Dans ce dossier créez un dossier hg38 et son sous-dossier gff (hg38/gff)**\n",
    "5. Déplacez-vous dans le répertoire **hg38/gff**\n",
    "6. Déplacez-vous dans annotations.\n",
    "7. Créez un sous-dossier **mm10** et son sous-dossier gff (**mm10/gff**)\n",
    "8. Déplacez-vous dans **mm10/gff**\n",
    "9. Depuis ce dossier listez le contenu du dossier **hg38**\n",
    "\n",
    "\n",
    "````{tab-set}\n",
    "```{tab-item} Tab 1 title\n",
    "My first tab\n",
    "```\n",
    "\n",
    "```{tab-item} Tab 2 title\n",
    "My second tab with `some code`!\n",
    "```\n",
    "````"
   ]
  }
 ],
 "metadata": {
  "kernelspec": {
   "display_name": "Bash",
   "language": "bash",
   "name": "bash"
  },
  "language_info": {
   "codemirror_mode": "shell",
   "file_extension": ".sh",
   "mimetype": "text/x-sh",
   "name": "bash"
  }
 },
 "nbformat": 4,
 "nbformat_minor": 5
}