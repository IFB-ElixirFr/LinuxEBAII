{
 "cells": [
  {
   "cell_type": "markdown",
   "id": "99893e70-9066-45b8-9fa8-7a9d9ef3fcb8",
   "metadata": {},
   "source": [
    "# Charger l'environnement logiciel\n",
    "\n",
    "- Les administrateurs du cluster ont effectué les installations via le gestionnaire de  logiciels Conda. \n",
    "    - Permet l’installation facile des programmes et de leurs dépendances.\n",
    "    - Le dépôt Bioconda met à disposition de nombreux outils bioinformatiques.\n",
    "- La commande module va charger l'environnement Conda dans votre session\n"
   ]
  },
  {
   "cell_type": "code",
   "execution_count": 1,
   "id": "f816ec39-22b7-4b26-9931-172676e22951",
   "metadata": {},
   "outputs": [
    {
     "name": "stdout",
     "output_type": "stream",
     "text": [
      "- Package/Alias -----------------------.- Versions --------.- Last mod. -------\n",
      "/shared/software/modulefiles:\n",
      "abricate/1.0.1                                              2022/02/08 10:31:47\n",
      "abyss/2.2.1                                                 2020/12/10 11:20:09\n",
      "admixture/1.3.0                                             2020/12/10 11:20:09\n",
      "adxv/1.9.14                                                 2020/12/10 11:20:09\n",
      "agat/0.8.0                                                  2022/01/10 18:23:45\n",
      "agat/0.8.1                                                  2022/01/20 12:16:24\n",
      "agat/0.9.0                                                  2022/04/19 11:21:30\n",
      "agat/0.9.2                                                  2022/08/02 11:34:24\n",
      "\u001b[?2004h"
     ]
    },
    {
     "name": "stdout",
     "output_type": "stream",
     "text": [
      "\u001b[?2004l\r",
      "- Package/Alias -----------------------.- Versions --------.- Last mod. -------\n"
     ]
    },
    {
     "name": "stdout",
     "output_type": "stream",
     "text": [
      "/shared/software/modulefiles:\n"
     ]
    },
    {
     "name": "stdout",
     "output_type": "stream",
     "text": [
      "abricate/1.0.1                                              2022/02/08 10:31:47\n"
     ]
    },
    {
     "name": "stdout",
     "output_type": "stream",
     "text": [
      "abyss/2.2.1                                                 2020/12/10 11:20:09\n"
     ]
    },
    {
     "name": "stdout",
     "output_type": "stream",
     "text": [
      "admixture/1.3.0                                             2020/12/10 11:20:09\n"
     ]
    },
    {
     "name": "stdout",
     "output_type": "stream",
     "text": [
      "adxv/1.9.14                                                 2020/12/10 11:20:09\n"
     ]
    },
    {
     "name": "stdout",
     "output_type": "stream",
     "text": [
      "agat/0.8.0                                                  2022/01/10 18:23:45\n"
     ]
    },
    {
     "name": "stdout",
     "output_type": "stream",
     "text": [
      "agat/0.8.1                                                  2022/01/20 12:16:24\n"
     ]
    },
    {
     "name": "stdout",
     "output_type": "stream",
     "text": [
      "agat/0.9.0                                                  2022/04/19 11:21:30\n"
     ]
    },
    {
     "name": "stdout",
     "output_type": "stream",
     "text": [
      "agat/0.9.2                                                  2022/08/02 11:34:24\n"
     ]
    },
    {
     "name": "stdout",
     "output_type": "stream",
     "text": [
      "\u001b[?2004h"
     ]
    },
    {
     "ename": "",
     "evalue": "1",
     "output_type": "error",
     "traceback": []
    }
   ],
   "source": [
    "# Afficher la liste des environnements disponibles\n",
    "module avail -l | head  \n"
   ]
  },
  {
   "cell_type": "code",
   "execution_count": 1,
   "id": "2da305ca",
   "metadata": {},
   "outputs": [],
   "source": [
    "# Charger fastqc dans votre environnement\n",
    "# La version est facultative \n",
    "module load blast/2.12.0"
   ]
  },
  {
   "cell_type": "code",
   "execution_count": null,
   "id": "d3b3660e-3e36-4d18-8050-4c15c480598c",
   "metadata": {},
   "outputs": [],
   "source": [
    "# On peut aussi décharger\n",
    "module unload blast/2.12.0"
   ]
  }
 ],
 "metadata": {
  "kernelspec": {
   "display_name": "Bash",
   "language": "bash",
   "name": "bash"
  },
  "language_info": {
   "codemirror_mode": "shell",
   "file_extension": ".sh",
   "mimetype": "text/x-sh",
   "name": "bash"
  }
 },
 "nbformat": 4,
 "nbformat_minor": 5
}