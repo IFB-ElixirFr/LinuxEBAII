{
 "cells": [
  {
   "cell_type": "markdown",
   "id": "6a2fc358-9d6d-4c5a-ae4f-64011998f675",
   "metadata": {},
   "source": [
    "# Mapping\n",
    "\n",
    "## Aligner les reads\n",
    "\n",
    "Objectif : Trouver la région du génome qui a produit les read\n",
    "- Trouver dans le génome le mot correspondant au read\n",
    "\n",
    "![](images/ebaii_mapping.png)\n",
    "\n",
    "## L’approche de bowtie: seed and extend\n",
    "\n",
    "Une extrémité du read est interrogée (la graine) \n",
    "\n",
    "![](images/ebaii_mapping_readSeed.png)\n",
    "\n",
    "On cherche ses régions correspondantes sur le génome (à l’aide d’un index créé initialement) avec ou sans mismatch.\n",
    "\n",
    "On teste si le reste du read s’aligne avec la séquence\n",
    "\n",
    "![](images/ebaii_mapping_positions.png)\n",
    "\n",
    "## Aligner les reads\n",
    "\n",
    "Pour l’alignement nous utiliserons Bowtie 2\n",
    "\n",
    "Bowtie 2 nécessite de préparer un index\n",
    "- Cet index permet une recherche optimisée de la position d’un mot w dans le génome\n",
    "- Des index pour les génomes utilisés classiquement sont disponibles sur le site de bowtie 2 et aussi dans les banques du cluster (ex. `/shared/bank/homo_sapiens/hg38/`)\n",
    "- Ici nous voulons restreindre le génome au chromosome 21, nous devons donc construire cet index"
   ]
  },
  {
   "cell_type": "code",
   "execution_count": 1,
   "id": "e3c011da-d3f3-45fd-98da-7ad9970fbc92",
   "metadata": {},
   "outputs": [],
   "source": [
    "# Créez un répertoire pour y stocker l’index dans chip-seq/\n",
    "cd /shared/projects/form_2022_32/coursLinux/demo/chip-seq/   \n",
    "mkdir index\n",
    "cd index"
   ]
  },
  {
   "cell_type": "markdown",
   "id": "80ed9d4a-c306-4b10-9f2f-f2145b7b13a2",
   "metadata": {},
   "source": [
    "## Création de l'index\n",
    "\n",
    "```{warning}\n",
    "Ne faire qu’une seule fois par génome d’intérêt et version majeure !\n",
    "```\n",
    "\n",
    "1. Allez sur le site de l’UCSC à l’adresse suivante\n",
    "- https://genome.ucsc.edu/\n",
    "2. Cliquez sur Downloads > Genome Data > human > hg38 > Data set by chromosome. \n",
    "3. Recherchez le fichier chr21.fa.gz\n",
    "4. Cliquez bouton droit “Copy link address”"
   ]
  },
  {
   "cell_type": "code",
   "execution_count": 2,
   "id": "e8cc0d7c-b790-4fcf-a08a-063217af24f8",
   "metadata": {},
   "outputs": [
    {
     "name": "stdout",
     "output_type": "stream",
     "text": [
      "--2022-11-12 22:05:49--  http://hgdownload.soe.ucsc.edu/goldenPath/hg38/chromosomes/chr21.fa.gz\n"
     ]
    },
    {
     "name": "stdout",
     "output_type": "stream",
     "text": [
      "Resolving hgdownload.soe.ucsc.edu (hgdownload.soe.ucsc.edu)... 128.114.119.163\n"
     ]
    },
    {
     "name": "stdout",
     "output_type": "stream",
     "text": [
      "Connecting to hgdownload.soe.ucsc.edu (hgdownload.soe.ucsc.edu)|128.114.119.163|:80... connected.\n"
     ]
    },
    {
     "name": "stdout",
     "output_type": "stream",
     "text": [
      "HTTP request sent, awaiting response... 200 OK\n"
     ]
    },
    {
     "name": "stdout",
     "output_type": "stream",
     "text": [
      "Length: 12709705 (12M) [application/x-gzip]\n"
     ]
    },
    {
     "name": "stdout",
     "output_type": "stream",
     "text": [
      "Saving to: ‘chr21.fa.gz’\n"
     ]
    },
    {
     "name": "stdout",
     "output_type": "stream",
     "text": [
      "\n"
     ]
    },
    {
     "name": "stdout",
     "output_type": "stream",
     "text": [
      "\r",
      " 0% [                                       ] 0           --.-K/s              \r",
      " 0% [                                       ] 51,277       162KB/s             \r",
      " 1% [                                       ] 225,037      363KB/s             \r",
      " 4% [>                                      ] 556,629      604KB/s             \r",
      "12% [===>                                   ] 1,614,293   1.29MB/s             \r",
      "33% [===========>                           ] 4,207,045   2.69MB/s             \r",
      "76% [============================>          ] 9,716,549   5.19MB/s             \r",
      "100%[======================================>] 12,709,705  6.26MB/s   in 1.9s   \n"
     ]
    },
    {
     "name": "stdout",
     "output_type": "stream",
     "text": [
      "\n"
     ]
    },
    {
     "name": "stdout",
     "output_type": "stream",
     "text": [
      "2022-11-12 22:05:52 (6.26 MB/s) - ‘chr21.fa.gz’ saved [12709705/12709705]\n"
     ]
    },
    {
     "name": "stdout",
     "output_type": "stream",
     "text": [
      "\n"
     ]
    }
   ],
   "source": [
    "# Téléchargez l’index avec wget\n",
    "wget http://hgdownload.soe.ucsc.edu/goldenPath/hg38/chromosomes/chr21.fa.gz "
   ]
  },
  {
   "cell_type": "code",
   "execution_count": 3,
   "id": "86c67bd3-67a1-425b-a546-91bb60621d78",
   "metadata": {},
   "outputs": [],
   "source": [
    "# décompression\n",
    "gunzip chr21.fa.gz"
   ]
  },
  {
   "cell_type": "code",
   "execution_count": 4,
   "id": "8c539ade-9f2a-4b4a-a2b8-40fd7b32b658",
   "metadata": {},
   "outputs": [
    {
     "name": "stdout",
     "output_type": "stream",
     "text": [
      "Settings:\n"
     ]
    },
    {
     "name": "stdout",
     "output_type": "stream",
     "text": [
      "  Output files: \"chr21_hg38.*.bt2\"\n"
     ]
    },
    {
     "name": "stdout",
     "output_type": "stream",
     "text": [
      "  Line rate: 6 (line is 64 bytes)\n"
     ]
    },
    {
     "name": "stdout",
     "output_type": "stream",
     "text": [
      "  Lines per side: 1 (side is 64 bytes)\n"
     ]
    },
    {
     "name": "stdout",
     "output_type": "stream",
     "text": [
      "  Offset rate: 4 (one in 16)\n"
     ]
    },
    {
     "name": "stdout",
     "output_type": "stream",
     "text": [
      "  FTable chars: 10\n"
     ]
    },
    {
     "name": "stdout",
     "output_type": "stream",
     "text": [
      "  Strings: unpacked\n"
     ]
    },
    {
     "name": "stdout",
     "output_type": "stream",
     "text": [
      "  Max bucket size: default\n"
     ]
    },
    {
     "name": "stdout",
     "output_type": "stream",
     "text": [
      "  Max bucket size, sqrt multiplier: default\n"
     ]
    },
    {
     "name": "stdout",
     "output_type": "stream",
     "text": [
      "  Max bucket size, len divisor: 4\n"
     ]
    },
    {
     "name": "stdout",
     "output_type": "stream",
     "text": [
      "  Difference-cover sample period: 1024\n"
     ]
    },
    {
     "name": "stdout",
     "output_type": "stream",
     "text": [
      "  Endianness: little\n"
     ]
    },
    {
     "name": "stdout",
     "output_type": "stream",
     "text": [
      "  Actual local endianness: little\n"
     ]
    },
    {
     "name": "stdout",
     "output_type": "stream",
     "text": [
      "  Sanity checking: disabled\n"
     ]
    },
    {
     "name": "stdout",
     "output_type": "stream",
     "text": [
      "  Assertions: disabled\n"
     ]
    },
    {
     "name": "stdout",
     "output_type": "stream",
     "text": [
      "  Random seed: 0\n"
     ]
    },
    {
     "name": "stdout",
     "output_type": "stream",
     "text": [
      "  Sizeofs: void*:8, int:4, long:8, size_t:8\n"
     ]
    },
    {
     "name": "stdout",
     "output_type": "stream",
     "text": [
      "Input files DNA, FASTA:\n"
     ]
    },
    {
     "name": "stdout",
     "output_type": "stream",
     "text": [
      "  chr21.fa\n"
     ]
    },
    {
     "name": "stdout",
     "output_type": "stream",
     "text": [
      "Building a SMALL index\n"
     ]
    },
    {
     "name": "stdout",
     "output_type": "stream",
     "text": [
      "Reading reference sizes\n"
     ]
    },
    {
     "name": "stdout",
     "output_type": "stream",
     "text": [
      "  Time reading reference sizes: 00:00:01\n"
     ]
    },
    {
     "name": "stdout",
     "output_type": "stream",
     "text": [
      "Calculating joined length\n"
     ]
    },
    {
     "name": "stdout",
     "output_type": "stream",
     "text": [
      "Writing header\n"
     ]
    },
    {
     "name": "stdout",
     "output_type": "stream",
     "text": [
      "Reserving space for joined string\n"
     ]
    },
    {
     "name": "stdout",
     "output_type": "stream",
     "text": [
      "Joining reference sequences\n"
     ]
    },
    {
     "name": "stdout",
     "output_type": "stream",
     "text": [
      "  Time to join reference sequences: 00:00:00\n"
     ]
    },
    {
     "name": "stdout",
     "output_type": "stream",
     "text": [
      "bmax according to bmaxDivN setting: 10022154\n"
     ]
    },
    {
     "name": "stdout",
     "output_type": "stream",
     "text": [
      "Using parameters --bmax 7516616 --dcv 1024\n"
     ]
    },
    {
     "name": "stdout",
     "output_type": "stream",
     "text": [
      "  Doing ahead-of-time memory usage test\n"
     ]
    },
    {
     "name": "stdout",
     "output_type": "stream",
     "text": [
      "  Passed!  Constructing with these parameters: --bmax 7516616 --dcv 1024\n"
     ]
    },
    {
     "name": "stdout",
     "output_type": "stream",
     "text": [
      "Constructing suffix-array element generator\n"
     ]
    },
    {
     "name": "stdout",
     "output_type": "stream",
     "text": [
      "Building DifferenceCoverSample\n"
     ]
    },
    {
     "name": "stdout",
     "output_type": "stream",
     "text": [
      "  Building sPrime\n"
     ]
    },
    {
     "name": "stdout",
     "output_type": "stream",
     "text": [
      "  Building sPrimeOrder\n"
     ]
    },
    {
     "name": "stdout",
     "output_type": "stream",
     "text": [
      "  V-Sorting samples\n"
     ]
    },
    {
     "name": "stdout",
     "output_type": "stream",
     "text": [
      "  V-Sorting samples time: 00:00:01\n"
     ]
    },
    {
     "name": "stdout",
     "output_type": "stream",
     "text": [
      "  Allocating rank array\n"
     ]
    },
    {
     "name": "stdout",
     "output_type": "stream",
     "text": [
      "  Ranking v-sort output\n"
     ]
    },
    {
     "name": "stdout",
     "output_type": "stream",
     "text": [
      "  Ranking v-sort output time: 00:00:00\n"
     ]
    },
    {
     "name": "stdout",
     "output_type": "stream",
     "text": [
      "  Invoking Larsson-Sadakane on ranks\n"
     ]
    },
    {
     "name": "stdout",
     "output_type": "stream",
     "text": [
      "  Invoking Larsson-Sadakane on ranks time: 00:00:00\n"
     ]
    },
    {
     "name": "stdout",
     "output_type": "stream",
     "text": [
      "  Sanity-checking and returning\n"
     ]
    },
    {
     "name": "stdout",
     "output_type": "stream",
     "text": [
      "Building samples\n"
     ]
    },
    {
     "name": "stdout",
     "output_type": "stream",
     "text": [
      "Reserving space for 12 sample suffixes\n"
     ]
    },
    {
     "name": "stdout",
     "output_type": "stream",
     "text": [
      "Generating random suffixes\n"
     ]
    },
    {
     "name": "stdout",
     "output_type": "stream",
     "text": [
      "QSorting 12 sample offsets, eliminating duplicates\n"
     ]
    },
    {
     "name": "stdout",
     "output_type": "stream",
     "text": [
      "QSorting sample offsets, eliminating duplicates time: 00:00:00\n"
     ]
    },
    {
     "name": "stdout",
     "output_type": "stream",
     "text": [
      "Multikey QSorting 12 samples\n"
     ]
    },
    {
     "name": "stdout",
     "output_type": "stream",
     "text": [
      "  (Using difference cover)\n"
     ]
    },
    {
     "name": "stdout",
     "output_type": "stream",
     "text": [
      "  Multikey QSorting samples time: 00:00:00\n"
     ]
    },
    {
     "name": "stdout",
     "output_type": "stream",
     "text": [
      "Calculating bucket sizes\n"
     ]
    },
    {
     "name": "stdout",
     "output_type": "stream",
     "text": [
      "Splitting and merging\n"
     ]
    },
    {
     "name": "stdout",
     "output_type": "stream",
     "text": [
      "  Splitting and merging time: 00:00:00\n"
     ]
    },
    {
     "name": "stdout",
     "output_type": "stream",
     "text": [
      "Avg bucket size: 4.00886e+07 (target: 7516615)\n"
     ]
    },
    {
     "name": "stdout",
     "output_type": "stream",
     "text": [
      "Converting suffix-array elements to index image\n"
     ]
    },
    {
     "name": "stdout",
     "output_type": "stream",
     "text": [
      "Allocating ftab, absorbFtab\n"
     ]
    },
    {
     "name": "stdout",
     "output_type": "stream",
     "text": [
      "Entering Ebwt loop\n"
     ]
    },
    {
     "name": "stdout",
     "output_type": "stream",
     "text": [
      "Getting block 1 of 1\n"
     ]
    },
    {
     "name": "stdout",
     "output_type": "stream",
     "text": [
      "  No samples; assembling all-inclusive block\n"
     ]
    },
    {
     "name": "stdout",
     "output_type": "stream",
     "text": [
      "  Sorting block of length 40088619 for bucket 1\n"
     ]
    },
    {
     "name": "stdout",
     "output_type": "stream",
     "text": [
      "  (Using difference cover)\n"
     ]
    },
    {
     "name": "stdout",
     "output_type": "stream",
     "text": [
      "  Sorting block time: 00:00:12\n"
     ]
    },
    {
     "name": "stdout",
     "output_type": "stream",
     "text": [
      "Returning block of 40088620 for bucket 1\n"
     ]
    },
    {
     "name": "stdout",
     "output_type": "stream",
     "text": [
      "Exited Ebwt loop\n"
     ]
    },
    {
     "name": "stdout",
     "output_type": "stream",
     "text": [
      "fchr[A]: 0\n"
     ]
    },
    {
     "name": "stdout",
     "output_type": "stream",
     "text": [
      "fchr[C]: 11820664\n"
     ]
    },
    {
     "name": "stdout",
     "output_type": "stream",
     "text": [
      "fchr[G]: 20005908\n"
     ]
    },
    {
     "name": "stdout",
     "output_type": "stream",
     "text": [
      "fchr[T]: 28232289\n"
     ]
    },
    {
     "name": "stdout",
     "output_type": "stream",
     "text": [
      "fchr[$]: 40088619\n"
     ]
    },
    {
     "name": "stdout",
     "output_type": "stream",
     "text": [
      "Exiting Ebwt::buildToDisk()\n"
     ]
    },
    {
     "name": "stdout",
     "output_type": "stream",
     "text": [
      "Returning from initFromVector\n"
     ]
    },
    {
     "name": "stdout",
     "output_type": "stream",
     "text": [
      "Wrote 17557951 bytes to primary EBWT file: chr21_hg38.1.bt2\n"
     ]
    },
    {
     "name": "stdout",
     "output_type": "stream",
     "text": [
      "Wrote 10022160 bytes to secondary EBWT file: chr21_hg38.2.bt2\n"
     ]
    },
    {
     "name": "stdout",
     "output_type": "stream",
     "text": [
      "Re-opening _in1 and _in2 as input streams\n"
     ]
    },
    {
     "name": "stdout",
     "output_type": "stream",
     "text": [
      "Returning from Ebwt constructor\n"
     ]
    },
    {
     "name": "stdout",
     "output_type": "stream",
     "text": [
      "Headers:\n"
     ]
    },
    {
     "name": "stdout",
     "output_type": "stream",
     "text": [
      "    len: 40088619\n"
     ]
    },
    {
     "name": "stdout",
     "output_type": "stream",
     "text": [
      "    bwtLen: 40088620\n"
     ]
    },
    {
     "name": "stdout",
     "output_type": "stream",
     "text": [
      "    sz: 10022155\n"
     ]
    },
    {
     "name": "stdout",
     "output_type": "stream",
     "text": [
      "    bwtSz: 10022155\n"
     ]
    },
    {
     "name": "stdout",
     "output_type": "stream",
     "text": [
      "    lineRate: 6\n"
     ]
    },
    {
     "name": "stdout",
     "output_type": "stream",
     "text": [
      "    offRate: 4\n"
     ]
    },
    {
     "name": "stdout",
     "output_type": "stream",
     "text": [
      "    offMask: 0xfffffff0\n"
     ]
    },
    {
     "name": "stdout",
     "output_type": "stream",
     "text": [
      "    ftabChars: 10\n"
     ]
    },
    {
     "name": "stdout",
     "output_type": "stream",
     "text": [
      "    eftabLen: 20\n"
     ]
    },
    {
     "name": "stdout",
     "output_type": "stream",
     "text": [
      "    eftabSz: 80\n"
     ]
    },
    {
     "name": "stdout",
     "output_type": "stream",
     "text": [
      "    ftabLen: 1048577\n"
     ]
    },
    {
     "name": "stdout",
     "output_type": "stream",
     "text": [
      "    ftabSz: 4194308\n"
     ]
    },
    {
     "name": "stdout",
     "output_type": "stream",
     "text": [
      "    offsLen: 2505539\n"
     ]
    },
    {
     "name": "stdout",
     "output_type": "stream",
     "text": [
      "    offsSz: 10022156\n"
     ]
    },
    {
     "name": "stdout",
     "output_type": "stream",
     "text": [
      "    lineSz: 64\n"
     ]
    },
    {
     "name": "stdout",
     "output_type": "stream",
     "text": [
      "    sideSz: 64\n"
     ]
    },
    {
     "name": "stdout",
     "output_type": "stream",
     "text": [
      "    sideBwtSz: 48\n"
     ]
    },
    {
     "name": "stdout",
     "output_type": "stream",
     "text": [
      "    sideBwtLen: 192\n"
     ]
    },
    {
     "name": "stdout",
     "output_type": "stream",
     "text": [
      "    numSides: 208795\n"
     ]
    },
    {
     "name": "stdout",
     "output_type": "stream",
     "text": [
      "    numLines: 208795\n"
     ]
    },
    {
     "name": "stdout",
     "output_type": "stream",
     "text": [
      "    ebwtTotLen: 13362880\n"
     ]
    },
    {
     "name": "stdout",
     "output_type": "stream",
     "text": [
      "    ebwtTotSz: 13362880\n"
     ]
    },
    {
     "name": "stdout",
     "output_type": "stream",
     "text": [
      "    color: 0\n"
     ]
    },
    {
     "name": "stdout",
     "output_type": "stream",
     "text": [
      "    reverse: 0\n"
     ]
    },
    {
     "name": "stdout",
     "output_type": "stream",
     "text": [
      "Total time for call to driver() for forward index: 00:00:17\n"
     ]
    },
    {
     "name": "stdout",
     "output_type": "stream",
     "text": [
      "Reading reference sizes\n"
     ]
    },
    {
     "name": "stdout",
     "output_type": "stream",
     "text": [
      "  Time reading reference sizes: 00:00:00\n"
     ]
    },
    {
     "name": "stdout",
     "output_type": "stream",
     "text": [
      "Calculating joined length\n"
     ]
    },
    {
     "name": "stdout",
     "output_type": "stream",
     "text": [
      "Writing header\n"
     ]
    },
    {
     "name": "stdout",
     "output_type": "stream",
     "text": [
      "Reserving space for joined string\n"
     ]
    },
    {
     "name": "stdout",
     "output_type": "stream",
     "text": [
      "Joining reference sequences\n"
     ]
    },
    {
     "name": "stdout",
     "output_type": "stream",
     "text": [
      "  Time to join reference sequences: 00:00:00\n"
     ]
    },
    {
     "name": "stdout",
     "output_type": "stream",
     "text": [
      "  Time to reverse reference sequence: 00:00:00\n"
     ]
    },
    {
     "name": "stdout",
     "output_type": "stream",
     "text": [
      "bmax according to bmaxDivN setting: 10022154\n"
     ]
    },
    {
     "name": "stdout",
     "output_type": "stream",
     "text": [
      "Using parameters --bmax 7516616 --dcv 1024\n"
     ]
    },
    {
     "name": "stdout",
     "output_type": "stream",
     "text": [
      "  Doing ahead-of-time memory usage test\n"
     ]
    },
    {
     "name": "stdout",
     "output_type": "stream",
     "text": [
      "  Passed!  Constructing with these parameters: --bmax 7516616 --dcv 1024\n"
     ]
    },
    {
     "name": "stdout",
     "output_type": "stream",
     "text": [
      "Constructing suffix-array element generator\n"
     ]
    },
    {
     "name": "stdout",
     "output_type": "stream",
     "text": [
      "Building DifferenceCoverSample\n"
     ]
    },
    {
     "name": "stdout",
     "output_type": "stream",
     "text": [
      "  Building sPrime\n"
     ]
    },
    {
     "name": "stdout",
     "output_type": "stream",
     "text": [
      "  Building sPrimeOrder\n"
     ]
    },
    {
     "name": "stdout",
     "output_type": "stream",
     "text": [
      "  V-Sorting samples\n"
     ]
    },
    {
     "name": "stdout",
     "output_type": "stream",
     "text": [
      "  V-Sorting samples time: 00:00:01\n"
     ]
    },
    {
     "name": "stdout",
     "output_type": "stream",
     "text": [
      "  Allocating rank array\n"
     ]
    },
    {
     "name": "stdout",
     "output_type": "stream",
     "text": [
      "  Ranking v-sort output\n"
     ]
    },
    {
     "name": "stdout",
     "output_type": "stream",
     "text": [
      "  Ranking v-sort output time: 00:00:00\n"
     ]
    },
    {
     "name": "stdout",
     "output_type": "stream",
     "text": [
      "  Invoking Larsson-Sadakane on ranks\n"
     ]
    },
    {
     "name": "stdout",
     "output_type": "stream",
     "text": [
      "  Invoking Larsson-Sadakane on ranks time: 00:00:00\n"
     ]
    },
    {
     "name": "stdout",
     "output_type": "stream",
     "text": [
      "  Sanity-checking and returning\n"
     ]
    },
    {
     "name": "stdout",
     "output_type": "stream",
     "text": [
      "Building samples\n"
     ]
    },
    {
     "name": "stdout",
     "output_type": "stream",
     "text": [
      "Reserving space for 12 sample suffixes\n"
     ]
    },
    {
     "name": "stdout",
     "output_type": "stream",
     "text": [
      "Generating random suffixes\n"
     ]
    },
    {
     "name": "stdout",
     "output_type": "stream",
     "text": [
      "QSorting 12 sample offsets, eliminating duplicates\n"
     ]
    },
    {
     "name": "stdout",
     "output_type": "stream",
     "text": [
      "QSorting sample offsets, eliminating duplicates time: 00:00:00\n"
     ]
    },
    {
     "name": "stdout",
     "output_type": "stream",
     "text": [
      "Multikey QSorting 12 samples\n"
     ]
    },
    {
     "name": "stdout",
     "output_type": "stream",
     "text": [
      "  (Using difference cover)\n"
     ]
    },
    {
     "name": "stdout",
     "output_type": "stream",
     "text": [
      "  Multikey QSorting samples time: 00:00:00\n"
     ]
    },
    {
     "name": "stdout",
     "output_type": "stream",
     "text": [
      "Calculating bucket sizes\n"
     ]
    },
    {
     "name": "stdout",
     "output_type": "stream",
     "text": [
      "Splitting and merging\n"
     ]
    },
    {
     "name": "stdout",
     "output_type": "stream",
     "text": [
      "  Splitting and merging time: 00:00:00\n"
     ]
    },
    {
     "name": "stdout",
     "output_type": "stream",
     "text": [
      "Avg bucket size: 4.00886e+07 (target: 7516615)\n"
     ]
    },
    {
     "name": "stdout",
     "output_type": "stream",
     "text": [
      "Converting suffix-array elements to index image\n"
     ]
    },
    {
     "name": "stdout",
     "output_type": "stream",
     "text": [
      "Allocating ftab, absorbFtab\n"
     ]
    },
    {
     "name": "stdout",
     "output_type": "stream",
     "text": [
      "Entering Ebwt loop\n"
     ]
    },
    {
     "name": "stdout",
     "output_type": "stream",
     "text": [
      "Getting block 1 of 1\n"
     ]
    },
    {
     "name": "stdout",
     "output_type": "stream",
     "text": [
      "  No samples; assembling all-inclusive block\n"
     ]
    },
    {
     "name": "stdout",
     "output_type": "stream",
     "text": [
      "  Sorting block of length 40088619 for bucket 1\n"
     ]
    },
    {
     "name": "stdout",
     "output_type": "stream",
     "text": [
      "  (Using difference cover)\n"
     ]
    },
    {
     "name": "stdout",
     "output_type": "stream",
     "text": [
      "Traceback (most recent call last):\r\n",
      "  File \"/shared/ifbstor1/software/miniconda/envs/bowtie2-2.3.4.3/bin/bowtie2-build\", line 90, in <module>\r\n",
      "    main()\r\n",
      "  File \"/shared/ifbstor1/software/miniconda/envs/bowtie2-2.3.4.3/bin/bowtie2-build\", line 87, in main\r\n",
      "    sys.exit(subprocess.call(argv))\r\n",
      "  File \"/shared/ifbstor1/software/miniconda/envs/bowtie2-2.3.4.3/lib/python3.7/subprocess.py\", line 341, in call\r\n",
      "    return p.wait(timeout=timeout)\r\n",
      "  File \"/shared/ifbstor1/software/miniconda/envs/bowtie2-2.3.4.3/lib/python3.7/subprocess.py\", line 1019, in wait\r\n",
      "    return self._wait(timeout=timeout)\r\n",
      "  File \"/shared/ifbstor1/software/miniconda/envs/bowtie2-2.3.4.3/lib/python3.7/subprocess.py\", line 1653, in _wait\r\n",
      "    (pid, sts) = self._try_wait(0)\r\n",
      "  File \"/shared/ifbstor1/software/miniconda/envs/bowtie2-2.3.4.3/lib/python3.7/subprocess.py\", line 1611, in _try_wait\r\n",
      "    (pid, sts) = os.waitpid(self.pid, wait_flags)\r\n",
      "KeyboardInterrupt\r\n"
     ]
    }
   ],
   "source": [
    "module load bowtie2/2.3.4.3 samtools/1.9\t\t# ici on charge 2 outils à la fois\n",
    "# Construction de l’index\n",
    "bowtie2-build chr21.fa chr21_hg38"
   ]
  },
  {
   "cell_type": "markdown",
   "id": "5a7a6276-ee6c-41bd-827f-11cc9482a7de",
   "metadata": {},
   "source": [
    "## Alignement\n",
    "\n",
    "On crée un répertoire de travail et on se positionne dans celui-ci\n",
    "On lancera l’alignement dans depuis le dossier ‘bam’."
   ]
  },
  {
   "cell_type": "code",
   "execution_count": 5,
   "id": "afd38f4c-e8b0-4e8d-ae5a-712f0b9dc754",
   "metadata": {},
   "outputs": [],
   "source": [
    "# Create a directory \n",
    "mkdir -p ../bam \n",
    "# Change directory \n",
    "cd ../bam "
   ]
  },
  {
   "cell_type": "markdown",
   "id": "efcfac7d-656f-4f95-9372-7f314847bcb5",
   "metadata": {},
   "source": [
    "## Alignement (do not run!)\n",
    "\n",
    "```{note}\n",
    "Pour des raison pédagogique, nous allons diviser la commande en plusieurs blocs.\n",
    "```\n",
    "\n",
    "### Partie 1\n",
    "\n",
    "1. L’alignement est réalisé avec bowtie2, qui produit un flux de texte au format sam (texte), volumineux.\n",
    "\n",
    "```bash\n",
    "# Perform alignment\n",
    "bowtie2 -p 4 -x ../index/chr21_hg38 -U ../trimmed/siNT_ER_E2_r3_chr21_trim.fastq \\\n",
    "  2> siNT_ER_E2_r3_chr21_trim_bowtie2.log \n",
    "```\n",
    "\n",
    "### Partie 2\n",
    "\n",
    "1. L’alignement est réalisé avec bowtie2, qui produit un flux de texte au format sam (texte), volumineux.\n",
    "2. Ce flux de texte peut être redirigé (|) vers 'samtools view -hbS' (-h: header, -b output is BAM, -S: input is SAM) pour produire une version compressée (format bam).\n",
    "\n",
    "```bash\n",
    "# -bS (sortie en bam, entrée en sam) \n",
    "bowtie2 -p 4 -x ../index/chr21_hg38 -U ../trimmed/siNT_ER_E2_r3_chr21_trim.fastq \\\n",
    "  2> siNT_ER_E2_r3_chr21_trim_bowtie2.log | samtools view -hbS\n",
    "```\n",
    "\n",
    "### Partie 3\n",
    "\n",
    "1. L’alignement est réalisé avec bowtie2, qui produit un flux de texte au format sam (texte), volumineux.\n",
    "2. Ce flux de texte peut être redirigé (|) vers 'samtools view -hbS' (-h: header, -b output is BAM, -S: input is SAM) pour produire une version compressée (format bam).\n",
    "3. On sélectionne le sous-ensemble des reads pour lequel la mapping quality (-q: quality) est au moins égale à 30. \n",
    "\n",
    "```bash \n",
    "# -q 30 (quality 30)\n",
    "bowtie2 -p 4 -x ../index/chr21_hg38 -U ../trimmed/siNT_ER_E2_r3_chr21_trim.fastq \\\n",
    "  2> siNT_ER_E2_r3_chr21_trim_bowtie2.log | samtools view -hbS -q 30\n",
    "```\n",
    "\n",
    "### Partie 4 \n",
    "\n",
    "1. L’alignement est réalisé avec bowtie2, qui produit un flux de texte au format sam (texte), volumineux.\n",
    "2. Ce flux de texte peut être redirigé (|) vers 'samtools view -hbS' (-h: header, -b output is BAM, -S: input is SAM) pour produire une version compressée (format bam).\n",
    "3. On sélectionne le sous-ensemble des reads pour lequel la mapping quality (-q: quality) est au moins égale à 30.\n",
    "4. Le flux de texte est redirigé (|) vers `samtools sort` (trie par coordonnées génomiques).\n",
    "\n",
    "\n",
    "```bash \n",
    "# Trie l’alignement\n",
    "bowtie2 -p 4 -x ../index/chr21_hg38 -U ../trimmed/siNT_ER_E2_r3_chr21_trim.fastq \\\n",
    "  2> siNT_ER_E2_r3_chr21_trim_bowtie2.log | samtools view -hbS -q 30 | samtools sort\n",
    "```\n",
    "\n",
    "### Partie 5 \n",
    "\n",
    "1. L’alignement est réalisé avec bowtie2, qui produit un flux de texte au format sam (texte), volumineux.\n",
    "2. Ce flux de texte peut être redirigé (|) vers 'samtools view -hbS' (-h: header, -b output is BAM, -S: input is SAM) pour produire une version compressée (format bam).\n",
    "3. On sélectionne le sous-ensemble des reads pour lequel la mapping quality (-q: quality) est au moins égale à 30.\n",
    "4. Le flux de texte est redirigé (|) vers `samtools sort` (trie par coordonnées génomiques).\n",
    "5. Le flux de texte est redirigé dans un fichier (‘>’)\n",
    "\n",
    "\n",
    "```bash \n",
    "# ‘>’ est un opérateur de redirection \n",
    "bowtie2 -p 4 -x ../index/chr21_hg38 -U ../trimmed/siNT_ER_E2_r3_chr21_trim.fastq \\\n",
    "  2> siNT_ER_E2_r3_chr21_trim_bowtie2.log | samtools view -hbS -q 30 | samtools sort \\\n",
    "  > siNT_ER_E2_r3_chr21_trim.bam\n",
    "```\n",
    "\n",
    "### Partie 6 \n",
    "\n",
    "1. L’alignement est réalisé avec bowtie2, qui produit un flux de texte au format sam (texte), volumineux.\n",
    "2. Ce flux de texte peut être redirigé (|) vers 'samtools view -hbS' (-h: header, -b output is BAM, -S: input is SAM) pour produire une version compressée (format bam).\n",
    "3. On sélectionne le sous-ensemble des reads pour lequel la mapping quality (-q: quality) est au moins égale à 30.\n",
    "4. Le flux de texte est redirigé (|) vers `samtools sort` (trie par coordonnées génomiques).\n",
    "5. Le flux de texte est redirigé dans un fichier (‘>’)\n",
    "6. Le fichier est indexé pour optimiser la recherche de position dans le BAM (création d’un fichier *.bai).\n",
    "\n",
    "```bash \n",
    "# Indexation de l’alignement\n",
    "bowtie2 -p 4 -x ../index/chr21_hg38 -U ../trimmed/siNT_ER_E2_r3_chr21_trim.fastq \\\n",
    "  2> siNT_ER_E2_r3_chr21_trim_bowtie2.log | samtools view -hbS -q 30 | samtools sort \\\n",
    "  > siNT_ER_E2_r3_chr21_trim.bam\n",
    "```\n",
    "\n",
    "\n",
    "### Commande finale"
   ]
  },
  {
   "cell_type": "code",
   "execution_count": 6,
   "id": "dd1ecc88-4c15-4d18-9bcd-5f8a37814b7a",
   "metadata": {},
   "outputs": [],
   "source": [
    "bowtie2 -p 4 -x ../index/chr21_hg38 -U ../trimmed/siNT_ER_E2_r3_chr21_trim.fastq \\\n",
    "  2> siNT_ER_E2_r3_chr21_trim_bowtie2.log | samtools view -hbS -q 30 | samtools sort \\\n",
    "  > siNT_ER_E2_r3_chr21_trim.bam"
   ]
  },
  {
   "cell_type": "code",
   "execution_count": 7,
   "id": "a3d2c07a-942f-4664-b6fb-6b770e9acc12",
   "metadata": {},
   "outputs": [],
   "source": [
    "samtools index siNT_ER_E2_r3_chr21_trim.bam"
   ]
  },
  {
   "cell_type": "code",
   "execution_count": 8,
   "id": "1200eb27-dbbf-46f3-9fc5-99d71394429e",
   "metadata": {},
   "outputs": [
    {
     "name": "stdout",
     "output_type": "stream",
     "text": [
      "core.47529\t\t      siNT_ER_E2_r3_chr21_trim.bam.bai\n",
      "siNT_ER_E2_r3_chr21_trim.bam  siNT_ER_E2_r3_chr21_trim_bowtie2.log\n"
     ]
    }
   ],
   "source": [
    "ls"
   ]
  },
  {
   "cell_type": "markdown",
   "id": "88f20225-9d82-44bb-ab66-9459938b2181",
   "metadata": {},
   "source": [
    "## Fichier bam\n",
    "\n",
    "- SAM: ‘Sequence Alignment/MAP’\n",
    "- BAM: binary/compressed version of SAM\n",
    "- Stocke les informations liées à l’alignement\n",
    "    - Coordonnées du read aligné\n",
    "    - Mapping quality\n",
    "    - CIGAR String\n",
    "    - Bitwise FLAG\n",
    "        - read paired, read mapped in proper pair, read unmapped, ...\n",
    "    - ...\n",
    "## Visualiser le contenu du fichier bam\n",
    "\n",
    "Le fichier bam est compressé. On peut voir son contenu avec la commande samtools.\n",
    "\n",
    "```bash \n",
    "# Visualiser le contenu du fichier bam\n",
    "# On utilise l’argument -h pour visualiser aussi le ‘header’.\n",
    "# On renvoie le flux de texte dans less. \n",
    "# On ajoute le paramètre -S pour tronquer les lignes qui excèdent\n",
    "# la largeur de l’écran \n",
    "samtools view -h siNT_ER_E2_r3_chr21_trim.bam | less -S\n",
    "```\n",
    "\n",
    "## Bitwise flag\n",
    "De nombreuses informations sont stockées dans la colonne 2 du fichier SAM/BAM\n",
    "- read pairs\n",
    "- reads mapped in proper pairs\n",
    "- reads unmapped\n",
    "- mates unmapped\n",
    "- reads reverse strand\n",
    "- mates reverse strand\n",
    "- first in pair\n",
    "- second in pair\n",
    "- not primary alignment\n",
    "- ...\n",
    "\n",
    "Détails:\n",
    "- 00000000001 → 2^0  = 1 (read paired)\n",
    "- 00000000010 → 2^1  = 2 (read mapped in proper pair)\n",
    "- 00000000100 → 2^2  = 4 (read unmapped)\n",
    "- 00000001000 → 2^3  = 8 (mate unmapped) …\n",
    "- 00000010000 → 2^4  = 16 (read reverse strand)\n",
    "- 00000001001 →  2^0+ 2^3 = 9 → (read paired, mate unmapped)\n",
    "- 00000001101 → 2^0+2^2+2^3 =13 ...\n",
    "- ...\n",
    "\n",
    "\n",
    "```{seealso}\n",
    "Voir (Explained SAM flags)[https://broadinstitute.github.io/picard/explain-flags.html]\n",
    "```\n",
    "\n",
    "## The extended CIGAR string\n",
    "\n",
    "Quelques exemples de drapeaux (flag)\n",
    "- M : match ou mismatch...\n",
    "- I : Insertion par rapport à la référence\n",
    "- D : Délétion par rapport à la référence\n",
    "- N : Espace dans l’alignement (Gap)\n",
    "\n",
    "```{seealso}\n",
    "Voir (SAM)[http://samtools.sourceforge.net/SAM1.pdf]\n",
    "```\n",
    "\n",
    "```\n",
    "ATTCAGATGCAGTA\n",
    "ATTCA--TGCAGTA\n",
    "```\n",
    "\n",
    "```\n",
    "5M2D7M\n",
    "```\n",
    "\n",
    "## Pourquoi filtrer sur la qualité ?\n",
    "\n",
    "Sommes-nous plus confiants \n",
    "- dans l’alignement du read 1 ?\n",
    "- dans l’alignement read 2 ?\n",
    "\n",
    "![](images/filter_quality.png)\n",
    "\n",
    "Sommes-nous plus confiants dans l’alignement 1 ?\n",
    "- Si la moyenne de qualité des nucléotides séquencés dans le read est 40 dans l’alignement 1’ ?\n",
    "- Si la moyenne de qualité des nucléotides séquencés dans le read est 10 ? \n",
    "\n",
    "![](images/filter_quality2.png)\n",
    "\n",
    "## Filtering for Mapping Quality (MAPQ)\n",
    "\n",
    "Mapping quality is a score that integrates both the quality of the read itself and the number of positions it maps\n",
    "\n",
    "Mapping quality score is computed from the probability that alignment is wrong:\n",
    "- takes mappability and sequence quality into account\n",
    "- -10.log10(Prob(alignment is wrong))\n",
    "    - p=0.01 -> MAPQ: 20\n",
    "    - p=0.001 -> MAPQ: 30\n",
    "    - p=0.0001 -> MAPQ: 40\n",
    "    - ...\n"
   ]
  }
 ],
 "metadata": {
  "kernelspec": {
   "display_name": "Bash",
   "language": "bash",
   "name": "bash"
  },
  "language_info": {
   "codemirror_mode": "shell",
   "file_extension": ".sh",
   "mimetype": "text/x-sh",
   "name": "bash"
  }
 },
 "nbformat": 4,
 "nbformat_minor": 5
}