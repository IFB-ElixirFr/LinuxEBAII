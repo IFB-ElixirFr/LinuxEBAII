{
 "cells": [
  {
   "cell_type": "markdown",
   "id": "a8157736-71f5-4089-89a9-867ba3323340",
   "metadata": {},
   "source": [
    "# Rogner les reads\n",
    "\n",
    "## Pourquoi ?\n",
    "\n",
    "Une étape de pré-processing\n",
    "- Les reads en entrée sont rognés afin d’éliminer des extrémités de mauvaise qualité.\n",
    "- En fonction de la capacité de l’outil à faire des alignements locaux ou globaux et de la qualité intrinsèque des données, cette étape peut être cruciale.\n",
    "    - Risque: peu de reads alignés\n",
    "\n",
    "Quelques logiciels existants\n",
    "- Sickle-trim (sliding window-based trimming)\n",
    "- FASTX-Toolkit (cut a defined number of nucleotides)\n",
    "- Trimmomatic\n",
    "- Cutadapt\n",
    "\n",
    "![](images/ebaii_trimmingPackman.png)\n",
    "\n",
    "## Sickle\n",
    "### Principe\n",
    "\n",
    "Objectif:\n",
    "- Supprimer les extrémités de mauvaise qualité.\n",
    "\n",
    "Solution:\n",
    "- Parcourir le read avec un fenêtre coulissante de droite à gauche. Calculer la qualité moyenne dans chaque fenêtre\n",
    "- Si la valeur de qualité chute en dessous d’une valeur seuil q, déléter l’extrémité 3’.\n",
    "- Si la taille restante du read est inférieure à une longueur seuil l, déléter le read.\n",
    "\n",
    "![](images/ebaii_sickle_slidingWindow.png)\n",
    "\n",
    "### L’interface de sickle\n",
    "\n",
    "Sickle contient 2 sous-commandes: pe (paired-end sequence trimming) et se (single-end sequence trimming)"
   ]
  },
  {
   "cell_type": "code",
   "execution_count": 1,
   "id": "3730b9a2-5633-459a-95c4-b2c43a3aaba7",
   "metadata": {},
   "outputs": [],
   "source": [
    "module load sickle-trim/1.33"
   ]
  },
  {
   "cell_type": "markdown",
   "id": "e8f59091-6f7f-479b-bbc0-0595cabcd7e1",
   "metadata": {},
   "source": [
    "```bash\n",
    "sickle -h\n",
    "```\n",
    "\n",
    "```bash\n",
    "Usage: sickle <command> [options]\n",
    "\n",
    "Command:\n",
    "pe\tpaired-end sequence trimming\n",
    "se\tsingle-end sequence trimming\n",
    "\n",
    "--help, display this help and exit\n",
    "--version, output version information and exit\n",
    "```"
   ]
  },
  {
   "cell_type": "code",
   "execution_count": 3,
   "id": "de1dd119-a533-4160-b672-9c7e8de5325e",
   "metadata": {},
   "outputs": [
    {
     "name": "stdout",
     "output_type": "stream",
     "text": [
      "\n",
      "Usage: sickle se [options] -f <fastq sequence file> -t <quality type> -o <trimmed fastq file>\n",
      "\n",
      "Options:\n",
      "-f, --fastq-file, Input fastq file (required)\n",
      "-t, --qual-type, Type of quality values (solexa (CASAVA < 1.3), illumina (CASAVA 1.3 to 1.7), sanger (which is CASAVA >= 1.8)) (required)\n",
      "-o, --output-file, Output trimmed fastq file (required)\n",
      "-q, --qual-threshold, Threshold for trimming based on average quality in a window. Default 20.\n",
      "-l, --length-threshold, Threshold to keep a read based on length after trimming. Default 20.\n",
      "-x, --no-fiveprime, Don't do five prime trimming.\n",
      "-n, --trunc-n, Truncate sequences at position of first N.\n",
      "-g, --gzip-output, Output gzipped files.\n",
      "--quiet, Don't print out any trimming information\n",
      "--help, display this help and exit\n",
      "--version, output version information and exit\n",
      "\n"
     ]
    }
   ],
   "source": [
    "# Obtenir de l’aide sur la sous-commande se.\n",
    "sickle se --help "
   ]
  },
  {
   "cell_type": "markdown",
   "id": "2a06cb6f-62e5-4e6b-b1a5-616ff285b7a3",
   "metadata": {},
   "source": [
    "## Exercice\n",
    "\n",
    "1- Créez un répertoire `trimmed` au même niveau dans l’arborescence que fastq\n",
    "\n",
    "2- Placez vous dans ce répertoire\n",
    "\n",
    "3- Invoquez l’aide de sickle (se)\n",
    "\n",
    "4- Construisez une commande qui combine les options suivantes :\n",
    "- Fournissez à sickle le fichier d’entrée siNT_ER_E2_r3_chr21.fastq.\n",
    "- Qualité de type “Sanger”, seuils de qualité et de longueur tous deux à 20.\n",
    "- Demandez à `sickle se` de produire un fichier de sortie que vous nommerez siNT_ER_E2_r3_chr21_trim.fastq et qui devra être créé dans le dossier trimmed.\n",
    "- Rediriger la sortie standard dans un fichier que vous nommerez siNT_ER_E2_r3_chr21_sickle.log, placé dans le dossier `trimmed`.\n",
    "\n",
    "5- Comptez le nombre de lignes présentes dans les fichiers fastq avant et après utilisation de sickle (commande `wc -l`)\n",
    "\n",
    "6- Lisez le contenu du fichier log. Obtenez-vous le même résultat ? \n",
    "\n",
    "## Solution"
   ]
  },
  {
   "cell_type": "code",
   "execution_count": null,
   "id": "4f0ba48d-33dd-4d2f-8287-b15d23eeae0a",
   "metadata": {},
   "outputs": [],
   "source": [
    "# On remonte d’un niveau dans l’arborescence\n",
    "cd /shared/projects/form_2022_32/coursLinux/demo/chip-seq/  "
   ]
  },
  {
   "cell_type": "code",
   "execution_count": null,
   "id": "fff4990b-1504-4d73-b0d4-dfac1b4dd353",
   "metadata": {},
   "outputs": [],
   "source": [
    "# On créé un répertoire\n",
    "mkdir trimmed"
   ]
  },
  {
   "cell_type": "code",
   "execution_count": null,
   "id": "7aec0b82-38ac-49b9-a530-b799639ed0bd",
   "metadata": {},
   "outputs": [],
   "source": [
    "# On se déplace dans ce répertoire\n",
    "cd trimmed"
   ]
  },
  {
   "cell_type": "code",
   "execution_count": null,
   "id": "1153f7ab-a2ed-4ab7-88f0-738fa9ca5123",
   "metadata": {},
   "outputs": [],
   "source": [
    "# On lance sickle\n",
    "# &> redirige la sortie d’erreur et la sortie standard dans un fichier\n",
    "sickle se -f ../fastq/siNT_ER_E2_r3_chr21.fastq -t sanger -o siNT_ER_E2_r3_chr21_trim.fastq &> siNT_ER_E2_r3_chr21_sickle.log"
   ]
  },
  {
   "cell_type": "code",
   "execution_count": null,
   "id": "08602c25-0a64-4087-96d9-b5824a002c76",
   "metadata": {},
   "outputs": [],
   "source": [
    "# Le nombre de lignes présentes dans les fichiers fastq\n",
    "# Données brutes\n",
    "wc -l ../fastq/siNT_ER_E2_r3_chr21.fastq     "
   ]
  },
  {
   "cell_type": "code",
   "execution_count": null,
   "id": "5d903007-edcb-4482-9393-c7cb6975a497",
   "metadata": {},
   "outputs": [],
   "source": [
    "# Données nettoyées\n",
    "wc -l siNT_ER_E2_r3_chr21_trim.fastq         "
   ]
  }
 ],
 "metadata": {
  "kernelspec": {
   "display_name": "Bash",
   "language": "bash",
   "name": "bash"
  },
  "language_info": {
   "codemirror_mode": "shell",
   "file_extension": ".sh",
   "mimetype": "text/x-sh",
   "name": "bash"
  }
 },
 "nbformat": 4,
 "nbformat_minor": 5
}
