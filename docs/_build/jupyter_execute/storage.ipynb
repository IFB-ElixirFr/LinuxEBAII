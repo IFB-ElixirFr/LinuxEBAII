{
 "cells": [
  {
   "cell_type": "markdown",
   "id": "71f1135d-0dcd-4004-a0f7-2b3fbae93207",
   "metadata": {},
   "source": [
    "# Stockage fichiers\n",
    "\n",
    "## Où stocker vos fichiers/dossiers ?\n",
    "\n",
    "Varie selon les plateformes. Se renseigner !\n",
    "\n",
    "**A l'IFB**\n",
    "\n",
    "❌\n",
    "Votre “maison”: ~ (e.g. /shared/home/cnorris)\n",
    "- Ce dossier est très limité en stockage\n",
    "- Pour les fichiers et dossiers **très peu volumineux**\n",
    "- **Pas pour faire des analyses**\n",
    "- Utiliser la commande cd (sans argument) pour vous rendre dans ce dossier\n",
    "- Le chemin vers le dossier home est symbolisé par ~\n",
    "- Quota de **5Go**\n",
    "\n",
    "\n",
    "✅\n",
    "Votre dossier projet (e.g /shared/projects/<project>)\n",
    "- **C’est le dossier dans lequel vous devez téléverser* vos données**\n",
    "- **C’est LE dossier pour lancer vos analyses …**\n",
    "\n",
    "_* Vous pouvez aussi dire ‘uploader’ :)_\n",
    "    \n",
    "## Créer des répertoires\n",
    "\n",
    "On utilisera la commande `mkdir` (**m**a**k**e **dir**ectory)."
   ]
  },
  {
   "cell_type": "code",
   "execution_count": 1,
   "id": "f1bb4a2f-e348-4e55-b8d5-934bec0feaf9",
   "metadata": {},
   "outputs": [],
   "source": [
    "# remplacer <project>\n",
    "# cd /shared/projects/<project>/\n",
    "cd /shared/projects/form_2022_32/coursLinux/"
   ]
  },
  {
   "cell_type": "code",
   "execution_count": 2,
   "id": "14983167-03a1-4cbf-a9f7-82b75b6a61b2",
   "metadata": {},
   "outputs": [
    {
     "name": "stdout",
     "output_type": "stream",
     "text": [
      "mkdir: impossible de créer le répertoire « chip-seq »: Le fichier existe\n"
     ]
    },
    {
     "ename": "",
     "evalue": "1",
     "output_type": "error",
     "traceback": []
    }
   ],
   "source": [
    "# On crée le dossier\n",
    "mkdir chip-seq"
   ]
  },
  {
   "cell_type": "code",
   "execution_count": null,
   "id": "218f9aac-1d20-4216-8df3-e13ddfef0e6f",
   "metadata": {},
   "outputs": [],
   "source": [
    "# Vérifier la création du dossier\n",
    "ls -l"
   ]
  },
  {
   "cell_type": "markdown",
   "id": "1462da45-15e6-409b-8892-b425d8c97f94",
   "metadata": {},
   "source": [
    "````{margin} Sur le ./\n",
    "L'utilisation de ./ est souvent facultative.\n",
    "````"
   ]
  },
  {
   "cell_type": "code",
   "execution_count": null,
   "id": "1b2031e4-531b-4cac-807e-7aba9cca8daf",
   "metadata": {},
   "outputs": [],
   "source": [
    "# Equivalent de cd ./chip-seq\n",
    "cd chip-seq"
   ]
  },
  {
   "cell_type": "code",
   "execution_count": null,
   "id": "c22e4433-e1af-44ca-8f0a-176ede036611",
   "metadata": {},
   "outputs": [],
   "source": [
    "# On crée deux dossiers d'un coup\n",
    "mkdir bam fastq\t "
   ]
  },
  {
   "cell_type": "code",
   "execution_count": null,
   "id": "0d81b1fd-dc47-45e6-a4d8-8d4d91c215a1",
   "metadata": {},
   "outputs": [],
   "source": [
    "# On a bien deux dossiers\n",
    "ls -l"
   ]
  },
  {
   "cell_type": "code",
   "execution_count": null,
   "id": "55a15440-82ea-42ac-a0cf-0cc3c4039991",
   "metadata": {},
   "outputs": [],
   "source": [
    "# On se déplace dans fastq\n",
    "cd fastq"
   ]
  },
  {
   "cell_type": "code",
   "execution_count": null,
   "id": "caead73b-a981-4369-91e3-f3fa471907ec",
   "metadata": {},
   "outputs": [],
   "source": [
    "# On remonte de deux niveaux\n",
    "cd ../.."
   ]
  },
  {
   "cell_type": "code",
   "execution_count": null,
   "id": "c0882cb8-c57d-400f-92b7-9eb914cc76d9",
   "metadata": {},
   "outputs": [],
   "source": [
    "# On créé un chemin vers un dossier ‘bam’\n",
    "mkdir -p rna-seq/output/bam"
   ]
  },
  {
   "cell_type": "code",
   "execution_count": null,
   "id": "3eb0d19f-d2f7-4899-809e-78b9c2612fb3",
   "metadata": {},
   "outputs": [],
   "source": [
    "# On liste Récursivement les dossiers\n",
    "ls -R"
   ]
  },
  {
   "cell_type": "code",
   "execution_count": null,
   "id": "f0530cd4-b45a-466f-9190-384171e4eaf0",
   "metadata": {},
   "outputs": [],
   "source": [
    "tree"
   ]
  },
  {
   "cell_type": "markdown",
   "id": "dcbed231-9f5f-4998-afe2-d44f51ca1c52",
   "metadata": {
    "tags": []
   },
   "source": [
    "## Exercices\n",
    "\n",
    "1. **Déplacez-vous dans votre dossier projet**\n",
    "2. Créez un répertoire **annotations dans votre dossier projet**\n",
    "3. **Déplacez-vous dans le dossier annotations**\n",
    "4. **Dans ce dossier créez un dossier hg38 et son sous-dossier gff (hg38/gff)**\n",
    "5. Déplacez-vous dans le répertoire **hg38/gff**\n",
    "6. Déplacez-vous dans annotations.\n",
    "7. Créez un sous-dossier **mm10** et son sous-dossier gff (**mm10/gff**)\n",
    "8. Déplacez-vous dans **mm10/gff**\n",
    "9. Depuis ce dossier listez le contenu du dossier **hg38**\n",
    "\n",
    "\n",
    "````{tab-set}\n",
    "```{tab-item} Tab 1 title\n",
    "My first tab\n",
    "```\n",
    "\n",
    "```{tab-item} Tab 2 title\n",
    "My second tab with `some code`!\n",
    "```\n",
    "````"
   ]
  },
  {
   "cell_type": "code",
   "execution_count": null,
   "id": "e844248f-7810-41a9-88e9-c8913f3555ab",
   "metadata": {},
   "outputs": [],
   "source": [
    "# remplacer <project> \n",
    "# cd /shared/projects/<project>/\n",
    "cd /shared/projects/form_2022_32/coursLinux/"
   ]
  },
  {
   "cell_type": "code",
   "execution_count": null,
   "id": "48fbd798-bd28-497a-b3c4-4babd1f3515d",
   "metadata": {},
   "outputs": [],
   "source": [
    "# On crée le dossier\n",
    "mkdir annotations"
   ]
  },
  {
   "cell_type": "code",
   "execution_count": null,
   "id": "03eb7a9e-fa96-41c8-a4fd-79f7e7a1d40b",
   "metadata": {},
   "outputs": [],
   "source": [
    "# On se déplace\n",
    "cd annotations"
   ]
  },
  {
   "cell_type": "code",
   "execution_count": null,
   "id": "91ebd367-69d4-4b9f-b099-60826de52e9e",
   "metadata": {},
   "outputs": [],
   "source": [
    "# Où sommes nous ?\n",
    "pwd"
   ]
  },
  {
   "cell_type": "code",
   "execution_count": null,
   "id": "4b00698a-e112-4e05-898d-12ceea15ce01",
   "metadata": {},
   "outputs": [],
   "source": [
    "# On crée le dossier gff dans hg38\n",
    "mkdir -p hg38/gff"
   ]
  },
  {
   "cell_type": "code",
   "execution_count": null,
   "id": "17fa93c9-0ef4-457c-868e-940421f3674c",
   "metadata": {},
   "outputs": [],
   "source": [
    "# On se déplace\n",
    "cd hg38/gff"
   ]
  },
  {
   "cell_type": "code",
   "execution_count": null,
   "id": "e0867af1-1857-4d6e-bf20-7286e77080bf",
   "metadata": {},
   "outputs": [],
   "source": [
    "# On se déplace dans annotations\n",
    "cd ../.."
   ]
  },
  {
   "cell_type": "code",
   "execution_count": null,
   "id": "64754bf0-0b2e-4928-8a79-c2a1853f46f4",
   "metadata": {},
   "outputs": [],
   "source": [
    "# On crée le dossier gff dans mm10\n",
    "mkdir -p mm10/gff"
   ]
  },
  {
   "cell_type": "code",
   "execution_count": null,
   "id": "b25206d5-f8f7-44d4-9288-ce8601f3b5b1",
   "metadata": {},
   "outputs": [],
   "source": [
    "cd mm10/gff"
   ]
  },
  {
   "cell_type": "code",
   "execution_count": null,
   "id": "6cb3f516-4ec7-4b67-86c2-78cd053107aa",
   "metadata": {},
   "outputs": [],
   "source": [
    "# On voit un dossier gff\n",
    "ls ../../hg38"
   ]
  },
  {
   "cell_type": "code",
   "execution_count": null,
   "id": "25802143-13cc-41e8-b86d-72bd2c92b84d",
   "metadata": {},
   "outputs": [],
   "source": [
    "# On se déplace dans annotations\n",
    "# remplacer <project> \n",
    "# cd /shared/projects/<project>/annotations/hg38 \n",
    "cd /shared/projects/form_2022_32/coursLinux/annotations/hg38 "
   ]
  },
  {
   "cell_type": "code",
   "execution_count": null,
   "id": "f8024d2b-297e-4b9e-a4c2-c3b74daa9507",
   "metadata": {},
   "outputs": [],
   "source": [
    "mkdir bed; cd bed"
   ]
  },
  {
   "cell_type": "code",
   "execution_count": null,
   "id": "3f9de5dc-e265-441f-9114-b87509387eaa",
   "metadata": {},
   "outputs": [],
   "source": [
    "# On télécharge le fichier \n",
    "wget https://zenodo.org/record/5716151/files/hg38_exons.bed.gz"
   ]
  },
  {
   "cell_type": "code",
   "execution_count": null,
   "id": "369d1351-4661-4390-9ae9-280ad74fa40b",
   "metadata": {},
   "outputs": [],
   "source": [
    "# Le fichier compressé (finit par \".gz\"). Il pèse 8,4Mo.\n",
    "ls -lh"
   ]
  },
  {
   "cell_type": "code",
   "execution_count": null,
   "id": "3b109e3b-63c3-44fd-8048-2e3da07a9286",
   "metadata": {},
   "outputs": [],
   "source": [
    "# Vérification du type de fichier\n",
    "file hg38_exons.bed.gz"
   ]
  },
  {
   "cell_type": "code",
   "execution_count": null,
   "id": "02cd59c8-9138-4ddf-9f77-5b58d59ef73c",
   "metadata": {},
   "outputs": [],
   "source": [
    "# On le décompresse\n",
    "gunzip hg38_exons.bed.gz"
   ]
  },
  {
   "cell_type": "code",
   "execution_count": null,
   "id": "ddeaa7e3-975e-41f9-9ff8-0124d6c06ff8",
   "metadata": {},
   "outputs": [],
   "source": [
    "# Le fichier a perdu l'extension gz. Il pèse 81Mo.\n",
    "ls -lh"
   ]
  },
  {
   "cell_type": "code",
   "execution_count": null,
   "id": "b1c5435a-b764-4742-960f-ea29beeea790",
   "metadata": {},
   "outputs": [],
   "source": [
    "# Vérification du type de fichier : il a changé.\n",
    "file hg38_exons.bed"
   ]
  },
  {
   "cell_type": "markdown",
   "id": "88b4a9cd-68f6-4838-b106-aaf2606c9ed4",
   "metadata": {},
   "source": [
    "### Le fichier hg38_exons.bed\n",
    "Contient les coordonnées (début/fin) des exons humains au format BED.\n",
    "\n",
    "#### Focus sur le format BED\n",
    "\n",
    "##### Type de fichier\n",
    "\n",
    "Annotation\n",
    "\n",
    "##### Signification du nom\n",
    "\n",
    "Browser Extensible Format\n",
    "\n",
    "##### Qui le génère\n",
    "\n",
    "Les outils d’annotation, TopHat\n",
    "\n",
    "##### Qui le lit\n",
    "\n",
    "Les visualisateurs, vous\n",
    "\n",
    "##### Remarque\n",
    "Le format BED est un format multi-forme, qui peut être utilisé dans beaucoup de contextes.\n",
    "\n",
    "##### Exemple 1 (simple)\n",
    "\n",
    "```\n",
    "chr1   100   200    peak_1    123\n",
    "```\n",
    "\n",
    "##### Explications\n",
    "\n",
    "Chaque ligne est une annotation. Les informations sont tabulées, i.e. chaque ligne contient un nombre fixe de colonnes (ici, 5), séparées par des tabulations.\n",
    "\n",
    "Le format BED est utilisée pour beaucoup de types d’annotations, comme les régions MACS :\n",
    "1. (chr1) le nombre du chromosome (ou du scaffold)\n",
    "2. (100) position extrémale en 5’\n",
    "3. (2099) position extrémale en 3’\n",
    "4. (peak_1) nom systématique de la jonction\n",
    "5. (123) score de la région\n",
    "\n",
    "Dans d’autres contexte, on peut ne trouver que les 3 ou 4 premiers champs.\n",
    "\n",
    "##### Exemple 2 (jonctions entre exons)\n",
    "\n",
    "```\n",
    "chr1   990   2099   JUNC00001560   3   +   990   2099   255,0,0   2   40,67   0,1042\n",
    "```\n",
    "\n",
    "##### Explications\n",
    "\n",
    "Ici, le format contient 12 colonnes:\n",
    "6. (chr1) le nombre du chromosome (ou du scaffold)\n",
    "7. (990) position extrémale en 5’ des lectures chevauchant la jonction\n",
    "8. (2099) position extrémale en 3’ des lectures chevauchant la jonction\n",
    "9. (JUNC00001560) nom systématique de la jonction\n",
    "10. (3) nombre de lectures couvrant la jonction\n",
    "11. (+) brin\n",
    "12. (990) même chose que la colonne 2\n",
    "13. (2099) même chose que la colonne 3\n",
    "14. (255,0,0) pas important\n",
    "15. (2) pas important\n",
    "16. (40,67) taille maximum des lectures couvrant l’exon à gauche et à droite de l’intron.\n",
    "17. (0,1042) pas important\n",
    "\n",
    "\n",
    "![](images/BED.png)\n",
    "##### Pour en savoir plus\n",
    "\n",
    "Documentation : http://genome.ucsc.edu/FAQ/FAQformat.html#format1\n",
    "\n",
    "#### Notre fichier\n",
    "\n",
    "```\n",
    "chr1\t100000636\t100000739\tRNU6-1318P|ENST00000365389|snRNA\t.\t-\n",
    "chr1\t100007033\t100007156\tAC118553.2|ENST00000638792|protein_coding\t.\t+\n",
    "chr1\t100007033\t100007156\tAC118553.2|ENST00000638968|nonsense_mediated_decay\t.\t+\n",
    "chr1\t100007033\t100007156\tAC118553.2|ENST00000639037|protein_coding\t.\t+\n",
    "chr1\t100007033\t100007156\tAC118553.2|ENST00000639040|nonsense_mediated_decay\t.\t+\n",
    "chr1\t100007033\t100007156\tAC118553.2|ENST00000639171|nonsense_mediated_decay\t.\t+\n",
    "chr1\t100007033\t100007156\tAC118553.2|ENST00000640238|nonsense_mediated_decay\t.\t+\n",
    "chr1\t100007033\t100007156\tAC118553.2|ENST00000640357|nonsense_mediated_decay\t.\t+\n",
    "chr1\t100007033\t100007156\tSLC35A3|ENST00000370153|protein_coding\t.\t+\n",
    "chr1\t100007033\t100007156\tSLC35A3|ENST00000370155|nonsense_mediated_decay\t.\t+\n",
    "```\n",
    "\n",
    "```{note}\n",
    "Positions Start et End sont toujours données par rapport au sens 5'/3' du brin +. Les coordonnées sont 'zero-based, half-open'\n",
    "```\n",
    "\n",
    "### Visualiser le contenu d'un fichier\n",
    "\n",
    "- On utilisera `less` ou `more` (*) pour parcourir le fichier ligne à ligne (logiciels de type 'pager').\n",
    "- On utilisera `head` ou `tail` pour voir les **n premières** ou **n dernières** lignes d'un fichier.\n",
    "- La commande cat permet de renvoyer tout le contenu d'un fichier sur la sortie standard (l'écran). <ctrl> + c (cancel) pour arrêter. \n",
    "- Les **raccourcis clavier dans less** sont les mêmes que pour la commande man.\n",
    "\n",
    "(*) Less does more or less the same as more, but rather more than less, I like less more than more (Jacques van Helden)\n",
    "(*) Un avantage de less est qu’on peut remonter en arrière; avec more … c’est mort (Marc Deloger)\n",
    "    \n",
    "`````{admonition}  Raccourcis dans less\n",
    ":class: tip\n",
    "    ↑ : se déplacer vers le haut. <br>\n",
    "    ↓ : se déplacer vers le bas. <br>\n",
    "    > : Aller à la première ligne.  <br>\n",
    "    < : Aller à la dernière ligne. <br>\n",
    "    /chr : pour chercher le terme ‘chr’ (puis touche ‘enter’). <br>\n",
    "    n : (next) pour chercher la prochaine occurrence de 'truc'. <br>\n",
    "    p: (previous) pour chercher l'occurrence précédente de 'truc'. <br>\n",
    "    q : pour quitter. <br>\n",
    "`````\n",
    "\n",
    "### Exercices\n",
    "\n",
    "1. Utilisez la commande **head** pour regarder les 10 premières lignes du fichier hg38_exons.bed\n",
    "2. Utilisez la commande **tail** pour regarder les 10 dernières lignes du fichier hg38_exons.bed\n",
    "3. Promenez-vous dans le fichier hg38_exons.bed en utilisant la commande less. Quittez **less**.\n",
    "4. Renvoyer le contenu du fichier à l'écran avec **cat**. \n",
    "\n",
    "```{note}\n",
    "Si la lecture vous fatigue, utilisez <ctrl> + c (cancel) pour arrêter le défilement. *Attention ce truc ne semble pas bien marcher à travers Jupyter Lab\n",
    "```\n",
    "\n",
    "### Solutions"
   ]
  },
  {
   "cell_type": "code",
   "execution_count": null,
   "id": "9a525db5-73b2-429d-ba7a-ee86c7c06150",
   "metadata": {},
   "outputs": [],
   "source": [
    "head -n 10 hg38_exons.bed"
   ]
  },
  {
   "cell_type": "markdown",
   "id": "2c8c58aa-7c8d-442f-a222-2a3a0be1cbea",
   "metadata": {},
   "source": [
    "```bash\n",
    "tail -n 10 hg38_exons.bed\n",
    "```\n",
    "\n",
    "```bash\n",
    "less hg38_exons.bed # q to quit\n",
    "```\n",
    "\n",
    "```\n",
    "cat hg38_exons.bed\n",
    "```\n",
    "\n",
    "### Compter les lignes d'un fichier\n",
    "\n",
    "Utiliser la commande wc (word count) avec l'argument -l (line)."
   ]
  },
  {
   "cell_type": "code",
   "execution_count": null,
   "id": "4718026d-8fcf-482f-bf2f-35024e76655b",
   "metadata": {},
   "outputs": [],
   "source": [
    "wc -l hg38_exons.bed  # 1261870 exons"
   ]
  },
  {
   "cell_type": "markdown",
   "id": "8553685b-808e-4d08-beda-47630a6dd522",
   "metadata": {},
   "source": [
    "### Extraire des colonnes\n",
    "\n",
    "- Pour extraire des colonnes on utilisera la commande cut avec l'argument `-f` (field)\n",
    "- Les colonnes du fichiers doivent nécessairement être séparées par une **tabulation** (sinon utiliser l'argument `-d` pour 'delimiter')\n",
    "\n",
    "```{tip}\n",
    "Si la lecture vous fatigue, utilisez <ctrl> + c (cancel) pour arrêter le défilement.\n",
    "```\n",
    "\n",
    "```bash\n",
    "# extraire la colonne 1\n",
    "cut -f 1 hg38_exons.bed\n",
    "```\n",
    "\n",
    "```bash\n",
    "# extraire les colonnes 1 et 2\n",
    "cut -f 1,2 hg38_exons.bed\n",
    "```\n",
    "\n",
    "```bash\n",
    "# cut ignore malheureusement l’ordre indiqué\n",
    "cut -f 2,1 hg38_exons.bed \n",
    "```\n",
    "\n",
    "\n",
    "```bash\n",
    "# extraire la colonne 3 jusqu'à 5\n",
    "cut -f 3-5 hg38_exons.bed\n",
    "```\n",
    "\n",
    "```bash\n",
    "# extraire depuis la colonne 3 jusqu'à la fin de la ligne\n",
    "cut -f 3- hg38_exons.bed\n",
    "```\n",
    "\n",
    "### Trier un fichier \n",
    "\n",
    "Il faut utiliser la commande sort (tri alphabétique par défaut).\n",
    "- `-k` (**k**ey): e.g \n",
    "    - `-k1,1` utiliser les caractères de la **k**olonne 1 à 1 pour le tri.\n",
    "    - `-k2,2nr` utiliser les caractères de la colonne 2 à 2 pour faire un tri **n**umérique (entiers) en inversant l'ordre (**r**everse).\n",
    "    - `-k2,2g` (**--g**eneral-numeric-sort) pour effectuer, sur la colonne 2, un tri sur des valeurs décimales.\n",
    "    \n",
    "```bash \n",
    "# Tri alphabétique en considérant tous les caractères de chaque ligne\n",
    "sort hg38_exons.bed\n",
    "```\n",
    "\n",
    "```bash \n",
    "# Tri par chromosome (colonne 1)\n",
    "sort -k1,1 hg38_exons.bed \n",
    "```\n",
    "\n",
    "```bash \n",
    "# Trier le fichier sur la colonne 1 (chromosomes, tri alphabétique) \n",
    "# puis par colonne 2 (starts, tri numérique):\n",
    "# Trier les lignes par coordonnées\n",
    "sort -k1,1 -k2,2nr hg38_exons.bed\n",
    "```"
   ]
  }
 ],
 "metadata": {
  "kernelspec": {
   "display_name": "Bash",
   "language": "bash",
   "name": "bash"
  },
  "language_info": {
   "codemirror_mode": "shell",
   "file_extension": ".sh",
   "mimetype": "text/x-sh",
   "name": "bash"
  }
 },
 "nbformat": 4,
 "nbformat_minor": 5
}