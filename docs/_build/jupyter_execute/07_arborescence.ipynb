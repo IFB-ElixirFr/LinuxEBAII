{
 "cells": [
  {
   "cell_type": "markdown",
   "id": "cd716586-9c6d-4c09-9adc-86b1798cc318",
   "metadata": {},
   "source": [
    "# Arborescence de fichiers\n",
    "## L'arborescence du système de fichier \n",
    "\n",
    "- Le **système de fichier** peut être vu comme un **arbre** dont les **feuilles** sont des **dossiers** et **fichiers**. On peut se **déplacer** dans cet arbre en suivant les branches.\n",
    "- L'arbre ci-dessous est ancré par sa **racine**, le dossier `/`\n",
    "\n",
    "![](images/arborescence.png)\n",
    "- En suivant les branches, nous observons que le dossier `/` contient notamment \n",
    "    - un dossier `shared` \n",
    "![](images/arborescence2.png)\n",
    "        - qui lui même contient un dossier `bank`\n",
    "![](images/arborescence3.png)\n",
    "        - qui lui même contient un dossier `homo_sapiens`\n",
    "![](images/arborescence4.png)\n",
    "- Chemin du dossier `homo_sapiens` \n",
    "    - `/shared/bank/homo_sapiens`\n",
    "    \n",
    "![](images/arborescence5.png)\n",
    "\n",
    "## Faire référence à un dossier ou fichier ?\n",
    "\n",
    "Notre objectif est de nous rendre dans le dossier `homo_sapiens`\n",
    "Nous utiliserons les commandes `pwd` (*print work directory*) et `cd` (*change directory*) et nous aurons alors deux choix :\n",
    "1) En spécifiant un chemin depuis la racine. \n",
    "    - On parle de chemin absolu\n",
    "\n",
    "![](images/arborescence6.png)"
   ]
  },
  {
   "cell_type": "code",
   "execution_count": 1,
   "id": "f26d246f-56db-4d2a-8ff9-1c77a0503f1a",
   "metadata": {},
   "outputs": [
    {
     "name": "stdout",
     "output_type": "stream",
     "text": [
      "/shared/bank/homo_sapiens\n",
      "\u001b[?2004h"
     ]
    },
    {
     "name": "stdout",
     "output_type": "stream",
     "text": [
      "\u001b[?2004l\r",
      "/shared/bank/homo_sapiens\n"
     ]
    },
    {
     "name": "stdout",
     "output_type": "stream",
     "text": [
      "\u001b[?2004h"
     ]
    },
    {
     "ename": "",
     "evalue": "1",
     "output_type": "error",
     "traceback": []
    }
   ],
   "source": [
    "cd /shared/bank/homo_sapiens\n",
    "pwd"
   ]
  },
  {
   "cell_type": "markdown",
   "id": "31c31203-1786-4fbf-b1fa-31e73f7753ca",
   "metadata": {},
   "source": [
    "2) En spécifiant un chemin depuis le répertoire courant. \n",
    "    - Le répertoire courant est celui dans lequel l’utilisateur se trouve à un instant t.\n",
    "    - Le chemin sera relatif au répertoire courant."
   ]
  },
  {
   "cell_type": "code",
   "execution_count": 2,
   "id": "ec5110c4-64bc-4db9-9ce5-c076f213d1ea",
   "metadata": {},
   "outputs": [
    {
     "name": "stdout",
     "output_type": "stream",
     "text": [
      "/shared/bank/homo_sapiens/hg19/star-2.7.5a\n"
     ]
    }
   ],
   "source": [
    "# Depuis homo_sapiens on peut aller dans hg19 puis star\n",
    "cd hg19/star-2.7.5a\n",
    "pwd\n",
    "# ou cd ./hg19/star-2.7.5a\n",
    "# Avec “.” pour signifie “le répertoire \n",
    "# courant”."
   ]
  },
  {
   "cell_type": "markdown",
   "id": "e7183eea-ddc3-4c90-aa15-e825dd637fdf",
   "metadata": {},
   "source": [
    "![](images/arborescence7.png)"
   ]
  },
  {
   "cell_type": "code",
   "execution_count": 3,
   "id": "15e3dc3a-9dd8-4e9b-ba5f-cebe68d61815",
   "metadata": {},
   "outputs": [
    {
     "name": "stdout",
     "output_type": "stream",
     "text": [
      "/shared/bank/homo_sapiens/hg19\n"
     ]
    }
   ],
   "source": [
    "# le répertoire précédent\n",
    "cd .. \n",
    "pwd"
   ]
  },
  {
   "cell_type": "code",
   "execution_count": 4,
   "id": "7d690a94-a742-49bd-8e4f-e5b9d9939eb4",
   "metadata": {},
   "outputs": [
    {
     "name": "stdout",
     "output_type": "stream",
     "text": [
      "/shared/bank/homo_sapiens/hg19/star-2.7.5a\n"
     ]
    }
   ],
   "source": [
    "cd ./star-2.7.5a\n",
    "pwd"
   ]
  },
  {
   "cell_type": "markdown",
   "id": "72ffa672",
   "metadata": {},
   "source": [
    "Il existe également une commande permettant de voir cette architecture de dossiers et fichiers. Plaçons nous dans le dossier `homo_sapiens`"
   ]
  },
  {
   "cell_type": "code",
   "execution_count": 5,
   "id": "75733b33-761b-46c6-8f6d-468d37dc08fd",
   "metadata": {},
   "outputs": [],
   "source": [
    "cd /shared/bank/homo_sapiens"
   ]
  },
  {
   "cell_type": "code",
   "execution_count": 6,
   "id": "d8efc96f-419a-42d9-9707-7962ea6d6767",
   "metadata": {},
   "outputs": [
    {
     "name": "stdout",
     "output_type": "stream",
     "text": [
      ".\n",
      "├── GRCh37\n",
      "│   ├── bowtie2\n",
      "│   ├── bwa\n",
      "│   ├── fasta\n",
      "│   ├── gff\n",
      "│   ├── picard\n",
      "│   ├── snpeff\n",
      "│   ├── star -> star-2.7.2b\n",
      "│   ├── star-2.6\n",
      "│   ├── star-2.7.2b\n",
      "│   └── star-2.7.5a\n",
      "├── GRCh38\n",
      "│   ├── bwa\n",
      "│   ├── fasta\n",
      "│   ├── gff3\n",
      "│   ├── gnomad\n",
      "│   │   ├── 2.1\n",
      "│   │   │   ├── exomes\n",
      "│   │   │   └── genomes\n",
      "│   │   └── 3.0\n",
      "│   │       └── genomes\n",
      "│   ├── gtf\n",
      "│   ├── star -> star-2.6.1a\n",
      "│   ├── star-2.6.1a\n",
      "│   ├── star-2.7.5a\n",
      "│   └── trinity\n",
      "│       ├── __chkpts\n",
      "│       └── ref_genome.fa.star.idx\n",
      "├── GRCh38.p14\n",
      "│   ├── Ensembl_110\n",
      "│   │   ├── fasta\n",
      "│   │   ├── gff3\n",
      "│   │   ├── gtf\n",
      "│   │   └── indexes\n",
      "│   │       ├── bowtie2-2.5.1\n",
      "│   │       ├── star-2.7.10b\n",
      "│   │       └── star-2.7.11a\n",
      "│   ├── latest_ensembl -> Ensembl_110\n",
      "│   ├── latest_refseq -> RefSeq_2023_10\n",
      "│   └── RefSeq_2023_10\n",
      "│       ├── fasta\n",
      "│       ├── gff\n",
      "│       ├── gtf\n",
      "│       └── indexes\n",
      "├── hg19\n",
      "│   ├── bowtie\n",
      "│   ├── bowtie2\n",
      "│   ├── bwa\n",
      "│   ├── fasta\n",
      "│   ├── gtf\n",
      "│   ├── hisat2\n",
      "│   ├── picard\n",
      "│   ├── snpeff\n",
      "│   │   └── hg19\n",
      "│   ├── star-2.6\n",
      "│   ├── star-2.7.2b\n",
      "│   └── star-2.7.5a\n",
      "├── hg38\n",
      "│   ├── bmtool\n",
      "│   ├── bowtie2\n",
      "│   ├── fasta\n",
      "│   ├── hisat2\n",
      "│   ├── srprism\n",
      "│   ├── star-2.6\n",
      "│   ├── star-2.7.2b\n",
      "│   └── star-2.7.5a\n",
      "└── latest_genome -> GRCh38.p14\n",
      "\n",
      "67 directories\n"
     ]
    }
   ],
   "source": [
    "# -d : List directories only\n",
    "tree -d"
   ]
  },
  {
   "cell_type": "markdown",
   "id": "dea39636-d892-4afb-aac8-791152efcf1c",
   "metadata": {},
   "source": [
    "Dans ce cas, nous affichons l'ensemble des dossiers en vert ci-dessous ainsi que l'ensemble des sous-dossiers qu'ils contiennent \n",
    "![](images/arborescence8.png)\n",
    "\n",
    "## Autocompletion\n",
    "\n",
    "Si vous voulez briller en société ou en famille en donnant l'impression de taper vite, utilisez l'auto-complétion\n",
    "- De manière plus générale c'est essentiel pour taper un chemin sans se tromper. \n",
    "- E.g. Aller dans le répertoire \n",
    "    - `/usr/local/bin`\n",
    "\n",
    "Vous n’avez pas fini d’entendre `<TAB><TAB>`\n",
    "\n",
    "\n",
    "![gifTab](images/tabTab.gif 'gifTab')\n",
    "\n",
    "\n",
    "## L'arborescence: Demo\n",
    "\n",
    "On utilise ci-dessous la commande `pwd` (print working directory) et la commande `cd` (change directory). *\n"
   ]
  },
  {
   "cell_type": "code",
   "execution_count": 7,
   "id": "51d28580-b8e0-4430-ac51-cd4b1f58c70d",
   "metadata": {},
   "outputs": [
    {
     "name": "stdout",
     "output_type": "stream",
     "text": [
      "/shared/bank/homo_sapiens/hg38/star-2.7.5a\n"
     ]
    }
   ],
   "source": [
    "# On se déplace dans le dossier star\n",
    "cd /shared/bank/homo_sapiens/hg38/star-2.7.5a/\n",
    "\n",
    "# On imprime le chemin vers le répertoire courant\n",
    "pwd"
   ]
  },
  {
   "cell_type": "code",
   "execution_count": 8,
   "id": "74b8d046-d79d-4982-8c44-f19a38cd72f7",
   "metadata": {},
   "outputs": [
    {
     "name": "stdout",
     "output_type": "stream",
     "text": [
      "/shared/bank/homo_sapiens/hg38\n"
     ]
    }
   ],
   "source": [
    "# On remonte d'un répertoire (hg38)\n",
    "cd ..\n",
    "pwd"
   ]
  },
  {
   "cell_type": "code",
   "execution_count": 9,
   "id": "7b5c2c45-08da-41a7-bd90-c7a2dfd666e8",
   "metadata": {},
   "outputs": [
    {
     "name": "stdout",
     "output_type": "stream",
     "text": [
      "/shared/bank\n"
     ]
    }
   ],
   "source": [
    "# On se déplace dans le dossier bank\n",
    "cd ../..\n",
    "pwd"
   ]
  },
  {
   "cell_type": "code",
   "execution_count": 10,
   "id": "5372f250-0eec-4aad-a916-eb3ce1068b3a",
   "metadata": {},
   "outputs": [],
   "source": [
    "# On se retrouve 1 cran plus haut puis projects\n",
    "cd ../projects"
   ]
  },
  {
   "cell_type": "code",
   "execution_count": 11,
   "id": "5dbf00bb-5fa0-4c92-934f-c60ff4073278",
   "metadata": {},
   "outputs": [],
   "source": [
    "# Aller dans uniprot_swissprot\n",
    "# cd ../b<TAB>/u<TAB><TAB><TAB>p<TAB><TAB>_<TAB>\n",
    "cd ../bank/uniprot_swissprot"
   ]
  },
  {
   "cell_type": "code",
   "execution_count": 12,
   "id": "3de0477c-daa6-4822-a7a7-940cef97a60b",
   "metadata": {},
   "outputs": [
    {
     "name": "stdout",
     "output_type": "stream",
     "text": [
      "/shared/bank/uniprot_swissprot\n"
     ]
    }
   ],
   "source": [
    "pwd"
   ]
  },
  {
   "cell_type": "markdown",
   "id": "09033155-9259-4a42-af34-523ba80d70b7",
   "metadata": {},
   "source": [
    "Utilisez la **complétion** pour les noms les noms de fichier (**touche <TAB>**) et éventuellement les noms de commandes\n",
    "    \n",
    "## L'arborescence quelques astuces\n",
    "\n",
    "Si vous êtes l'utilisateur cnorris. Le dossier qui stocke vos documents est par défaut `/shared/home/cnorris` *\n",
    "- ie. 'dossier utilisateur' ou dossier home.\n",
    "- Il est symbolisé par `~` (tilde).\n",
    "- `AltGr + 2` (PC) ou `Alt + n + espace` (OSX) \n",
    "\n",
    "_* Remplacez cnorris par votre login_"
   ]
  },
  {
   "cell_type": "code",
   "execution_count": 13,
   "id": "e9b1789e-b674-4fc2-9509-7a0431d41b4d",
   "metadata": {},
   "outputs": [
    {
     "name": "stdout",
     "output_type": "stream",
     "text": [
      "pfrancois\n"
     ]
    }
   ],
   "source": [
    "# votre login\n",
    "whoami"
   ]
  },
  {
   "cell_type": "code",
   "execution_count": 14,
   "id": "b0f325f3-330d-4d5c-84a5-6bbac11fb0df",
   "metadata": {},
   "outputs": [],
   "source": [
    "# On est à la racine\n",
    "cd /"
   ]
  },
  {
   "cell_type": "code",
   "execution_count": 15,
   "id": "f3f957f7-da5d-4df3-afd0-526514ef181b",
   "metadata": {},
   "outputs": [
    {
     "name": "stdout",
     "output_type": "stream",
     "text": [
      "/\n"
     ]
    }
   ],
   "source": [
    "# /\n",
    "pwd"
   ]
  },
  {
   "cell_type": "code",
   "execution_count": 16,
   "id": "b8a25151-1ab9-43b4-a203-9f63b0cd887b",
   "metadata": {},
   "outputs": [],
   "source": [
    "# On retourne dans le home\n",
    "cd ~"
   ]
  },
  {
   "cell_type": "code",
   "execution_count": 17,
   "id": "4586be7e-7295-4273-a3fd-aa49891d70f7",
   "metadata": {},
   "outputs": [],
   "source": [
    "# Equivalent de cd ~\n",
    "cd"
   ]
  }
 ],
 "metadata": {
  "kernelspec": {
   "display_name": "Bash",
   "language": "bash",
   "name": "bash"
  },
  "language_info": {
   "codemirror_mode": "shell",
   "file_extension": ".sh",
   "mimetype": "text/x-sh",
   "name": "bash"
  }
 },
 "nbformat": 4,
 "nbformat_minor": 5
}