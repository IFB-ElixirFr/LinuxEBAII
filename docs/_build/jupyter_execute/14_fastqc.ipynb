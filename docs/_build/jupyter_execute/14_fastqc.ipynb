{
 "cells": [
  {
   "cell_type": "markdown",
   "id": "114e0ffb-261c-4bf8-824d-f8c716ab8249",
   "metadata": {},
   "source": [
    "# Analyser la qualité avec fastQC\n",
    "Fast Quality Control (FastQC)\n",
    "\n",
    "Propose un certain nombre de diagrammes pour évaluer la qualité du séquençage.\n",
    "\n",
    "`fastqc [-o output dir] [--(no)extract] [-f fastq|bam|sam] fq1 fq2 ...`"
   ]
  },
  {
   "cell_type": "code",
   "execution_count": 1,
   "id": "fcbdb25b-9eb6-4f27-9dfe-181d63dc8de8",
   "metadata": {},
   "outputs": [],
   "source": [
    "# On remonte d’un niveau dans l’arborescence\n",
    "cd /shared/projects/form_2022_32/coursLinux/demo/chip-seq/                                   "
   ]
  },
  {
   "cell_type": "code",
   "execution_count": 2,
   "id": "c04cf63f-f525-4c4e-b651-311a944cb739",
   "metadata": {},
   "outputs": [],
   "source": [
    "# On créé un répertoire\n",
    "mkdir qc"
   ]
  },
  {
   "cell_type": "code",
   "execution_count": 3,
   "id": "f62d1d24-4960-4fc7-830a-a78d6b28817e",
   "metadata": {},
   "outputs": [
    {
     "name": "stdout",
     "output_type": "stream",
     "text": [
      "total 12\n"
     ]
    },
    {
     "name": "stdout",
     "output_type": "stream",
     "text": [
      "drwxrwx---+ 2 tdenecker tdenecker 4096 Nov 12 14:10 \u001b[0m\u001b[38;5;27mbam\u001b[0m\n"
     ]
    },
    {
     "name": "stdout",
     "output_type": "stream",
     "text": [
      "drwxrwx---+ 2 tdenecker tdenecker 4096 Nov 12 14:10 \u001b[38;5;27mfastq\u001b[0m\n"
     ]
    },
    {
     "name": "stdout",
     "output_type": "stream",
     "text": [
      "drwxrwx---+ 2 tdenecker tdenecker 4096 Nov 12 14:10 \u001b[38;5;27mqc\u001b[0m\n"
     ]
    }
   ],
   "source": [
    "# 2 instructions sur la même ligne séparées par ‘;’\n",
    "ls -l ; cd qc"
   ]
  },
  {
   "cell_type": "code",
   "execution_count": 4,
   "id": "7ef4706a-dc99-452b-a598-119cfea9af6d",
   "metadata": {},
   "outputs": [],
   "source": [
    "# Charge l'outil fastqc dans l’environnement  \n",
    "module load fastqc/0.11.8 "
   ]
  },
  {
   "cell_type": "code",
   "execution_count": 5,
   "id": "e936c9d7-611e-4cef-819b-e6b30e1a565d",
   "metadata": {},
   "outputs": [
    {
     "name": "stdout",
     "output_type": "stream",
     "text": [
      "\n"
     ]
    },
    {
     "name": "stdout",
     "output_type": "stream",
     "text": [
      "            FastQC - A high throughput sequence QC analysis tool\n"
     ]
    },
    {
     "name": "stdout",
     "output_type": "stream",
     "text": [
      "\n"
     ]
    },
    {
     "name": "stdout",
     "output_type": "stream",
     "text": [
      "SYNOPSIS\n"
     ]
    },
    {
     "name": "stdout",
     "output_type": "stream",
     "text": [
      "\n"
     ]
    },
    {
     "name": "stdout",
     "output_type": "stream",
     "text": [
      "\tfastqc seqfile1 seqfile2 .. seqfileN\n"
     ]
    },
    {
     "name": "stdout",
     "output_type": "stream",
     "text": [
      "\n"
     ]
    },
    {
     "name": "stdout",
     "output_type": "stream",
     "text": [
      "    fastqc [-o output dir] [--(no)extract] [-f fastq|bam|sam] \n"
     ]
    },
    {
     "name": "stdout",
     "output_type": "stream",
     "text": [
      "           [-c contaminant file] seqfile1 .. seqfileN\n"
     ]
    },
    {
     "name": "stdout",
     "output_type": "stream",
     "text": [
      "\n"
     ]
    },
    {
     "name": "stdout",
     "output_type": "stream",
     "text": [
      "DESCRIPTION\n"
     ]
    },
    {
     "name": "stdout",
     "output_type": "stream",
     "text": [
      "\n"
     ]
    },
    {
     "name": "stdout",
     "output_type": "stream",
     "text": [
      "    FastQC reads a set of sequence files and produces from each one a quality\n"
     ]
    },
    {
     "name": "stdout",
     "output_type": "stream",
     "text": [
      "    control report consisting of a number of different modules, each one of \n"
     ]
    },
    {
     "name": "stdout",
     "output_type": "stream",
     "text": [
      "    which will help to identify a different potential type of problem in your\n"
     ]
    },
    {
     "name": "stdout",
     "output_type": "stream",
     "text": [
      "    data.\n"
     ]
    },
    {
     "name": "stdout",
     "output_type": "stream",
     "text": [
      "    \n"
     ]
    },
    {
     "name": "stdout",
     "output_type": "stream",
     "text": [
      "    If no files to process are specified on the command line then the program\n"
     ]
    },
    {
     "name": "stdout",
     "output_type": "stream",
     "text": [
      "    will start as an interactive graphical application.  If files are provided\n"
     ]
    },
    {
     "name": "stdout",
     "output_type": "stream",
     "text": [
      "    on the command line then the program will run with no user interaction\n"
     ]
    },
    {
     "name": "stdout",
     "output_type": "stream",
     "text": [
      "    required.  In this mode it is suitable for inclusion into a standardised\n"
     ]
    },
    {
     "name": "stdout",
     "output_type": "stream",
     "text": [
      "    analysis pipeline.\n"
     ]
    },
    {
     "name": "stdout",
     "output_type": "stream",
     "text": [
      "    \n"
     ]
    },
    {
     "name": "stdout",
     "output_type": "stream",
     "text": [
      "    The options for the program as as follows:\n"
     ]
    },
    {
     "name": "stdout",
     "output_type": "stream",
     "text": [
      "    \n"
     ]
    },
    {
     "name": "stdout",
     "output_type": "stream",
     "text": [
      "    -h --help       Print this help file and exit\n"
     ]
    },
    {
     "name": "stdout",
     "output_type": "stream",
     "text": [
      "    \n"
     ]
    },
    {
     "name": "stdout",
     "output_type": "stream",
     "text": [
      "    -v --version    Print the version of the program and exit\n"
     ]
    },
    {
     "name": "stdout",
     "output_type": "stream",
     "text": [
      "    \n"
     ]
    },
    {
     "name": "stdout",
     "output_type": "stream",
     "text": [
      "    -o --outdir     Create all output files in the specified output directory.\n"
     ]
    },
    {
     "name": "stdout",
     "output_type": "stream",
     "text": [
      "                    Please note that this directory must exist as the program\n"
     ]
    },
    {
     "name": "stdout",
     "output_type": "stream",
     "text": [
      "                    will not create it.  If this option is not set then the \n"
     ]
    },
    {
     "name": "stdout",
     "output_type": "stream",
     "text": [
      "                    output file for each sequence file is created in the same\n"
     ]
    },
    {
     "name": "stdout",
     "output_type": "stream",
     "text": [
      "                    directory as the sequence file which was processed.\n"
     ]
    },
    {
     "name": "stdout",
     "output_type": "stream",
     "text": [
      "                    \n"
     ]
    },
    {
     "name": "stdout",
     "output_type": "stream",
     "text": [
      "    --casava        Files come from raw casava output. Files in the same sample\n"
     ]
    },
    {
     "name": "stdout",
     "output_type": "stream",
     "text": [
      "                    group (differing only by the group number) will be analysed\n"
     ]
    },
    {
     "name": "stdout",
     "output_type": "stream",
     "text": [
      "                    as a set rather than individually. Sequences with the filter\n"
     ]
    },
    {
     "name": "stdout",
     "output_type": "stream",
     "text": [
      "                    flag set in the header will be excluded from the analysis.\n"
     ]
    },
    {
     "name": "stdout",
     "output_type": "stream",
     "text": [
      "                    Files must have the same names given to them by casava\n"
     ]
    },
    {
     "name": "stdout",
     "output_type": "stream",
     "text": [
      "                    (including being gzipped and ending with .gz) otherwise they\n"
     ]
    },
    {
     "name": "stdout",
     "output_type": "stream",
     "text": [
      "                    won't be grouped together correctly.\n"
     ]
    },
    {
     "name": "stdout",
     "output_type": "stream",
     "text": [
      "                    \n"
     ]
    },
    {
     "name": "stdout",
     "output_type": "stream",
     "text": [
      "    --nano          Files come from nanopore sequences and are in fast5 format. In\n"
     ]
    },
    {
     "name": "stdout",
     "output_type": "stream",
     "text": [
      "                    this mode you can pass in directories to process and the program\n"
     ]
    },
    {
     "name": "stdout",
     "output_type": "stream",
     "text": [
      "                    will take in all fast5 files within those directories and produce\n"
     ]
    },
    {
     "name": "stdout",
     "output_type": "stream",
     "text": [
      "                    a single output file from the sequences found in all files.                    \n"
     ]
    },
    {
     "name": "stdout",
     "output_type": "stream",
     "text": [
      "                    \n"
     ]
    },
    {
     "name": "stdout",
     "output_type": "stream",
     "text": [
      "    --nofilter      If running with --casava then don't remove read flagged by\n"
     ]
    },
    {
     "name": "stdout",
     "output_type": "stream",
     "text": [
      "                    casava as poor quality when performing the QC analysis.\n"
     ]
    },
    {
     "name": "stdout",
     "output_type": "stream",
     "text": [
      "                   \n"
     ]
    },
    {
     "name": "stdout",
     "output_type": "stream",
     "text": [
      "    --extract       If set then the zipped output file will be uncompressed in\n"
     ]
    },
    {
     "name": "stdout",
     "output_type": "stream",
     "text": [
      "                    the same directory after it has been created.  By default\n"
     ]
    },
    {
     "name": "stdout",
     "output_type": "stream",
     "text": [
      "                    this option will be set if fastqc is run in non-interactive\n"
     ]
    },
    {
     "name": "stdout",
     "output_type": "stream",
     "text": [
      "                    mode.\n"
     ]
    },
    {
     "name": "stdout",
     "output_type": "stream",
     "text": [
      "                    \n"
     ]
    },
    {
     "name": "stdout",
     "output_type": "stream",
     "text": [
      "    -j --java       Provides the full path to the java binary you want to use to\n"
     ]
    },
    {
     "name": "stdout",
     "output_type": "stream",
     "text": [
      "                    launch fastqc. If not supplied then java is assumed to be in\n"
     ]
    },
    {
     "name": "stdout",
     "output_type": "stream",
     "text": [
      "                    your path.\n"
     ]
    },
    {
     "name": "stdout",
     "output_type": "stream",
     "text": [
      "                   \n"
     ]
    },
    {
     "name": "stdout",
     "output_type": "stream",
     "text": [
      "    --noextract     Do not uncompress the output file after creating it.  You\n"
     ]
    },
    {
     "name": "stdout",
     "output_type": "stream",
     "text": [
      "                    should set this option if you do not wish to uncompress\n"
     ]
    },
    {
     "name": "stdout",
     "output_type": "stream",
     "text": [
      "                    the output when running in non-interactive mode.\n"
     ]
    },
    {
     "name": "stdout",
     "output_type": "stream",
     "text": [
      "                    \n"
     ]
    },
    {
     "name": "stdout",
     "output_type": "stream",
     "text": [
      "    --nogroup       Disable grouping of bases for reads >50bp. All reports will\n"
     ]
    },
    {
     "name": "stdout",
     "output_type": "stream",
     "text": [
      "                    show data for every base in the read.  WARNING: Using this\n"
     ]
    },
    {
     "name": "stdout",
     "output_type": "stream",
     "text": [
      "                    option will cause fastqc to crash and burn if you use it on\n"
     ]
    },
    {
     "name": "stdout",
     "output_type": "stream",
     "text": [
      "                    really long reads, and your plots may end up a ridiculous size.\n"
     ]
    },
    {
     "name": "stdout",
     "output_type": "stream",
     "text": [
      "                    You have been warned!\n"
     ]
    },
    {
     "name": "stdout",
     "output_type": "stream",
     "text": [
      "                    \n"
     ]
    },
    {
     "name": "stdout",
     "output_type": "stream",
     "text": [
      "    --min_length    Sets an artificial lower limit on the length of the sequence\n"
     ]
    },
    {
     "name": "stdout",
     "output_type": "stream",
     "text": [
      "                    to be shown in the report.  As long as you set this to a value\n"
     ]
    },
    {
     "name": "stdout",
     "output_type": "stream",
     "text": [
      "                    greater or equal to your longest read length then this will be\n"
     ]
    },
    {
     "name": "stdout",
     "output_type": "stream",
     "text": [
      "                    the sequence length used to create your read groups.  This can\n"
     ]
    },
    {
     "name": "stdout",
     "output_type": "stream",
     "text": [
      "                    be useful for making directly comaparable statistics from \n"
     ]
    },
    {
     "name": "stdout",
     "output_type": "stream",
     "text": [
      "                    datasets with somewhat variable read lengths.\n"
     ]
    },
    {
     "name": "stdout",
     "output_type": "stream",
     "text": [
      "                    \n"
     ]
    },
    {
     "name": "stdout",
     "output_type": "stream",
     "text": [
      "    -f --format     Bypasses the normal sequence file format detection and\n"
     ]
    },
    {
     "name": "stdout",
     "output_type": "stream",
     "text": [
      "                    forces the program to use the specified format.  Valid\n"
     ]
    },
    {
     "name": "stdout",
     "output_type": "stream",
     "text": [
      "                    formats are bam,sam,bam_mapped,sam_mapped and fastq\n"
     ]
    },
    {
     "name": "stdout",
     "output_type": "stream",
     "text": [
      "                    \n"
     ]
    },
    {
     "name": "stdout",
     "output_type": "stream",
     "text": [
      "    -t --threads    Specifies the number of files which can be processed\n"
     ]
    },
    {
     "name": "stdout",
     "output_type": "stream",
     "text": [
      "                    simultaneously.  Each thread will be allocated 250MB of\n"
     ]
    },
    {
     "name": "stdout",
     "output_type": "stream",
     "text": [
      "                    memory so you shouldn't run more threads than your\n"
     ]
    },
    {
     "name": "stdout",
     "output_type": "stream",
     "text": [
      "                    available memory will cope with, and not more than\n"
     ]
    },
    {
     "name": "stdout",
     "output_type": "stream",
     "text": [
      "                    6 threads on a 32 bit machine\n"
     ]
    },
    {
     "name": "stdout",
     "output_type": "stream",
     "text": [
      "                  \n"
     ]
    },
    {
     "name": "stdout",
     "output_type": "stream",
     "text": [
      "    -c              Specifies a non-default file which contains the list of\n"
     ]
    },
    {
     "name": "stdout",
     "output_type": "stream",
     "text": [
      "    --contaminants  contaminants to screen overrepresented sequences against.\n"
     ]
    },
    {
     "name": "stdout",
     "output_type": "stream",
     "text": [
      "                    The file must contain sets of named contaminants in the\n"
     ]
    },
    {
     "name": "stdout",
     "output_type": "stream",
     "text": [
      "                    form name[tab]sequence.  Lines prefixed with a hash will\n"
     ]
    },
    {
     "name": "stdout",
     "output_type": "stream",
     "text": [
      "                    be ignored.\n"
     ]
    },
    {
     "name": "stdout",
     "output_type": "stream",
     "text": [
      "\n"
     ]
    },
    {
     "name": "stdout",
     "output_type": "stream",
     "text": [
      "    -a              Specifies a non-default file which contains the list of\n"
     ]
    },
    {
     "name": "stdout",
     "output_type": "stream",
     "text": [
      "    --adapters      adapter sequences which will be explicity searched against\n"
     ]
    },
    {
     "name": "stdout",
     "output_type": "stream",
     "text": [
      "                    the library. The file must contain sets of named adapters\n"
     ]
    },
    {
     "name": "stdout",
     "output_type": "stream",
     "text": [
      "                    in the form name[tab]sequence.  Lines prefixed with a hash\n"
     ]
    },
    {
     "name": "stdout",
     "output_type": "stream",
     "text": [
      "                    will be ignored.\n"
     ]
    },
    {
     "name": "stdout",
     "output_type": "stream",
     "text": [
      "                    \n"
     ]
    },
    {
     "name": "stdout",
     "output_type": "stream",
     "text": [
      "    -l              Specifies a non-default file which contains a set of criteria\n"
     ]
    },
    {
     "name": "stdout",
     "output_type": "stream",
     "text": [
      "    --limits        which will be used to determine the warn/error limits for the\n"
     ]
    },
    {
     "name": "stdout",
     "output_type": "stream",
     "text": [
      "                    various modules.  This file can also be used to selectively \n"
     ]
    },
    {
     "name": "stdout",
     "output_type": "stream",
     "text": [
      "                    remove some modules from the output all together.  The format\n"
     ]
    },
    {
     "name": "stdout",
     "output_type": "stream",
     "text": [
      "                    needs to mirror the default limits.txt file found in the\n"
     ]
    },
    {
     "name": "stdout",
     "output_type": "stream",
     "text": [
      "                    Configuration folder.\n"
     ]
    },
    {
     "name": "stdout",
     "output_type": "stream",
     "text": [
      "                    \n"
     ]
    },
    {
     "name": "stdout",
     "output_type": "stream",
     "text": [
      "   -k --kmers       Specifies the length of Kmer to look for in the Kmer content\n"
     ]
    },
    {
     "name": "stdout",
     "output_type": "stream",
     "text": [
      "                    module. Specified Kmer length must be between 2 and 10. Default\n"
     ]
    },
    {
     "name": "stdout",
     "output_type": "stream",
     "text": [
      "                    length is 7 if not specified.\n"
     ]
    },
    {
     "name": "stdout",
     "output_type": "stream",
     "text": [
      "                    \n"
     ]
    },
    {
     "name": "stdout",
     "output_type": "stream",
     "text": [
      "   -q --quiet       Supress all progress messages on stdout and only report errors.\n"
     ]
    },
    {
     "name": "stdout",
     "output_type": "stream",
     "text": [
      "   \n"
     ]
    },
    {
     "name": "stdout",
     "output_type": "stream",
     "text": [
      "   -d --dir         Selects a directory to be used for temporary files written when\n"
     ]
    },
    {
     "name": "stdout",
     "output_type": "stream",
     "text": [
      "                    generating report images. Defaults to system temp directory if\n"
     ]
    },
    {
     "name": "stdout",
     "output_type": "stream",
     "text": [
      "                    not specified.\n"
     ]
    },
    {
     "name": "stdout",
     "output_type": "stream",
     "text": [
      "                    \n"
     ]
    },
    {
     "name": "stdout",
     "output_type": "stream",
     "text": [
      "BUGS\n"
     ]
    },
    {
     "name": "stdout",
     "output_type": "stream",
     "text": [
      "\n"
     ]
    },
    {
     "name": "stdout",
     "output_type": "stream",
     "text": [
      "    Any bugs in fastqc should be reported either to simon.andrews@babraham.ac.uk\n"
     ]
    },
    {
     "name": "stdout",
     "output_type": "stream",
     "text": [
      "    or in www.bioinformatics.babraham.ac.uk/bugzilla/\n"
     ]
    },
    {
     "name": "stdout",
     "output_type": "stream",
     "text": [
      "                   \n"
     ]
    },
    {
     "name": "stdout",
     "output_type": "stream",
     "text": [
      "    \n"
     ]
    }
   ],
   "source": [
    "# Obtenir de l’aide \n",
    "fastqc -h "
   ]
  },
  {
   "cell_type": "code",
   "execution_count": 6,
   "id": "ceca01be-4100-4b9f-97d1-6699064ad885",
   "metadata": {},
   "outputs": [
    {
     "name": "stdout",
     "output_type": "stream",
     "text": [
      "Analysis complete for siNT_ER_E2_r3_chr21.fastq\n"
     ]
    }
   ],
   "source": [
    "# Lancer fastqc \n",
    "fastqc -f fastq -o ./ ../fastq/siNT_ER_E2_r3_chr21.fastq 2> siNT_ER_E2_r3_chr21_fastqc.log"
   ]
  },
  {
   "cell_type": "markdown",
   "id": "78b257f0-8100-43c8-88a5-1ea7d0bb056f",
   "metadata": {},
   "source": [
    "```bash\n",
    "less siNT_ER_E2_r3_chr21_fastqc.log  \n",
    "```"
   ]
  },
  {
   "cell_type": "code",
   "execution_count": 7,
   "id": "479b166a-606d-44fd-a0e4-f49894796c0d",
   "metadata": {},
   "outputs": [
    {
     "name": "stdout",
     "output_type": "stream",
     "text": [
      "siNT_ER_E2_r3_chr21_fastqc.html  \u001b[0m\u001b[38;5;9msiNT_ER_E2_r3_chr21_fastqc.zip\u001b[0m\n"
     ]
    },
    {
     "name": "stdout",
     "output_type": "stream",
     "text": [
      "siNT_ER_E2_r3_chr21_fastqc.log\n"
     ]
    }
   ],
   "source": [
    "# Que voyez vous ?\n",
    "ls "
   ]
  },
  {
   "cell_type": "markdown",
   "id": "7bf7dcba-7115-4beb-b06e-72190bb877b0",
   "metadata": {},
   "source": [
    "## Jupyter Lab : accès au fichier html\n",
    "\n",
    "Côté gauche, avec l’onglet \"répertoire\" se placer à la racine du cluster\n",
    "\n",
    "Sélectionner les répertoires jusqu’au répertoire de travail `/shared/projects/<project>/chip-seq/qc` (adapter `<projet>`)  \n",
    "\n",
    "Cliquer sur le fichier html pour l’ouvrir dans un nouvel onglet\n",
    "\n",
    "![](images/ebaii_acces_html.png)\n",
    "\n",
    "## Télécharger les résultats avec Cyberduck (OSX)\n",
    "\n",
    "![](images/ebaii_cyberduck1.png)\n",
    "\n",
    "![](images/ebaii_cyberduck2.png)\n",
    "\n",
    "![](images/ebaii_cyberduck3.png)\n",
    "\n",
    "![](images/ebaii_cyberduck4.png)\n",
    "\n",
    "![](images/ebaii_cyberduck5.png)\n",
    "\n",
    "## Résultats de FastQC\n",
    "\n",
    "Cliquer <a href='data/siNT_ER_E2_r3_chr21_fastqc.html' target='_blank'>ici</a> pour le fichier FASTQC dans un nouvel ongle. \n",
    "\n",
    "Exploration des résultats de fastqc en interactif.\n",
    "- A quoi correspond le diagramme “Per base sequence quality”.\n",
    "- A quoi correspond le diagramme “Per sequence quality score” ?\n",
    "- A quoi correspond le diagramme “Per base sequence content” ?\n",
    "- A quoi correspond le diagramme “Per sequence GC content” ?\n",
    "- A quoi correspond le diagramme “Per sequence N content” ?\n",
    "- A quoi correspond le diagramme “Sequence length distribution” ?\n",
    "- A quoi correspond le diagramme “Sequence duplication level” ?\n",
    "- A quoi correspond le diagramme “Kmer content” ?\n",
    "\n",
    "![](images/ebaii_fastqc_tricolore.png)\n",
    "\n",
    ":::{seealso}\n",
    "Les explications ci-dessous sont la compilation des 3 ressources suivantes : \n",
    "- https://www.bioinformatics.babraham.ac.uk/projects/fastqc/Help/ \n",
    "- https://dnacore.missouri.edu/PDF/FastQC_Manual.pdf\n",
    "- https://rtsf.natsci.msu.edu/genomics/tech-notes/fastqc-tutorial-and-faq/ \n",
    ":::\n",
    "\n",
    "### Basic Statistics\n",
    "\n",
    "![](images/ebaii_fastqc_stat.png)\n",
    "\n",
    "The Basic Statistics module generates some simple composition statistics for the file analysed.  \n",
    "- Filename\n",
    "- File type\n",
    "- Encoding: Says which ASCII encoding of quality values was found in this file.  \n",
    "- Total Sequences: A count of the total number of sequences processed. \n",
    "- Filtered Sequences: \n",
    "- Sequence Length\n",
    "- %GC\n",
    "\n",
    "`````{admonition} Warning\n",
    ":class: caution\n",
    "Basic Statistics never raises a warning.\n",
    "`````\n",
    "\n",
    "`````{admonition} Error\n",
    ":class: danger\n",
    "Basic Statistics never raises an error.\n",
    "`````\n",
    "\n",
    "### Per Base Sequence Quality\n",
    "\n",
    "::::{grid}\n",
    ":gutter: 2\n",
    "\n",
    ":::{grid-item}\n",
    "![](images/ebaii_fastqc_pbsq_ok.png)\n",
    ":::\n",
    ":::{grid-item}\n",
    "![](images/ebaii_fastqc_pbsq_no.png) \n",
    ":::\n",
    "\n",
    "::::\n",
    "\n",
    "This view shows an overview of the range of quality values across all bases at each position in the FastQ file.\n",
    "For each position a BoxWhisker type plot is drawn. The elements of the plot are as follows:  The central red line is the median value  The yellow box represents the inter-quartile range (25-75%)  The upper and lower whiskers represent the 10% and 90% points  The blue line represents the mean quality The y-axis on the graph shows the quality scores. The higher the score the better the base call. The background of the graph divides the y axis into very good quality calls (green), calls of reasonable quality (orange), and calls of poor quality (red). The quality of calls on most platforms will degrade as the run progresses, so it is common to see base calls falling into the orange area towards the end of a read.\n",
    "\n",
    "`````{admonition} Warning\n",
    ":class: caution\n",
    "A warning will be issued if the lower quartile for any base is less than 10, or if the median for any base is less than 25.\n",
    "`````\n",
    "\n",
    "`````{admonition} Error\n",
    ":class: danger\n",
    "This module will raise a failure if the lower quartile for any base is less than 5 or if the median for any base is less than 20.\n",
    "`````\n",
    "\n",
    "### Per Tile Sequence Quality\n",
    "\n",
    "::::{grid}\n",
    ":gutter: 2\n",
    "\n",
    ":::{grid-item}\n",
    "![](images/ebaii_fastqc_ptsq_ok.png)\n",
    ":::\n",
    ":::{grid-item}\n",
    "![](images/ebaii_fastqc_ptsq_no.png)\n",
    ":::\n",
    "\n",
    "::::\n",
    "\n",
    "\n",
    "The plot shows the deviation from the average quality for each tile. The colours are on a cold to hot scale, with cold colours being positions where the quality was at or above the average for that base in the run, and hotter colours indicate that a tile had worse qualities than other tiles for that base. In the example below you can see that certain tiles show consistently poor quality. A good plot should be blue all over.\n",
    "\n",
    "\n",
    "`````{admonition} Warning\n",
    ":class: caution\n",
    "This module will issue a warning if any tile shows a mean Phred score more than 2 less than the mean for that base across all tiles.\n",
    "`````\n",
    "\n",
    "`````{admonition} Error\n",
    ":class: danger\n",
    "This module will issue a warning if any tile shows a mean Phred score more than 5 less than the mean for that base across all tiles.\n",
    "`````\n",
    "\n",
    "### Per Sequence Quality Scores\n",
    "\n",
    "::::{grid}\n",
    ":gutter: 2\n",
    "\n",
    ":::{grid-item}\n",
    "![](images/ebaii_fastqc_psqs_ok.png)\n",
    ":::\n",
    ":::{grid-item}\n",
    "![](images/ebaii_fastqc_psqs_no.png)\n",
    ":::\n",
    "\n",
    "::::\n",
    "\n",
    "\n",
    "The per sequence quality score report allows you to see if a subset of your sequences have universally low quality values. It is often the case that a subset of sequences will have universally poor quality, often because they are poorly imaged (on the edge of the field of view etc), however these should represent only a small percentage of the total sequences.\n",
    "\n",
    "If a significant proportion of the sequences in a run have overall low quality then this could indicate some kind of systematic problem - possibly with just part of the run (for example one end of a flowcell).\n",
    "\n",
    "\n",
    "`````{admonition} Warning\n",
    ":class: caution\n",
    "A warning is raised if the most frequently observed mean quality is below 27 - this equates to a 0.2% error rate.\n",
    "`````\n",
    "\n",
    "`````{admonition} Error\n",
    ":class: danger\n",
    "An error is raised if the most frequently observed mean quality is below 20 - this equates to a 1% error rate.\n",
    "`````\n",
    "\n",
    "### Per Base Sequence Content\n",
    "\n",
    "::::{grid}\n",
    ":gutter: 2\n",
    "\n",
    ":::{grid-item}\n",
    "![](images/ebaii_fastqc_pbsc_ok.png)\n",
    ":::\n",
    ":::{grid-item}\n",
    "![](images/ebaii_fastqc_pbsc_no.png)\n",
    ":::\n",
    "\n",
    "::::\n",
    "\n",
    "Per Base Sequence Content plots out the proportion of each base position in a file for which each of the four normal DNA bases has been called.\n",
    "\n",
    "In a random library you would expect that there would be little to no difference between the different bases of a sequence run, so the lines in this plot should run parallel with each other.\n",
    "\n",
    "If you see strong biases which change in different bases then this usually indicates an overrepresented sequence which is contaminating your library. A bias which is consistent across all bases either indicates that the original library was sequence biased, or that there was a systematic problem during the sequencing of the library.\n",
    "\n",
    "\n",
    "`````{admonition} Warning\n",
    ":class: caution\n",
    "This module issues a warning if the difference between A and T, or G and C is greater than 10% in any position.\n",
    "`````\n",
    "\n",
    "`````{admonition} Error\n",
    ":class: danger\n",
    "This module will fail if the difference between A and T, or G and C is greater than 20% in any position.\n",
    "`````\n",
    "\n",
    "\n",
    "### Per Sequence GC Content\n",
    "\n",
    "::::{grid}\n",
    ":gutter: 2\n",
    "\n",
    ":::{grid-item}\n",
    "![](images/ebaii_fastqc_psGCc_ok.png)\n",
    ":::\n",
    ":::{grid-item}\n",
    "![](images/ebaii_fastqc_psGCc_no.png)\n",
    ":::\n",
    "\n",
    "::::\n",
    "\n",
    "\n",
    "This module measures the GC content across the whole length of each sequence in a file and compares it to a modelled normal distribution of GC content.\n",
    "In a normal random library you would expect to see a roughly normal distribution of GC content where the central peak corresponds to the overall GC content of the underlying genome. Since we don't know the the GC content of the genome the modal GC content is calculated from the observed data and used to build a reference distribution. An unusually shaped distribution could indicate a contaminated library or some other kinds of biased subset. A normal distribution which is shifted indicates some systematic bias which is independent of base position. If there is a systematic bias which creates a shifted normal distribution then this won't be flagged as an error by the module since it doesn't know what your genome's GC content should be.\n",
    "\n",
    "`````{admonition} Warning\n",
    ":class: caution\n",
    "A warning is raised if the sum of the deviations from the normal distribution represents more than 15% of the reads.\n",
    "`````\n",
    "\n",
    "`````{admonition} Error\n",
    ":class: danger\n",
    "This module will indicate a failure if the sum of the deviations from the normal distribution represents more than 30% of the reads.\n",
    "`````\n",
    "\n",
    "\n",
    "### Per Base N Content\n",
    "\n",
    "::::{grid}\n",
    ":gutter: 2\n",
    "\n",
    ":::{grid-item}\n",
    "![](images/ebaii_fastqc_pbNc_ok.png)\n",
    ":::\n",
    ":::{grid-item}\n",
    "![](images/ebaii_fastqc_pbNc_no.png)\n",
    ":::\n",
    "\n",
    "::::\n",
    "\n",
    "If a sequencer is unable to make a base call with sufficient confidence then it will normally substitute an N rather than a conventional base call This module plots out the percentage of base calls at each position for which an N was called.\n",
    "\n",
    "It's not unusual to see a very low proportion of Ns appearing in a sequence, especially nearer the end of a sequence. However, if this proportion rises above a few percent it suggests that the analysis pipeline was unable to interpret the data well enough to make valid base calls.\n",
    "\n",
    "\n",
    "`````{admonition} Warning\n",
    ":class: caution\n",
    "This module raises a warning if any position shows an N content of >5%.\n",
    "`````\n",
    "\n",
    "`````{admonition} Error\n",
    ":class: danger\n",
    "This module will raise an error if any position shows an N content of >20%.\n",
    "`````\n",
    "\n",
    "### Sequence Length Distribution\n",
    "\n",
    "::::{grid}\n",
    ":gutter: 2\n",
    "\n",
    ":::{grid-item}\n",
    "![](images/fastqc_sld_ok.png)\n",
    ":::\n",
    ":::{grid-item}\n",
    "![](images/fastqc_sld_bad.png)\n",
    ":::\n",
    "\n",
    "::::\n",
    "\n",
    "\n",
    "Some high throughput sequencers generate sequence fragments of uniform length, but others can contain reads of wildly varying lengths. Even within uniform length libraries some pipelines will trim sequences to remove poor quality base calls from the end. This module generates a graph showing the distribution of fragment sizes in the file which was analysed.\n",
    "In many cases this will produce a simple graph showing a peak only at one size, but for variable length FastQ files this will show the relative amounts of each different size of sequence fragment.\n",
    "\n",
    "\n",
    "`````{admonition} Warning\n",
    ":class: caution\n",
    "This module will raise a warning if all sequences are not the same length.\n",
    "`````\n",
    "\n",
    "`````{admonition} Error\n",
    ":class: danger\n",
    "This module will raise an error if any of the sequences have zero length.\n",
    "`````\n",
    "\n",
    "### Duplicate Sequences\n",
    "\n",
    "::::{grid}\n",
    ":gutter: 2\n",
    "\n",
    ":::{grid-item}\n",
    "![](images/ebaii_fastqc_duplicSeq_ok.png)\n",
    ":::\n",
    ":::{grid-item}\n",
    "![](images/ebaii_fastqc_duplicSeq_RNA.png)\n",
    ":::\n",
    "\n",
    "::::\n",
    "\n",
    "In a diverse library most sequences will occur only once in the final set. A low level of duplication may indicate a very high level of coverage of the target sequence, but a high level of duplication is more likely to indicate some kind of enrichment bias (eg PCR over amplification).\n",
    "\n",
    "This module counts the degree of duplication for every sequence in the set and creates a plot showing the relative number of sequences with different degrees of duplication.\n",
    "\n",
    "\n",
    "`````{admonition} Warning\n",
    ":class: caution\n",
    "This module will issue a warning if non-unique sequences make up more than 20% of the total.\n",
    "`````\n",
    "\n",
    "`````{admonition} Error\n",
    ":class: danger\n",
    "This module will issue a error if non-unique sequences make up more than 50% of the total.\n",
    "`````\n",
    "\n",
    "### Overrepresented Sequences\n",
    "\n",
    "![](images/ebaii_fastqc_overSeq_polyA.png)\n",
    "\n",
    "A normal high-throughput library will contain a diverse set of sequences, with no individual sequence making up a tiny fraction of the whole. Finding that a single sequence is very overrepresented in the set either means that it is highly biologically significant, or indicates that the library is contaminated, or not as diverse as you expected. This module lists all of the sequence which make up more than 0.1% of the total. To conserve memory only sequences which appear in the first 200,000 sequences are tracked to the end of the file. It is therefore possible that a sequence which is overrepresented but doesn't appear at the start of the file for some reason could be missed by this module.\n",
    "\n",
    "\n",
    "`````{admonition} Warning\n",
    ":class: caution\n",
    "This module will issue a warning if any sequence is found to represent more than 0.1% of the total.\n",
    "`````\n",
    "\n",
    "`````{admonition} Error\n",
    ":class: danger\n",
    "This module will issue an error if any sequence is found to represent more than 1% of the total.\n",
    "`````\n",
    "\n",
    "### Adapter Content\n",
    "\n",
    "::::{grid}\n",
    ":gutter: 2\n",
    "\n",
    ":::{grid-item}\n",
    "![](images/ebaii_fastqc_adaptor_ok.png)\n",
    ":::\n",
    ":::{grid-item}\n",
    "![](images/ebaii_fastqc_adaptor_litle.png)\n",
    ":::\n",
    "\n",
    "::::\n",
    "\n",
    "\n",
    "The Kmer Content module will do a generic analysis of all of the Kmers in your library to find those which do not have even coverage through the length of your reads. This can find a number of different sources of bias in the library which can include the presence of read-through adapter sequences building up on the end of your sequences.\n",
    "You can however find that the presence of any overrepresented sequences in your library (such as adapter dimers) will cause the Kmer plot to be dominated by the Kmers these sequences contain, and that it's not always easy to see if there are other biases present in which you might be interested.\n",
    "\n",
    "`````{admonition} Warning\n",
    ":class: caution\n",
    "This module will issue a warning if any sequence is present in more than 5% of all reads.\n",
    "`````\n",
    "\n",
    "`````{admonition} Error\n",
    ":class: danger\n",
    "This module will issue a warning if any sequence is present in more than 10% of all reads.\n",
    "`````\n",
    "\n",
    "## Rogner les reads\n",
    "\n",
    "Une étape de pré-processing\n",
    "- Les reads en entrée sont rognés afin d’éliminer des extrémités de mauvaises qualités.\n",
    "- En fonction de la capacité de l’outil à faire des alignements locaux ou globaux et de la qualité intrinsèque des données, cette étape peut être cruciale.\n",
    "    - Risque: peu de reads alignés\n",
    "\n",
    "Quelques logiciels existants\n",
    "- Sickle-trim (sliding window-based trimming)\n",
    "- FASTX-Toolkit (cut a defined number of nucleotides)\n",
    "- Trimmomatic\n",
    "- Cutadapt\n",
    "\n",
    "![](images/ebaii_trimmingPackman.png)\n",
    "\n",
    "### Sickle\n",
    "#### Principe\n",
    "\n",
    "Objectif:\n",
    "- Supprimer les extrémités de mauvaise qualité.\n",
    "\n",
    "Solution:\n",
    "- Parcourir le read avec un fenêtre coulissante de droite à gauche. Calculer la qualité moyenne dans chaque fenêtre\n",
    "- Si la valeur de qualité chute en dessous d’une valeur seuil q, déléter l’extrémité 3’.\n",
    "- Si la taille restante du read est inférieure à une longueur seuil l, déléter le read.\n",
    "\n",
    "![](images/ebaii_sickle_slidingWindow.png)\n",
    "\n",
    "#### L’interface de sickle\n",
    "\n",
    "Sickle contient 2 sous-commandes: pe (paired-end sequence trimming) et se (single-end sequence trimming)"
   ]
  },
  {
   "cell_type": "code",
   "execution_count": 8,
   "id": "e677f3ec-1eee-48ff-82c3-9ff5dff3a8f4",
   "metadata": {},
   "outputs": [
    {
     "name": "stdout",
     "output_type": "stream",
     "text": [
      "\n"
     ]
    },
    {
     "name": "stdout",
     "output_type": "stream",
     "text": [
      "Usage: sickle <command> [options]\n"
     ]
    },
    {
     "name": "stdout",
     "output_type": "stream",
     "text": [
      "\n"
     ]
    },
    {
     "name": "stdout",
     "output_type": "stream",
     "text": [
      "Command:\n"
     ]
    },
    {
     "name": "stdout",
     "output_type": "stream",
     "text": [
      "pe\tpaired-end sequence trimming\n"
     ]
    },
    {
     "name": "stdout",
     "output_type": "stream",
     "text": [
      "se\tsingle-end sequence trimming\n"
     ]
    },
    {
     "name": "stdout",
     "output_type": "stream",
     "text": [
      "\n"
     ]
    },
    {
     "name": "stdout",
     "output_type": "stream",
     "text": [
      "--help, display this help and exit\n"
     ]
    },
    {
     "name": "stdout",
     "output_type": "stream",
     "text": [
      "--version, output version information and exit\n"
     ]
    },
    {
     "name": "stdout",
     "output_type": "stream",
     "text": [
      "\n"
     ]
    },
    {
     "ename": "",
     "evalue": "1",
     "output_type": "error",
     "traceback": []
    }
   ],
   "source": [
    "module load sickle-trim/1.33\n",
    "sickle -h"
   ]
  },
  {
   "cell_type": "code",
   "execution_count": null,
   "id": "87ef8722-eeb6-4677-80a8-0d427edd520a",
   "metadata": {},
   "outputs": [],
   "source": [
    "sickle se --help # Obtenir de l’aide sur la sous-commande se."
   ]
  },
  {
   "cell_type": "markdown",
   "id": "e65d766a-db19-446e-b154-a843113cdc09",
   "metadata": {},
   "source": [
    "### Exercice (noté)\n",
    "\n",
    "1- Créez un répertoire trimmed au même niveau dans l’arborescence que fastq\n",
    "\n",
    "2- Placez vous dans ce répertoire\n",
    "\n",
    "3- Ivoquez l’aide de sickle (se)\n",
    "\n",
    "4- Construisez une commande qui combine les options suivantes :\n",
    "- Fournissez à sickle le fichier d’entrée siNT_ER_E2_r3_chr21.fastq.\n",
    "- Qualité de type “Sanger”, seuils de qualité et de longueur tous deux à 20.\n",
    "- Demandez à sickle se de produire un fichier de sortie que vous nommerez siNT_ER_E2_r3_chr21_trim.fastq et qui devra être créé dans le dossier trimmed.\n",
    "- Rediriger la sortie standard dans un fichier que vous nommerez siNT_ER_E2_r3_chr21_sicke_log.txt placé dans le dossier trimmed.\n",
    "\n",
    "5- Comptez le nombre de lignes présentes dans les fichiers fastq avant et après utilisation de sickle (commande `wc -l`)\n",
    "\n",
    "6- Lisez le contenu du fichier log. Obtenez-vous le même résultat ? \n",
    "\n",
    "````{admonition} Solution\n",
    ":class: tip, dropdown\n",
    "```bash\n",
    "cd ..                 # On remonte d’un niveau dans l’arborescence\n",
    "mkdir trimmed         # On créé un répertoire\n",
    "cd trimmed          # On se déplace dans ce répertoire\n",
    "# On lance sickle\n",
    "# Ici le \\ indique un retour à la ligne mais vous n’êtes pas censé le \n",
    "# taper et aller à la ligne\n",
    "# &> redirige la sortie d’erreur et la sortie standard dans un fichier\n",
    "sickle se -f ../fastq/siNT_ER_E2_r3_chr21.fastq \\\n",
    "-t sanger -o siNT_ER_E2_r3_chr21_trim.fastq \\\n",
    "&> siNT_ER_E2_r3_chr21_sickle.log\n",
    "# le nombre de lignes présentes dans les fichiers fastq\n",
    "wc -l ../fastq/siNT_ER_E2_r3_chr21.fastq     # Données brutes\n",
    "wc -l siNT_ER_E2_r3_chr21_trim.fastq         # Données nettoyées\n",
    "```\n",
    "````"
   ]
  }
 ],
 "metadata": {
  "kernelspec": {
   "display_name": "Bash",
   "language": "bash",
   "name": "bash"
  },
  "language_info": {
   "codemirror_mode": "shell",
   "file_extension": ".sh",
   "mimetype": "text/x-sh",
   "name": "bash"
  }
 },
 "nbformat": 4,
 "nbformat_minor": 5
}