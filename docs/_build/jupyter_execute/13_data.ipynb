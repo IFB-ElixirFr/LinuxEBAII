{
 "cells": [
  {
   "cell_type": "markdown",
   "id": "08177a24-9bd2-48c8-bc3a-649c5592a4a3",
   "metadata": {},
   "source": [
    "# Jeu de données\n",
    "\n",
    "## RAPPEL- Accès au Jupyter Lab (s’il ne tourne pas déjà)\n",
    "\n",
    "- Navigateur : https://jupyterhub.cluster.france-bioinformatique.fr/ \n",
    "- Accès au service avec votre couple “username/password” \n",
    "- Choisir l’option “Medium” et démarrer le serveur (bouton “start”)\n",
    "- Choisir une session “Terminal”\n",
    "![](images/ebaii_jupyterAcces.png)\n",
    "\n",
    "## Présentation du jeu de données\n",
    "\n",
    "Immuno-précipitation de chromatine (ChIP-Seq) :\n",
    "- Un traitement (ADN fragmenté + immunoprécipitation par Ac. anti-ESR1 )\n",
    "- Un control (~ ADN fragmenté)\n",
    "\n",
    "::::{grid}\n",
    ":gutter: 2\n",
    "\n",
    ":::{grid-item}\n",
    "![](images/ebaii_GATA2publi.png)\n",
    ":::\n",
    ":::{grid-item}\n",
    "![](images/ebaii_protocole_Chipseq.png) \n",
    ":::\n",
    "\n",
    "::::\n",
    "\n",
    "## Télécharger des fichiers\n",
    "\n",
    "On peut utiliser un navigateur (e.g Cyberduck) pour téléverser sur le serveur\n",
    "Mieux, on peut effectuer directement le téléchargement depuis le terminal si on dispose de l’URL.\n",
    "On utilise alors la commande wget. \n",
    "\n",
    "se déplacer dans l'arborescence de votre projet : `/shared/projects/<project>` (`form_2022_32` à adapter) et dans les sous-répertoires chip-seq puis fastq"
   ]
  },
  {
   "cell_type": "code",
   "execution_count": 1,
   "id": "c6e03082-55d3-40ec-a0c9-257387da7ad5",
   "metadata": {},
   "outputs": [],
   "source": [
    "# form_2022_32 à adapter à votre projet\n",
    "cd /shared/projects/form_2022_32/coursLinux/chip-seq/fastq"
   ]
  },
  {
   "cell_type": "markdown",
   "id": "37919757-a709-49f8-9ec1-5f2bbd4e46dd",
   "metadata": {},
   "source": [
    "Vérifier qu'on est bien dans le répertoire `/shared/projects/<projet>/chip-seq/fastq` (`<projet>` à adapter) avec `pwd` :"
   ]
  },
  {
   "cell_type": "code",
   "execution_count": 2,
   "id": "e2a8a8f3-3013-4dea-a73a-a5c825786e80",
   "metadata": {},
   "outputs": [
    {
     "name": "stdout",
     "output_type": "stream",
     "text": [
      "/shared/projects/form_2022_32/coursLinux/chip-seq/fastq\n"
     ]
    }
   ],
   "source": [
    "# form_2022_32 à adapter à votre projet\n",
    "pwd"
   ]
  },
  {
   "cell_type": "markdown",
   "id": "637f6328-e8d8-4a67-a02e-1039d6c40bf6",
   "metadata": {},
   "source": [
    "Téléverser un fichier de données fastq avec `wget` depuis son accès url `https://zenodo.org/record/5571592/files/siNT_ER_E2_r3_chr21.fastq.gz` :"
   ]
  },
  {
   "cell_type": "code",
   "execution_count": 3,
   "id": "67578890-21a1-4db7-bf16-62b01aa3b894",
   "metadata": {},
   "outputs": [
    {
     "name": "stdout",
     "output_type": "stream",
     "text": [
      "--2022-11-11 21:51:20--  https://zenodo.org/record/5571592/files/siNT_ER_E2_r3_chr21.fastq.gz\n"
     ]
    },
    {
     "name": "stdout",
     "output_type": "stream",
     "text": [
      "Résolution de zenodo.org (zenodo.org)... 188.184.117.155\n"
     ]
    },
    {
     "name": "stdout",
     "output_type": "stream",
     "text": [
      "Connexion vers zenodo.org (zenodo.org)|188.184.117.155|:443...connecté.\n"
     ]
    },
    {
     "name": "stdout",
     "output_type": "stream",
     "text": [
      "requête HTTP transmise, en attente de la réponse...200 OK\n"
     ]
    },
    {
     "name": "stdout",
     "output_type": "stream",
     "text": [
      "Longueur: 10857524 (10M) [application/octet-stream]\n"
     ]
    },
    {
     "name": "stdout",
     "output_type": "stream",
     "text": [
      "Sauvegarde en : «siNT_ER_E2_r3_chr21.fastq.gz.1»\n"
     ]
    },
    {
     "name": "stdout",
     "output_type": "stream",
     "text": [
      "\n"
     ]
    },
    {
     "name": "stdout",
     "output_type": "stream",
     "text": [
      "\r",
      " 0% [                                       ] 0           --.-K/s              \r",
      "100%[======================================>] 10 857 524  --.-K/s   ds 0,09s   \n"
     ]
    },
    {
     "name": "stdout",
     "output_type": "stream",
     "text": [
      "\n"
     ]
    },
    {
     "name": "stdout",
     "output_type": "stream",
     "text": [
      "2022-11-11 21:51:21 (113 MB/s) - «siNT_ER_E2_r3_chr21.fastq.gz.1» sauvegardé [10857524/10857524]\n"
     ]
    },
    {
     "name": "stdout",
     "output_type": "stream",
     "text": [
      "\n"
     ]
    }
   ],
   "source": [
    "wget https://zenodo.org/record/5571592/files/siNT_ER_E2_r3_chr21.fastq.gz"
   ]
  },
  {
   "cell_type": "markdown",
   "id": "f97b79e7-0148-47b5-9c77-9a719576e01b",
   "metadata": {},
   "source": [
    "Vérifier que le fichier est bien présent :"
   ]
  },
  {
   "cell_type": "code",
   "execution_count": 4,
   "id": "454896f5-6cd8-4cd8-ab3f-8c64623c8c87",
   "metadata": {},
   "outputs": [
    {
     "name": "stdout",
     "output_type": "stream",
     "text": [
      "siNT_ER_E2_r3_chr21.fastq     siNT_ER_E2_r3_chr21.fastq.gz.1\n"
     ]
    },
    {
     "name": "stdout",
     "output_type": "stream",
     "text": [
      "\u001b[0m\u001b[38;5;9msiNT_ER_E2_r3_chr21.fastq.gz\u001b[0m\n"
     ]
    }
   ],
   "source": [
    "ls"
   ]
  },
  {
   "cell_type": "markdown",
   "id": "a493bb00-22a0-419f-957a-b646b9c7ede4",
   "metadata": {},
   "source": [
    "## Décompression\n",
    "\n",
    "La commande `gunzip` permet de décompresser un fichier au format `*.gz`. Sa syntaxe générale est la suivante:\n",
    "`gunzip [-cfhkLNqrtVv] [-S suffix] file [file [...]]`\n",
    "\n",
    "Décompresser le fichier `*.gz`:"
   ]
  },
  {
   "cell_type": "code",
   "execution_count": 5,
   "id": "2d197ac0-ca81-454c-b394-a21521b05475",
   "metadata": {},
   "outputs": [
    {
     "name": "stdout",
     "output_type": "stream",
     "text": [
      "gzip: siNT_ER_E2_r3_chr21.fastq already exists; do you wish to overwrite (y or n)? \r\n"
     ]
    }
   ],
   "source": [
    "gunzip siNT_ER_E2_r3_chr21.fastq.gz"
   ]
  },
  {
   "cell_type": "markdown",
   "id": "fbc30edb-3243-45e0-b17f-d1a43ed2faea",
   "metadata": {},
   "source": [
    "Regarder l'extension du fichier et remarquer que la partie `.gz` a disparu :"
   ]
  },
  {
   "cell_type": "code",
   "execution_count": null,
   "id": "52f68896-941e-4660-9ae7-2a24f77678bc",
   "metadata": {},
   "outputs": [],
   "source": [
    "ls"
   ]
  },
  {
   "cell_type": "markdown",
   "id": "83fa2889-0690-43be-a27c-b4efcdb3065b",
   "metadata": {},
   "source": [
    "## Les lectures brutes (raw reads) sont au format fastq\n",
    "\n",
    "![](images/ebaii_4lignesFastq.png)\n",
    "\n",
    "La qualité est généralement au format Sanger (cf. après).\n",
    "\n",
    "### Exercice\n",
    "Utilisez une des commandes vues précédemment pour visualiser le contenu du fichier fastq\n",
    "\n",
    "Utiliser la commande `less` pour visualiser le contenu du fichier fastq (`q` pour quitter):\n",
    "\n",
    "```bash\n",
    "less siNT_ER_E2_r3_chr21.fastq\n",
    "```\n",
    "\n",
    "## Le score de qualité Sanger\n",
    "\n",
    "Une valeur de score Sanger est attribuée à chaque base séquencée\n",
    "- Basée sur p, la probabilité d’erreur (i.e. que la base soit fausse)\n",
    "\n",
    "![](images/ebaii_SangerScore.png)\n",
    "\n",
    "Les scores sont encodés en ASCII 33\n",
    "- Objectif : compresser les données en diminuant le nombre de caractères utilisés pour encoder la qualité.\n",
    "\n",
    "Le score de qualité Sanger varie entre 0 et 41 et est encodé avec le code ASCII:\n",
    "\n",
    "![](images/ebaii_Ascii_sanger.png)\n",
    "\n",
    "- `!` correspond à 0\n",
    "- `“` correspond à 1\n",
    "- `#` correspond à 2\n",
    "- `$` correspond à 3\n",
    "- …\n",
    "- `I` correspond à 40"
   ]
  }
 ],
 "metadata": {
  "kernelspec": {
   "display_name": "Bash",
   "language": "bash",
   "name": "bash"
  },
  "language_info": {
   "codemirror_mode": "shell",
   "file_extension": ".sh",
   "mimetype": "text/x-sh",
   "name": "bash"
  }
 },
 "nbformat": 4,
 "nbformat_minor": 5
}