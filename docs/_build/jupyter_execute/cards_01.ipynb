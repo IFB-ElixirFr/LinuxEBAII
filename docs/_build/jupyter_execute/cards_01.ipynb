{
 "cells": [
  {
   "cell_type": "markdown",
   "id": "3c983742-6ae9-4b23-8ed4-09c10d83cb7a",
   "metadata": {},
   "source": [
    "# Fiches de révision\n",
    "\n",
    "## Les commandes de base"
   ]
  },
  {
   "cell_type": "code",
   "execution_count": 1,
   "id": "5c488e20-6415-4878-9af5-a4d9e4ba8b1c",
   "metadata": {
    "tags": [
     "remove-input"
    ]
   },
   "outputs": [
    {
     "ename": "ModuleNotFoundError",
     "evalue": "No module named 'jupytercards'",
     "output_type": "error",
     "traceback": [
      "\u001b[0;31m-------------------------------------------------------------------------\u001b[0m",
      "\u001b[0;31mModuleNotFoundError\u001b[0m                     Traceback (most recent call last)",
      "\u001b[0;32m/tmp/ipykernel_26264/4043304900.py\u001b[0m in \u001b[0;36m<module>\u001b[0;34m\u001b[0m\n\u001b[0;32m----> 1\u001b[0;31m \u001b[0;32mfrom\u001b[0m \u001b[0mjupytercards\u001b[0m \u001b[0;32mimport\u001b[0m \u001b[0mmd2json\u001b[0m\u001b[0;34m,\u001b[0m \u001b[0mdisplay_flashcards\u001b[0m\u001b[0;34m\u001b[0m\u001b[0;34m\u001b[0m\u001b[0m\n\u001b[0m",
      "\u001b[0;31mModuleNotFoundError\u001b[0m: No module named 'jupytercards'"
     ]
    }
   ],
   "source": [
    "from jupytercards import md2json, display_flashcards"
   ]
  },
  {
   "cell_type": "code",
   "execution_count": null,
   "id": "2d493f84-34b2-4a0b-a4ae-24a72195edc8",
   "metadata": {
    "tags": [
     "remove-input"
    ]
   },
   "outputs": [],
   "source": [
    "cards = [\n",
    "    {\n",
    "        \"front\": \"Que fait la commande: ls ? \",\n",
    "        \"back\": \"List information about the FILEs (the current directory by default). \"\n",
    "    },\n",
    "    {\n",
    "        \"front\": \"Que fait la commande: pwd ? \",\n",
    "        \"back\": \"Print the full filename of the current working directory.\"\n",
    "    },\n",
    "    {\n",
    "        \"front\": \"Que fait la commande: man ?\",\n",
    "        \"back\": \"an interface to the on-line reference manuals.\"\n",
    "    },\n",
    "    {\n",
    "        \"front\": \"Que fait la commande: tree ?\",\n",
    "        \"back\": \"List contents of directories in a tree-like format\"\n",
    "    }\n",
    "]\n",
    "display_flashcards(cards)"
   ]
  },
  {
   "cell_type": "markdown",
   "id": "fe7b41eb-aac1-4e81-9520-0438188f4f2a",
   "metadata": {},
   "source": [
    "## Les outils"
   ]
  },
  {
   "cell_type": "code",
   "execution_count": null,
   "id": "7493d116-b9ba-4004-a426-1798f2f2a241",
   "metadata": {
    "tags": [
     "remove-input"
    ]
   },
   "outputs": [],
   "source": [
    "cards_2 = [\n",
    "    {\n",
    "        \"front\": \"Que fait la commande: FastQC ? \",\n",
    "        \"back\": \"A high throughput sequence QC analysis tool\"\n",
    "    }\n",
    "]\n",
    "display_flashcards(cards_2)"
   ]
  }
 ],
 "metadata": {
  "kernelspec": {
   "display_name": "Python 3.7",
   "language": "python",
   "name": "python3"
  },
  "language_info": {
   "codemirror_mode": {
    "name": "ipython",
    "version": 3
   },
   "file_extension": ".py",
   "mimetype": "text/x-python",
   "name": "python",
   "nbconvert_exporter": "python",
   "pygments_lexer": "ipython3",
   "version": "3.7.12"
  }
 },
 "nbformat": 4,
 "nbformat_minor": 5
}