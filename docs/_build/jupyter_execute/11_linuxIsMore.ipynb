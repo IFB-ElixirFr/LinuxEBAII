{
 "cells": [
  {
   "cell_type": "markdown",
   "id": "853df181-6861-42d7-9e8b-104519cf838a",
   "metadata": {},
   "source": [
    "# Linux c’est aussi tellement plus !\n",
    "\n",
    "## Une commande magique !\n",
    "\n",
    "Un exemple parmi tant d’autres : identifier et compter le nombre d’éléments d’un fichier d’annotation de type GFF (Generic Feature Format).\n",
    "\n",
    "On demande à awk de récupérer la 3ème colonne ($3) du gff (à l’exclusion des lignes de commentaires !/^#/) puis sort trie alphabétiquement les éléments et uniq les comptes"
   ]
  },
  {
   "cell_type": "code",
   "execution_count": 1,
   "id": "c18a5709-2195-49c9-8d9e-fda5661fcffe",
   "metadata": {},
   "outputs": [
    {
     "name": "stdout",
     "output_type": "stream",
     "text": [
      "   4324 CDS\n"
     ]
    },
    {
     "name": "stdout",
     "output_type": "stream",
     "text": [
      "    187 exon\n"
     ]
    },
    {
     "name": "stdout",
     "output_type": "stream",
     "text": [
      "   4464 gene\n"
     ]
    },
    {
     "name": "stdout",
     "output_type": "stream",
     "text": [
      "     50 mobile_genetic_element\n"
     ]
    },
    {
     "name": "stdout",
     "output_type": "stream",
     "text": [
      "     79 ncRNA\n"
     ]
    },
    {
     "name": "stdout",
     "output_type": "stream",
     "text": [
      "      1 origin_of_replication\n"
     ]
    },
    {
     "name": "stdout",
     "output_type": "stream",
     "text": [
      "    164 pseudogene\n"
     ]
    },
    {
     "name": "stdout",
     "output_type": "stream",
     "text": [
      "      1 region\n"
     ]
    },
    {
     "name": "stdout",
     "output_type": "stream",
     "text": [
      "     22 rRNA\n"
     ]
    },
    {
     "name": "stdout",
     "output_type": "stream",
     "text": [
      "     48 sequence_feature\n"
     ]
    },
    {
     "name": "stdout",
     "output_type": "stream",
     "text": [
      "     86 tRNA\n"
     ]
    }
   ],
   "source": [
    "annotationFile=\"/shared/bank/escherichia_coli/NC_000913.3_K-12_substr_MG1655/gff3/GCA_000005845.2_ASM584v2_genomic.gff\"\n",
    "awk -F \"\\t\" '!/^#/{print $3}' ${annotationFile} | sort | uniq -c"
   ]
  },
  {
   "cell_type": "markdown",
   "id": "7c5eea73-180c-4e23-9577-b03e2e9cb4b3",
   "metadata": {},
   "source": [
    "## Création d’un alias\n",
    "\n",
    "Vous aimez la commande ? Créons un alias pour simplifier son utilisation\n",
    "\n",
    "```bash\n",
    "cd ~\n",
    "nano .bashrc\n",
    "```\n",
    "\n",
    "1. Ajouter à la fin \n",
    "```\n",
    "alias listGFF=listGFF\n",
    "function listGFF() { \n",
    "    awk -F '\\t' '!/^\\s*$|^#/{print $3}' $1 | grep '[[:alpha:]]' | sort -n | uniq -c \n",
    "}\n",
    "```\n",
    "\n",
    "2. Déconnecter vous \n",
    "3. Reconnecter vous\n",
    "\n",
    "et voilà !"
   ]
  },
  {
   "cell_type": "code",
   "execution_count": 2,
   "id": "0c11fd9a-6555-48dd-9468-3f38ed60bce8",
   "metadata": {},
   "outputs": [
    {
     "name": "stdout",
     "output_type": "stream",
     "text": [
      "   4324 CDS\n"
     ]
    },
    {
     "name": "stdout",
     "output_type": "stream",
     "text": [
      "    187 exon\n"
     ]
    },
    {
     "name": "stdout",
     "output_type": "stream",
     "text": [
      "   4464 gene\n"
     ]
    },
    {
     "name": "stdout",
     "output_type": "stream",
     "text": [
      "     50 mobile_genetic_element\n"
     ]
    },
    {
     "name": "stdout",
     "output_type": "stream",
     "text": [
      "     79 ncRNA\n"
     ]
    },
    {
     "name": "stdout",
     "output_type": "stream",
     "text": [
      "      1 origin_of_replication\n"
     ]
    },
    {
     "name": "stdout",
     "output_type": "stream",
     "text": [
      "    164 pseudogene\n"
     ]
    },
    {
     "name": "stdout",
     "output_type": "stream",
     "text": [
      "      1 region\n"
     ]
    },
    {
     "name": "stdout",
     "output_type": "stream",
     "text": [
      "     22 rRNA\n"
     ]
    },
    {
     "name": "stdout",
     "output_type": "stream",
     "text": [
      "     48 sequence_feature\n"
     ]
    },
    {
     "name": "stdout",
     "output_type": "stream",
     "text": [
      "     86 tRNA\n"
     ]
    }
   ],
   "source": [
    "listGFF /shared/bank/escherichia_coli/NC_000913.3_K-12_substr_MG1655/gff3/GCA_000005845.2_ASM584v2_genomic.gff"
   ]
  },
  {
   "cell_type": "markdown",
   "id": "2b7948a5-af0e-41a0-8006-d88867e0d22b",
   "metadata": {},
   "source": [
    "## Un mot sur le ~/.bashrc\n",
    "\n",
    "Le fichier `.bashrc` est un fichier script qui est exécuté lorsqu'un utilisateur se connecte. Le fichier lui-même contient une série de configurations pour la session du terminal. Il s'agit notamment de configurer ou d'activer : la coloration, la complétion, l'historique du shell, les alias de commande, etc. Vous pouvez donc ajouter d'autres alias si vous le souhaitez comme :\n",
    "\n",
    "```bash\n",
    "# We declare a new command 'll'. Equivalent to 'ls -l'\n",
    "alias ll=\"ls -l\" \t\n",
    "  \n",
    "# When using the 'ls' command, file and directory names will be colored.\n",
    "# NB use ls --color=none or \\ls to cancel this behaviour\n",
    "alias ls=\"ls --color\" \n",
    "\n",
    "# When using the 'ls' command, file and directory names will be colored.\n",
    "alias grep=\"grep --color\" \n",
    "  \n",
    "# If the rm command is used the system will ask before... (but don't use it please)\n",
    "alias rm=\"rm -i\"\t\n",
    "  \n",
    "# Changing the prompt display (don't worry it this line seems obscure to you)\n",
    "export PS1=\"\\[\\033[01;34m\\]\\h\\[\\033[00m\\]\\[\\033[01;32m\\] \\[\\033[01;32m\\]\\u \\[\\033[00;33m\\]\\w\\n\\[\\033[01;30m\\e[0m\\e[1;00m\\]$ \"\n",
    "```"
   ]
  },
  {
   "cell_type": "code",
   "execution_count": null,
   "id": "8f777b37-6c12-4da9-9674-1f5888915303",
   "metadata": {},
   "outputs": [],
   "source": []
  }
 ],
 "metadata": {
  "kernelspec": {
   "display_name": "Bash",
   "language": "bash",
   "name": "bash"
  },
  "language_info": {
   "codemirror_mode": "shell",
   "file_extension": ".sh",
   "mimetype": "text/x-sh",
   "name": "bash"
  }
 },
 "nbformat": 4,
 "nbformat_minor": 5
}