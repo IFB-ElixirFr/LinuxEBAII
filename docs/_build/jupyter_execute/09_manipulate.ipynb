{
 "cells": [
  {
   "cell_type": "markdown",
   "id": "cce5e610-6d25-44cd-8c02-8800854a3f91",
   "metadata": {},
   "source": [
    "# Manipuler des fichiers\n",
    "\n",
    "## Télécharger et décompresser un fichier\n",
    "\n",
    "- Pour le téléchargement, on pourra utiliser par exemple la commande `wget`.\n",
    "- Pour la décompression on utilisera la commande `gunzip` si le fichier a été compressé avec l'algorithme `gzip` (extension .gz) "
   ]
  },
  {
   "cell_type": "code",
   "execution_count": 1,
   "id": "25802143-13cc-41e8-b86d-72bd2c92b84d",
   "metadata": {},
   "outputs": [],
   "source": [
    "# On se déplace dans annotations\n",
    "# remplacer <project> \n",
    "# cd /shared/projects/<project>/annotations/hg38 \n",
    "cd /shared/projects/form_2022_32/coursLinux/annotations/hg38 "
   ]
  },
  {
   "cell_type": "code",
   "execution_count": 2,
   "id": "f8024d2b-297e-4b9e-a4c2-c3b74daa9507",
   "metadata": {},
   "outputs": [],
   "source": [
    "mkdir bed; cd bed"
   ]
  },
  {
   "cell_type": "code",
   "execution_count": 3,
   "id": "3f9de5dc-e265-441f-9114-b87509387eaa",
   "metadata": {},
   "outputs": [
    {
     "name": "stdout",
     "output_type": "stream",
     "text": [
      "--2022-11-10 21:56:28--  https://zenodo.org/record/5716151/files/hg38_exons.bed.gz\n"
     ]
    },
    {
     "name": "stdout",
     "output_type": "stream",
     "text": [
      "Résolution de zenodo.org (zenodo.org)... 188.184.117.155\n"
     ]
    },
    {
     "name": "stdout",
     "output_type": "stream",
     "text": [
      "Connexion vers zenodo.org (zenodo.org)|188.184.117.155|:443...connecté.\n"
     ]
    },
    {
     "name": "stdout",
     "output_type": "stream",
     "text": [
      "requête HTTP transmise, en attente de la réponse...200 OK\n"
     ]
    },
    {
     "name": "stdout",
     "output_type": "stream",
     "text": [
      "Longueur: 8838009 (8,4M) [application/octet-stream]\n"
     ]
    },
    {
     "name": "stdout",
     "output_type": "stream",
     "text": [
      "Sauvegarde en : «hg38_exons.bed.gz»\n"
     ]
    },
    {
     "name": "stdout",
     "output_type": "stream",
     "text": [
      "\n"
     ]
    },
    {
     "name": "stdout",
     "output_type": "stream",
     "text": [
      "\r",
      " 0% [                                       ] 0           --.-K/s              \r",
      "100%[======================================>] 8 838 009   55,5MB/s   ds 0,2s   \n"
     ]
    },
    {
     "name": "stdout",
     "output_type": "stream",
     "text": [
      "\n"
     ]
    },
    {
     "name": "stdout",
     "output_type": "stream",
     "text": [
      "2022-11-10 21:56:29 (55,5 MB/s) - «hg38_exons.bed.gz» sauvegardé [8838009/8838009]\n"
     ]
    },
    {
     "name": "stdout",
     "output_type": "stream",
     "text": [
      "\n"
     ]
    }
   ],
   "source": [
    "# On télécharge le fichier \n",
    "wget https://zenodo.org/record/5716151/files/hg38_exons.bed.gz"
   ]
  },
  {
   "cell_type": "code",
   "execution_count": 4,
   "id": "369d1351-4661-4390-9ae9-280ad74fa40b",
   "metadata": {},
   "outputs": [
    {
     "name": "stdout",
     "output_type": "stream",
     "text": [
      "total 68K\n"
     ]
    },
    {
     "name": "stdout",
     "output_type": "stream",
     "text": [
      "-rw-rw----+ 1 tdenecker tdenecker 8,5M 25 oct.  21:57 \u001b[0m\u001b[38;5;9mhg38_exons.bed.gz\u001b[0m\n"
     ]
    }
   ],
   "source": [
    "# Le fichier compressé (finit par \".gz\"). Il pèse 8,4Mo.\n",
    "ls -lh"
   ]
  },
  {
   "cell_type": "code",
   "execution_count": 5,
   "id": "3b109e3b-63c3-44fd-8048-2e3da07a9286",
   "metadata": {},
   "outputs": [
    {
     "name": "stdout",
     "output_type": "stream",
     "text": [
      "hg38_exons.bed.gz: gzip compressed data, was \"hg38_exons.bed\", from Unix, last modified: Tue Nov 20 11:29:21 2018\n"
     ]
    }
   ],
   "source": [
    "# Vérification du type de fichier\n",
    "file hg38_exons.bed.gz"
   ]
  },
  {
   "cell_type": "code",
   "execution_count": 6,
   "id": "02cd59c8-9138-4ddf-9f77-5b58d59ef73c",
   "metadata": {},
   "outputs": [],
   "source": [
    "# On le décompresse\n",
    "gunzip hg38_exons.bed.gz"
   ]
  },
  {
   "cell_type": "code",
   "execution_count": 7,
   "id": "ddeaa7e3-975e-41f9-9ff8-0124d6c06ff8",
   "metadata": {},
   "outputs": [
    {
     "name": "stdout",
     "output_type": "stream",
     "text": [
      "total 65M\n"
     ]
    },
    {
     "name": "stdout",
     "output_type": "stream",
     "text": [
      "-rw-rw----+ 1 tdenecker tdenecker 81M 25 oct.  21:57 hg38_exons.bed\n"
     ]
    }
   ],
   "source": [
    "# Le fichier a perdu l'extension gz. Il pèse 81Mo.\n",
    "ls -lh"
   ]
  },
  {
   "cell_type": "code",
   "execution_count": 8,
   "id": "b1c5435a-b764-4742-960f-ea29beeea790",
   "metadata": {},
   "outputs": [
    {
     "name": "stdout",
     "output_type": "stream",
     "text": [
      "hg38_exons.bed: ASCII text\n"
     ]
    }
   ],
   "source": [
    "# Vérification du type de fichier : il a changé.\n",
    "file hg38_exons.bed"
   ]
  },
  {
   "cell_type": "markdown",
   "id": "88b4a9cd-68f6-4838-b106-aaf2606c9ed4",
   "metadata": {},
   "source": [
    "## Le fichier hg38_exons.bed\n",
    "Contient les coordonnées (début/fin) des exons humains au format BED.\n",
    "\n",
    "### Focus sur le format BED\n",
    "\n",
    "#### Type de fichier\n",
    "\n",
    "Annotation\n",
    "\n",
    "#### Signification du nom\n",
    "\n",
    "Browser Extensible Format\n",
    "\n",
    "#### Qui le génère\n",
    "\n",
    "Les outils d’annotation, TopHat\n",
    "\n",
    "#### Qui le lit\n",
    "\n",
    "Les visualisateurs, vous\n",
    "\n",
    "#### Remarque\n",
    "Le format BED est un format multi-forme, qui peut être utilisé dans beaucoup de contextes.\n",
    "\n",
    "#### Exemple 1 (simple)\n",
    "\n",
    "```\n",
    "chr1   100   200    peak_1    123\n",
    "```\n",
    "\n",
    "#### Explications\n",
    "\n",
    "Chaque ligne est une annotation. Les informations sont tabulées, i.e. chaque ligne contient un nombre fixe de colonnes (ici, 5), séparées par des tabulations.\n",
    "\n",
    "Le format BED est utilisée pour beaucoup de types d’annotations, comme les régions MACS :\n",
    "1. (chr1) le nombre du chromosome (ou du scaffold)\n",
    "2. (100) position extrémale en 5’\n",
    "3. (2099) position extrémale en 3’\n",
    "4. (peak_1) nom systématique de la jonction\n",
    "5. (123) score de la région\n",
    "\n",
    "Dans d’autres contexte, on peut ne trouver que les 3 ou 4 premiers champs.\n",
    "\n",
    "#### Exemple 2 (jonctions entre exons)\n",
    "\n",
    "```\n",
    "chr1   990   2099   JUNC00001560   3   +   990   2099   255,0,0   2   40,67   0,1042\n",
    "```\n",
    "\n",
    "#### Explications\n",
    "\n",
    "Ici, le format contient 12 colonnes:\n",
    "6. (chr1) le nombre du chromosome (ou du scaffold)\n",
    "7. (990) position extrémale en 5’ des lectures chevauchant la jonction\n",
    "8. (2099) position extrémale en 3’ des lectures chevauchant la jonction\n",
    "9. (JUNC00001560) nom systématique de la jonction\n",
    "10. (3) nombre de lectures couvrant la jonction\n",
    "11. (+) brin\n",
    "12. (990) même chose que la colonne 2\n",
    "13. (2099) même chose que la colonne 3\n",
    "14. (255,0,0) pas important\n",
    "15. (2) pas important\n",
    "16. (40,67) taille maximum des lectures couvrant l’exon à gauche et à droite de l’intron.\n",
    "17. (0,1042) pas important\n",
    "\n",
    "\n",
    "![](images/BED.png)\n",
    "\n",
    "#### Pour en savoir plus\n",
    "\n",
    "Documentation : http://genome.ucsc.edu/FAQ/FAQformat.html#format1\n",
    "\n",
    "### Notre fichier\n",
    "\n",
    "```\n",
    "chr1\t100000636\t100000739\tRNU6-1318P|ENST00000365389|snRNA\t.\t-\n",
    "chr1\t100007033\t100007156\tAC118553.2|ENST00000638792|protein_coding\t.\t+\n",
    "chr1\t100007033\t100007156\tAC118553.2|ENST00000638968|nonsense_mediated_decay\t.\t+\n",
    "chr1\t100007033\t100007156\tAC118553.2|ENST00000639037|protein_coding\t.\t+\n",
    "chr1\t100007033\t100007156\tAC118553.2|ENST00000639040|nonsense_mediated_decay\t.\t+\n",
    "chr1\t100007033\t100007156\tAC118553.2|ENST00000639171|nonsense_mediated_decay\t.\t+\n",
    "chr1\t100007033\t100007156\tAC118553.2|ENST00000640238|nonsense_mediated_decay\t.\t+\n",
    "chr1\t100007033\t100007156\tAC118553.2|ENST00000640357|nonsense_mediated_decay\t.\t+\n",
    "chr1\t100007033\t100007156\tSLC35A3|ENST00000370153|protein_coding\t.\t+\n",
    "chr1\t100007033\t100007156\tSLC35A3|ENST00000370155|nonsense_mediated_decay\t.\t+\n",
    "```\n",
    "\n",
    "```{note}\n",
    "Positions Start et End sont toujours données par rapport au sens 5'/3' du brin +. Les coordonnées sont 'zero-based, half-open'\n",
    "```\n",
    "\n",
    "## Visualiser le contenu d'un fichier\n",
    "\n",
    "- On utilisera `less` ou `more` (*) pour parcourir le fichier ligne à ligne (logiciels de type 'pager').\n",
    "- On utilisera `head` ou `tail` pour voir les **n premières** ou **n dernières** lignes d'un fichier.\n",
    "- La commande cat permet de renvoyer tout le contenu d'un fichier sur la sortie standard (l'écran). <ctrl> + c (cancel) pour arrêter. \n",
    "- Les **raccourcis clavier dans less** sont les mêmes que pour la commande man.\n",
    "\n",
    "(*) Less does more or less the same as more, but rather more than less, I like less more than more (Jacques van Helden)\n",
    "(*) Un avantage de less est qu’on peut remonter en arrière; avec more … c’est mort (Marc Deloger)\n",
    "    \n",
    "`````{admonition}  Raccourcis dans less\n",
    ":class: tip\n",
    "↑ : se déplacer vers le haut. <br>\n",
    "↓ : se déplacer vers le bas. <br>\n",
    "\\> : Aller à la première ligne.  <br>\n",
    "< : Aller à la dernière ligne. <br>\n",
    "/chr : pour chercher le terme ‘chr’ (puis touche ‘enter’). <br>\n",
    "n : (next) pour chercher la prochaine occurrence de 'truc'. <br>\n",
    "p: (previous) pour chercher l'occurrence précédente de 'truc'. <br>\n",
    "q : pour quitter. <br>\n",
    "`````\n",
    "\n",
    "## Exercices\n",
    "\n",
    "1. Utilisez la commande **head** pour regarder les 10 premières lignes du fichier hg38_exons.bed\n",
    "2. Utilisez la commande **tail** pour regarder les 10 dernières lignes du fichier hg38_exons.bed\n",
    "3. Promenez-vous dans le fichier hg38_exons.bed en utilisant la commande less. Quittez **less**.\n",
    "4. Renvoyer le contenu du fichier à l'écran avec **cat**. \n",
    "\n",
    "```{note}\n",
    "Si la lecture vous fatigue, utilisez <ctrl> + c (cancel) pour arrêter le défilement. *Attention ce truc ne semble pas bien marcher à travers Jupyter Lab\n",
    "```\n",
    "\n",
    "## Solutions"
   ]
  },
  {
   "cell_type": "code",
   "execution_count": 9,
   "id": "9a525db5-73b2-429d-ba7a-ee86c7c06150",
   "metadata": {},
   "outputs": [
    {
     "name": "stdout",
     "output_type": "stream",
     "text": [
      "chr1\t100000636\t100000739\tRNU6-1318P|ENST00000365389|snRNA\t.\t-\n"
     ]
    },
    {
     "name": "stdout",
     "output_type": "stream",
     "text": [
      "chr1\t100007033\t100007156\tAC118553.2|ENST00000638792|protein_coding\t.\t+\n"
     ]
    },
    {
     "name": "stdout",
     "output_type": "stream",
     "text": [
      "chr1\t100007033\t100007156\tAC118553.2|ENST00000638968|nonsense_mediated_decay\t.\t+\n"
     ]
    },
    {
     "name": "stdout",
     "output_type": "stream",
     "text": [
      "chr1\t100007033\t100007156\tAC118553.2|ENST00000639037|protein_coding\t.\t+\n"
     ]
    },
    {
     "name": "stdout",
     "output_type": "stream",
     "text": [
      "chr1\t100007033\t100007156\tAC118553.2|ENST00000639040|nonsense_mediated_decay\t.\t+\n"
     ]
    },
    {
     "name": "stdout",
     "output_type": "stream",
     "text": [
      "chr1\t100007033\t100007156\tAC118553.2|ENST00000639171|nonsense_mediated_decay\t.\t+\n"
     ]
    },
    {
     "name": "stdout",
     "output_type": "stream",
     "text": [
      "chr1\t100007033\t100007156\tAC118553.2|ENST00000640238|nonsense_mediated_decay\t.\t+\n"
     ]
    },
    {
     "name": "stdout",
     "output_type": "stream",
     "text": [
      "chr1\t100007033\t100007156\tAC118553.2|ENST00000640357|nonsense_mediated_decay\t.\t+\n"
     ]
    },
    {
     "name": "stdout",
     "output_type": "stream",
     "text": [
      "chr1\t100007033\t100007156\tSLC35A3|ENST00000370153|protein_coding\t.\t+\n"
     ]
    },
    {
     "name": "stdout",
     "output_type": "stream",
     "text": [
      "chr1\t100007033\t100007156\tSLC35A3|ENST00000370155|nonsense_mediated_decay\t.\t+\n"
     ]
    }
   ],
   "source": [
    "head -n 10 hg38_exons.bed"
   ]
  },
  {
   "cell_type": "markdown",
   "id": "2c8c58aa-7c8d-442f-a222-2a3a0be1cbea",
   "metadata": {},
   "source": [
    "```bash\n",
    "tail -n 10 hg38_exons.bed\n",
    "```\n",
    "\n",
    "```bash\n",
    "less hg38_exons.bed # q to quit\n",
    "```\n",
    "\n",
    "```\n",
    "cat hg38_exons.bed\n",
    "```\n",
    "\n",
    "## Compter les lignes d'un fichier\n",
    "\n",
    "Utiliser la commande wc (word count) avec l'argument -l (line)."
   ]
  },
  {
   "cell_type": "code",
   "execution_count": 10,
   "id": "4718026d-8fcf-482f-bf2f-35024e76655b",
   "metadata": {},
   "outputs": [
    {
     "name": "stdout",
     "output_type": "stream",
     "text": [
      "1261870 hg38_exons.bed\n"
     ]
    }
   ],
   "source": [
    "wc -l hg38_exons.bed  # 1261870 exons"
   ]
  },
  {
   "cell_type": "markdown",
   "id": "8553685b-808e-4d08-beda-47630a6dd522",
   "metadata": {},
   "source": [
    "## Extraire des colonnes\n",
    "\n",
    "- Pour extraire des colonnes on utilisera la commande cut avec l'argument `-f` (field)\n",
    "- Les colonnes du fichiers doivent nécessairement être séparées par une **tabulation** (sinon utiliser l'argument `-d` pour 'delimiter')\n",
    "\n",
    "```{tip}\n",
    "Si la lecture vous fatigue, utilisez <ctrl> + c (cancel) pour arrêter le défilement.\n",
    "```\n",
    "\n",
    "```bash\n",
    "# extraire la colonne 1\n",
    "cut -f 1 hg38_exons.bed\n",
    "```\n",
    "\n",
    "```bash\n",
    "# extraire les colonnes 1 et 2\n",
    "cut -f 1,2 hg38_exons.bed\n",
    "```\n",
    "\n",
    "```bash\n",
    "# cut ignore malheureusement l’ordre indiqué\n",
    "cut -f 2,1 hg38_exons.bed \n",
    "```\n",
    "\n",
    "\n",
    "```bash\n",
    "# extraire la colonne 3 jusqu'à 5\n",
    "cut -f 3-5 hg38_exons.bed\n",
    "```\n",
    "\n",
    "```bash\n",
    "# extraire depuis la colonne 3 jusqu'à la fin de la ligne\n",
    "cut -f 3- hg38_exons.bed\n",
    "```\n",
    "\n",
    "## Trier un fichier \n",
    "\n",
    "Il faut utiliser la commande sort (tri alphabétique par défaut).\n",
    "- `-k` (**k**ey): e.g \n",
    "    - `-k1,1` utiliser les caractères de la **k**olonne 1 à 1 pour le tri.\n",
    "    - `-k2,2nr` utiliser les caractères de la colonne 2 à 2 pour faire un tri **n**umérique (entiers) en inversant l'ordre (**r**everse).\n",
    "    - `-k2,2g` (**--g**eneral-numeric-sort) pour effectuer, sur la colonne 2, un tri sur des valeurs décimales.\n",
    "    \n",
    "```bash \n",
    "# Tri alphabétique en considérant tous les caractères de chaque ligne\n",
    "sort hg38_exons.bed\n",
    "```\n",
    "\n",
    "```bash \n",
    "# Tri par chromosome (colonne 1)\n",
    "sort -k1,1 hg38_exons.bed \n",
    "```\n",
    "\n",
    "```bash \n",
    "# Trier le fichier sur la colonne 1 (chromosomes, tri alphabétique) \n",
    "# puis par colonne 2 (starts, tri numérique):\n",
    "# Trier les lignes par coordonnées\n",
    "sort -k1,1 -k2,2nr hg38_exons.bed\n",
    "```"
   ]
  }
 ],
 "metadata": {
  "kernelspec": {
   "display_name": "Bash",
   "language": "bash",
   "name": "bash"
  },
  "language_info": {
   "codemirror_mode": "shell",
   "file_extension": ".sh",
   "mimetype": "text/x-sh",
   "name": "bash"
  }
 },
 "nbformat": 4,
 "nbformat_minor": 5
}