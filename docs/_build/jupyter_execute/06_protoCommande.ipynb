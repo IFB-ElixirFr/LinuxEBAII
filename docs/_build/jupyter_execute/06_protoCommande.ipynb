{
 "cells": [
  {
   "cell_type": "markdown",
   "id": "f786962c-1ae4-41f7-96d8-2121ee0f85d0",
   "metadata": {},
   "source": [
    "# Prototype(s) d'une commande\n",
    "\n",
    "- Une commande réalise une tâche (trier, sélectionner, ouvrir, aligner des reads,...).\n",
    "- Elle dispose d'un certain nombre d'arguments qui peuvent être facultatifs et qui peuvent modifier son mode de fonctionnement.\n",
    "    - Les noms des arguments ne sont pas standardisés\n",
    "- Ces arguments peuvent ou non prendre des valeurs.\n",
    "- De manière générale une instruction dans le terminal commence toujours par le nom d'une commande\n",
    "- Dans le premier exemple ci-dessous on dira 'moins v'."
   ]
  },
  {
   "cell_type": "code",
   "execution_count": 1,
   "id": "93134784-c348-4789-a3eb-826104d76b57",
   "metadata": {},
   "outputs": [
    {
     "name": "stdout",
     "output_type": "stream",
     "text": [
      "FastQC v0.11.9\n"
     ]
    }
   ],
   "source": [
    "# Exemple d'argument sans valeur associée\n",
    "# v pouvant signifier verbose, version (ou autre suivant la commande).\n",
    "module load fastqc\n",
    "fastqc -v # quelle est la version du logiciel fastqc sur ce serveur ?"
   ]
  },
  {
   "cell_type": "code",
   "execution_count": 2,
   "id": "efd7f884-243a-467e-9bcd-330234fd346b",
   "metadata": {},
   "outputs": [
    {
     "name": "stdout",
     "output_type": "stream",
     "text": [
      ".\n"
     ]
    },
    {
     "name": "stdout",
     "output_type": "stream",
     "text": [
      "├── 00_home.md\n"
     ]
    },
    {
     "name": "stdout",
     "output_type": "stream",
     "text": [
      "├── 01_team.md\n"
     ]
    },
    {
     "name": "stdout",
     "output_type": "stream",
     "text": [
      "├── 02_introduction.ipynb\n"
     ]
    },
    {
     "name": "stdout",
     "output_type": "stream",
     "text": [
      "├── 03_jupyter.md\n"
     ]
    },
    {
     "name": "stdout",
     "output_type": "stream",
     "text": [
      "├── 04_bash.md\n"
     ]
    },
    {
     "name": "stdout",
     "output_type": "stream",
     "text": [
      "├── 05_module.ipynb\n"
     ]
    },
    {
     "name": "stdout",
     "output_type": "stream",
     "text": [
      "├── 06_protoCommande.ipynb\n"
     ]
    },
    {
     "name": "stdout",
     "output_type": "stream",
     "text": [
      "├── 07_arborescence.ipynb\n"
     ]
    },
    {
     "name": "stdout",
     "output_type": "stream",
     "text": [
      "├── 08_storage.ipynb\n"
     ]
    },
    {
     "name": "stdout",
     "output_type": "stream",
     "text": [
      "├── 09_manipulate.ipynb\n"
     ]
    },
    {
     "name": "stdout",
     "output_type": "stream",
     "text": [
      "├── 10_redirection.ipynb\n"
     ]
    },
    {
     "name": "stdout",
     "output_type": "stream",
     "text": [
      "├── 11_linuxIsMore.ipynb\n"
     ]
    },
    {
     "name": "stdout",
     "output_type": "stream",
     "text": [
      "├── 12_raccourcis.md\n"
     ]
    },
    {
     "name": "stdout",
     "output_type": "stream",
     "text": [
      "├── 13_data.ipynb\n"
     ]
    },
    {
     "name": "stdout",
     "output_type": "stream",
     "text": [
      "├── 14_fastqc.ipynb\n"
     ]
    },
    {
     "name": "stdout",
     "output_type": "stream",
     "text": [
      "├── 15_mapping.ipynb\n"
     ]
    },
    {
     "name": "stdout",
     "output_type": "stream",
     "text": [
      "├── 16_stopJupyter.md\n"
     ]
    },
    {
     "name": "stdout",
     "output_type": "stream",
     "text": [
      "├── _build\n"
     ]
    },
    {
     "name": "stdout",
     "output_type": "stream",
     "text": [
      "│   ├── html\n"
     ]
    },
    {
     "name": "stdout",
     "output_type": "stream",
     "text": [
      "│   └── jupyter_execute\n"
     ]
    },
    {
     "name": "stdout",
     "output_type": "stream",
     "text": [
      "├── _config.yml\n"
     ]
    },
    {
     "name": "stdout",
     "output_type": "stream",
     "text": [
      "├── images\n"
     ]
    },
    {
     "name": "stdout",
     "output_type": "stream",
     "text": [
      "│   ├── arborescence2.png\n"
     ]
    },
    {
     "name": "stdout",
     "output_type": "stream",
     "text": [
      "│   ├── arborescence3.png\n"
     ]
    },
    {
     "name": "stdout",
     "output_type": "stream",
     "text": [
      "│   ├── arborescence4.png\n"
     ]
    },
    {
     "name": "stdout",
     "output_type": "stream",
     "text": [
      "│   ├── arborescence.png\n"
     ]
    },
    {
     "name": "stdout",
     "output_type": "stream",
     "text": [
      "│   ├── archiCluster.png\n"
     ]
    },
    {
     "name": "stdout",
     "output_type": "stream",
     "text": [
      "│   ├── BED.png\n"
     ]
    },
    {
     "name": "stdout",
     "output_type": "stream",
     "text": [
      "│   ├── ebaii_4lignesFastq.png\n"
     ]
    },
    {
     "name": "stdout",
     "output_type": "stream",
     "text": [
      "│   ├── ebaii_acces_html.png\n"
     ]
    },
    {
     "name": "stdout",
     "output_type": "stream",
     "text": [
      "│   ├── ebaii_accesJupyter.png\n"
     ]
    },
    {
     "name": "stdout",
     "output_type": "stream",
     "text": [
      "│   ├── ebaii_Ascii_sanger.png\n"
     ]
    },
    {
     "name": "stdout",
     "output_type": "stream",
     "text": [
      "│   ├── ebaii_cigarEx.png\n"
     ]
    },
    {
     "name": "stdout",
     "output_type": "stream",
     "text": [
      "│   ├── ebaii_cyberduck1.png\n"
     ]
    },
    {
     "name": "stdout",
     "output_type": "stream",
     "text": [
      "│   ├── ebaii_cyberduck2.png\n"
     ]
    },
    {
     "name": "stdout",
     "output_type": "stream",
     "text": [
      "│   ├── ebaii_cyberduck3.png\n"
     ]
    },
    {
     "name": "stdout",
     "output_type": "stream",
     "text": [
      "│   ├── ebaii_cyberduck4.png\n"
     ]
    },
    {
     "name": "stdout",
     "output_type": "stream",
     "text": [
      "│   ├── ebaii_cyberduck5.png\n"
     ]
    },
    {
     "name": "stdout",
     "output_type": "stream",
     "text": [
      "│   ├── ebaii_fastqc_adaptor_litle.png\n"
     ]
    },
    {
     "name": "stdout",
     "output_type": "stream",
     "text": [
      "│   ├── ebaii_fastqc_adaptor_ok.png\n"
     ]
    },
    {
     "name": "stdout",
     "output_type": "stream",
     "text": [
      "│   ├── ebaii_fastqc_duplicSeq_ok.png\n"
     ]
    },
    {
     "name": "stdout",
     "output_type": "stream",
     "text": [
      "│   ├── ebaii_fastqc_duplicSeq_RNA.png\n"
     ]
    },
    {
     "name": "stdout",
     "output_type": "stream",
     "text": [
      "│   ├── ebaii_fastqc_overSeq_polyA.png\n"
     ]
    },
    {
     "name": "stdout",
     "output_type": "stream",
     "text": [
      "│   ├── ebaii_fastqc_pbNc_no.png\n"
     ]
    },
    {
     "name": "stdout",
     "output_type": "stream",
     "text": [
      "│   ├── ebaii_fastqc_pbNc_ok.png\n"
     ]
    },
    {
     "name": "stdout",
     "output_type": "stream",
     "text": [
      "│   ├── ebaii_fastqc_pbsc_no.png\n"
     ]
    },
    {
     "name": "stdout",
     "output_type": "stream",
     "text": [
      "│   ├── ebaii_fastqc_pbsc_ok.png\n"
     ]
    },
    {
     "name": "stdout",
     "output_type": "stream",
     "text": [
      "│   ├── ebaii_fastqc_pbsq_no.png\n"
     ]
    },
    {
     "name": "stdout",
     "output_type": "stream",
     "text": [
      "│   ├── ebaii_fastqc_pbsq_ok.png\n"
     ]
    },
    {
     "name": "stdout",
     "output_type": "stream",
     "text": [
      "│   ├── ebaii_fastqc_psGCc_no.png\n"
     ]
    },
    {
     "name": "stdout",
     "output_type": "stream",
     "text": [
      "│   ├── ebaii_fastqc_psGCc_ok.png\n"
     ]
    },
    {
     "name": "stdout",
     "output_type": "stream",
     "text": [
      "│   ├── ebaii_fastqc_psqs_no.png\n"
     ]
    },
    {
     "name": "stdout",
     "output_type": "stream",
     "text": [
      "│   ├── ebaii_fastqc_psqs_ok.png\n"
     ]
    },
    {
     "name": "stdout",
     "output_type": "stream",
     "text": [
      "│   ├── ebaii_fastqc_ptsq_no.png\n"
     ]
    },
    {
     "name": "stdout",
     "output_type": "stream",
     "text": [
      "│   ├── ebaii_fastqc_ptsq_ok.png\n"
     ]
    },
    {
     "name": "stdout",
     "output_type": "stream",
     "text": [
      "│   ├── ebaii_fastqc_stat.png\n"
     ]
    },
    {
     "name": "stdout",
     "output_type": "stream",
     "text": [
      "│   ├── ebaii_fastqc_tricolore.png\n"
     ]
    },
    {
     "name": "stdout",
     "output_type": "stream",
     "text": [
      "│   ├── ebaii_GATA2publi.png\n"
     ]
    },
    {
     "name": "stdout",
     "output_type": "stream",
     "text": [
      "│   ├── ebaii_jupyterAcces.png\n"
     ]
    },
    {
     "name": "stdout",
     "output_type": "stream",
     "text": [
      "│   ├── ebaii_jupyterStop.png\n"
     ]
    },
    {
     "name": "stdout",
     "output_type": "stream",
     "text": [
      "│   ├── ebaii_mapping.png\n"
     ]
    },
    {
     "name": "stdout",
     "output_type": "stream",
     "text": [
      "│   ├── ebaii_mapping_positions.png\n"
     ]
    },
    {
     "name": "stdout",
     "output_type": "stream",
     "text": [
      "│   ├── ebaii_mapping_quality.png\n"
     ]
    },
    {
     "name": "stdout",
     "output_type": "stream",
     "text": [
      "│   ├── ebaii_mapping_readSeed.png\n"
     ]
    },
    {
     "name": "stdout",
     "output_type": "stream",
     "text": [
      "│   ├── ebaii_mapping_uniqMultiMap.png\n"
     ]
    },
    {
     "name": "stdout",
     "output_type": "stream",
     "text": [
      "│   ├── ebaii_MAPQ.png\n"
     ]
    },
    {
     "name": "stdout",
     "output_type": "stream",
     "text": [
      "│   ├── ebaii_protocole_Chipseq.png\n"
     ]
    },
    {
     "name": "stdout",
     "output_type": "stream",
     "text": [
      "│   ├── ebaii_SangerScore.png\n"
     ]
    },
    {
     "name": "stdout",
     "output_type": "stream",
     "text": [
      "│   ├── ebaii_sickle_slidingWindow.png\n"
     ]
    },
    {
     "name": "stdout",
     "output_type": "stream",
     "text": [
      "│   ├── ebaii_trimmingPackman.png\n"
     ]
    },
    {
     "name": "stdout",
     "output_type": "stream",
     "text": [
      "│   ├── fastqc_sld_bad.png\n"
     ]
    },
    {
     "name": "stdout",
     "output_type": "stream",
     "text": [
      "│   ├── fastqc_sld_ok.png\n"
     ]
    },
    {
     "name": "stdout",
     "output_type": "stream",
     "text": [
      "│   ├── filter_quality2.png\n"
     ]
    },
    {
     "name": "stdout",
     "output_type": "stream",
     "text": [
      "│   ├── filter_quality.png\n"
     ]
    },
    {
     "name": "stdout",
     "output_type": "stream",
     "text": [
      "│   ├── JupyterConnect.png\n"
     ]
    },
    {
     "name": "stdout",
     "output_type": "stream",
     "text": [
      "│   ├── JupyterConnexion.gif\n"
     ]
    },
    {
     "name": "stdout",
     "output_type": "stream",
     "text": [
      "│   ├── jupyterHub.png\n"
     ]
    },
    {
     "name": "stdout",
     "output_type": "stream",
     "text": [
      "│   ├── JupyterProfile.png\n"
     ]
    },
    {
     "name": "stdout",
     "output_type": "stream",
     "text": [
      "│   ├── mobaXterm2.png\n"
     ]
    },
    {
     "name": "stdout",
     "output_type": "stream",
     "text": [
      "│   ├── mobaXterm.png\n"
     ]
    },
    {
     "name": "stdout",
     "output_type": "stream",
     "text": [
      "│   ├── prompt.png\n"
     ]
    },
    {
     "name": "stdout",
     "output_type": "stream",
     "text": [
      "│   ├── redirection.png\n"
     ]
    },
    {
     "name": "stdout",
     "output_type": "stream",
     "text": [
      "│   ├── Roscoff.jpeg\n"
     ]
    },
    {
     "name": "stdout",
     "output_type": "stream",
     "text": [
      "│   ├── stopJupyter.png\n"
     ]
    },
    {
     "name": "stdout",
     "output_type": "stream",
     "text": [
      "│   └── tabTab.gif\n"
     ]
    },
    {
     "name": "stdout",
     "output_type": "stream",
     "text": [
      "├── logo.png\n"
     ]
    },
    {
     "name": "stdout",
     "output_type": "stream",
     "text": [
      "├── markdown-notebooks.md\n"
     ]
    },
    {
     "name": "stdout",
     "output_type": "stream",
     "text": [
      "├── qc\n"
     ]
    },
    {
     "name": "stdout",
     "output_type": "stream",
     "text": [
      "│   ├── siNT_ER_E2_r3_chr21_fastqc.html\n"
     ]
    },
    {
     "name": "stdout",
     "output_type": "stream",
     "text": [
      "│   ├── siNT_ER_E2_r3_chr21_fastqc.log\n"
     ]
    },
    {
     "name": "stdout",
     "output_type": "stream",
     "text": [
      "│   └── siNT_ER_E2_r3_chr21_fastqc.zip\n"
     ]
    },
    {
     "name": "stdout",
     "output_type": "stream",
     "text": [
      "├── quizz_01.ipynb\n"
     ]
    },
    {
     "name": "stdout",
     "output_type": "stream",
     "text": [
      "├── references.bib\n"
     ]
    },
    {
     "name": "stdout",
     "output_type": "stream",
     "text": [
      "├── requirements.txt\n"
     ]
    },
    {
     "name": "stdout",
     "output_type": "stream",
     "text": [
      "└── _toc.yml\n"
     ]
    },
    {
     "name": "stdout",
     "output_type": "stream",
     "text": [
      "\n"
     ]
    },
    {
     "name": "stdout",
     "output_type": "stream",
     "text": [
      "5 directories, 90 files\n"
     ]
    }
   ],
   "source": [
    "# Exemple d'argument avec valeur associée \n",
    "tree -L 2 # Afficher sous forme d’arbre l’arborescence sur deux niveaux"
   ]
  },
  {
   "cell_type": "markdown",
   "id": "6ca92e41-7564-4e23-bbca-9530001bce05",
   "metadata": {},
   "source": [
    "- De manière générale, Ies arguments peuvent être utilisés sous leurs formes courtes ou sous leurs formes longues (plus explicites/lisibles mais plus longues à taper…).\n",
    "- Les formes longues sont généralement précédées de deux tirets (dans l'exemple ci dessous on dira 'moins-moins help) "
   ]
  },
  {
   "cell_type": "code",
   "execution_count": 3,
   "id": "f2c51271-084a-4c6f-aec0-607b53eb98f6",
   "metadata": {},
   "outputs": [
    {
     "name": "stdout",
     "output_type": "stream",
     "text": [
      "\n"
     ]
    },
    {
     "name": "stdout",
     "output_type": "stream",
     "text": [
      "            FastQC - A high throughput sequence QC analysis tool\n"
     ]
    },
    {
     "name": "stdout",
     "output_type": "stream",
     "text": [
      "\n"
     ]
    },
    {
     "name": "stdout",
     "output_type": "stream",
     "text": [
      "SYNOPSIS\n"
     ]
    },
    {
     "name": "stdout",
     "output_type": "stream",
     "text": [
      "\n"
     ]
    },
    {
     "name": "stdout",
     "output_type": "stream",
     "text": [
      "\tfastqc seqfile1 seqfile2 .. seqfileN\n"
     ]
    },
    {
     "name": "stdout",
     "output_type": "stream",
     "text": [
      "\n"
     ]
    },
    {
     "name": "stdout",
     "output_type": "stream",
     "text": [
      "    fastqc [-o output dir] [--(no)extract] [-f fastq|bam|sam] \n"
     ]
    },
    {
     "name": "stdout",
     "output_type": "stream",
     "text": [
      "           [-c contaminant file] seqfile1 .. seqfileN\n"
     ]
    },
    {
     "name": "stdout",
     "output_type": "stream",
     "text": [
      "\n"
     ]
    },
    {
     "name": "stdout",
     "output_type": "stream",
     "text": [
      "DESCRIPTION\n"
     ]
    },
    {
     "name": "stdout",
     "output_type": "stream",
     "text": [
      "\n"
     ]
    },
    {
     "name": "stdout",
     "output_type": "stream",
     "text": [
      "    FastQC reads a set of sequence files and produces from each one a quality\n"
     ]
    },
    {
     "name": "stdout",
     "output_type": "stream",
     "text": [
      "    control report consisting of a number of different modules, each one of \n"
     ]
    },
    {
     "name": "stdout",
     "output_type": "stream",
     "text": [
      "    which will help to identify a different potential type of problem in your\n"
     ]
    },
    {
     "name": "stdout",
     "output_type": "stream",
     "text": [
      "    data.\n"
     ]
    },
    {
     "name": "stdout",
     "output_type": "stream",
     "text": [
      "    \n"
     ]
    },
    {
     "name": "stdout",
     "output_type": "stream",
     "text": [
      "    If no files to process are specified on the command line then the program\n"
     ]
    },
    {
     "name": "stdout",
     "output_type": "stream",
     "text": [
      "    will start as an interactive graphical application.  If files are provided\n"
     ]
    },
    {
     "name": "stdout",
     "output_type": "stream",
     "text": [
      "    on the command line then the program will run with no user interaction\n"
     ]
    },
    {
     "name": "stdout",
     "output_type": "stream",
     "text": [
      "    required.  In this mode it is suitable for inclusion into a standardised\n"
     ]
    },
    {
     "name": "stdout",
     "output_type": "stream",
     "text": [
      "    analysis pipeline.\n"
     ]
    },
    {
     "name": "stdout",
     "output_type": "stream",
     "text": [
      "    \n"
     ]
    },
    {
     "name": "stdout",
     "output_type": "stream",
     "text": [
      "    The options for the program as as follows:\n"
     ]
    },
    {
     "name": "stdout",
     "output_type": "stream",
     "text": [
      "    \n"
     ]
    },
    {
     "name": "stdout",
     "output_type": "stream",
     "text": [
      "    -h --help       Print this help file and exit\n"
     ]
    },
    {
     "name": "stdout",
     "output_type": "stream",
     "text": [
      "    \n"
     ]
    },
    {
     "name": "stdout",
     "output_type": "stream",
     "text": [
      "    -v --version    Print the version of the program and exit\n"
     ]
    },
    {
     "name": "stdout",
     "output_type": "stream",
     "text": [
      "    \n"
     ]
    },
    {
     "name": "stdout",
     "output_type": "stream",
     "text": [
      "    -o --outdir     Create all output files in the specified output directory.\n"
     ]
    },
    {
     "name": "stdout",
     "output_type": "stream",
     "text": [
      "                    Please note that this directory must exist as the program\n"
     ]
    },
    {
     "name": "stdout",
     "output_type": "stream",
     "text": [
      "                    will not create it.  If this option is not set then the \n"
     ]
    },
    {
     "name": "stdout",
     "output_type": "stream",
     "text": [
      "                    output file for each sequence file is created in the same\n"
     ]
    },
    {
     "name": "stdout",
     "output_type": "stream",
     "text": [
      "                    directory as the sequence file which was processed.\n"
     ]
    },
    {
     "name": "stdout",
     "output_type": "stream",
     "text": [
      "                    \n"
     ]
    },
    {
     "name": "stdout",
     "output_type": "stream",
     "text": [
      "    --casava        Files come from raw casava output. Files in the same sample\n"
     ]
    },
    {
     "name": "stdout",
     "output_type": "stream",
     "text": [
      "                    group (differing only by the group number) will be analysed\n"
     ]
    },
    {
     "name": "stdout",
     "output_type": "stream",
     "text": [
      "                    as a set rather than individually. Sequences with the filter\n"
     ]
    },
    {
     "name": "stdout",
     "output_type": "stream",
     "text": [
      "                    flag set in the header will be excluded from the analysis.\n"
     ]
    },
    {
     "name": "stdout",
     "output_type": "stream",
     "text": [
      "                    Files must have the same names given to them by casava\n"
     ]
    },
    {
     "name": "stdout",
     "output_type": "stream",
     "text": [
      "                    (including being gzipped and ending with .gz) otherwise they\n"
     ]
    },
    {
     "name": "stdout",
     "output_type": "stream",
     "text": [
      "                    won't be grouped together correctly.\n"
     ]
    },
    {
     "name": "stdout",
     "output_type": "stream",
     "text": [
      "                    \n"
     ]
    },
    {
     "name": "stdout",
     "output_type": "stream",
     "text": [
      "    --nano          Files come from nanopore sequences and are in fast5 format. In\n"
     ]
    },
    {
     "name": "stdout",
     "output_type": "stream",
     "text": [
      "                    this mode you can pass in directories to process and the program\n"
     ]
    },
    {
     "name": "stdout",
     "output_type": "stream",
     "text": [
      "                    will take in all fast5 files within those directories and produce\n"
     ]
    },
    {
     "name": "stdout",
     "output_type": "stream",
     "text": [
      "                    a single output file from the sequences found in all files.                    \n"
     ]
    },
    {
     "name": "stdout",
     "output_type": "stream",
     "text": [
      "                    \n"
     ]
    },
    {
     "name": "stdout",
     "output_type": "stream",
     "text": [
      "    --nofilter      If running with --casava then don't remove read flagged by\n"
     ]
    },
    {
     "name": "stdout",
     "output_type": "stream",
     "text": [
      "                    casava as poor quality when performing the QC analysis.\n"
     ]
    },
    {
     "name": "stdout",
     "output_type": "stream",
     "text": [
      "                   \n"
     ]
    },
    {
     "name": "stdout",
     "output_type": "stream",
     "text": [
      "    --extract       If set then the zipped output file will be uncompressed in\n"
     ]
    },
    {
     "name": "stdout",
     "output_type": "stream",
     "text": [
      "                    the same directory after it has been created.  By default\n"
     ]
    },
    {
     "name": "stdout",
     "output_type": "stream",
     "text": [
      "                    this option will be set if fastqc is run in non-interactive\n"
     ]
    },
    {
     "name": "stdout",
     "output_type": "stream",
     "text": [
      "                    mode.\n"
     ]
    },
    {
     "name": "stdout",
     "output_type": "stream",
     "text": [
      "                    \n"
     ]
    },
    {
     "name": "stdout",
     "output_type": "stream",
     "text": [
      "    -j --java       Provides the full path to the java binary you want to use to\n"
     ]
    },
    {
     "name": "stdout",
     "output_type": "stream",
     "text": [
      "                    launch fastqc. If not supplied then java is assumed to be in\n"
     ]
    },
    {
     "name": "stdout",
     "output_type": "stream",
     "text": [
      "                    your path.\n"
     ]
    },
    {
     "name": "stdout",
     "output_type": "stream",
     "text": [
      "                   \n"
     ]
    },
    {
     "name": "stdout",
     "output_type": "stream",
     "text": [
      "    --noextract     Do not uncompress the output file after creating it.  You\n"
     ]
    },
    {
     "name": "stdout",
     "output_type": "stream",
     "text": [
      "                    should set this option if you do not wish to uncompress\n"
     ]
    },
    {
     "name": "stdout",
     "output_type": "stream",
     "text": [
      "                    the output when running in non-interactive mode.\n"
     ]
    },
    {
     "name": "stdout",
     "output_type": "stream",
     "text": [
      "                    \n"
     ]
    },
    {
     "name": "stdout",
     "output_type": "stream",
     "text": [
      "    --nogroup       Disable grouping of bases for reads >50bp. All reports will\n"
     ]
    },
    {
     "name": "stdout",
     "output_type": "stream",
     "text": [
      "                    show data for every base in the read.  WARNING: Using this\n"
     ]
    },
    {
     "name": "stdout",
     "output_type": "stream",
     "text": [
      "                    option will cause fastqc to crash and burn if you use it on\n"
     ]
    },
    {
     "name": "stdout",
     "output_type": "stream",
     "text": [
      "                    really long reads, and your plots may end up a ridiculous size.\n"
     ]
    },
    {
     "name": "stdout",
     "output_type": "stream",
     "text": [
      "                    You have been warned!\n"
     ]
    },
    {
     "name": "stdout",
     "output_type": "stream",
     "text": [
      "                    \n"
     ]
    },
    {
     "name": "stdout",
     "output_type": "stream",
     "text": [
      "    --min_length    Sets an artificial lower limit on the length of the sequence\n"
     ]
    },
    {
     "name": "stdout",
     "output_type": "stream",
     "text": [
      "                    to be shown in the report.  As long as you set this to a value\n"
     ]
    },
    {
     "name": "stdout",
     "output_type": "stream",
     "text": [
      "                    greater or equal to your longest read length then this will be\n"
     ]
    },
    {
     "name": "stdout",
     "output_type": "stream",
     "text": [
      "                    the sequence length used to create your read groups.  This can\n"
     ]
    },
    {
     "name": "stdout",
     "output_type": "stream",
     "text": [
      "                    be useful for making directly comaparable statistics from \n"
     ]
    },
    {
     "name": "stdout",
     "output_type": "stream",
     "text": [
      "                    datasets with somewhat variable read lengths.\n"
     ]
    },
    {
     "name": "stdout",
     "output_type": "stream",
     "text": [
      "                    \n"
     ]
    },
    {
     "name": "stdout",
     "output_type": "stream",
     "text": [
      "    -f --format     Bypasses the normal sequence file format detection and\n"
     ]
    },
    {
     "name": "stdout",
     "output_type": "stream",
     "text": [
      "                    forces the program to use the specified format.  Valid\n"
     ]
    },
    {
     "name": "stdout",
     "output_type": "stream",
     "text": [
      "                    formats are bam,sam,bam_mapped,sam_mapped and fastq\n"
     ]
    },
    {
     "name": "stdout",
     "output_type": "stream",
     "text": [
      "                    \n"
     ]
    },
    {
     "name": "stdout",
     "output_type": "stream",
     "text": [
      "    -t --threads    Specifies the number of files which can be processed\n"
     ]
    },
    {
     "name": "stdout",
     "output_type": "stream",
     "text": [
      "                    simultaneously.  Each thread will be allocated 250MB of\n"
     ]
    },
    {
     "name": "stdout",
     "output_type": "stream",
     "text": [
      "                    memory so you shouldn't run more threads than your\n"
     ]
    },
    {
     "name": "stdout",
     "output_type": "stream",
     "text": [
      "                    available memory will cope with, and not more than\n"
     ]
    },
    {
     "name": "stdout",
     "output_type": "stream",
     "text": [
      "                    6 threads on a 32 bit machine\n"
     ]
    },
    {
     "name": "stdout",
     "output_type": "stream",
     "text": [
      "                  \n"
     ]
    },
    {
     "name": "stdout",
     "output_type": "stream",
     "text": [
      "    -c              Specifies a non-default file which contains the list of\n"
     ]
    },
    {
     "name": "stdout",
     "output_type": "stream",
     "text": [
      "    --contaminants  contaminants to screen overrepresented sequences against.\n"
     ]
    },
    {
     "name": "stdout",
     "output_type": "stream",
     "text": [
      "                    The file must contain sets of named contaminants in the\n"
     ]
    },
    {
     "name": "stdout",
     "output_type": "stream",
     "text": [
      "                    form name[tab]sequence.  Lines prefixed with a hash will\n"
     ]
    },
    {
     "name": "stdout",
     "output_type": "stream",
     "text": [
      "                    be ignored.\n"
     ]
    },
    {
     "name": "stdout",
     "output_type": "stream",
     "text": [
      "\n"
     ]
    },
    {
     "name": "stdout",
     "output_type": "stream",
     "text": [
      "    -a              Specifies a non-default file which contains the list of\n"
     ]
    },
    {
     "name": "stdout",
     "output_type": "stream",
     "text": [
      "    --adapters      adapter sequences which will be explicity searched against\n"
     ]
    },
    {
     "name": "stdout",
     "output_type": "stream",
     "text": [
      "                    the library. The file must contain sets of named adapters\n"
     ]
    },
    {
     "name": "stdout",
     "output_type": "stream",
     "text": [
      "                    in the form name[tab]sequence.  Lines prefixed with a hash\n"
     ]
    },
    {
     "name": "stdout",
     "output_type": "stream",
     "text": [
      "                    will be ignored.\n"
     ]
    },
    {
     "name": "stdout",
     "output_type": "stream",
     "text": [
      "                    \n"
     ]
    },
    {
     "name": "stdout",
     "output_type": "stream",
     "text": [
      "    -l              Specifies a non-default file which contains a set of criteria\n"
     ]
    },
    {
     "name": "stdout",
     "output_type": "stream",
     "text": [
      "    --limits        which will be used to determine the warn/error limits for the\n"
     ]
    },
    {
     "name": "stdout",
     "output_type": "stream",
     "text": [
      "                    various modules.  This file can also be used to selectively \n"
     ]
    },
    {
     "name": "stdout",
     "output_type": "stream",
     "text": [
      "                    remove some modules from the output all together.  The format\n"
     ]
    },
    {
     "name": "stdout",
     "output_type": "stream",
     "text": [
      "                    needs to mirror the default limits.txt file found in the\n"
     ]
    },
    {
     "name": "stdout",
     "output_type": "stream",
     "text": [
      "                    Configuration folder.\n"
     ]
    },
    {
     "name": "stdout",
     "output_type": "stream",
     "text": [
      "                    \n"
     ]
    },
    {
     "name": "stdout",
     "output_type": "stream",
     "text": [
      "   -k --kmers       Specifies the length of Kmer to look for in the Kmer content\n"
     ]
    },
    {
     "name": "stdout",
     "output_type": "stream",
     "text": [
      "                    module. Specified Kmer length must be between 2 and 10. Default\n"
     ]
    },
    {
     "name": "stdout",
     "output_type": "stream",
     "text": [
      "                    length is 7 if not specified.\n"
     ]
    },
    {
     "name": "stdout",
     "output_type": "stream",
     "text": [
      "                    \n"
     ]
    },
    {
     "name": "stdout",
     "output_type": "stream",
     "text": [
      "   -q --quiet       Supress all progress messages on stdout and only report errors.\n"
     ]
    },
    {
     "name": "stdout",
     "output_type": "stream",
     "text": [
      "   \n"
     ]
    },
    {
     "name": "stdout",
     "output_type": "stream",
     "text": [
      "   -d --dir         Selects a directory to be used for temporary files written when\n"
     ]
    },
    {
     "name": "stdout",
     "output_type": "stream",
     "text": [
      "                    generating report images. Defaults to system temp directory if\n"
     ]
    },
    {
     "name": "stdout",
     "output_type": "stream",
     "text": [
      "                    not specified.\n"
     ]
    },
    {
     "name": "stdout",
     "output_type": "stream",
     "text": [
      "                    \n"
     ]
    },
    {
     "name": "stdout",
     "output_type": "stream",
     "text": [
      "BUGS\n"
     ]
    },
    {
     "name": "stdout",
     "output_type": "stream",
     "text": [
      "\n"
     ]
    },
    {
     "name": "stdout",
     "output_type": "stream",
     "text": [
      "    Any bugs in fastqc should be reported either to simon.andrews@babraham.ac.uk\n"
     ]
    },
    {
     "name": "stdout",
     "output_type": "stream",
     "text": [
      "    or in www.bioinformatics.babraham.ac.uk/bugzilla/\n"
     ]
    },
    {
     "name": "stdout",
     "output_type": "stream",
     "text": [
      "                   \n"
     ]
    },
    {
     "name": "stdout",
     "output_type": "stream",
     "text": [
      "    \n"
     ]
    }
   ],
   "source": [
    "# Demander de l'aide (help) sur fastqc avec l'argument -h\n",
    "fastqc -h  "
   ]
  },
  {
   "cell_type": "code",
   "execution_count": 4,
   "id": "74cefc0e-5f75-4ccc-935f-2c7a50b3337a",
   "metadata": {},
   "outputs": [
    {
     "name": "stdout",
     "output_type": "stream",
     "text": [
      "\n"
     ]
    },
    {
     "name": "stdout",
     "output_type": "stream",
     "text": [
      "            FastQC - A high throughput sequence QC analysis tool\n"
     ]
    },
    {
     "name": "stdout",
     "output_type": "stream",
     "text": [
      "\n"
     ]
    },
    {
     "name": "stdout",
     "output_type": "stream",
     "text": [
      "SYNOPSIS\n"
     ]
    },
    {
     "name": "stdout",
     "output_type": "stream",
     "text": [
      "\n"
     ]
    },
    {
     "name": "stdout",
     "output_type": "stream",
     "text": [
      "\tfastqc seqfile1 seqfile2 .. seqfileN\n"
     ]
    },
    {
     "name": "stdout",
     "output_type": "stream",
     "text": [
      "\n"
     ]
    },
    {
     "name": "stdout",
     "output_type": "stream",
     "text": [
      "    fastqc [-o output dir] [--(no)extract] [-f fastq|bam|sam] \n"
     ]
    },
    {
     "name": "stdout",
     "output_type": "stream",
     "text": [
      "           [-c contaminant file] seqfile1 .. seqfileN\n"
     ]
    },
    {
     "name": "stdout",
     "output_type": "stream",
     "text": [
      "\n"
     ]
    },
    {
     "name": "stdout",
     "output_type": "stream",
     "text": [
      "DESCRIPTION\n"
     ]
    },
    {
     "name": "stdout",
     "output_type": "stream",
     "text": [
      "\n"
     ]
    },
    {
     "name": "stdout",
     "output_type": "stream",
     "text": [
      "    FastQC reads a set of sequence files and produces from each one a quality\n"
     ]
    },
    {
     "name": "stdout",
     "output_type": "stream",
     "text": [
      "    control report consisting of a number of different modules, each one of \n"
     ]
    },
    {
     "name": "stdout",
     "output_type": "stream",
     "text": [
      "    which will help to identify a different potential type of problem in your\n"
     ]
    },
    {
     "name": "stdout",
     "output_type": "stream",
     "text": [
      "    data.\n"
     ]
    },
    {
     "name": "stdout",
     "output_type": "stream",
     "text": [
      "    \n"
     ]
    },
    {
     "name": "stdout",
     "output_type": "stream",
     "text": [
      "    If no files to process are specified on the command line then the program\n"
     ]
    },
    {
     "name": "stdout",
     "output_type": "stream",
     "text": [
      "    will start as an interactive graphical application.  If files are provided\n"
     ]
    },
    {
     "name": "stdout",
     "output_type": "stream",
     "text": [
      "    on the command line then the program will run with no user interaction\n"
     ]
    },
    {
     "name": "stdout",
     "output_type": "stream",
     "text": [
      "    required.  In this mode it is suitable for inclusion into a standardised\n"
     ]
    },
    {
     "name": "stdout",
     "output_type": "stream",
     "text": [
      "    analysis pipeline.\n"
     ]
    },
    {
     "name": "stdout",
     "output_type": "stream",
     "text": [
      "    \n"
     ]
    },
    {
     "name": "stdout",
     "output_type": "stream",
     "text": [
      "    The options for the program as as follows:\n"
     ]
    },
    {
     "name": "stdout",
     "output_type": "stream",
     "text": [
      "    \n"
     ]
    },
    {
     "name": "stdout",
     "output_type": "stream",
     "text": [
      "    -h --help       Print this help file and exit\n"
     ]
    },
    {
     "name": "stdout",
     "output_type": "stream",
     "text": [
      "    \n"
     ]
    },
    {
     "name": "stdout",
     "output_type": "stream",
     "text": [
      "    -v --version    Print the version of the program and exit\n"
     ]
    },
    {
     "name": "stdout",
     "output_type": "stream",
     "text": [
      "    \n"
     ]
    },
    {
     "name": "stdout",
     "output_type": "stream",
     "text": [
      "    -o --outdir     Create all output files in the specified output directory.\n"
     ]
    },
    {
     "name": "stdout",
     "output_type": "stream",
     "text": [
      "                    Please note that this directory must exist as the program\n"
     ]
    },
    {
     "name": "stdout",
     "output_type": "stream",
     "text": [
      "                    will not create it.  If this option is not set then the \n"
     ]
    },
    {
     "name": "stdout",
     "output_type": "stream",
     "text": [
      "                    output file for each sequence file is created in the same\n"
     ]
    },
    {
     "name": "stdout",
     "output_type": "stream",
     "text": [
      "                    directory as the sequence file which was processed.\n"
     ]
    },
    {
     "name": "stdout",
     "output_type": "stream",
     "text": [
      "                    \n"
     ]
    },
    {
     "name": "stdout",
     "output_type": "stream",
     "text": [
      "    --casava        Files come from raw casava output. Files in the same sample\n"
     ]
    },
    {
     "name": "stdout",
     "output_type": "stream",
     "text": [
      "                    group (differing only by the group number) will be analysed\n"
     ]
    },
    {
     "name": "stdout",
     "output_type": "stream",
     "text": [
      "                    as a set rather than individually. Sequences with the filter\n"
     ]
    },
    {
     "name": "stdout",
     "output_type": "stream",
     "text": [
      "                    flag set in the header will be excluded from the analysis.\n"
     ]
    },
    {
     "name": "stdout",
     "output_type": "stream",
     "text": [
      "                    Files must have the same names given to them by casava\n"
     ]
    },
    {
     "name": "stdout",
     "output_type": "stream",
     "text": [
      "                    (including being gzipped and ending with .gz) otherwise they\n"
     ]
    },
    {
     "name": "stdout",
     "output_type": "stream",
     "text": [
      "                    won't be grouped together correctly.\n"
     ]
    },
    {
     "name": "stdout",
     "output_type": "stream",
     "text": [
      "                    \n"
     ]
    },
    {
     "name": "stdout",
     "output_type": "stream",
     "text": [
      "    --nano          Files come from nanopore sequences and are in fast5 format. In\n"
     ]
    },
    {
     "name": "stdout",
     "output_type": "stream",
     "text": [
      "                    this mode you can pass in directories to process and the program\n"
     ]
    },
    {
     "name": "stdout",
     "output_type": "stream",
     "text": [
      "                    will take in all fast5 files within those directories and produce\n"
     ]
    },
    {
     "name": "stdout",
     "output_type": "stream",
     "text": [
      "                    a single output file from the sequences found in all files.                    \n"
     ]
    },
    {
     "name": "stdout",
     "output_type": "stream",
     "text": [
      "                    \n"
     ]
    },
    {
     "name": "stdout",
     "output_type": "stream",
     "text": [
      "    --nofilter      If running with --casava then don't remove read flagged by\n"
     ]
    },
    {
     "name": "stdout",
     "output_type": "stream",
     "text": [
      "                    casava as poor quality when performing the QC analysis.\n"
     ]
    },
    {
     "name": "stdout",
     "output_type": "stream",
     "text": [
      "                   \n"
     ]
    },
    {
     "name": "stdout",
     "output_type": "stream",
     "text": [
      "    --extract       If set then the zipped output file will be uncompressed in\n"
     ]
    },
    {
     "name": "stdout",
     "output_type": "stream",
     "text": [
      "                    the same directory after it has been created.  By default\n"
     ]
    },
    {
     "name": "stdout",
     "output_type": "stream",
     "text": [
      "                    this option will be set if fastqc is run in non-interactive\n"
     ]
    },
    {
     "name": "stdout",
     "output_type": "stream",
     "text": [
      "                    mode.\n"
     ]
    },
    {
     "name": "stdout",
     "output_type": "stream",
     "text": [
      "                    \n"
     ]
    },
    {
     "name": "stdout",
     "output_type": "stream",
     "text": [
      "    -j --java       Provides the full path to the java binary you want to use to\n"
     ]
    },
    {
     "name": "stdout",
     "output_type": "stream",
     "text": [
      "                    launch fastqc. If not supplied then java is assumed to be in\n"
     ]
    },
    {
     "name": "stdout",
     "output_type": "stream",
     "text": [
      "                    your path.\n"
     ]
    },
    {
     "name": "stdout",
     "output_type": "stream",
     "text": [
      "                   \n"
     ]
    },
    {
     "name": "stdout",
     "output_type": "stream",
     "text": [
      "    --noextract     Do not uncompress the output file after creating it.  You\n"
     ]
    },
    {
     "name": "stdout",
     "output_type": "stream",
     "text": [
      "                    should set this option if you do not wish to uncompress\n"
     ]
    },
    {
     "name": "stdout",
     "output_type": "stream",
     "text": [
      "                    the output when running in non-interactive mode.\n"
     ]
    },
    {
     "name": "stdout",
     "output_type": "stream",
     "text": [
      "                    \n"
     ]
    },
    {
     "name": "stdout",
     "output_type": "stream",
     "text": [
      "    --nogroup       Disable grouping of bases for reads >50bp. All reports will\n"
     ]
    },
    {
     "name": "stdout",
     "output_type": "stream",
     "text": [
      "                    show data for every base in the read.  WARNING: Using this\n"
     ]
    },
    {
     "name": "stdout",
     "output_type": "stream",
     "text": [
      "                    option will cause fastqc to crash and burn if you use it on\n"
     ]
    },
    {
     "name": "stdout",
     "output_type": "stream",
     "text": [
      "                    really long reads, and your plots may end up a ridiculous size.\n"
     ]
    },
    {
     "name": "stdout",
     "output_type": "stream",
     "text": [
      "                    You have been warned!\n"
     ]
    },
    {
     "name": "stdout",
     "output_type": "stream",
     "text": [
      "                    \n"
     ]
    },
    {
     "name": "stdout",
     "output_type": "stream",
     "text": [
      "    --min_length    Sets an artificial lower limit on the length of the sequence\n"
     ]
    },
    {
     "name": "stdout",
     "output_type": "stream",
     "text": [
      "                    to be shown in the report.  As long as you set this to a value\n"
     ]
    },
    {
     "name": "stdout",
     "output_type": "stream",
     "text": [
      "                    greater or equal to your longest read length then this will be\n"
     ]
    },
    {
     "name": "stdout",
     "output_type": "stream",
     "text": [
      "                    the sequence length used to create your read groups.  This can\n"
     ]
    },
    {
     "name": "stdout",
     "output_type": "stream",
     "text": [
      "                    be useful for making directly comaparable statistics from \n"
     ]
    },
    {
     "name": "stdout",
     "output_type": "stream",
     "text": [
      "                    datasets with somewhat variable read lengths.\n"
     ]
    },
    {
     "name": "stdout",
     "output_type": "stream",
     "text": [
      "                    \n"
     ]
    },
    {
     "name": "stdout",
     "output_type": "stream",
     "text": [
      "    -f --format     Bypasses the normal sequence file format detection and\n"
     ]
    },
    {
     "name": "stdout",
     "output_type": "stream",
     "text": [
      "                    forces the program to use the specified format.  Valid\n"
     ]
    },
    {
     "name": "stdout",
     "output_type": "stream",
     "text": [
      "                    formats are bam,sam,bam_mapped,sam_mapped and fastq\n"
     ]
    },
    {
     "name": "stdout",
     "output_type": "stream",
     "text": [
      "                    \n"
     ]
    },
    {
     "name": "stdout",
     "output_type": "stream",
     "text": [
      "    -t --threads    Specifies the number of files which can be processed\n"
     ]
    },
    {
     "name": "stdout",
     "output_type": "stream",
     "text": [
      "                    simultaneously.  Each thread will be allocated 250MB of\n"
     ]
    },
    {
     "name": "stdout",
     "output_type": "stream",
     "text": [
      "                    memory so you shouldn't run more threads than your\n"
     ]
    },
    {
     "name": "stdout",
     "output_type": "stream",
     "text": [
      "                    available memory will cope with, and not more than\n"
     ]
    },
    {
     "name": "stdout",
     "output_type": "stream",
     "text": [
      "                    6 threads on a 32 bit machine\n"
     ]
    },
    {
     "name": "stdout",
     "output_type": "stream",
     "text": [
      "                  \n"
     ]
    },
    {
     "name": "stdout",
     "output_type": "stream",
     "text": [
      "    -c              Specifies a non-default file which contains the list of\n"
     ]
    },
    {
     "name": "stdout",
     "output_type": "stream",
     "text": [
      "    --contaminants  contaminants to screen overrepresented sequences against.\n"
     ]
    },
    {
     "name": "stdout",
     "output_type": "stream",
     "text": [
      "                    The file must contain sets of named contaminants in the\n"
     ]
    },
    {
     "name": "stdout",
     "output_type": "stream",
     "text": [
      "                    form name[tab]sequence.  Lines prefixed with a hash will\n"
     ]
    },
    {
     "name": "stdout",
     "output_type": "stream",
     "text": [
      "                    be ignored.\n"
     ]
    },
    {
     "name": "stdout",
     "output_type": "stream",
     "text": [
      "\n"
     ]
    },
    {
     "name": "stdout",
     "output_type": "stream",
     "text": [
      "    -a              Specifies a non-default file which contains the list of\n"
     ]
    },
    {
     "name": "stdout",
     "output_type": "stream",
     "text": [
      "    --adapters      adapter sequences which will be explicity searched against\n"
     ]
    },
    {
     "name": "stdout",
     "output_type": "stream",
     "text": [
      "                    the library. The file must contain sets of named adapters\n"
     ]
    },
    {
     "name": "stdout",
     "output_type": "stream",
     "text": [
      "                    in the form name[tab]sequence.  Lines prefixed with a hash\n"
     ]
    },
    {
     "name": "stdout",
     "output_type": "stream",
     "text": [
      "                    will be ignored.\n"
     ]
    },
    {
     "name": "stdout",
     "output_type": "stream",
     "text": [
      "                    \n"
     ]
    },
    {
     "name": "stdout",
     "output_type": "stream",
     "text": [
      "    -l              Specifies a non-default file which contains a set of criteria\n"
     ]
    },
    {
     "name": "stdout",
     "output_type": "stream",
     "text": [
      "    --limits        which will be used to determine the warn/error limits for the\n"
     ]
    },
    {
     "name": "stdout",
     "output_type": "stream",
     "text": [
      "                    various modules.  This file can also be used to selectively \n"
     ]
    },
    {
     "name": "stdout",
     "output_type": "stream",
     "text": [
      "                    remove some modules from the output all together.  The format\n"
     ]
    },
    {
     "name": "stdout",
     "output_type": "stream",
     "text": [
      "                    needs to mirror the default limits.txt file found in the\n"
     ]
    },
    {
     "name": "stdout",
     "output_type": "stream",
     "text": [
      "                    Configuration folder.\n"
     ]
    },
    {
     "name": "stdout",
     "output_type": "stream",
     "text": [
      "                    \n"
     ]
    },
    {
     "name": "stdout",
     "output_type": "stream",
     "text": [
      "   -k --kmers       Specifies the length of Kmer to look for in the Kmer content\n"
     ]
    },
    {
     "name": "stdout",
     "output_type": "stream",
     "text": [
      "                    module. Specified Kmer length must be between 2 and 10. Default\n"
     ]
    },
    {
     "name": "stdout",
     "output_type": "stream",
     "text": [
      "                    length is 7 if not specified.\n"
     ]
    },
    {
     "name": "stdout",
     "output_type": "stream",
     "text": [
      "                    \n"
     ]
    },
    {
     "name": "stdout",
     "output_type": "stream",
     "text": [
      "   -q --quiet       Supress all progress messages on stdout and only report errors.\n"
     ]
    },
    {
     "name": "stdout",
     "output_type": "stream",
     "text": [
      "   \n"
     ]
    },
    {
     "name": "stdout",
     "output_type": "stream",
     "text": [
      "   -d --dir         Selects a directory to be used for temporary files written when\n"
     ]
    },
    {
     "name": "stdout",
     "output_type": "stream",
     "text": [
      "                    generating report images. Defaults to system temp directory if\n"
     ]
    },
    {
     "name": "stdout",
     "output_type": "stream",
     "text": [
      "                    not specified.\n"
     ]
    },
    {
     "name": "stdout",
     "output_type": "stream",
     "text": [
      "                    \n"
     ]
    },
    {
     "name": "stdout",
     "output_type": "stream",
     "text": [
      "BUGS\n"
     ]
    },
    {
     "name": "stdout",
     "output_type": "stream",
     "text": [
      "\n"
     ]
    },
    {
     "name": "stdout",
     "output_type": "stream",
     "text": [
      "    Any bugs in fastqc should be reported either to simon.andrews@babraham.ac.uk\n"
     ]
    },
    {
     "name": "stdout",
     "output_type": "stream",
     "text": [
      "    or in www.bioinformatics.babraham.ac.uk/bugzilla/\n"
     ]
    },
    {
     "name": "stdout",
     "output_type": "stream",
     "text": [
      "                   \n"
     ]
    },
    {
     "name": "stdout",
     "output_type": "stream",
     "text": [
      "    \n"
     ]
    }
   ],
   "source": [
    "# La commande précédente est équivalente mais un peu plus lisible\n",
    "fastqc --help"
   ]
  },
  {
   "cell_type": "markdown",
   "id": "832cb1e5-3a48-4177-8a62-c0630dac68af",
   "metadata": {},
   "source": [
    "## Trouver de l'aide !\n",
    "\n",
    "Appeler la police, appeler son collègue, chercher sur internet ou utiliser la commande **man** (**man**uel)"
   ]
  },
  {
   "cell_type": "code",
   "execution_count": 5,
   "id": "c343fd57-c0de-4a6e-9f7b-989bc747bd2b",
   "metadata": {},
   "outputs": [
    {
     "name": "stdout",
     "output_type": "stream",
     "text": [
      "LS(1)                            User Commands                           LS(1)\n"
     ]
    },
    {
     "name": "stdout",
     "output_type": "stream",
     "text": [
      "\n"
     ]
    },
    {
     "name": "stdout",
     "output_type": "stream",
     "text": [
      "\n"
     ]
    },
    {
     "name": "stdout",
     "output_type": "stream",
     "text": [
      "\n"
     ]
    },
    {
     "name": "stdout",
     "output_type": "stream",
     "text": [
      "N\bNA\bAM\bME\bE\n"
     ]
    },
    {
     "name": "stdout",
     "output_type": "stream",
     "text": [
      "       ls - list directory contents\n"
     ]
    },
    {
     "name": "stdout",
     "output_type": "stream",
     "text": [
      "\n"
     ]
    },
    {
     "name": "stdout",
     "output_type": "stream",
     "text": [
      "S\bSY\bYN\bNO\bOP\bPS\bSI\bIS\bS\n"
     ]
    },
    {
     "name": "stdout",
     "output_type": "stream",
     "text": [
      "       l\bls\bs [_\bO_\bP_\bT_\bI_\bO_\bN]... [_\bF_\bI_\bL_\bE]...\n"
     ]
    },
    {
     "name": "stdout",
     "output_type": "stream",
     "text": [
      "\n"
     ]
    },
    {
     "name": "stdout",
     "output_type": "stream",
     "text": [
      "D\bDE\bES\bSC\bCR\bRI\bIP\bPT\bTI\bIO\bON\bN\n"
     ]
    },
    {
     "name": "stdout",
     "output_type": "stream",
     "text": [
      "       List  information  about  the FILEs (the current directory by default).\n"
     ]
    },
    {
     "name": "stdout",
     "output_type": "stream",
     "text": [
      "       Sort entries alphabetically if none of -\b-c\bcf\bft\btu\buv\bvS\bSU\bUX\bX nor -\b--\b-s\bso\bor\brt\bt  is  speci‐\n"
     ]
    },
    {
     "name": "stdout",
     "output_type": "stream",
     "text": [
      "       fied.\n"
     ]
    },
    {
     "name": "stdout",
     "output_type": "stream",
     "text": [
      "\n"
     ]
    },
    {
     "name": "stdout",
     "output_type": "stream",
     "text": [
      "       Mandatory  arguments  to  long  options are mandatory for short options\n"
     ]
    },
    {
     "name": "stdout",
     "output_type": "stream",
     "text": [
      "       too.\n"
     ]
    },
    {
     "name": "stdout",
     "output_type": "stream",
     "text": [
      "\n"
     ]
    },
    {
     "name": "stdout",
     "output_type": "stream",
     "text": [
      "       -\b-a\ba, -\b--\b-a\bal\bll\bl\n"
     ]
    },
    {
     "name": "stdout",
     "output_type": "stream",
     "text": [
      "              do not ignore entries starting with .\n"
     ]
    },
    {
     "name": "stdout",
     "output_type": "stream",
     "text": [
      "\n"
     ]
    },
    {
     "name": "stdout",
     "output_type": "stream",
     "text": [
      "       -\b-A\bA, -\b--\b-a\bal\blm\bmo\bos\bst\bt-\b-a\bal\bll\bl\n"
     ]
    },
    {
     "name": "stdout",
     "output_type": "stream",
     "text": [
      "              do not list implied . and ..\n"
     ]
    },
    {
     "name": "stdout",
     "output_type": "stream",
     "text": [
      "\n"
     ]
    },
    {
     "name": "stdout",
     "output_type": "stream",
     "text": [
      "       -\b--\b-a\bau\but\bth\bho\bor\br\n"
     ]
    },
    {
     "name": "stdout",
     "output_type": "stream",
     "text": [
      "              with -\b-l\bl, print the author of each file\n"
     ]
    },
    {
     "name": "stdout",
     "output_type": "stream",
     "text": [
      "\n"
     ]
    },
    {
     "name": "stdout",
     "output_type": "stream",
     "text": [
      "       -\b-b\bb, -\b--\b-e\bes\bsc\bca\bap\bpe\be\n"
     ]
    },
    {
     "name": "stdout",
     "output_type": "stream",
     "text": [
      "              print C-style escapes for nongraphic characters\n"
     ]
    },
    {
     "name": "stdout",
     "output_type": "stream",
     "text": [
      "\n"
     ]
    },
    {
     "name": "stdout",
     "output_type": "stream",
     "text": [
      "       -\b--\b-b\bbl\blo\boc\bck\bk-\b-s\bsi\biz\bze\be=_\bS_\bI_\bZ_\bE\n"
     ]
    },
    {
     "name": "stdout",
     "output_type": "stream",
     "text": [
      "              scale sizes by SIZE before printing them; e.g., '--block-size=M'\n"
     ]
    },
    {
     "name": "stdout",
     "output_type": "stream",
     "text": [
      "              prints sizes in units of 1,048,576 bytes; see SIZE format below\n"
     ]
    },
    {
     "name": "stdout",
     "output_type": "stream",
     "text": [
      "\n"
     ]
    },
    {
     "name": "stdout",
     "output_type": "stream",
     "text": [
      "       -\b-B\bB, -\b--\b-i\big\bgn\bno\bor\bre\be-\b-b\bba\bac\bck\bku\bup\bps\bs\n"
     ]
    },
    {
     "name": "stdout",
     "output_type": "stream",
     "text": [
      "              do not list implied entries ending with ~\n"
     ]
    },
    {
     "name": "stdout",
     "output_type": "stream",
     "text": [
      "\n"
     ]
    },
    {
     "name": "stdout",
     "output_type": "stream",
     "text": [
      "       -\b-c\bc     with -\b-l\blt\bt: sort by, and show, ctime (time of last modification of\n"
     ]
    },
    {
     "name": "stdout",
     "output_type": "stream",
     "text": [
      "              file status information); with -\b-l\bl: show ctime and sort by  name;\n"
     ]
    },
    {
     "name": "stdout",
     "output_type": "stream",
     "text": [
      "              otherwise: sort by ctime, newest first\n"
     ]
    },
    {
     "name": "stdout",
     "output_type": "stream",
     "text": [
      "\n"
     ]
    },
    {
     "name": "stdout",
     "output_type": "stream",
     "text": [
      "       -\b-C\bC     list entries by columns\n"
     ]
    },
    {
     "name": "stdout",
     "output_type": "stream",
     "text": [
      "\n"
     ]
    },
    {
     "name": "stdout",
     "output_type": "stream",
     "text": [
      "       -\b--\b-c\bco\bol\blo\bor\br[=_\bW_\bH_\bE_\bN]\n"
     ]
    },
    {
     "name": "stdout",
     "output_type": "stream",
     "text": [
      "              colorize  the  output;  WHEN can be 'never', 'auto', or 'always'\n"
     ]
    },
    {
     "name": "stdout",
     "output_type": "stream",
     "text": [
      "              (the default); more info below\n"
     ]
    },
    {
     "name": "stdout",
     "output_type": "stream",
     "text": [
      "\n"
     ]
    },
    {
     "name": "stdout",
     "output_type": "stream",
     "text": [
      "       -\b-d\bd, -\b--\b-d\bdi\bir\bre\bec\bct\bto\bor\bry\by\n"
     ]
    },
    {
     "name": "stdout",
     "output_type": "stream",
     "text": [
      "              list directories themselves, not their contents\n"
     ]
    },
    {
     "name": "stdout",
     "output_type": "stream",
     "text": [
      "\n"
     ]
    },
    {
     "name": "stdout",
     "output_type": "stream",
     "text": [
      "       -\b-D\bD, -\b--\b-d\bdi\bir\bre\bed\bd\n"
     ]
    },
    {
     "name": "stdout",
     "output_type": "stream",
     "text": [
      "              generate output designed for Emacs' dired mode\n"
     ]
    },
    {
     "name": "stdout",
     "output_type": "stream",
     "text": [
      "\n"
     ]
    },
    {
     "name": "stdout",
     "output_type": "stream",
     "text": [
      "       -\b-f\bf     do not sort, enable -\b-a\baU\bU, disable -\b-l\bls\bs -\b--\b-c\bco\bol\blo\bor\br\n"
     ]
    },
    {
     "name": "stdout",
     "output_type": "stream",
     "text": [
      "\n"
     ]
    },
    {
     "name": "stdout",
     "output_type": "stream",
     "text": [
      "       -\b-F\bF, -\b--\b-c\bcl\bla\bas\bss\bsi\bif\bfy\by\n"
     ]
    },
    {
     "name": "stdout",
     "output_type": "stream",
     "text": [
      "              append indicator (one of */=>@|) to entries\n"
     ]
    },
    {
     "name": "stdout",
     "output_type": "stream",
     "text": [
      "\n"
     ]
    },
    {
     "name": "stdout",
     "output_type": "stream",
     "text": [
      "       -\b--\b-f\bfi\bil\ble\be-\b-t\bty\byp\bpe\be\n"
     ]
    },
    {
     "name": "stdout",
     "output_type": "stream",
     "text": [
      "              likewise, except do not append '*'\n"
     ]
    },
    {
     "name": "stdout",
     "output_type": "stream",
     "text": [
      "\n"
     ]
    },
    {
     "name": "stdout",
     "output_type": "stream",
     "text": [
      "       -\b--\b-f\bfo\bor\brm\bma\bat\bt=_\bW_\bO_\bR_\bD\n"
     ]
    },
    {
     "name": "stdout",
     "output_type": "stream",
     "text": [
      "              across -\b-x\bx, commas -\b-m\bm, horizontal -\b-x\bx, long -\b-l\bl, single-column  -\b-1\b1,\n"
     ]
    },
    {
     "name": "stdout",
     "output_type": "stream",
     "text": [
      "              verbose -\b-l\bl, vertical -\b-C\bC\n"
     ]
    },
    {
     "name": "stdout",
     "output_type": "stream",
     "text": [
      "\n"
     ]
    },
    {
     "name": "stdout",
     "output_type": "stream",
     "text": [
      "       -\b--\b-f\bfu\bul\bll\bl-\b-t\bti\bim\bme\be\n"
     ]
    },
    {
     "name": "stdout",
     "output_type": "stream",
     "text": [
      "              like -\b-l\bl -\b--\b-t\bti\bim\bme\be-\b-s\bst\bty\byl\ble\be=_\bf_\bu_\bl_\bl_\b-_\bi_\bs_\bo\n"
     ]
    },
    {
     "name": "stdout",
     "output_type": "stream",
     "text": [
      "\n"
     ]
    },
    {
     "name": "stdout",
     "output_type": "stream",
     "text": [
      "       -\b-g\bg     like -\b-l\bl, but do not list owner\n"
     ]
    },
    {
     "name": "stdout",
     "output_type": "stream",
     "text": [
      "\n"
     ]
    },
    {
     "name": "stdout",
     "output_type": "stream",
     "text": [
      "       -\b--\b-g\bgr\bro\bou\bup\bp-\b-d\bdi\bir\bre\bec\bct\bto\bor\bri\bie\bes\bs-\b-f\bfi\bir\brs\bst\bt\n"
     ]
    },
    {
     "name": "stdout",
     "output_type": "stream",
     "text": [
      "              group directories before files;\n"
     ]
    },
    {
     "name": "stdout",
     "output_type": "stream",
     "text": [
      "\n"
     ]
    },
    {
     "name": "stdout",
     "output_type": "stream",
     "text": [
      "              can   be  augmented  with  a  -\b--\b-s\bso\bor\brt\bt  option,  but  any  use  of\n"
     ]
    },
    {
     "name": "stdout",
     "output_type": "stream",
     "text": [
      "              -\b--\b-s\bso\bor\brt\bt=_\bn_\bo_\bn_\be (-\b-U\bU) disables grouping\n"
     ]
    },
    {
     "name": "stdout",
     "output_type": "stream",
     "text": [
      "\n"
     ]
    },
    {
     "name": "stdout",
     "output_type": "stream",
     "text": [
      "       -\b-G\bG, -\b--\b-n\bno\bo-\b-g\bgr\bro\bou\bup\bp\n"
     ]
    },
    {
     "name": "stdout",
     "output_type": "stream",
     "text": [
      "              in a long listing, don't print group names\n"
     ]
    },
    {
     "name": "stdout",
     "output_type": "stream",
     "text": [
      "\n"
     ]
    },
    {
     "name": "stdout",
     "output_type": "stream",
     "text": [
      "       -\b-h\bh, -\b--\b-h\bhu\bum\bma\ban\bn-\b-r\bre\bea\bad\bda\bab\bbl\ble\be\n"
     ]
    },
    {
     "name": "stdout",
     "output_type": "stream",
     "text": [
      "              with -\b-l\bl, print sizes in human readable format (e.g., 1K 234M 2G)\n"
     ]
    },
    {
     "name": "stdout",
     "output_type": "stream",
     "text": [
      "\n"
     ]
    },
    {
     "name": "stdout",
     "output_type": "stream",
     "text": [
      "       -\b--\b-s\bsi\bi   likewise, but use powers of 1000 not 1024\n"
     ]
    },
    {
     "name": "stdout",
     "output_type": "stream",
     "text": [
      "\n"
     ]
    },
    {
     "name": "stdout",
     "output_type": "stream",
     "text": [
      "       -\b-H\bH, -\b--\b-d\bde\ber\bre\bef\bfe\ber\bre\ben\bnc\bce\be-\b-c\bco\bom\bmm\bma\ban\bnd\bd-\b-l\bli\bin\bne\be\n"
     ]
    },
    {
     "name": "stdout",
     "output_type": "stream",
     "text": [
      "              follow symbolic links listed on the command line\n"
     ]
    },
    {
     "name": "stdout",
     "output_type": "stream",
     "text": [
      "\n"
     ]
    },
    {
     "name": "stdout",
     "output_type": "stream",
     "text": [
      "       -\b--\b-d\bde\ber\bre\bef\bfe\ber\bre\ben\bnc\bce\be-\b-c\bco\bom\bmm\bma\ban\bnd\bd-\b-l\bli\bin\bne\be-\b-s\bsy\bym\bml\bli\bin\bnk\bk-\b-t\bto\bo-\b-d\bdi\bir\br\n"
     ]
    },
    {
     "name": "stdout",
     "output_type": "stream",
     "text": [
      "              follow each command line symbolic link\n"
     ]
    },
    {
     "name": "stdout",
     "output_type": "stream",
     "text": [
      "\n"
     ]
    },
    {
     "name": "stdout",
     "output_type": "stream",
     "text": [
      "              that points to a directory\n"
     ]
    },
    {
     "name": "stdout",
     "output_type": "stream",
     "text": [
      "\n"
     ]
    },
    {
     "name": "stdout",
     "output_type": "stream",
     "text": [
      "       -\b--\b-h\bhi\bid\bde\be=_\bP_\bA_\bT_\bT_\bE_\bR_\bN\n"
     ]
    },
    {
     "name": "stdout",
     "output_type": "stream",
     "text": [
      "              do not list implied entries matching shell  PATTERN  (overridden\n"
     ]
    },
    {
     "name": "stdout",
     "output_type": "stream",
     "text": [
      "              by -\b-a\ba or -\b-A\bA)\n"
     ]
    },
    {
     "name": "stdout",
     "output_type": "stream",
     "text": [
      "\n"
     ]
    },
    {
     "name": "stdout",
     "output_type": "stream",
     "text": [
      "       -\b--\b-i\bin\bnd\bdi\bic\bca\bat\bto\bor\br-\b-s\bst\bty\byl\ble\be=_\bW_\bO_\bR_\bD\n"
     ]
    },
    {
     "name": "stdout",
     "output_type": "stream",
     "text": [
      "              append indicator with style WORD to entry names: none (default),\n"
     ]
    },
    {
     "name": "stdout",
     "output_type": "stream",
     "text": [
      "              slash (-\b-p\bp), file-type (-\b--\b-f\bfi\bil\ble\be-\b-t\bty\byp\bpe\be), classify (-\b-F\bF)\n"
     ]
    },
    {
     "name": "stdout",
     "output_type": "stream",
     "text": [
      "\n"
     ]
    },
    {
     "name": "stdout",
     "output_type": "stream",
     "text": [
      "       -\b-i\bi, -\b--\b-i\bin\bno\bod\bde\be\n"
     ]
    },
    {
     "name": "stdout",
     "output_type": "stream",
     "text": [
      "              print the index number of each file\n"
     ]
    },
    {
     "name": "stdout",
     "output_type": "stream",
     "text": [
      "\n"
     ]
    },
    {
     "name": "stdout",
     "output_type": "stream",
     "text": [
      "       -\b-I\bI, -\b--\b-i\big\bgn\bno\bor\bre\be=_\bP_\bA_\bT_\bT_\bE_\bR_\bN\n"
     ]
    },
    {
     "name": "stdout",
     "output_type": "stream",
     "text": [
      "              do not list implied entries matching shell PATTERN\n"
     ]
    },
    {
     "name": "stdout",
     "output_type": "stream",
     "text": [
      "\n"
     ]
    },
    {
     "name": "stdout",
     "output_type": "stream",
     "text": [
      "       -\b-k\bk, -\b--\b-k\bki\bib\bbi\bib\bby\byt\bte\bes\bs\n"
     ]
    },
    {
     "name": "stdout",
     "output_type": "stream",
     "text": [
      "              default to 1024-byte blocks for disk usage\n"
     ]
    },
    {
     "name": "stdout",
     "output_type": "stream",
     "text": [
      "\n"
     ]
    },
    {
     "name": "stdout",
     "output_type": "stream",
     "text": [
      "       -\b-l\bl     use a long listing format\n"
     ]
    },
    {
     "name": "stdout",
     "output_type": "stream",
     "text": [
      "\n"
     ]
    },
    {
     "name": "stdout",
     "output_type": "stream",
     "text": [
      "       -\b-L\bL, -\b--\b-d\bde\ber\bre\bef\bfe\ber\bre\ben\bnc\bce\be\n"
     ]
    },
    {
     "name": "stdout",
     "output_type": "stream",
     "text": [
      "              when showing file information for a symbolic link, show informa‐\n"
     ]
    },
    {
     "name": "stdout",
     "output_type": "stream",
     "text": [
      "              tion  for  the file the link references rather than for the link\n"
     ]
    },
    {
     "name": "stdout",
     "output_type": "stream",
     "text": [
      "              itself\n"
     ]
    },
    {
     "name": "stdout",
     "output_type": "stream",
     "text": [
      "\n"
     ]
    },
    {
     "name": "stdout",
     "output_type": "stream",
     "text": [
      "       -\b-m\bm     fill width with a comma separated list of entries\n"
     ]
    },
    {
     "name": "stdout",
     "output_type": "stream",
     "text": [
      "\n"
     ]
    },
    {
     "name": "stdout",
     "output_type": "stream",
     "text": [
      "       -\b-n\bn, -\b--\b-n\bnu\bum\bme\ber\bri\bic\bc-\b-u\bui\bid\bd-\b-g\bgi\bid\bd\n"
     ]
    },
    {
     "name": "stdout",
     "output_type": "stream",
     "text": [
      "              like -\b-l\bl, but list numeric user and group IDs\n"
     ]
    },
    {
     "name": "stdout",
     "output_type": "stream",
     "text": [
      "\n"
     ]
    },
    {
     "name": "stdout",
     "output_type": "stream",
     "text": [
      "       -\b-N\bN, -\b--\b-l\bli\bit\bte\ber\bra\bal\bl\n"
     ]
    },
    {
     "name": "stdout",
     "output_type": "stream",
     "text": [
      "              print raw entry names (don't treat e.g. control characters  spe‐\n"
     ]
    },
    {
     "name": "stdout",
     "output_type": "stream",
     "text": [
      "              cially)\n"
     ]
    },
    {
     "name": "stdout",
     "output_type": "stream",
     "text": [
      "\n"
     ]
    },
    {
     "name": "stdout",
     "output_type": "stream",
     "text": [
      "       -\b-o\bo     like -\b-l\bl, but do not list group information\n"
     ]
    },
    {
     "name": "stdout",
     "output_type": "stream",
     "text": [
      "\n"
     ]
    },
    {
     "name": "stdout",
     "output_type": "stream",
     "text": [
      "       -\b-p\bp, -\b--\b-i\bin\bnd\bdi\bic\bca\bat\bto\bor\br-\b-s\bst\bty\byl\ble\be=_\bs_\bl_\ba_\bs_\bh\n"
     ]
    },
    {
     "name": "stdout",
     "output_type": "stream",
     "text": [
      "              append / indicator to directories\n"
     ]
    },
    {
     "name": "stdout",
     "output_type": "stream",
     "text": [
      "\n"
     ]
    },
    {
     "name": "stdout",
     "output_type": "stream",
     "text": [
      "       -\b-q\bq, -\b--\b-h\bhi\bid\bde\be-\b-c\bco\bon\bnt\btr\bro\bol\bl-\b-c\bch\bha\bar\brs\bs\n"
     ]
    },
    {
     "name": "stdout",
     "output_type": "stream",
     "text": [
      "              print ? instead of nongraphic characters\n"
     ]
    },
    {
     "name": "stdout",
     "output_type": "stream",
     "text": [
      "\n"
     ]
    },
    {
     "name": "stdout",
     "output_type": "stream",
     "text": [
      "       -\b--\b-s\bsh\bho\bow\bw-\b-c\bco\bon\bnt\btr\bro\bol\bl-\b-c\bch\bha\bar\brs\bs\n"
     ]
    },
    {
     "name": "stdout",
     "output_type": "stream",
     "text": [
      "              show nongraphic characters as-is (the default, unless program is\n"
     ]
    },
    {
     "name": "stdout",
     "output_type": "stream",
     "text": [
      "              'ls' and output is a terminal)\n"
     ]
    },
    {
     "name": "stdout",
     "output_type": "stream",
     "text": [
      "\n"
     ]
    },
    {
     "name": "stdout",
     "output_type": "stream",
     "text": [
      "       -\b-Q\bQ, -\b--\b-q\bqu\buo\bot\bte\be-\b-n\bna\bam\bme\be\n"
     ]
    },
    {
     "name": "stdout",
     "output_type": "stream",
     "text": [
      "              enclose entry names in double quotes\n"
     ]
    },
    {
     "name": "stdout",
     "output_type": "stream",
     "text": [
      "\n"
     ]
    },
    {
     "name": "stdout",
     "output_type": "stream",
     "text": [
      "       -\b--\b-q\bqu\buo\bot\bti\bin\bng\bg-\b-s\bst\bty\byl\ble\be=_\bW_\bO_\bR_\bD\n"
     ]
    },
    {
     "name": "stdout",
     "output_type": "stream",
     "text": [
      "              use quoting style WORD for entry names: literal, locale,  shell,\n"
     ]
    },
    {
     "name": "stdout",
     "output_type": "stream",
     "text": [
      "              shell-always, c, escape\n"
     ]
    },
    {
     "name": "stdout",
     "output_type": "stream",
     "text": [
      "\n"
     ]
    },
    {
     "name": "stdout",
     "output_type": "stream",
     "text": [
      "       -\b-r\br, -\b--\b-r\bre\bev\bve\ber\brs\bse\be\n"
     ]
    },
    {
     "name": "stdout",
     "output_type": "stream",
     "text": [
      "              reverse order while sorting\n"
     ]
    },
    {
     "name": "stdout",
     "output_type": "stream",
     "text": [
      "\n"
     ]
    },
    {
     "name": "stdout",
     "output_type": "stream",
     "text": [
      "       -\b-R\bR, -\b--\b-r\bre\bec\bcu\bur\brs\bsi\biv\bve\be\n"
     ]
    },
    {
     "name": "stdout",
     "output_type": "stream",
     "text": [
      "              list subdirectories recursively\n"
     ]
    },
    {
     "name": "stdout",
     "output_type": "stream",
     "text": [
      "\n"
     ]
    },
    {
     "name": "stdout",
     "output_type": "stream",
     "text": [
      "       -\b-s\bs, -\b--\b-s\bsi\biz\bze\be\n"
     ]
    },
    {
     "name": "stdout",
     "output_type": "stream",
     "text": [
      "              print the allocated size of each file, in blocks\n"
     ]
    },
    {
     "name": "stdout",
     "output_type": "stream",
     "text": [
      "\n"
     ]
    },
    {
     "name": "stdout",
     "output_type": "stream",
     "text": [
      "       -\b-S\bS     sort by file size\n"
     ]
    },
    {
     "name": "stdout",
     "output_type": "stream",
     "text": [
      "\n"
     ]
    },
    {
     "name": "stdout",
     "output_type": "stream",
     "text": [
      "       -\b--\b-s\bso\bor\brt\bt=_\bW_\bO_\bR_\bD\n"
     ]
    },
    {
     "name": "stdout",
     "output_type": "stream",
     "text": [
      "              sort  by  WORD instead of name: none (-\b-U\bU), size (-\b-S\bS), time (-\b-t\bt),\n"
     ]
    },
    {
     "name": "stdout",
     "output_type": "stream",
     "text": [
      "              version (-\b-v\bv), extension (-\b-X\bX)\n"
     ]
    },
    {
     "name": "stdout",
     "output_type": "stream",
     "text": [
      "\n"
     ]
    },
    {
     "name": "stdout",
     "output_type": "stream",
     "text": [
      "       -\b--\b-t\bti\bim\bme\be=_\bW_\bO_\bR_\bD\n"
     ]
    },
    {
     "name": "stdout",
     "output_type": "stream",
     "text": [
      "              with -\b-l\bl, show time as WORD instead of default modification time:\n"
     ]
    },
    {
     "name": "stdout",
     "output_type": "stream",
     "text": [
      "              atime or access or use (-\b-u\bu) ctime or status (-\b-c\bc); also use spec‐\n"
     ]
    },
    {
     "name": "stdout",
     "output_type": "stream",
     "text": [
      "              ified time as sort key if -\b--\b-s\bso\bor\brt\bt=_\bt_\bi_\bm_\be\n"
     ]
    },
    {
     "name": "stdout",
     "output_type": "stream",
     "text": [
      "\n"
     ]
    },
    {
     "name": "stdout",
     "output_type": "stream",
     "text": [
      "       -\b--\b-t\bti\bim\bme\be-\b-s\bst\bty\byl\ble\be=_\bS_\bT_\bY_\bL_\bE\n"
     ]
    },
    {
     "name": "stdout",
     "output_type": "stream",
     "text": [
      "              with -\b-l\bl, show times using style STYLE: full-iso, long-iso,  iso,\n"
     ]
    },
    {
     "name": "stdout",
     "output_type": "stream",
     "text": [
      "              locale,  or  +FORMAT;  FORMAT  is interpreted like in 'date'; if\n"
     ]
    },
    {
     "name": "stdout",
     "output_type": "stream",
     "text": [
      "              FORMAT  is  FORMAT1<newline>FORMAT2,  then  FORMAT1  applies  to\n"
     ]
    },
    {
     "name": "stdout",
     "output_type": "stream",
     "text": [
      "              non-recent  files  and FORMAT2 to recent files; if STYLE is pre‐\n"
     ]
    },
    {
     "name": "stdout",
     "output_type": "stream",
     "text": [
      "              fixed with 'posix-', STYLE takes effect only outside  the  POSIX\n"
     ]
    },
    {
     "name": "stdout",
     "output_type": "stream",
     "text": [
      "              locale\n"
     ]
    },
    {
     "name": "stdout",
     "output_type": "stream",
     "text": [
      "\n"
     ]
    },
    {
     "name": "stdout",
     "output_type": "stream",
     "text": [
      "       -\b-t\bt     sort by modification time, newest first\n"
     ]
    },
    {
     "name": "stdout",
     "output_type": "stream",
     "text": [
      "\n"
     ]
    },
    {
     "name": "stdout",
     "output_type": "stream",
     "text": [
      "       -\b-T\bT, -\b--\b-t\bta\bab\bbs\bsi\biz\bze\be=_\bC_\bO_\bL_\bS\n"
     ]
    },
    {
     "name": "stdout",
     "output_type": "stream",
     "text": [
      "              assume tab stops at each COLS instead of 8\n"
     ]
    },
    {
     "name": "stdout",
     "output_type": "stream",
     "text": [
      "\n"
     ]
    },
    {
     "name": "stdout",
     "output_type": "stream",
     "text": [
      "       -\b-u\bu     with  -\b-l\blt\bt:  sort by, and show, access time; with -\b-l\bl: show access\n"
     ]
    },
    {
     "name": "stdout",
     "output_type": "stream",
     "text": [
      "              time and sort by name; otherwise: sort by access time\n"
     ]
    },
    {
     "name": "stdout",
     "output_type": "stream",
     "text": [
      "\n"
     ]
    },
    {
     "name": "stdout",
     "output_type": "stream",
     "text": [
      "       -\b-U\bU     do not sort; list entries in directory order\n"
     ]
    },
    {
     "name": "stdout",
     "output_type": "stream",
     "text": [
      "\n"
     ]
    },
    {
     "name": "stdout",
     "output_type": "stream",
     "text": [
      "       -\b-v\bv     natural sort of (version) numbers within text\n"
     ]
    },
    {
     "name": "stdout",
     "output_type": "stream",
     "text": [
      "\n"
     ]
    },
    {
     "name": "stdout",
     "output_type": "stream",
     "text": [
      "       -\b-w\bw, -\b--\b-w\bwi\bid\bdt\bth\bh=_\bC_\bO_\bL_\bS\n"
     ]
    },
    {
     "name": "stdout",
     "output_type": "stream",
     "text": [
      "              assume screen width instead of current value\n"
     ]
    },
    {
     "name": "stdout",
     "output_type": "stream",
     "text": [
      "\n"
     ]
    },
    {
     "name": "stdout",
     "output_type": "stream",
     "text": [
      "       -\b-x\bx     list entries by lines instead of by columns\n"
     ]
    },
    {
     "name": "stdout",
     "output_type": "stream",
     "text": [
      "\n"
     ]
    },
    {
     "name": "stdout",
     "output_type": "stream",
     "text": [
      "       -\b-X\bX     sort alphabetically by entry extension\n"
     ]
    },
    {
     "name": "stdout",
     "output_type": "stream",
     "text": [
      "\n"
     ]
    },
    {
     "name": "stdout",
     "output_type": "stream",
     "text": [
      "       -\b-1\b1     list one file per line\n"
     ]
    },
    {
     "name": "stdout",
     "output_type": "stream",
     "text": [
      "\n"
     ]
    },
    {
     "name": "stdout",
     "output_type": "stream",
     "text": [
      "       SELinux options:\n"
     ]
    },
    {
     "name": "stdout",
     "output_type": "stream",
     "text": [
      "\n"
     ]
    },
    {
     "name": "stdout",
     "output_type": "stream",
     "text": [
      "       -\b--\b-l\blc\bco\bon\bnt\bte\bex\bxt\bt\n"
     ]
    },
    {
     "name": "stdout",
     "output_type": "stream",
     "text": [
      "              Display security context.   Enable -\b-l\bl. Lines  will  probably  be\n"
     ]
    },
    {
     "name": "stdout",
     "output_type": "stream",
     "text": [
      "              too wide for most displays.\n"
     ]
    },
    {
     "name": "stdout",
     "output_type": "stream",
     "text": [
      "\n"
     ]
    },
    {
     "name": "stdout",
     "output_type": "stream",
     "text": [
      "       -\b-Z\bZ, -\b--\b-c\bco\bon\bnt\bte\bex\bxt\bt\n"
     ]
    },
    {
     "name": "stdout",
     "output_type": "stream",
     "text": [
      "              Display  security context so it fits on most displays.  Displays\n"
     ]
    },
    {
     "name": "stdout",
     "output_type": "stream",
     "text": [
      "              only mode, user, group, security context and file name.\n"
     ]
    },
    {
     "name": "stdout",
     "output_type": "stream",
     "text": [
      "\n"
     ]
    },
    {
     "name": "stdout",
     "output_type": "stream",
     "text": [
      "       -\b--\b-s\bsc\bco\bon\bnt\bte\bex\bxt\bt\n"
     ]
    },
    {
     "name": "stdout",
     "output_type": "stream",
     "text": [
      "              Display only security context and file name.\n"
     ]
    },
    {
     "name": "stdout",
     "output_type": "stream",
     "text": [
      "\n"
     ]
    },
    {
     "name": "stdout",
     "output_type": "stream",
     "text": [
      "       -\b--\b-h\bhe\bel\blp\bp display this help and exit\n"
     ]
    },
    {
     "name": "stdout",
     "output_type": "stream",
     "text": [
      "\n"
     ]
    },
    {
     "name": "stdout",
     "output_type": "stream",
     "text": [
      "       -\b--\b-v\bve\ber\brs\bsi\bio\bon\bn\n"
     ]
    },
    {
     "name": "stdout",
     "output_type": "stream",
     "text": [
      "              output version information and exit\n"
     ]
    },
    {
     "name": "stdout",
     "output_type": "stream",
     "text": [
      "\n"
     ]
    },
    {
     "name": "stdout",
     "output_type": "stream",
     "text": [
      "       SIZE is an integer and optional unit (example:  10M  is  10*1024*1024).\n"
     ]
    },
    {
     "name": "stdout",
     "output_type": "stream",
     "text": [
      "       Units  are K, M, G, T, P, E, Z, Y (powers of 1024) or KB, MB, ... (pow‐\n"
     ]
    },
    {
     "name": "stdout",
     "output_type": "stream",
     "text": [
      "       ers of 1000).\n"
     ]
    },
    {
     "name": "stdout",
     "output_type": "stream",
     "text": [
      "\n"
     ]
    },
    {
     "name": "stdout",
     "output_type": "stream",
     "text": [
      "       Using color to distinguish file types is disabled both by  default  and\n"
     ]
    },
    {
     "name": "stdout",
     "output_type": "stream",
     "text": [
      "       with  -\b--\b-c\bco\bol\blo\bor\br=_\bn_\be_\bv_\be_\br.  With -\b--\b-c\bco\bol\blo\bor\br=_\ba_\bu_\bt_\bo, ls emits color codes only when\n"
     ]
    },
    {
     "name": "stdout",
     "output_type": "stream",
     "text": [
      "       standard output is connected to a terminal.  The LS_COLORS  environment\n"
     ]
    },
    {
     "name": "stdout",
     "output_type": "stream",
     "text": [
      "       variable can change the settings.  Use the dircolors command to set it.\n"
     ]
    },
    {
     "name": "stdout",
     "output_type": "stream",
     "text": [
      "\n"
     ]
    },
    {
     "name": "stdout",
     "output_type": "stream",
     "text": [
      "   E\bEx\bxi\bit\bt s\bst\bta\bat\btu\bus\bs:\b:\n"
     ]
    },
    {
     "name": "stdout",
     "output_type": "stream",
     "text": [
      "       0      if OK,\n"
     ]
    },
    {
     "name": "stdout",
     "output_type": "stream",
     "text": [
      "\n"
     ]
    },
    {
     "name": "stdout",
     "output_type": "stream",
     "text": [
      "       1      if minor problems (e.g., cannot access subdirectory),\n"
     ]
    },
    {
     "name": "stdout",
     "output_type": "stream",
     "text": [
      "\n"
     ]
    },
    {
     "name": "stdout",
     "output_type": "stream",
     "text": [
      "       2      if serious trouble (e.g., cannot access command-line argument).\n"
     ]
    },
    {
     "name": "stdout",
     "output_type": "stream",
     "text": [
      "\n"
     ]
    },
    {
     "name": "stdout",
     "output_type": "stream",
     "text": [
      "       GNU  coreutils  online  help:  <http://www.gnu.org/software/coreutils/>\n"
     ]
    },
    {
     "name": "stdout",
     "output_type": "stream",
     "text": [
      "       Report ls translation bugs to <http://translationproject.org/team/>\n"
     ]
    },
    {
     "name": "stdout",
     "output_type": "stream",
     "text": [
      "\n"
     ]
    },
    {
     "name": "stdout",
     "output_type": "stream",
     "text": [
      "A\bAU\bUT\bTH\bHO\bOR\bR\n"
     ]
    },
    {
     "name": "stdout",
     "output_type": "stream",
     "text": [
      "       Written by Richard M. Stallman and David MacKenzie.\n"
     ]
    },
    {
     "name": "stdout",
     "output_type": "stream",
     "text": [
      "\n"
     ]
    },
    {
     "name": "stdout",
     "output_type": "stream",
     "text": [
      "C\bCO\bOP\bPY\bYR\bRI\bIG\bGH\bHT\bT\n"
     ]
    },
    {
     "name": "stdout",
     "output_type": "stream",
     "text": [
      "       Copyright © 2013 Free Software Foundation, Inc.   License  GPLv3+:  GNU\n"
     ]
    },
    {
     "name": "stdout",
     "output_type": "stream",
     "text": [
      "       GPL version 3 or later <http://gnu.org/licenses/gpl.html>.\n"
     ]
    },
    {
     "name": "stdout",
     "output_type": "stream",
     "text": [
      "       This  is  free  software:  you  are free to change and redistribute it.\n"
     ]
    },
    {
     "name": "stdout",
     "output_type": "stream",
     "text": [
      "       There is NO WARRANTY, to the extent permitted by law.\n"
     ]
    },
    {
     "name": "stdout",
     "output_type": "stream",
     "text": [
      "\n"
     ]
    },
    {
     "name": "stdout",
     "output_type": "stream",
     "text": [
      "S\bSE\bEE\bE A\bAL\bLS\bSO\bO\n"
     ]
    },
    {
     "name": "stdout",
     "output_type": "stream",
     "text": [
      "       The full documentation for l\bls\bs is maintained as a  Texinfo  manual.   If\n"
     ]
    },
    {
     "name": "stdout",
     "output_type": "stream",
     "text": [
      "       the  i\bin\bnf\bfo\bo and l\bls\bs programs are properly installed at your site, the com‐\n"
     ]
    },
    {
     "name": "stdout",
     "output_type": "stream",
     "text": [
      "       mand\n"
     ]
    },
    {
     "name": "stdout",
     "output_type": "stream",
     "text": [
      "\n"
     ]
    },
    {
     "name": "stdout",
     "output_type": "stream",
     "text": [
      "              i\bin\bnf\bfo\bo c\bco\bor\bre\beu\but\bti\bil\bls\bs '\b'l\bls\bs i\bin\bnv\bvo\boc\bca\bat\bti\bio\bon\bn'\b'\n"
     ]
    },
    {
     "name": "stdout",
     "output_type": "stream",
     "text": [
      "\n"
     ]
    },
    {
     "name": "stdout",
     "output_type": "stream",
     "text": [
      "       should give you access to the complete manual.\n"
     ]
    },
    {
     "name": "stdout",
     "output_type": "stream",
     "text": [
      "\n"
     ]
    },
    {
     "name": "stdout",
     "output_type": "stream",
     "text": [
      "\n"
     ]
    },
    {
     "name": "stdout",
     "output_type": "stream",
     "text": [
      "\n"
     ]
    },
    {
     "name": "stdout",
     "output_type": "stream",
     "text": [
      "GNU coreutils 8.22                April 2018                             LS(1)\n"
     ]
    }
   ],
   "source": [
    "# obtenir de l'aide sur la commande ls\n",
    "man ls  "
   ]
  },
  {
   "cell_type": "code",
   "execution_count": 6,
   "id": "3aad58dd-1ec9-45ce-83cf-efd0b76d0517",
   "metadata": {},
   "outputs": [
    {
     "name": "stdout",
     "output_type": "stream",
     "text": [
      "MAN(1)                        Manual pager utils                        MAN(1)\n"
     ]
    },
    {
     "name": "stdout",
     "output_type": "stream",
     "text": [
      "\n"
     ]
    },
    {
     "name": "stdout",
     "output_type": "stream",
     "text": [
      "\n"
     ]
    },
    {
     "name": "stdout",
     "output_type": "stream",
     "text": [
      "\n"
     ]
    },
    {
     "name": "stdout",
     "output_type": "stream",
     "text": [
      "N\bNA\bAM\bME\bE\n"
     ]
    },
    {
     "name": "stdout",
     "output_type": "stream",
     "text": [
      "       man - an interface to the on-line reference manuals\n"
     ]
    },
    {
     "name": "stdout",
     "output_type": "stream",
     "text": [
      "\n"
     ]
    },
    {
     "name": "stdout",
     "output_type": "stream",
     "text": [
      "S\bSY\bYN\bNO\bOP\bPS\bSI\bIS\bS\n"
     ]
    },
    {
     "name": "stdout",
     "output_type": "stream",
     "text": [
      "       m\bma\ban\bn  [-\b-C\bC  _\bf_\bi_\bl_\be]  [-\b-d\bd]  [-\b-D\bD]  [-\b--\b-w\bwa\bar\brn\bni\bin\bng\bgs\bs[=_\bw_\ba_\br_\bn_\bi_\bn_\bg_\bs]]  [-\b-R\bR _\be_\bn_\bc_\bo_\bd_\bi_\bn_\bg] [-\b-L\bL\n"
     ]
    },
    {
     "name": "stdout",
     "output_type": "stream",
     "text": [
      "       _\bl_\bo_\bc_\ba_\bl_\be] [-\b-m\bm _\bs_\by_\bs_\bt_\be_\bm[,...]] [-\b-M\bM _\bp_\ba_\bt_\bh] [-\b-S\bS _\bl_\bi_\bs_\bt]  [-\b-e\be  _\be_\bx_\bt_\be_\bn_\bs_\bi_\bo_\bn]  [-\b-i\bi|-\b-I\bI]\n"
     ]
    },
    {
     "name": "stdout",
     "output_type": "stream",
     "text": [
      "       [-\b--\b-r\bre\beg\bge\bex\bx|-\b--\b-w\bwi\bil\bld\bdc\bca\bar\brd\bd]   [-\b--\b-n\bna\bam\bme\bes\bs-\b-o\bon\bnl\bly\by]  [-\b-a\ba]  [-\b-u\bu]  [-\b--\b-n\bno\bo-\b-s\bsu\bub\bbp\bpa\bag\bge\bes\bs]  [-\b-P\bP\n"
     ]
    },
    {
     "name": "stdout",
     "output_type": "stream",
     "text": [
      "       _\bp_\ba_\bg_\be_\br] [-\b-r\br _\bp_\br_\bo_\bm_\bp_\bt] [-\b-7\b7] [-\b-E\bE _\be_\bn_\bc_\bo_\bd_\bi_\bn_\bg] [-\b--\b-n\bno\bo-\b-h\bhy\byp\bph\bhe\ben\bna\bat\bti\bio\bon\bn] [-\b--\b-n\bno\bo-\b-j\bju\bus\bst\bti\bif\bfi\bi‐\b‐\n"
     ]
    },
    {
     "name": "stdout",
     "output_type": "stream",
     "text": [
      "       c\bca\bat\bti\bio\bon\bn]  [-\b-p\bp  _\bs_\bt_\br_\bi_\bn_\bg]  [-\b-t\bt]  [-\b-T\bT[_\bd_\be_\bv_\bi_\bc_\be]]  [-\b-H\bH[_\bb_\br_\bo_\bw_\bs_\be_\br]] [-\b-X\bX[_\bd_\bp_\bi]] [-\b-Z\bZ]\n"
     ]
    },
    {
     "name": "stdout",
     "output_type": "stream",
     "text": [
      "       [[_\bs_\be_\bc_\bt_\bi_\bo_\bn] _\bp_\ba_\bg_\be ...] ...\n"
     ]
    },
    {
     "name": "stdout",
     "output_type": "stream",
     "text": [
      "       m\bma\ban\bn -\b-k\bk [_\ba_\bp_\br_\bo_\bp_\bo_\bs _\bo_\bp_\bt_\bi_\bo_\bn_\bs] _\br_\be_\bg_\be_\bx_\bp ...\n"
     ]
    },
    {
     "name": "stdout",
     "output_type": "stream",
     "text": [
      "       m\bma\ban\bn -\b-K\bK [-\b-w\bw|-\b-W\bW] [-\b-S\bS _\bl_\bi_\bs_\bt] [-\b-i\bi|-\b-I\bI] [_\b-_\b-_\br_\be_\bg_\be_\bx] [_\bs_\be_\bc_\bt_\bi_\bo_\bn] _\bt_\be_\br_\bm ...\n"
     ]
    },
    {
     "name": "stdout",
     "output_type": "stream",
     "text": [
      "       m\bma\ban\bn -\b-f\bf [_\bw_\bh_\ba_\bt_\bi_\bs _\bo_\bp_\bt_\bi_\bo_\bn_\bs] _\bp_\ba_\bg_\be ...\n"
     ]
    },
    {
     "name": "stdout",
     "output_type": "stream",
     "text": [
      "       m\bma\ban\bn -\b-l\bl [-\b-C\bC _\bf_\bi_\bl_\be] [-\b-d\bd] [-\b-D\bD] [-\b--\b-w\bwa\bar\brn\bni\bin\bng\bgs\bs[=_\bw_\ba_\br_\bn_\bi_\bn_\bg_\bs]]  [-\b-R\bR  _\be_\bn_\bc_\bo_\bd_\bi_\bn_\bg]  [-\b-L\bL\n"
     ]
    },
    {
     "name": "stdout",
     "output_type": "stream",
     "text": [
      "       _\bl_\bo_\bc_\ba_\bl_\be]  [-\b-P\bP  _\bp_\ba_\bg_\be_\br]  [-\b-r\br  _\bp_\br_\bo_\bm_\bp_\bt]  [-\b-7\b7] [-\b-E\bE _\be_\bn_\bc_\bo_\bd_\bi_\bn_\bg] [-\b-p\bp _\bs_\bt_\br_\bi_\bn_\bg] [-\b-t\bt]\n"
     ]
    },
    {
     "name": "stdout",
     "output_type": "stream",
     "text": [
      "       [-\b-T\bT[_\bd_\be_\bv_\bi_\bc_\be]] [-\b-H\bH[_\bb_\br_\bo_\bw_\bs_\be_\br]] [-\b-X\bX[_\bd_\bp_\bi]] [-\b-Z\bZ] _\bf_\bi_\bl_\be ...\n"
     ]
    },
    {
     "name": "stdout",
     "output_type": "stream",
     "text": [
      "       m\bma\ban\bn -\b-w\bw|-\b-W\bW [-\b-C\bC _\bf_\bi_\bl_\be] [-\b-d\bd] [-\b-D\bD] _\bp_\ba_\bg_\be ...\n"
     ]
    },
    {
     "name": "stdout",
     "output_type": "stream",
     "text": [
      "       m\bma\ban\bn -\b-c\bc [-\b-C\bC _\bf_\bi_\bl_\be] [-\b-d\bd] [-\b-D\bD] _\bp_\ba_\bg_\be ...\n"
     ]
    },
    {
     "name": "stdout",
     "output_type": "stream",
     "text": [
      "       m\bma\ban\bn [-\b-?\b?V\bV]\n"
     ]
    },
    {
     "name": "stdout",
     "output_type": "stream",
     "text": [
      "\n"
     ]
    },
    {
     "name": "stdout",
     "output_type": "stream",
     "text": [
      "D\bDE\bES\bSC\bCR\bRI\bIP\bPT\bTI\bIO\bON\bN\n"
     ]
    },
    {
     "name": "stdout",
     "output_type": "stream",
     "text": [
      "       m\bma\ban\bn is the system's manual pager. Each _\bp_\ba_\bg_\be argument given  to  m\bma\ban\bn  is\n"
     ]
    },
    {
     "name": "stdout",
     "output_type": "stream",
     "text": [
      "       normally  the  name of a program, utility or function.  The _\bm_\ba_\bn_\bu_\ba_\bl _\bp_\ba_\bg_\be\n"
     ]
    },
    {
     "name": "stdout",
     "output_type": "stream",
     "text": [
      "       associated with each of these arguments is then found and displayed.  A\n"
     ]
    },
    {
     "name": "stdout",
     "output_type": "stream",
     "text": [
      "       _\bs_\be_\bc_\bt_\bi_\bo_\bn,  if  provided, will direct m\bma\ban\bn to look only in that _\bs_\be_\bc_\bt_\bi_\bo_\bn of\n"
     ]
    },
    {
     "name": "stdout",
     "output_type": "stream",
     "text": [
      "       the manual.  The default action is to search in all  of  the  available\n"
     ]
    },
    {
     "name": "stdout",
     "output_type": "stream",
     "text": [
      "       _\bs_\be_\bc_\bt_\bi_\bo_\bn_\bs, following a pre-defined order and to show only the first _\bp_\ba_\bg_\be\n"
     ]
    },
    {
     "name": "stdout",
     "output_type": "stream",
     "text": [
      "       found, even if _\bp_\ba_\bg_\be exists in several _\bs_\be_\bc_\bt_\bi_\bo_\bn_\bs.\n"
     ]
    },
    {
     "name": "stdout",
     "output_type": "stream",
     "text": [
      "\n"
     ]
    },
    {
     "name": "stdout",
     "output_type": "stream",
     "text": [
      "       The table below shows the _\bs_\be_\bc_\bt_\bi_\bo_\bn numbers of the manual followed by the\n"
     ]
    },
    {
     "name": "stdout",
     "output_type": "stream",
     "text": [
      "       types of pages they contain.\n"
     ]
    },
    {
     "name": "stdout",
     "output_type": "stream",
     "text": [
      "\n"
     ]
    },
    {
     "name": "stdout",
     "output_type": "stream",
     "text": [
      "\n"
     ]
    },
    {
     "name": "stdout",
     "output_type": "stream",
     "text": [
      "       1   Executable programs or shell commands\n"
     ]
    },
    {
     "name": "stdout",
     "output_type": "stream",
     "text": [
      "       2   System calls (functions provided by the kernel)\n"
     ]
    },
    {
     "name": "stdout",
     "output_type": "stream",
     "text": [
      "       3   Library calls (functions within program libraries)\n"
     ]
    },
    {
     "name": "stdout",
     "output_type": "stream",
     "text": [
      "       4   Special files (usually found in _\b/_\bd_\be_\bv)\n"
     ]
    },
    {
     "name": "stdout",
     "output_type": "stream",
     "text": [
      "       5   File formats and conventions eg _\b/_\be_\bt_\bc_\b/_\bp_\ba_\bs_\bs_\bw_\bd\n"
     ]
    },
    {
     "name": "stdout",
     "output_type": "stream",
     "text": [
      "       6   Games\n"
     ]
    },
    {
     "name": "stdout",
     "output_type": "stream",
     "text": [
      "       7   Miscellaneous  (including  macro  packages  and  conventions), e.g.\n"
     ]
    },
    {
     "name": "stdout",
     "output_type": "stream",
     "text": [
      "           m\bma\ban\bn(7), g\bgr\bro\bof\bff\bf(7)\n"
     ]
    },
    {
     "name": "stdout",
     "output_type": "stream",
     "text": [
      "       8   System administration commands (usually only for root)\n"
     ]
    },
    {
     "name": "stdout",
     "output_type": "stream",
     "text": [
      "       9   Kernel routines [Non standard]\n"
     ]
    },
    {
     "name": "stdout",
     "output_type": "stream",
     "text": [
      "\n"
     ]
    },
    {
     "name": "stdout",
     "output_type": "stream",
     "text": [
      "       A manual _\bp_\ba_\bg_\be consists of several sections.\n"
     ]
    },
    {
     "name": "stdout",
     "output_type": "stream",
     "text": [
      "\n"
     ]
    },
    {
     "name": "stdout",
     "output_type": "stream",
     "text": [
      "       Conventional  section  names  include  N\bNA\bAM\bME\bE,  S\bSY\bYN\bNO\bOP\bPS\bSI\bIS\bS,  C\bCO\bON\bNF\bFI\bIG\bGU\bUR\bRA\bAT\bTI\bIO\bON\bN,\n"
     ]
    },
    {
     "name": "stdout",
     "output_type": "stream",
     "text": [
      "       D\bDE\bES\bSC\bCR\bRI\bIP\bPT\bTI\bIO\bON\bN,  O\bOP\bPT\bTI\bIO\bON\bNS\bS,  E\bEX\bXI\bIT\bT S\bST\bTA\bAT\bTU\bUS\bS, R\bRE\bET\bTU\bUR\bRN\bN V\bVA\bAL\bLU\bUE\bE, E\bER\bRR\bRO\bOR\bRS\bS, E\bEN\bNV\bVI\bIR\bRO\bON\bNM\bME\bEN\bNT\bT,\n"
     ]
    },
    {
     "name": "stdout",
     "output_type": "stream",
     "text": [
      "       F\bFI\bIL\bLE\bES\bS, V\bVE\bER\bRS\bSI\bIO\bON\bNS\bS, C\bCO\bON\bNF\bFO\bOR\bRM\bMI\bIN\bNG\bG T\bTO\bO,  N\bNO\bOT\bTE\bES\bS,  B\bBU\bUG\bGS\bS,  E\bEX\bXA\bAM\bMP\bPL\bLE\bE,  A\bAU\bUT\bTH\bHO\bOR\bRS\bS,  and\n"
     ]
    },
    {
     "name": "stdout",
     "output_type": "stream",
     "text": [
      "       S\bSE\bEE\bE A\bAL\bLS\bSO\bO.\n"
     ]
    },
    {
     "name": "stdout",
     "output_type": "stream",
     "text": [
      "\n"
     ]
    },
    {
     "name": "stdout",
     "output_type": "stream",
     "text": [
      "       The following conventions apply to the S\bSY\bYN\bNO\bOP\bPS\bSI\bIS\bS section and can be used\n"
     ]
    },
    {
     "name": "stdout",
     "output_type": "stream",
     "text": [
      "       as a guide in other sections.\n"
     ]
    },
    {
     "name": "stdout",
     "output_type": "stream",
     "text": [
      "\n"
     ]
    },
    {
     "name": "stdout",
     "output_type": "stream",
     "text": [
      "\n"
     ]
    },
    {
     "name": "stdout",
     "output_type": "stream",
     "text": [
      "       b\bbo\bol\bld\bd t\bte\bex\bxt\bt          type exactly as shown.\n"
     ]
    },
    {
     "name": "stdout",
     "output_type": "stream",
     "text": [
      "       _\bi_\bt_\ba_\bl_\bi_\bc _\bt_\be_\bx_\bt        replace with appropriate argument.\n"
     ]
    },
    {
     "name": "stdout",
     "output_type": "stream",
     "text": [
      "       [-\b-a\bab\bbc\bc]             any or all arguments within [ ] are optional.\n"
     ]
    },
    {
     "name": "stdout",
     "output_type": "stream",
     "text": [
      "       -\b-a\ba|-\b-b\bb              options delimited by | cannot be used together.\n"
     ]
    },
    {
     "name": "stdout",
     "output_type": "stream",
     "text": [
      "       _\ba_\br_\bg_\bu_\bm_\be_\bn_\bt ...       _\ba_\br_\bg_\bu_\bm_\be_\bn_\bt is repeatable.\n"
     ]
    },
    {
     "name": "stdout",
     "output_type": "stream",
     "text": [
      "       [_\be_\bx_\bp_\br_\be_\bs_\bs_\bi_\bo_\bn] ...   entire _\be_\bx_\bp_\br_\be_\bs_\bs_\bi_\bo_\bn within [ ] is repeatable.\n"
     ]
    },
    {
     "name": "stdout",
     "output_type": "stream",
     "text": [
      "\n"
     ]
    },
    {
     "name": "stdout",
     "output_type": "stream",
     "text": [
      "       Exact rendering may vary depending on the output device.  For instance,\n"
     ]
    },
    {
     "name": "stdout",
     "output_type": "stream",
     "text": [
      "       man will usually not be able to render italics when running in a termi‐\n"
     ]
    },
    {
     "name": "stdout",
     "output_type": "stream",
     "text": [
      "       nal, and will typically use underlined or coloured text instead.\n"
     ]
    },
    {
     "name": "stdout",
     "output_type": "stream",
     "text": [
      "\n"
     ]
    },
    {
     "name": "stdout",
     "output_type": "stream",
     "text": [
      "       The command or function illustration is a pattern that should match all\n"
     ]
    },
    {
     "name": "stdout",
     "output_type": "stream",
     "text": [
      "       possible invocations.  In some cases it is advisable to illustrate sev‐\n"
     ]
    },
    {
     "name": "stdout",
     "output_type": "stream",
     "text": [
      "       eral exclusive invocations as is shown in the S\bSY\bYN\bNO\bOP\bPS\bSI\bIS\bS section of  this\n"
     ]
    },
    {
     "name": "stdout",
     "output_type": "stream",
     "text": [
      "       manual page.\n"
     ]
    },
    {
     "name": "stdout",
     "output_type": "stream",
     "text": [
      "\n"
     ]
    },
    {
     "name": "stdout",
     "output_type": "stream",
     "text": [
      "E\bEX\bXA\bAM\bMP\bPL\bLE\bES\bS\n"
     ]
    },
    {
     "name": "stdout",
     "output_type": "stream",
     "text": [
      "       m\bma\ban\bn _\bl_\bs\n"
     ]
    },
    {
     "name": "stdout",
     "output_type": "stream",
     "text": [
      "           Display the manual page for the _\bi_\bt_\be_\bm (program) _\bl_\bs.\n"
     ]
    },
    {
     "name": "stdout",
     "output_type": "stream",
     "text": [
      "\n"
     ]
    },
    {
     "name": "stdout",
     "output_type": "stream",
     "text": [
      "       m\bma\ban\bn -\b-a\ba _\bi_\bn_\bt_\br_\bo\n"
     ]
    },
    {
     "name": "stdout",
     "output_type": "stream",
     "text": [
      "           Display,  in  succession,  all  of the available _\bi_\bn_\bt_\br_\bo manual pages\n"
     ]
    },
    {
     "name": "stdout",
     "output_type": "stream",
     "text": [
      "           contained within the manual.  It is possible to quit  between  suc‐\n"
     ]
    },
    {
     "name": "stdout",
     "output_type": "stream",
     "text": [
      "           cessive displays or skip any of them.\n"
     ]
    },
    {
     "name": "stdout",
     "output_type": "stream",
     "text": [
      "\n"
     ]
    },
    {
     "name": "stdout",
     "output_type": "stream",
     "text": [
      "       m\bma\ban\bn -\b-t\bt _\ba_\bl_\bi_\ba_\bs | _\bl_\bp_\br _\b-_\bP_\bp_\bs\n"
     ]
    },
    {
     "name": "stdout",
     "output_type": "stream",
     "text": [
      "           Format  the manual page referenced by `_\ba_\bl_\bi_\ba_\bs', usually a shell man‐\n"
     ]
    },
    {
     "name": "stdout",
     "output_type": "stream",
     "text": [
      "           ual page, into the default t\btr\bro\bof\bff\bf or g\bgr\bro\bof\bff\bf format and pipe it to the\n"
     ]
    },
    {
     "name": "stdout",
     "output_type": "stream",
     "text": [
      "           printer  named  _\bp_\bs.   The default output for g\bgr\bro\bof\bff\bf is usually Post‐\n"
     ]
    },
    {
     "name": "stdout",
     "output_type": "stream",
     "text": [
      "           Script.  m\bma\ban\bn -\b--\b-h\bhe\bel\blp\bp should advise as to which processor is bound to\n"
     ]
    },
    {
     "name": "stdout",
     "output_type": "stream",
     "text": [
      "           the -\b-t\bt option.\n"
     ]
    },
    {
     "name": "stdout",
     "output_type": "stream",
     "text": [
      "\n"
     ]
    },
    {
     "name": "stdout",
     "output_type": "stream",
     "text": [
      "       m\bma\ban\bn -\b-l\bl -\b-T\bT_\bd_\bv_\bi _\b._\b/_\bf_\bo_\bo_\b._\b1_\bx_\b._\bg_\bz >\b> _\b._\b/_\bf_\bo_\bo_\b._\b1_\bx_\b._\bd_\bv_\bi\n"
     ]
    },
    {
     "name": "stdout",
     "output_type": "stream",
     "text": [
      "           This  command  will  decompress  and format the nroff source manual\n"
     ]
    },
    {
     "name": "stdout",
     "output_type": "stream",
     "text": [
      "           page _\b._\b/_\bf_\bo_\bo_\b._\b1_\bx_\b._\bg_\bz into a d\bde\bev\bvi\bic\bce\be i\bin\bnd\bde\bep\bpe\ben\bnd\bde\ben\bnt\bt (\b(d\bdv\bvi\bi)\b) file.   The  redi‐\n"
     ]
    },
    {
     "name": "stdout",
     "output_type": "stream",
     "text": [
      "           rection is necessary as the -\b-T\bT flag causes output to be directed to\n"
     ]
    },
    {
     "name": "stdout",
     "output_type": "stream",
     "text": [
      "           s\bst\btd\bdo\bou\but\bt with no pager.  The output could be viewed  with  a  program\n"
     ]
    },
    {
     "name": "stdout",
     "output_type": "stream",
     "text": [
      "           such  as  x\bxd\bdv\bvi\bi or further processed into PostScript using a program\n"
     ]
    },
    {
     "name": "stdout",
     "output_type": "stream",
     "text": [
      "           such as d\bdv\bvi\bip\bps\bs.\b.\n"
     ]
    },
    {
     "name": "stdout",
     "output_type": "stream",
     "text": [
      "\n"
     ]
    },
    {
     "name": "stdout",
     "output_type": "stream",
     "text": [
      "       m\bma\ban\bn -\b-k\bk _\bp_\br_\bi_\bn_\bt_\bf\n"
     ]
    },
    {
     "name": "stdout",
     "output_type": "stream",
     "text": [
      "           Search the short descriptions and manual page names for the keyword\n"
     ]
    },
    {
     "name": "stdout",
     "output_type": "stream",
     "text": [
      "           _\bp_\br_\bi_\bn_\bt_\bf  as  regular expression.  Print out any matches.  Equivalent\n"
     ]
    },
    {
     "name": "stdout",
     "output_type": "stream",
     "text": [
      "           to a\bap\bpr\bro\bop\bpo\bos\bs -\b-r\br _\bp_\br_\bi_\bn_\bt_\bf.\b.\n"
     ]
    },
    {
     "name": "stdout",
     "output_type": "stream",
     "text": [
      "\n"
     ]
    },
    {
     "name": "stdout",
     "output_type": "stream",
     "text": [
      "       m\bma\ban\bn -\b-f\bf _\bs_\bm_\ba_\bi_\bl\n"
     ]
    },
    {
     "name": "stdout",
     "output_type": "stream",
     "text": [
      "           Lookup the manual pages referenced by _\bs_\bm_\ba_\bi_\bl and print out the short\n"
     ]
    },
    {
     "name": "stdout",
     "output_type": "stream",
     "text": [
      "           descriptions of any found.  Equivalent to w\bwh\bha\bat\bti\bis\bs -\b-r\br _\bs_\bm_\ba_\bi_\bl.\b.\n"
     ]
    },
    {
     "name": "stdout",
     "output_type": "stream",
     "text": [
      "\n"
     ]
    },
    {
     "name": "stdout",
     "output_type": "stream",
     "text": [
      "O\bOV\bVE\bER\bRV\bVI\bIE\bEW\bW\n"
     ]
    },
    {
     "name": "stdout",
     "output_type": "stream",
     "text": [
      "       Many  options are available to m\bma\ban\bn in order to give as much flexibility\n"
     ]
    },
    {
     "name": "stdout",
     "output_type": "stream",
     "text": [
      "       as possible to the user.  Changes can be made to the search path,  sec‐\n"
     ]
    },
    {
     "name": "stdout",
     "output_type": "stream",
     "text": [
      "       tion  order,  output  processor,  and  other  behaviours and operations\n"
     ]
    },
    {
     "name": "stdout",
     "output_type": "stream",
     "text": [
      "       detailed below.\n"
     ]
    },
    {
     "name": "stdout",
     "output_type": "stream",
     "text": [
      "\n"
     ]
    },
    {
     "name": "stdout",
     "output_type": "stream",
     "text": [
      "       If set, various environment variables are interrogated to determine the\n"
     ]
    },
    {
     "name": "stdout",
     "output_type": "stream",
     "text": [
      "       operation  of  m\bma\ban\bn.   It  is  possible  to set the `catch all' variable\n"
     ]
    },
    {
     "name": "stdout",
     "output_type": "stream",
     "text": [
      "       $M\bMA\bAN\bNO\bOP\bPT\bT to any string in command line format with  the  exception  that\n"
     ]
    },
    {
     "name": "stdout",
     "output_type": "stream",
     "text": [
      "       any  spaces  used as part of an option's argument must be escaped (pre‐\n"
     ]
    },
    {
     "name": "stdout",
     "output_type": "stream",
     "text": [
      "       ceded by a backslash).  m\bma\ban\bn will parse $M\bMA\bAN\bNO\bOP\bPT\bT prior to parsing its own\n"
     ]
    },
    {
     "name": "stdout",
     "output_type": "stream",
     "text": [
      "       command  line.   Those options requiring an argument will be overridden\n"
     ]
    },
    {
     "name": "stdout",
     "output_type": "stream",
     "text": [
      "       by the same options found on the command line.  To  reset  all  of  the\n"
     ]
    },
    {
     "name": "stdout",
     "output_type": "stream",
     "text": [
      "       options set in $M\bMA\bAN\bNO\bOP\bPT\bT, -\b-D\bD can be specified as the initial command line\n"
     ]
    },
    {
     "name": "stdout",
     "output_type": "stream",
     "text": [
      "       option.  This will allow man to `forget' about the options specified in\n"
     ]
    },
    {
     "name": "stdout",
     "output_type": "stream",
     "text": [
      "       $M\bMA\bAN\bNO\bOP\bPT\bT although they must still have been valid.\n"
     ]
    },
    {
     "name": "stdout",
     "output_type": "stream",
     "text": [
      "\n"
     ]
    },
    {
     "name": "stdout",
     "output_type": "stream",
     "text": [
      "       The  manual  pager  utilities  packaged as m\bma\ban\bn-\b-d\bdb\bb make extensive use of\n"
     ]
    },
    {
     "name": "stdout",
     "output_type": "stream",
     "text": [
      "       i\bin\bnd\bde\bex\bx database caches.  These caches contain information such as  where\n"
     ]
    },
    {
     "name": "stdout",
     "output_type": "stream",
     "text": [
      "       each  manual  page  can  be found on the filesystem and what its _\bw_\bh_\ba_\bt_\bi_\bs\n"
     ]
    },
    {
     "name": "stdout",
     "output_type": "stream",
     "text": [
      "       (short one line description of the man page) contains, and allow m\bma\ban\bn to\n"
     ]
    },
    {
     "name": "stdout",
     "output_type": "stream",
     "text": [
      "       run  faster  than  if it had to search the filesystem each time to find\n"
     ]
    },
    {
     "name": "stdout",
     "output_type": "stream",
     "text": [
      "       the appropriate manual page.  If requested using  the  -\b-u\bu  option,  m\bma\ban\bn\n"
     ]
    },
    {
     "name": "stdout",
     "output_type": "stream",
     "text": [
      "       will  ensure  that  the caches remain consistent, which can obviate the\n"
     ]
    },
    {
     "name": "stdout",
     "output_type": "stream",
     "text": [
      "       need to manually run software to update traditional _\bw_\bh_\ba_\bt_\bi_\bs  text  data‐\n"
     ]
    },
    {
     "name": "stdout",
     "output_type": "stream",
     "text": [
      "       bases.\n"
     ]
    },
    {
     "name": "stdout",
     "output_type": "stream",
     "text": [
      "\n"
     ]
    },
    {
     "name": "stdout",
     "output_type": "stream",
     "text": [
      "       If  m\bma\ban\bn  cannot  find a m\bma\ban\bnd\bdb\bb initiated i\bin\bnd\bde\bex\bx database for a particular\n"
     ]
    },
    {
     "name": "stdout",
     "output_type": "stream",
     "text": [
      "       manual page hierarchy, it will still search for  the  requested  manual\n"
     ]
    },
    {
     "name": "stdout",
     "output_type": "stream",
     "text": [
      "       pages,  although  file globbing will be necessary to search within that\n"
     ]
    },
    {
     "name": "stdout",
     "output_type": "stream",
     "text": [
      "       hierarchy.  If w\bwh\bha\bat\bti\bis\bs or a\bap\bpr\bro\bop\bpo\bos\bs fails to find an i\bin\bnd\bde\bex\bx it will try  to\n"
     ]
    },
    {
     "name": "stdout",
     "output_type": "stream",
     "text": [
      "       extract information from a traditional _\bw_\bh_\ba_\bt_\bi_\bs database instead.\n"
     ]
    },
    {
     "name": "stdout",
     "output_type": "stream",
     "text": [
      "\n"
     ]
    },
    {
     "name": "stdout",
     "output_type": "stream",
     "text": [
      "       These  utilities  support  compressed  source  nroff  files  having, by\n"
     ]
    },
    {
     "name": "stdout",
     "output_type": "stream",
     "text": [
      "       default, the extensions of .\b.Z\bZ, .\b.z\bz and .\b.g\bgz\bz.  It is possible to deal with\n"
     ]
    },
    {
     "name": "stdout",
     "output_type": "stream",
     "text": [
      "       any  compression  extension, but this information must be known at com‐\n"
     ]
    },
    {
     "name": "stdout",
     "output_type": "stream",
     "text": [
      "       pile time.  Also, by default, any cat  pages  produced  are  compressed\n"
     ]
    },
    {
     "name": "stdout",
     "output_type": "stream",
     "text": [
      "       using g\bgz\bzi\bip\bp.  Each `global' manual page hierarchy such as _\b/_\bu_\bs_\br_\b/_\bs_\bh_\ba_\br_\be_\b/_\bm_\ba_\bn\n"
     ]
    },
    {
     "name": "stdout",
     "output_type": "stream",
     "text": [
      "       or _\b/_\bu_\bs_\br_\b/_\bX_\b1_\b1_\bR_\b6_\b/_\bm_\ba_\bn may have any directory as  its  cat  page  hierarchy.\n"
     ]
    },
    {
     "name": "stdout",
     "output_type": "stream",
     "text": [
      "       Traditionally  the cat pages are stored under the same hierarchy as the\n"
     ]
    },
    {
     "name": "stdout",
     "output_type": "stream",
     "text": [
      "       man pages, but for reasons such as those specified in the F\bFi\bil\ble\be  H\bHi\bie\ber\bra\bar\br‐\b‐\n"
     ]
    },
    {
     "name": "stdout",
     "output_type": "stream",
     "text": [
      "       c\bch\bhy\by  S\bSt\bta\ban\bnd\bda\bar\brd\bd  (\b(F\bFH\bHS\bS)\b),  it  may  be better to store them elsewhere.  For\n"
     ]
    },
    {
     "name": "stdout",
     "output_type": "stream",
     "text": [
      "       details on how to do this, please read m\bma\ban\bnp\bpa\bat\bth\bh(5).  For details on  why\n"
     ]
    },
    {
     "name": "stdout",
     "output_type": "stream",
     "text": [
      "       to do this, read the standard.\n"
     ]
    },
    {
     "name": "stdout",
     "output_type": "stream",
     "text": [
      "\n"
     ]
    },
    {
     "name": "stdout",
     "output_type": "stream",
     "text": [
      "       International  support is available with this package.  Native language\n"
     ]
    },
    {
     "name": "stdout",
     "output_type": "stream",
     "text": [
      "       manual pages are accessible (if available on your system)  via  use  of\n"
     ]
    },
    {
     "name": "stdout",
     "output_type": "stream",
     "text": [
      "       _\bl_\bo_\bc_\ba_\bl_\be  functions.   To  activate  such support, it is necessary to set\n"
     ]
    },
    {
     "name": "stdout",
     "output_type": "stream",
     "text": [
      "       either $L\bLC\bC_\b_M\bME\bES\bSS\bSA\bAG\bGE\bES\bS, $L\bLA\bAN\bNG\bG  or  another  system  dependent  environment\n"
     ]
    },
    {
     "name": "stdout",
     "output_type": "stream",
     "text": [
      "       variable to your language locale, usually specified in the P\bPO\bOS\bSI\bIX\bX 1\b10\b00\b03\b3.\b.1\b1\n"
     ]
    },
    {
     "name": "stdout",
     "output_type": "stream",
     "text": [
      "       based format:\n"
     ]
    },
    {
     "name": "stdout",
     "output_type": "stream",
     "text": [
      "\n"
     ]
    },
    {
     "name": "stdout",
     "output_type": "stream",
     "text": [
      "       <_\bl_\ba_\bn_\bg_\bu_\ba_\bg_\be>[_\b_<_\bt_\be_\br_\br_\bi_\bt_\bo_\br_\by>[.\b.<_\bc_\bh_\ba_\br_\ba_\bc_\bt_\be_\br_\b-_\bs_\be_\bt>[,\b,<_\bv_\be_\br_\bs_\bi_\bo_\bn>]]]\n"
     ]
    },
    {
     "name": "stdout",
     "output_type": "stream",
     "text": [
      "\n"
     ]
    },
    {
     "name": "stdout",
     "output_type": "stream",
     "text": [
      "       If the desired page is available in your _\bl_\bo_\bc_\ba_\bl_\be, it will  be  displayed\n"
     ]
    },
    {
     "name": "stdout",
     "output_type": "stream",
     "text": [
      "       in lieu of the standard (usually American English) page.\n"
     ]
    },
    {
     "name": "stdout",
     "output_type": "stream",
     "text": [
      "\n"
     ]
    },
    {
     "name": "stdout",
     "output_type": "stream",
     "text": [
      "       Support  for  international message catalogues is also featured in this\n"
     ]
    },
    {
     "name": "stdout",
     "output_type": "stream",
     "text": [
      "       package and can be activated in the same way, again if  available.   If\n"
     ]
    },
    {
     "name": "stdout",
     "output_type": "stream",
     "text": [
      "       you  find  that  the  manual pages and message catalogues supplied with\n"
     ]
    },
    {
     "name": "stdout",
     "output_type": "stream",
     "text": [
      "       this package are not available in your native language  and  you  would\n"
     ]
    },
    {
     "name": "stdout",
     "output_type": "stream",
     "text": [
      "       like  to supply them, please contact the maintainer who will be coordi‐\n"
     ]
    },
    {
     "name": "stdout",
     "output_type": "stream",
     "text": [
      "       nating such activity.\n"
     ]
    },
    {
     "name": "stdout",
     "output_type": "stream",
     "text": [
      "\n"
     ]
    },
    {
     "name": "stdout",
     "output_type": "stream",
     "text": [
      "       For information regarding other features and extensions available  with\n"
     ]
    },
    {
     "name": "stdout",
     "output_type": "stream",
     "text": [
      "       this manual pager, please read the documents supplied with the package.\n"
     ]
    },
    {
     "name": "stdout",
     "output_type": "stream",
     "text": [
      "\n"
     ]
    },
    {
     "name": "stdout",
     "output_type": "stream",
     "text": [
      "D\bDE\bEF\bFA\bAU\bUL\bLT\bTS\bS\n"
     ]
    },
    {
     "name": "stdout",
     "output_type": "stream",
     "text": [
      "       m\bma\ban\bn  will search for the desired manual pages within the _\bi_\bn_\bd_\be_\bx database\n"
     ]
    },
    {
     "name": "stdout",
     "output_type": "stream",
     "text": [
      "       caches. If the -\b-u\bu option is given, a cache consistency  check  is  per‐\n"
     ]
    },
    {
     "name": "stdout",
     "output_type": "stream",
     "text": [
      "       formed  to  ensure the databases accurately reflect the filesystem.  If\n"
     ]
    },
    {
     "name": "stdout",
     "output_type": "stream",
     "text": [
      "       this option is always given, it is not generally necessary to run m\bma\ban\bnd\bdb\bb\n"
     ]
    },
    {
     "name": "stdout",
     "output_type": "stream",
     "text": [
      "       after the caches are initially created, unless a cache becomes corrupt.\n"
     ]
    },
    {
     "name": "stdout",
     "output_type": "stream",
     "text": [
      "       However, the cache consistency check can be slow on systems  with  many\n"
     ]
    },
    {
     "name": "stdout",
     "output_type": "stream",
     "text": [
      "       manual  pages  installed, so it is not performed by default, and system\n"
     ]
    },
    {
     "name": "stdout",
     "output_type": "stream",
     "text": [
      "       administrators may wish to run m\bma\ban\bnd\bdb\bb every week or so to keep the data‐\n"
     ]
    },
    {
     "name": "stdout",
     "output_type": "stream",
     "text": [
      "       base  caches  fresh.   To forestall problems caused by outdated caches,\n"
     ]
    },
    {
     "name": "stdout",
     "output_type": "stream",
     "text": [
      "       m\bma\ban\bn will fall back to file globbing if a cache lookup fails, just as it\n"
     ]
    },
    {
     "name": "stdout",
     "output_type": "stream",
     "text": [
      "       would if no cache was present.\n"
     ]
    },
    {
     "name": "stdout",
     "output_type": "stream",
     "text": [
      "\n"
     ]
    },
    {
     "name": "stdout",
     "output_type": "stream",
     "text": [
      "       Once  a  manual page has been located, a check is performed to find out\n"
     ]
    },
    {
     "name": "stdout",
     "output_type": "stream",
     "text": [
      "       if a relative preformatted `cat' file already exists and is newer  than\n"
     ]
    },
    {
     "name": "stdout",
     "output_type": "stream",
     "text": [
      "       the nroff file.  If it does and is, this preformatted file is (usually)\n"
     ]
    },
    {
     "name": "stdout",
     "output_type": "stream",
     "text": [
      "       decompressed and then displayed, via use of a pager.  The pager can  be\n"
     ]
    },
    {
     "name": "stdout",
     "output_type": "stream",
     "text": [
      "       specified  in  a number of ways, or else will fall back to a default is\n"
     ]
    },
    {
     "name": "stdout",
     "output_type": "stream",
     "text": [
      "       used (see option -\b-P\bP for details).  If no cat is found or is older  than\n"
     ]
    },
    {
     "name": "stdout",
     "output_type": "stream",
     "text": [
      "       the  nroff  file, the nroff is filtered through various programs and is\n"
     ]
    },
    {
     "name": "stdout",
     "output_type": "stream",
     "text": [
      "       shown immediately.\n"
     ]
    },
    {
     "name": "stdout",
     "output_type": "stream",
     "text": [
      "\n"
     ]
    },
    {
     "name": "stdout",
     "output_type": "stream",
     "text": [
      "       If a cat file can be produced (a relative cat directory exists and  has\n"
     ]
    },
    {
     "name": "stdout",
     "output_type": "stream",
     "text": [
      "       appropriate  permissions),  m\bma\ban\bn will compress and store the cat file in\n"
     ]
    },
    {
     "name": "stdout",
     "output_type": "stream",
     "text": [
      "       the background.\n"
     ]
    },
    {
     "name": "stdout",
     "output_type": "stream",
     "text": [
      "\n"
     ]
    },
    {
     "name": "stdout",
     "output_type": "stream",
     "text": [
      "       The filters are deciphered by a number of means. Firstly,  the  command\n"
     ]
    },
    {
     "name": "stdout",
     "output_type": "stream",
     "text": [
      "       line option -\b-p\bp or the environment variable $M\bMA\bAN\bNR\bRO\bOF\bFF\bFS\bSE\bEQ\bQ is interrogated.\n"
     ]
    },
    {
     "name": "stdout",
     "output_type": "stream",
     "text": [
      "       If -\b-p\bp was not used and the environment variable was not set,  the  ini‐\n"
     ]
    },
    {
     "name": "stdout",
     "output_type": "stream",
     "text": [
      "       tial  line  of  the nroff file is parsed for a preprocessor string.  To\n"
     ]
    },
    {
     "name": "stdout",
     "output_type": "stream",
     "text": [
      "       contain a valid preprocessor string, the first line must resemble\n"
     ]
    },
    {
     "name": "stdout",
     "output_type": "stream",
     "text": [
      "\n"
     ]
    },
    {
     "name": "stdout",
     "output_type": "stream",
     "text": [
      "       '\b'\\\b\\\"\b\" <s\bst\btr\bri\bin\bng\bg>\n"
     ]
    },
    {
     "name": "stdout",
     "output_type": "stream",
     "text": [
      "\n"
     ]
    },
    {
     "name": "stdout",
     "output_type": "stream",
     "text": [
      "       where s\bst\btr\bri\bin\bng\bg can be any combination of letters described by  option  -\b-p\bp\n"
     ]
    },
    {
     "name": "stdout",
     "output_type": "stream",
     "text": [
      "       below.\n"
     ]
    },
    {
     "name": "stdout",
     "output_type": "stream",
     "text": [
      "\n"
     ]
    },
    {
     "name": "stdout",
     "output_type": "stream",
     "text": [
      "       If  none of the above methods provide any filter information, a default\n"
     ]
    },
    {
     "name": "stdout",
     "output_type": "stream",
     "text": [
      "       set is used.\n"
     ]
    },
    {
     "name": "stdout",
     "output_type": "stream",
     "text": [
      "\n"
     ]
    },
    {
     "name": "stdout",
     "output_type": "stream",
     "text": [
      "       A formatting pipeline is formed from the filters and the  primary  for‐\n"
     ]
    },
    {
     "name": "stdout",
     "output_type": "stream",
     "text": [
      "       matter  (n\bnr\bro\bof\bff\bf or [t\btg\bg]r\bro\bof\bff\bf with -\b-t\bt) and executed.  Alternatively, if an\n"
     ]
    },
    {
     "name": "stdout",
     "output_type": "stream",
     "text": [
      "       executable program _\bm_\ba_\bn_\bd_\bb_\b__\bn_\bf_\bm_\bt (or _\bm_\ba_\bn_\bd_\bb_\b__\bt_\bf_\bm_\bt with -\b-t\bt) exists in the man\n"
     ]
    },
    {
     "name": "stdout",
     "output_type": "stream",
     "text": [
      "       tree  root,  it  is executed instead.  It gets passed the manual source\n"
     ]
    },
    {
     "name": "stdout",
     "output_type": "stream",
     "text": [
      "       file, the preprocessor string, and optionally the device specified with\n"
     ]
    },
    {
     "name": "stdout",
     "output_type": "stream",
     "text": [
      "       -\b-T\bT or -\b-E\bE as arguments.\n"
     ]
    },
    {
     "name": "stdout",
     "output_type": "stream",
     "text": [
      "\n"
     ]
    },
    {
     "name": "stdout",
     "output_type": "stream",
     "text": [
      "O\bOP\bPT\bTI\bIO\bON\bNS\bS\n"
     ]
    },
    {
     "name": "stdout",
     "output_type": "stream",
     "text": [
      "       Non argument options that are duplicated either on the command line, in\n"
     ]
    },
    {
     "name": "stdout",
     "output_type": "stream",
     "text": [
      "       $M\bMA\bAN\bNO\bOP\bPT\bT, or both, are not harmful.  For options that require  an  argu‐\n"
     ]
    },
    {
     "name": "stdout",
     "output_type": "stream",
     "text": [
      "       ment, each duplication will override the previous argument value.\n"
     ]
    },
    {
     "name": "stdout",
     "output_type": "stream",
     "text": [
      "\n"
     ]
    },
    {
     "name": "stdout",
     "output_type": "stream",
     "text": [
      "   G\bGe\ben\bne\ber\bra\bal\bl o\bop\bpt\bti\bio\bon\bns\bs\n"
     ]
    },
    {
     "name": "stdout",
     "output_type": "stream",
     "text": [
      "       -\b-C\bC _\bf_\bi_\bl_\be, -\b--\b-c\bco\bon\bnf\bfi\big\bg-\b-f\bfi\bil\ble\be=\b=_\bf_\bi_\bl_\be\n"
     ]
    },
    {
     "name": "stdout",
     "output_type": "stream",
     "text": [
      "              Use  this  user  configuration  file  rather than the default of\n"
     ]
    },
    {
     "name": "stdout",
     "output_type": "stream",
     "text": [
      "              _\b~_\b/_\b._\bm_\ba_\bn_\bp_\ba_\bt_\bh.\n"
     ]
    },
    {
     "name": "stdout",
     "output_type": "stream",
     "text": [
      "\n"
     ]
    },
    {
     "name": "stdout",
     "output_type": "stream",
     "text": [
      "       -\b-d\bd, -\b--\b-d\bde\beb\bbu\bug\bg\n"
     ]
    },
    {
     "name": "stdout",
     "output_type": "stream",
     "text": [
      "              Print debugging information.\n"
     ]
    },
    {
     "name": "stdout",
     "output_type": "stream",
     "text": [
      "\n"
     ]
    },
    {
     "name": "stdout",
     "output_type": "stream",
     "text": [
      "       -\b-D\bD, -\b--\b-d\bde\bef\bfa\bau\bul\blt\bt\n"
     ]
    },
    {
     "name": "stdout",
     "output_type": "stream",
     "text": [
      "              This option is normally issued as  the  very  first  option  and\n"
     ]
    },
    {
     "name": "stdout",
     "output_type": "stream",
     "text": [
      "              resets  m\bma\ban\bn'\b's\bs  behaviour  to  its  default.  Its use is to reset\n"
     ]
    },
    {
     "name": "stdout",
     "output_type": "stream",
     "text": [
      "              those options that may have been set in  $M\bMA\bAN\bNO\bOP\bPT\bT.   Any  options\n"
     ]
    },
    {
     "name": "stdout",
     "output_type": "stream",
     "text": [
      "              that follow -\b-D\bD will have their usual effect.\n"
     ]
    },
    {
     "name": "stdout",
     "output_type": "stream",
     "text": [
      "\n"
     ]
    },
    {
     "name": "stdout",
     "output_type": "stream",
     "text": [
      "       -\b--\b-w\bwa\bar\brn\bni\bin\bng\bgs\bs[=_\bw_\ba_\br_\bn_\bi_\bn_\bg_\bs]\n"
     ]
    },
    {
     "name": "stdout",
     "output_type": "stream",
     "text": [
      "              Enable  warnings from _\bg_\br_\bo_\bf_\bf.  This may be used to perform sanity\n"
     ]
    },
    {
     "name": "stdout",
     "output_type": "stream",
     "text": [
      "              checks on the source text of manual pages.  _\bw_\ba_\br_\bn_\bi_\bn_\bg_\bs is a comma-\n"
     ]
    },
    {
     "name": "stdout",
     "output_type": "stream",
     "text": [
      "              separated  list  of  warning  names;  if it is not supplied, the\n"
     ]
    },
    {
     "name": "stdout",
     "output_type": "stream",
     "text": [
      "              default is \"mac\".  See the “Warnings” node in i\bin\bnf\bfo\bo g\bgr\bro\bof\bff\bf  for  a\n"
     ]
    },
    {
     "name": "stdout",
     "output_type": "stream",
     "text": [
      "              list of available warning names.\n"
     ]
    },
    {
     "name": "stdout",
     "output_type": "stream",
     "text": [
      "\n"
     ]
    },
    {
     "name": "stdout",
     "output_type": "stream",
     "text": [
      "   M\bMa\bai\bin\bn m\bmo\bod\bde\bes\bs o\bof\bf o\bop\bpe\ber\bra\bat\bti\bio\bon\bn\n"
     ]
    },
    {
     "name": "stdout",
     "output_type": "stream",
     "text": [
      "       -\b-f\bf, -\b--\b-w\bwh\bha\bat\bti\bis\bs\n"
     ]
    },
    {
     "name": "stdout",
     "output_type": "stream",
     "text": [
      "              Equivalent to w\bwh\bha\bat\bti\bis\bs.  Display a short description from the man‐\n"
     ]
    },
    {
     "name": "stdout",
     "output_type": "stream",
     "text": [
      "              ual page, if available. See w\bwh\bha\bat\bti\bis\bs(1) for details.\n"
     ]
    },
    {
     "name": "stdout",
     "output_type": "stream",
     "text": [
      "\n"
     ]
    },
    {
     "name": "stdout",
     "output_type": "stream",
     "text": [
      "       -\b-k\bk, -\b--\b-a\bap\bpr\bro\bop\bpo\bos\bs\n"
     ]
    },
    {
     "name": "stdout",
     "output_type": "stream",
     "text": [
      "              Equivalent to a\bap\bpr\bro\bop\bpo\bos\bs.  Search the short  manual  page  descrip‐\n"
     ]
    },
    {
     "name": "stdout",
     "output_type": "stream",
     "text": [
      "              tions  for keywords and display any matches.  See a\bap\bpr\bro\bop\bpo\bos\bs(1) for\n"
     ]
    },
    {
     "name": "stdout",
     "output_type": "stream",
     "text": [
      "              details.\n"
     ]
    },
    {
     "name": "stdout",
     "output_type": "stream",
     "text": [
      "\n"
     ]
    },
    {
     "name": "stdout",
     "output_type": "stream",
     "text": [
      "       -\b-K\bK, -\b--\b-g\bgl\blo\bob\bba\bal\bl-\b-a\bap\bpr\bro\bop\bpo\bos\bs\n"
     ]
    },
    {
     "name": "stdout",
     "output_type": "stream",
     "text": [
      "              Search for text in all manual  pages.   This  is  a  brute-force\n"
     ]
    },
    {
     "name": "stdout",
     "output_type": "stream",
     "text": [
      "              search,  and is likely to take some time; if you can, you should\n"
     ]
    },
    {
     "name": "stdout",
     "output_type": "stream",
     "text": [
      "              specify a section to reduce the number of pages that need to  be\n"
     ]
    },
    {
     "name": "stdout",
     "output_type": "stream",
     "text": [
      "              searched.   Search terms may be simple strings (the default), or\n"
     ]
    },
    {
     "name": "stdout",
     "output_type": "stream",
     "text": [
      "              regular expressions if the -\b--\b-r\bre\beg\bge\bex\bx option is used.\n"
     ]
    },
    {
     "name": "stdout",
     "output_type": "stream",
     "text": [
      "\n"
     ]
    },
    {
     "name": "stdout",
     "output_type": "stream",
     "text": [
      "       -\b-l\bl, -\b--\b-l\blo\boc\bca\bal\bl-\b-f\bfi\bil\ble\be\n"
     ]
    },
    {
     "name": "stdout",
     "output_type": "stream",
     "text": [
      "              Activate `local' mode.  Format and display  local  manual  files\n"
     ]
    },
    {
     "name": "stdout",
     "output_type": "stream",
     "text": [
      "              instead  of  searching  through  the system's manual collection.\n"
     ]
    },
    {
     "name": "stdout",
     "output_type": "stream",
     "text": [
      "              Each manual page argument will be interpreted as an nroff source\n"
     ]
    },
    {
     "name": "stdout",
     "output_type": "stream",
     "text": [
      "              file in the correct format.  No cat file is produced.  If '-' is\n"
     ]
    },
    {
     "name": "stdout",
     "output_type": "stream",
     "text": [
      "              listed as one of the arguments, input will be taken from  stdin.\n"
     ]
    },
    {
     "name": "stdout",
     "output_type": "stream",
     "text": [
      "              When  this  option  is  not used, and man fails to find the page\n"
     ]
    },
    {
     "name": "stdout",
     "output_type": "stream",
     "text": [
      "              required, before displaying the error message,  it  attempts  to\n"
     ]
    },
    {
     "name": "stdout",
     "output_type": "stream",
     "text": [
      "              act as if this option was supplied, using the name as a filename\n"
     ]
    },
    {
     "name": "stdout",
     "output_type": "stream",
     "text": [
      "              and looking for an exact match.\n"
     ]
    },
    {
     "name": "stdout",
     "output_type": "stream",
     "text": [
      "\n"
     ]
    },
    {
     "name": "stdout",
     "output_type": "stream",
     "text": [
      "       -\b-w\bw, -\b--\b-w\bwh\bhe\ber\bre\be, -\b--\b-p\bpa\bat\bth\bh, -\b--\b-l\blo\boc\bca\bat\bti\bio\bon\bn\n"
     ]
    },
    {
     "name": "stdout",
     "output_type": "stream",
     "text": [
      "              Don't actually display the manual pages, but do print the  loca‐\n"
     ]
    },
    {
     "name": "stdout",
     "output_type": "stream",
     "text": [
      "              tion(s) of the source nroff files that would be formatted.\n"
     ]
    },
    {
     "name": "stdout",
     "output_type": "stream",
     "text": [
      "\n"
     ]
    },
    {
     "name": "stdout",
     "output_type": "stream",
     "text": [
      "       -\b-W\bW, -\b--\b-w\bwh\bhe\ber\bre\be-\b-c\bca\bat\bt, -\b--\b-l\blo\boc\bca\bat\bti\bio\bon\bn-\b-c\bca\bat\bt\n"
     ]
    },
    {
     "name": "stdout",
     "output_type": "stream",
     "text": [
      "              Don't  actually display the manual pages, but do print the loca‐\n"
     ]
    },
    {
     "name": "stdout",
     "output_type": "stream",
     "text": [
      "              tion(s) of the cat files that would be displayed.  If -w and  -W\n"
     ]
    },
    {
     "name": "stdout",
     "output_type": "stream",
     "text": [
      "              are both specified, print both separated by a space.\n"
     ]
    },
    {
     "name": "stdout",
     "output_type": "stream",
     "text": [
      "\n"
     ]
    },
    {
     "name": "stdout",
     "output_type": "stream",
     "text": [
      "       -\b-c\bc, -\b--\b-c\bca\bat\btm\bma\ban\bn\n"
     ]
    },
    {
     "name": "stdout",
     "output_type": "stream",
     "text": [
      "              This  option  is  not for general use and should only be used by\n"
     ]
    },
    {
     "name": "stdout",
     "output_type": "stream",
     "text": [
      "              the c\bca\bat\btm\bma\ban\bn program.\n"
     ]
    },
    {
     "name": "stdout",
     "output_type": "stream",
     "text": [
      "\n"
     ]
    },
    {
     "name": "stdout",
     "output_type": "stream",
     "text": [
      "       -\b-R\bR _\be_\bn_\bc_\bo_\bd_\bi_\bn_\bg, -\b--\b-r\bre\bec\bco\bod\bde\be=_\be_\bn_\bc_\bo_\bd_\bi_\bn_\bg\n"
     ]
    },
    {
     "name": "stdout",
     "output_type": "stream",
     "text": [
      "              Instead of formatting the manual page in the usual  way,  output\n"
     ]
    },
    {
     "name": "stdout",
     "output_type": "stream",
     "text": [
      "              its  source converted to the specified _\be_\bn_\bc_\bo_\bd_\bi_\bn_\bg.  If you already\n"
     ]
    },
    {
     "name": "stdout",
     "output_type": "stream",
     "text": [
      "              know the encoding of the source file,  you  can  also  use  m\bma\ban\bn‐\b‐\n"
     ]
    },
    {
     "name": "stdout",
     "output_type": "stream",
     "text": [
      "              c\bco\bon\bnv\bv(1)  directly.   However,  this option allows you to convert\n"
     ]
    },
    {
     "name": "stdout",
     "output_type": "stream",
     "text": [
      "              several manual pages to a  single  encoding  without  having  to\n"
     ]
    },
    {
     "name": "stdout",
     "output_type": "stream",
     "text": [
      "              explicitly  state  the encoding of each, provided that they were\n"
     ]
    },
    {
     "name": "stdout",
     "output_type": "stream",
     "text": [
      "              already installed in a structure similar to a manual page  hier‐\n"
     ]
    },
    {
     "name": "stdout",
     "output_type": "stream",
     "text": [
      "              archy.\n"
     ]
    },
    {
     "name": "stdout",
     "output_type": "stream",
     "text": [
      "\n"
     ]
    },
    {
     "name": "stdout",
     "output_type": "stream",
     "text": [
      "   F\bFi\bin\bnd\bdi\bin\bng\bg m\bma\ban\bnu\bua\bal\bl p\bpa\bag\bge\bes\bs\n"
     ]
    },
    {
     "name": "stdout",
     "output_type": "stream",
     "text": [
      "       -\b-L\bL _\bl_\bo_\bc_\ba_\bl_\be, -\b--\b-l\blo\boc\bca\bal\ble\be=\b=_\bl_\bo_\bc_\ba_\bl_\be\n"
     ]
    },
    {
     "name": "stdout",
     "output_type": "stream",
     "text": [
      "              m\bma\ban\bn will normally determine your current locale by a call to the\n"
     ]
    },
    {
     "name": "stdout",
     "output_type": "stream",
     "text": [
      "              C function s\bse\bet\btl\blo\boc\bca\bal\ble\be(3) which interrogates  various  environment\n"
     ]
    },
    {
     "name": "stdout",
     "output_type": "stream",
     "text": [
      "              variables, possibly including $L\bLC\bC_\b_M\bME\bES\bSS\bSA\bAG\bGE\bES\bS and $L\bLA\bAN\bNG\bG.  To tempo‐\n"
     ]
    },
    {
     "name": "stdout",
     "output_type": "stream",
     "text": [
      "              rarily override the determined value, use this option to  supply\n"
     ]
    },
    {
     "name": "stdout",
     "output_type": "stream",
     "text": [
      "              a  _\bl_\bo_\bc_\ba_\bl_\be  string  directly  to m\bma\ban\bn.  Note that it will not take\n"
     ]
    },
    {
     "name": "stdout",
     "output_type": "stream",
     "text": [
      "              effect until the search for pages actually begins.  Output  such\n"
     ]
    },
    {
     "name": "stdout",
     "output_type": "stream",
     "text": [
      "              as  the  help  message will always be displayed in the initially\n"
     ]
    },
    {
     "name": "stdout",
     "output_type": "stream",
     "text": [
      "              determined locale.\n"
     ]
    },
    {
     "name": "stdout",
     "output_type": "stream",
     "text": [
      "\n"
     ]
    },
    {
     "name": "stdout",
     "output_type": "stream",
     "text": [
      "       -\b-m\bm _\bs_\by_\bs_\bt_\be_\bm[,...], -\b--\b-s\bsy\bys\bst\bte\bem\bms\bs=\b=_\bs_\by_\bs_\bt_\be_\bm[,...]\n"
     ]
    },
    {
     "name": "stdout",
     "output_type": "stream",
     "text": [
      "              If this system has access to  other  operating  system's  manual\n"
     ]
    },
    {
     "name": "stdout",
     "output_type": "stream",
     "text": [
      "              pages,  they can be accessed using this option.  To search for a\n"
     ]
    },
    {
     "name": "stdout",
     "output_type": "stream",
     "text": [
      "              manual page from NewOS's manual page collection, use the  option\n"
     ]
    },
    {
     "name": "stdout",
     "output_type": "stream",
     "text": [
      "              -\b-m\bm N\bNe\bew\bwO\bOS\bS.\n"
     ]
    },
    {
     "name": "stdout",
     "output_type": "stream",
     "text": [
      "\n"
     ]
    },
    {
     "name": "stdout",
     "output_type": "stream",
     "text": [
      "              The  _\bs_\by_\bs_\bt_\be_\bm  specified  can  be a combination of comma delimited\n"
     ]
    },
    {
     "name": "stdout",
     "output_type": "stream",
     "text": [
      "              operating system names.  To include a search of the native oper‐\n"
     ]
    },
    {
     "name": "stdout",
     "output_type": "stream",
     "text": [
      "              ating  system's manual pages, include the system name m\bma\ban\bn in the\n"
     ]
    },
    {
     "name": "stdout",
     "output_type": "stream",
     "text": [
      "              argument string.  This option will override the $S\bSY\bYS\bST\bTE\bEM\bM environ‐\n"
     ]
    },
    {
     "name": "stdout",
     "output_type": "stream",
     "text": [
      "              ment variable.\n"
     ]
    },
    {
     "name": "stdout",
     "output_type": "stream",
     "text": [
      "\n"
     ]
    },
    {
     "name": "stdout",
     "output_type": "stream",
     "text": [
      "       -\b-M\bM _\bp_\ba_\bt_\bh, -\b--\b-m\bma\ban\bnp\bpa\bat\bth\bh=\b=_\bp_\ba_\bt_\bh\n"
     ]
    },
    {
     "name": "stdout",
     "output_type": "stream",
     "text": [
      "              Specify  an alternate manpath to use.  By default, m\bma\ban\bn uses m\bma\ban\bn‐\b‐\n"
     ]
    },
    {
     "name": "stdout",
     "output_type": "stream",
     "text": [
      "              p\bpa\bat\bth\bh derived code to determine the path to search.  This  option\n"
     ]
    },
    {
     "name": "stdout",
     "output_type": "stream",
     "text": [
      "              overrides the $M\bMA\bAN\bNP\bPA\bAT\bTH\bH environment variable and causes option -\b-m\bm\n"
     ]
    },
    {
     "name": "stdout",
     "output_type": "stream",
     "text": [
      "              to be ignored.\n"
     ]
    },
    {
     "name": "stdout",
     "output_type": "stream",
     "text": [
      "\n"
     ]
    },
    {
     "name": "stdout",
     "output_type": "stream",
     "text": [
      "              A path specified as a manpath must be the root of a manual  page\n"
     ]
    },
    {
     "name": "stdout",
     "output_type": "stream",
     "text": [
      "              hierarchy  structured  into  sections as described in the man-db\n"
     ]
    },
    {
     "name": "stdout",
     "output_type": "stream",
     "text": [
      "              manual (under \"The manual page system\").  To view  manual  pages\n"
     ]
    },
    {
     "name": "stdout",
     "output_type": "stream",
     "text": [
      "              outside such hierarchies, see the -\b-l\bl option.\n"
     ]
    },
    {
     "name": "stdout",
     "output_type": "stream",
     "text": [
      "\n"
     ]
    },
    {
     "name": "stdout",
     "output_type": "stream",
     "text": [
      "       -\b-S\bS _\bl_\bi_\bs_\bt, -\b-s\bs _\bl_\bi_\bs_\bt, -\b--\b-s\bse\bec\bct\bti\bio\bon\bns\bs=\b=_\bl_\bi_\bs_\bt\n"
     ]
    },
    {
     "name": "stdout",
     "output_type": "stream",
     "text": [
      "              List  is  a  colon-  or comma-separated list of `order specific'\n"
     ]
    },
    {
     "name": "stdout",
     "output_type": "stream",
     "text": [
      "              manual sections to search.  This option overrides  the  $M\bMA\bAN\bNS\bSE\bEC\bCT\bT\n"
     ]
    },
    {
     "name": "stdout",
     "output_type": "stream",
     "text": [
      "              environment  variable.   (The  -\b-s\bs  spelling is for compatibility\n"
     ]
    },
    {
     "name": "stdout",
     "output_type": "stream",
     "text": [
      "              with System V.)\n"
     ]
    },
    {
     "name": "stdout",
     "output_type": "stream",
     "text": [
      "\n"
     ]
    },
    {
     "name": "stdout",
     "output_type": "stream",
     "text": [
      "       -\b-e\be _\bs_\bu_\bb_\b-_\be_\bx_\bt_\be_\bn_\bs_\bi_\bo_\bn, -\b--\b-e\bex\bxt\bte\ben\bns\bsi\bio\bon\bn=\b=_\bs_\bu_\bb_\b-_\be_\bx_\bt_\be_\bn_\bs_\bi_\bo_\bn\n"
     ]
    },
    {
     "name": "stdout",
     "output_type": "stream",
     "text": [
      "              Some systems incorporate large packages of manual pages, such as\n"
     ]
    },
    {
     "name": "stdout",
     "output_type": "stream",
     "text": [
      "              those  that accompany the T\bTc\bcl\bl package, into the main manual page\n"
     ]
    },
    {
     "name": "stdout",
     "output_type": "stream",
     "text": [
      "              hierarchy.  To get around the problem of having two manual pages\n"
     ]
    },
    {
     "name": "stdout",
     "output_type": "stream",
     "text": [
      "              with  the  same name such as e\bex\bxi\bit\bt(3), the T\bTc\bcl\bl pages were usually\n"
     ]
    },
    {
     "name": "stdout",
     "output_type": "stream",
     "text": [
      "              all assigned to section l\bl.  As this is unfortunate,  it  is  now\n"
     ]
    },
    {
     "name": "stdout",
     "output_type": "stream",
     "text": [
      "              possible  to put the pages in the correct section, and to assign\n"
     ]
    },
    {
     "name": "stdout",
     "output_type": "stream",
     "text": [
      "              a specific `extension' to them, in this case, e\bex\bxi\bit\bt(3tcl).  Under\n"
     ]
    },
    {
     "name": "stdout",
     "output_type": "stream",
     "text": [
      "              normal  operation,  m\bma\ban\bn  will  display  e\bex\bxi\bit\bt(3) in preference to\n"
     ]
    },
    {
     "name": "stdout",
     "output_type": "stream",
     "text": [
      "              e\bex\bxi\bit\bt(3tcl).  To negotiate this situation and to avoid having  to\n"
     ]
    },
    {
     "name": "stdout",
     "output_type": "stream",
     "text": [
      "              know  which  section  the page you require resides in, it is now\n"
     ]
    },
    {
     "name": "stdout",
     "output_type": "stream",
     "text": [
      "              possible to give m\bma\ban\bn a  _\bs_\bu_\bb_\b-_\be_\bx_\bt_\be_\bn_\bs_\bi_\bo_\bn  string  indicating  which\n"
     ]
    },
    {
     "name": "stdout",
     "output_type": "stream",
     "text": [
      "              package  the page must belong to.  Using the above example, sup‐\n"
     ]
    },
    {
     "name": "stdout",
     "output_type": "stream",
     "text": [
      "              plying the option -\b-e\be t\btc\bcl\bl to m\bma\ban\bn  will  restrict  the  search  to\n"
     ]
    },
    {
     "name": "stdout",
     "output_type": "stream",
     "text": [
      "              pages having an extension of *\b*t\btc\bcl\bl.\n"
     ]
    },
    {
     "name": "stdout",
     "output_type": "stream",
     "text": [
      "\n"
     ]
    },
    {
     "name": "stdout",
     "output_type": "stream",
     "text": [
      "       -\b-i\bi, -\b--\b-i\big\bgn\bno\bor\bre\be-\b-c\bca\bas\bse\be\n"
     ]
    },
    {
     "name": "stdout",
     "output_type": "stream",
     "text": [
      "              Ignore  case  when  searching  for  manual  pages.   This is the\n"
     ]
    },
    {
     "name": "stdout",
     "output_type": "stream",
     "text": [
      "              default.\n"
     ]
    },
    {
     "name": "stdout",
     "output_type": "stream",
     "text": [
      "\n"
     ]
    },
    {
     "name": "stdout",
     "output_type": "stream",
     "text": [
      "       -\b-I\bI, -\b--\b-m\bma\bat\btc\bch\bh-\b-c\bca\bas\bse\be\n"
     ]
    },
    {
     "name": "stdout",
     "output_type": "stream",
     "text": [
      "              Search for manual pages case-sensitively.\n"
     ]
    },
    {
     "name": "stdout",
     "output_type": "stream",
     "text": [
      "\n"
     ]
    },
    {
     "name": "stdout",
     "output_type": "stream",
     "text": [
      "       -\b--\b-r\bre\beg\bge\bex\bx\n"
     ]
    },
    {
     "name": "stdout",
     "output_type": "stream",
     "text": [
      "              Show all pages with any part of  either  their  names  or  their\n"
     ]
    },
    {
     "name": "stdout",
     "output_type": "stream",
     "text": [
      "              descriptions  matching  each  _\bp_\ba_\bg_\be argument as a regular expres‐\n"
     ]
    },
    {
     "name": "stdout",
     "output_type": "stream",
     "text": [
      "              sion, as with a\bap\bpr\bro\bop\bpo\bos\bs(1).  Since there is usually no  reasonable\n"
     ]
    },
    {
     "name": "stdout",
     "output_type": "stream",
     "text": [
      "              way  to  pick a \"best\" page when searching for a regular expres‐\n"
     ]
    },
    {
     "name": "stdout",
     "output_type": "stream",
     "text": [
      "              sion, this option implies -\b-a\ba.\n"
     ]
    },
    {
     "name": "stdout",
     "output_type": "stream",
     "text": [
      "\n"
     ]
    },
    {
     "name": "stdout",
     "output_type": "stream",
     "text": [
      "       -\b--\b-w\bwi\bil\bld\bdc\bca\bar\brd\bd\n"
     ]
    },
    {
     "name": "stdout",
     "output_type": "stream",
     "text": [
      "              Show all pages with any part of  either  their  names  or  their\n"
     ]
    },
    {
     "name": "stdout",
     "output_type": "stream",
     "text": [
      "              descriptions matching each _\bp_\ba_\bg_\be argument using shell-style wild‐\n"
     ]
    },
    {
     "name": "stdout",
     "output_type": "stream",
     "text": [
      "              cards, as with a\bap\bpr\bro\bop\bpo\bos\bs(1) -\b--\b-w\bwi\bil\bld\bdc\bca\bar\brd\bd.  The  _\bp_\ba_\bg_\be  argument  must\n"
     ]
    },
    {
     "name": "stdout",
     "output_type": "stream",
     "text": [
      "              match  the  entire  name or description, or match on word bound‐\n"
     ]
    },
    {
     "name": "stdout",
     "output_type": "stream",
     "text": [
      "              aries in the description.  Since there is usually no  reasonable\n"
     ]
    },
    {
     "name": "stdout",
     "output_type": "stream",
     "text": [
      "              way  to  pick  a \"best\" page when searching for a wildcard, this\n"
     ]
    },
    {
     "name": "stdout",
     "output_type": "stream",
     "text": [
      "              option implies -\b-a\ba.\n"
     ]
    },
    {
     "name": "stdout",
     "output_type": "stream",
     "text": [
      "\n"
     ]
    },
    {
     "name": "stdout",
     "output_type": "stream",
     "text": [
      "       -\b--\b-n\bna\bam\bme\bes\bs-\b-o\bon\bnl\bly\by\n"
     ]
    },
    {
     "name": "stdout",
     "output_type": "stream",
     "text": [
      "              If the -\b--\b-r\bre\beg\bge\bex\bx or -\b--\b-w\bwi\bil\bld\bdc\bca\bar\brd\bd option is  used,  match  only  page\n"
     ]
    },
    {
     "name": "stdout",
     "output_type": "stream",
     "text": [
      "              names,  not page descriptions, as with w\bwh\bha\bat\bti\bis\bs(1).  Otherwise, no\n"
     ]
    },
    {
     "name": "stdout",
     "output_type": "stream",
     "text": [
      "              effect.\n"
     ]
    },
    {
     "name": "stdout",
     "output_type": "stream",
     "text": [
      "\n"
     ]
    },
    {
     "name": "stdout",
     "output_type": "stream",
     "text": [
      "       -\b-a\ba, -\b--\b-a\bal\bll\bl\n"
     ]
    },
    {
     "name": "stdout",
     "output_type": "stream",
     "text": [
      "              By default, m\bma\ban\bn will exit after  displaying  the  most  suitable\n"
     ]
    },
    {
     "name": "stdout",
     "output_type": "stream",
     "text": [
      "              manual  page  it finds.  Using this option forces m\bma\ban\bn to display\n"
     ]
    },
    {
     "name": "stdout",
     "output_type": "stream",
     "text": [
      "              all the manual pages with names that match the search criteria.\n"
     ]
    },
    {
     "name": "stdout",
     "output_type": "stream",
     "text": [
      "\n"
     ]
    },
    {
     "name": "stdout",
     "output_type": "stream",
     "text": [
      "       -\b-u\bu, -\b--\b-u\bup\bpd\bda\bat\bte\be\n"
     ]
    },
    {
     "name": "stdout",
     "output_type": "stream",
     "text": [
      "              This option causes m\bma\ban\bn to perform an `inode  level'  consistency\n"
     ]
    },
    {
     "name": "stdout",
     "output_type": "stream",
     "text": [
      "              check on its database caches to ensure that they are an accurate\n"
     ]
    },
    {
     "name": "stdout",
     "output_type": "stream",
     "text": [
      "              representation of the filesystem.  It will only  have  a  useful\n"
     ]
    },
    {
     "name": "stdout",
     "output_type": "stream",
     "text": [
      "              effect if m\bma\ban\bn is installed with the setuid bit set.\n"
     ]
    },
    {
     "name": "stdout",
     "output_type": "stream",
     "text": [
      "\n"
     ]
    },
    {
     "name": "stdout",
     "output_type": "stream",
     "text": [
      "       -\b--\b-n\bno\bo-\b-s\bsu\bub\bbp\bpa\bag\bge\bes\bs\n"
     ]
    },
    {
     "name": "stdout",
     "output_type": "stream",
     "text": [
      "              By default, m\bma\ban\bn will try to interpret pairs of manual page names\n"
     ]
    },
    {
     "name": "stdout",
     "output_type": "stream",
     "text": [
      "              given on the command line as equivalent to a single manual  page\n"
     ]
    },
    {
     "name": "stdout",
     "output_type": "stream",
     "text": [
      "              name  containing  a  hyphen or an underscore.  This supports the\n"
     ]
    },
    {
     "name": "stdout",
     "output_type": "stream",
     "text": [
      "              common pattern of programs that implement a  number  of  subcom‐\n"
     ]
    },
    {
     "name": "stdout",
     "output_type": "stream",
     "text": [
      "              mands,  allowing  them to provide manual pages for each that can\n"
     ]
    },
    {
     "name": "stdout",
     "output_type": "stream",
     "text": [
      "              be accessed using similar syntax as would be used to invoke  the\n"
     ]
    },
    {
     "name": "stdout",
     "output_type": "stream",
     "text": [
      "              subcommands themselves.  For example:\n"
     ]
    },
    {
     "name": "stdout",
     "output_type": "stream",
     "text": [
      "\n"
     ]
    },
    {
     "name": "stdout",
     "output_type": "stream",
     "text": [
      "                $ man -aw git diff\n"
     ]
    },
    {
     "name": "stdout",
     "output_type": "stream",
     "text": [
      "                /usr/share/man/man1/git-diff.1.gz\n"
     ]
    },
    {
     "name": "stdout",
     "output_type": "stream",
     "text": [
      "\n"
     ]
    },
    {
     "name": "stdout",
     "output_type": "stream",
     "text": [
      "              To disable this behaviour, use the -\b--\b-n\bno\bo-\b-s\bsu\bub\bbp\bpa\bag\bge\bes\bs option.\n"
     ]
    },
    {
     "name": "stdout",
     "output_type": "stream",
     "text": [
      "\n"
     ]
    },
    {
     "name": "stdout",
     "output_type": "stream",
     "text": [
      "                $ man -aw --no-subpages git diff\n"
     ]
    },
    {
     "name": "stdout",
     "output_type": "stream",
     "text": [
      "                /usr/share/man/man1/git.1.gz\n"
     ]
    },
    {
     "name": "stdout",
     "output_type": "stream",
     "text": [
      "                /usr/share/man/man3/Git.3pm.gz\n"
     ]
    },
    {
     "name": "stdout",
     "output_type": "stream",
     "text": [
      "                /usr/share/man/man1/diff.1.gz\n"
     ]
    },
    {
     "name": "stdout",
     "output_type": "stream",
     "text": [
      "\n"
     ]
    },
    {
     "name": "stdout",
     "output_type": "stream",
     "text": [
      "   C\bCo\bon\bnt\btr\bro\bol\bll\bli\bin\bng\bg f\bfo\bor\brm\bma\bat\btt\bte\bed\bd o\bou\but\btp\bpu\but\bt\n"
     ]
    },
    {
     "name": "stdout",
     "output_type": "stream",
     "text": [
      "       -\b-P\bP _\bp_\ba_\bg_\be_\br, -\b--\b-p\bpa\bag\bge\ber\br=\b=_\bp_\ba_\bg_\be_\br\n"
     ]
    },
    {
     "name": "stdout",
     "output_type": "stream",
     "text": [
      "              Specify  which  output  pager to use.  By default, m\bma\ban\bn uses l\ble\bes\bss\bs\n"
     ]
    },
    {
     "name": "stdout",
     "output_type": "stream",
     "text": [
      "              -\b-s\bs.  This option overrides the $M\bMA\bAN\bNP\bPA\bAG\bGE\bER\bR  environment  variable,\n"
     ]
    },
    {
     "name": "stdout",
     "output_type": "stream",
     "text": [
      "              which  in turn overrides the $P\bPA\bAG\bGE\bER\bR environment variable.  It is\n"
     ]
    },
    {
     "name": "stdout",
     "output_type": "stream",
     "text": [
      "              not used in conjunction with -\b-f\bf or -\b-k\bk.\n"
     ]
    },
    {
     "name": "stdout",
     "output_type": "stream",
     "text": [
      "\n"
     ]
    },
    {
     "name": "stdout",
     "output_type": "stream",
     "text": [
      "              The value may be a simple command name or a command  with  argu‐\n"
     ]
    },
    {
     "name": "stdout",
     "output_type": "stream",
     "text": [
      "              ments, and may use shell quoting (backslashes, single quotes, or\n"
     ]
    },
    {
     "name": "stdout",
     "output_type": "stream",
     "text": [
      "              double quotes).  It may not use pipes to connect  multiple  com‐\n"
     ]
    },
    {
     "name": "stdout",
     "output_type": "stream",
     "text": [
      "              mands;  if  you  need that, use a wrapper script, which may take\n"
     ]
    },
    {
     "name": "stdout",
     "output_type": "stream",
     "text": [
      "              the file to display either as an argument or on standard input.\n"
     ]
    },
    {
     "name": "stdout",
     "output_type": "stream",
     "text": [
      "\n"
     ]
    },
    {
     "name": "stdout",
     "output_type": "stream",
     "text": [
      "       -\b-r\br _\bp_\br_\bo_\bm_\bp_\bt, -\b--\b-p\bpr\bro\bom\bmp\bpt\bt=\b=_\bp_\br_\bo_\bm_\bp_\bt\n"
     ]
    },
    {
     "name": "stdout",
     "output_type": "stream",
     "text": [
      "              If a recent version of l\ble\bes\bss\bs is  used  as  the  pager,  m\bma\ban\bn  will\n"
     ]
    },
    {
     "name": "stdout",
     "output_type": "stream",
     "text": [
      "              attempt  to  set  its  prompt  and  some  sensible options.  The\n"
     ]
    },
    {
     "name": "stdout",
     "output_type": "stream",
     "text": [
      "              default prompt looks like\n"
     ]
    },
    {
     "name": "stdout",
     "output_type": "stream",
     "text": [
      "\n"
     ]
    },
    {
     "name": "stdout",
     "output_type": "stream",
     "text": [
      "               M\bMa\ban\bnu\bua\bal\bl p\bpa\bag\bge\be _\bn_\ba_\bm_\be(\b(_\bs_\be_\bc)\b) l\bli\bin\bne\be _\bx\n"
     ]
    },
    {
     "name": "stdout",
     "output_type": "stream",
     "text": [
      "\n"
     ]
    },
    {
     "name": "stdout",
     "output_type": "stream",
     "text": [
      "              where _\bn_\ba_\bm_\be denotes the manual page name, _\bs_\be_\bc denotes the section\n"
     ]
    },
    {
     "name": "stdout",
     "output_type": "stream",
     "text": [
      "              it  was  found  under  and  _\bx  the current line number.  This is\n"
     ]
    },
    {
     "name": "stdout",
     "output_type": "stream",
     "text": [
      "              achieved by using the $L\bLE\bES\bSS\bS environment variable.\n"
     ]
    },
    {
     "name": "stdout",
     "output_type": "stream",
     "text": [
      "\n"
     ]
    },
    {
     "name": "stdout",
     "output_type": "stream",
     "text": [
      "              Supplying -\b-r\br with a string  will  override  this  default.   The\n"
     ]
    },
    {
     "name": "stdout",
     "output_type": "stream",
     "text": [
      "              string  may  contain  the text $\b$M\bMA\bAN\bN_\b_P\bPN\bN which will be expanded to\n"
     ]
    },
    {
     "name": "stdout",
     "output_type": "stream",
     "text": [
      "              the name of the current manual page and its  section  name  sur‐\n"
     ]
    },
    {
     "name": "stdout",
     "output_type": "stream",
     "text": [
      "              rounded  by `(' and `)'.  The string used to produce the default\n"
     ]
    },
    {
     "name": "stdout",
     "output_type": "stream",
     "text": [
      "              could be expressed as\n"
     ]
    },
    {
     "name": "stdout",
     "output_type": "stream",
     "text": [
      "\n"
     ]
    },
    {
     "name": "stdout",
     "output_type": "stream",
     "text": [
      "              \\\b\\ M\bMa\ban\bnu\bua\bal\bl\\\b\\ p\bpa\bag\bge\be\\\b\\ \\\b\\$\b$M\bMA\bAN\bN_\b_P\bPN\bN\\\b\\ ?\b?l\blt\btl\bli\bin\bne\be\\\b\\ %\b%l\blt\bt?\b?L\bL/\b/%\b%L\bL.\b.:\b:\n"
     ]
    },
    {
     "name": "stdout",
     "output_type": "stream",
     "text": [
      "              b\bby\byt\bte\be\\\b\\ %\b%b\bbB\bB?\b?s\bs/\b/%\b%s\bs.\b..\b.?\b?\\\b\\ (\b(E\bEN\bND\bD)\b):\b:?\b?p\bpB\bB\\\b\\ %\b%p\bpB\bB\\\b\\\\\b\\%\b%.\b..\b.\n"
     ]
    },
    {
     "name": "stdout",
     "output_type": "stream",
     "text": [
      "              (\b(p\bpr\bre\bes\bss\bs h\bh f\bfo\bor\br h\bhe\bel\blp\bp o\bor\br q\bq t\bto\bo q\bqu\bui\bit\bt)\b)\n"
     ]
    },
    {
     "name": "stdout",
     "output_type": "stream",
     "text": [
      "\n"
     ]
    },
    {
     "name": "stdout",
     "output_type": "stream",
     "text": [
      "              It is broken into three lines here for the sake  of  readability\n"
     ]
    },
    {
     "name": "stdout",
     "output_type": "stream",
     "text": [
      "              only.   For its meaning see the l\ble\bes\bss\bs(1) manual page.  The prompt\n"
     ]
    },
    {
     "name": "stdout",
     "output_type": "stream",
     "text": [
      "              string is first evaluated by  the  shell.   All  double  quotes,\n"
     ]
    },
    {
     "name": "stdout",
     "output_type": "stream",
     "text": [
      "              back-quotes  and  backslashes in the prompt must be escaped by a\n"
     ]
    },
    {
     "name": "stdout",
     "output_type": "stream",
     "text": [
      "              preceding backslash.  The prompt string may end in an escaped  $\n"
     ]
    },
    {
     "name": "stdout",
     "output_type": "stream",
     "text": [
      "              which  may  be followed by further options for less.  By default\n"
     ]
    },
    {
     "name": "stdout",
     "output_type": "stream",
     "text": [
      "              m\bma\ban\bn sets the -\b-i\bix\bx8\b8 options.\n"
     ]
    },
    {
     "name": "stdout",
     "output_type": "stream",
     "text": [
      "\n"
     ]
    },
    {
     "name": "stdout",
     "output_type": "stream",
     "text": [
      "              If you want to override  m\bma\ban\bn's  prompt  string  processing  com‐\n"
     ]
    },
    {
     "name": "stdout",
     "output_type": "stream",
     "text": [
      "              pletely, use the $M\bMA\bAN\bNL\bLE\bES\bSS\bS environment variable described below.\n"
     ]
    },
    {
     "name": "stdout",
     "output_type": "stream",
     "text": [
      "\n"
     ]
    },
    {
     "name": "stdout",
     "output_type": "stream",
     "text": [
      "       -\b-7\b7, -\b--\b-a\bas\bsc\bci\bii\bi\n"
     ]
    },
    {
     "name": "stdout",
     "output_type": "stream",
     "text": [
      "              When  viewing a pure _\ba_\bs_\bc_\bi_\bi(7) manual page on a 7 bit terminal or\n"
     ]
    },
    {
     "name": "stdout",
     "output_type": "stream",
     "text": [
      "              terminal emulator, some characters  may  not  display  correctly\n"
     ]
    },
    {
     "name": "stdout",
     "output_type": "stream",
     "text": [
      "              when  using  the  _\bl_\ba_\bt_\bi_\bn_\b1(7)  device  description with G\bGN\bNU\bU n\bnr\bro\bof\bff\bf.\n"
     ]
    },
    {
     "name": "stdout",
     "output_type": "stream",
     "text": [
      "              This option allows pure _\ba_\bs_\bc_\bi_\bi manual pages to  be  displayed  in\n"
     ]
    },
    {
     "name": "stdout",
     "output_type": "stream",
     "text": [
      "              _\ba_\bs_\bc_\bi_\bi  with the _\bl_\ba_\bt_\bi_\bn_\b1 device.  It will not translate any _\bl_\ba_\bt_\bi_\bn_\b1\n"
     ]
    },
    {
     "name": "stdout",
     "output_type": "stream",
     "text": [
      "              text.  The following table  shows  the  translations  performed:\n"
     ]
    },
    {
     "name": "stdout",
     "output_type": "stream",
     "text": [
      "              some  parts  of it may only be displayed properly when using G\bGN\bNU\bU\n"
     ]
    },
    {
     "name": "stdout",
     "output_type": "stream",
     "text": [
      "              n\bnr\bro\bof\bff\bf's _\bl_\ba_\bt_\bi_\bn_\b1(7) device.\n"
     ]
    },
    {
     "name": "stdout",
     "output_type": "stream",
     "text": [
      "\n"
     ]
    },
    {
     "name": "stdout",
     "output_type": "stream",
     "text": [
      "\n"
     ]
    },
    {
     "name": "stdout",
     "output_type": "stream",
     "text": [
      "              Description        Octal   latin1   ascii\n"
     ]
    },
    {
     "name": "stdout",
     "output_type": "stream",
     "text": [
      "              ──────────────────────────────────────────\n"
     ]
    },
    {
     "name": "stdout",
     "output_type": "stream",
     "text": [
      "              continuation        255      ‐        -\n"
     ]
    },
    {
     "name": "stdout",
     "output_type": "stream",
     "text": [
      "              hyphen\n"
     ]
    },
    {
     "name": "stdout",
     "output_type": "stream",
     "text": [
      "              bullet   (middle    267      ·        o\n"
     ]
    },
    {
     "name": "stdout",
     "output_type": "stream",
     "text": [
      "              dot)\n"
     ]
    },
    {
     "name": "stdout",
     "output_type": "stream",
     "text": [
      "              acute accent        264      ´        '\n"
     ]
    },
    {
     "name": "stdout",
     "output_type": "stream",
     "text": [
      "              multiplication      327      ×        x\n"
     ]
    },
    {
     "name": "stdout",
     "output_type": "stream",
     "text": [
      "              sign\n"
     ]
    },
    {
     "name": "stdout",
     "output_type": "stream",
     "text": [
      "\n"
     ]
    },
    {
     "name": "stdout",
     "output_type": "stream",
     "text": [
      "              If  the  _\bl_\ba_\bt_\bi_\bn_\b1  column displays correctly, your terminal may be\n"
     ]
    },
    {
     "name": "stdout",
     "output_type": "stream",
     "text": [
      "              set up for _\bl_\ba_\bt_\bi_\bn_\b1 characters and this option is  not  necessary.\n"
     ]
    },
    {
     "name": "stdout",
     "output_type": "stream",
     "text": [
      "              If  the  _\bl_\ba_\bt_\bi_\bn_\b1 and _\ba_\bs_\bc_\bi_\bi columns are identical, you are reading\n"
     ]
    },
    {
     "name": "stdout",
     "output_type": "stream",
     "text": [
      "              this page using this option or m\bma\ban\bn  did  not  format  this  page\n"
     ]
    },
    {
     "name": "stdout",
     "output_type": "stream",
     "text": [
      "              using  the  _\bl_\ba_\bt_\bi_\bn_\b1  device description.  If the _\bl_\ba_\bt_\bi_\bn_\b1 column is\n"
     ]
    },
    {
     "name": "stdout",
     "output_type": "stream",
     "text": [
      "              missing or corrupt, you may need to view manual pages with  this\n"
     ]
    },
    {
     "name": "stdout",
     "output_type": "stream",
     "text": [
      "              option.\n"
     ]
    },
    {
     "name": "stdout",
     "output_type": "stream",
     "text": [
      "\n"
     ]
    },
    {
     "name": "stdout",
     "output_type": "stream",
     "text": [
      "              This  option is ignored when using options -\b-t\bt, -\b-H\bH, -\b-T\bT, or -\b-Z\bZ and\n"
     ]
    },
    {
     "name": "stdout",
     "output_type": "stream",
     "text": [
      "              may be useless for n\bnr\bro\bof\bff\bf other than G\bGN\bNU\bU'\b's\bs.\n"
     ]
    },
    {
     "name": "stdout",
     "output_type": "stream",
     "text": [
      "\n"
     ]
    },
    {
     "name": "stdout",
     "output_type": "stream",
     "text": [
      "       -\b-E\bE _\be_\bn_\bc_\bo_\bd_\bi_\bn_\bg, -\b--\b-e\ben\bnc\bco\bod\bdi\bin\bng\bg=_\be_\bn_\bc_\bo_\bd_\bi_\bn_\bg\n"
     ]
    },
    {
     "name": "stdout",
     "output_type": "stream",
     "text": [
      "              Generate output for a character encoding other than the default.\n"
     ]
    },
    {
     "name": "stdout",
     "output_type": "stream",
     "text": [
      "              For backward compatibility, _\be_\bn_\bc_\bo_\bd_\bi_\bn_\bg may be an n\bnr\bro\bof\bff\bf device such\n"
     ]
    },
    {
     "name": "stdout",
     "output_type": "stream",
     "text": [
      "              as a\bas\bsc\bci\bii\bi, l\bla\bat\bti\bin\bn1\b1, or u\but\btf\bf8\b8 as well as a true  character  encoding\n"
     ]
    },
    {
     "name": "stdout",
     "output_type": "stream",
     "text": [
      "              such as U\bUT\bTF\bF-\b-8\b8.\n"
     ]
    },
    {
     "name": "stdout",
     "output_type": "stream",
     "text": [
      "\n"
     ]
    },
    {
     "name": "stdout",
     "output_type": "stream",
     "text": [
      "       -\b--\b-n\bno\bo-\b-h\bhy\byp\bph\bhe\ben\bna\bat\bti\bio\bon\bn, -\b--\b-n\bnh\bh\n"
     ]
    },
    {
     "name": "stdout",
     "output_type": "stream",
     "text": [
      "              Normally, n\bnr\bro\bof\bff\bf will automatically hyphenate text at line breaks\n"
     ]
    },
    {
     "name": "stdout",
     "output_type": "stream",
     "text": [
      "              even in words that do not contain hyphens, if it is necessary to\n"
     ]
    },
    {
     "name": "stdout",
     "output_type": "stream",
     "text": [
      "              do  so  to  lay  out  words on a line without excessive spacing.\n"
     ]
    },
    {
     "name": "stdout",
     "output_type": "stream",
     "text": [
      "              This option disables automatic hyphenation, so words  will  only\n"
     ]
    },
    {
     "name": "stdout",
     "output_type": "stream",
     "text": [
      "              be hyphenated if they already contain hyphens.\n"
     ]
    },
    {
     "name": "stdout",
     "output_type": "stream",
     "text": [
      "\n"
     ]
    },
    {
     "name": "stdout",
     "output_type": "stream",
     "text": [
      "              If  you  are  writing  a  manual page and simply want to prevent\n"
     ]
    },
    {
     "name": "stdout",
     "output_type": "stream",
     "text": [
      "              n\bnr\bro\bof\bff\bf from hyphenating a word at an inappropriate point, do  not\n"
     ]
    },
    {
     "name": "stdout",
     "output_type": "stream",
     "text": [
      "              use  this  option,  but consult the n\bnr\bro\bof\bff\bf documentation instead;\n"
     ]
    },
    {
     "name": "stdout",
     "output_type": "stream",
     "text": [
      "              for instance, you can put \"\\%\" inside a word to indicate that it\n"
     ]
    },
    {
     "name": "stdout",
     "output_type": "stream",
     "text": [
      "              may  be  hyphenated at that point, or put \"\\%\" at the start of a\n"
     ]
    },
    {
     "name": "stdout",
     "output_type": "stream",
     "text": [
      "              word to prevent it from being hyphenated.\n"
     ]
    },
    {
     "name": "stdout",
     "output_type": "stream",
     "text": [
      "\n"
     ]
    },
    {
     "name": "stdout",
     "output_type": "stream",
     "text": [
      "       -\b--\b-n\bno\bo-\b-j\bju\bus\bst\bti\bif\bfi\bic\bca\bat\bti\bio\bon\bn, -\b--\b-n\bnj\bj\n"
     ]
    },
    {
     "name": "stdout",
     "output_type": "stream",
     "text": [
      "              Normally, n\bnr\bro\bof\bff\bf will automatically justify text to both margins.\n"
     ]
    },
    {
     "name": "stdout",
     "output_type": "stream",
     "text": [
      "              This  option disables full justification, leaving justified only\n"
     ]
    },
    {
     "name": "stdout",
     "output_type": "stream",
     "text": [
      "              to the left margin, sometimes called \"ragged-right\" text.\n"
     ]
    },
    {
     "name": "stdout",
     "output_type": "stream",
     "text": [
      "\n"
     ]
    },
    {
     "name": "stdout",
     "output_type": "stream",
     "text": [
      "              If you are writing a manual page  and  simply  want  to  prevent\n"
     ]
    },
    {
     "name": "stdout",
     "output_type": "stream",
     "text": [
      "              n\bnr\bro\bof\bff\bf  from  justifying  certain  paragraphs,  do  not  use this\n"
     ]
    },
    {
     "name": "stdout",
     "output_type": "stream",
     "text": [
      "              option,  but  consult  the  n\bnr\bro\bof\bff\bf  documentation  instead;   for\n"
     ]
    },
    {
     "name": "stdout",
     "output_type": "stream",
     "text": [
      "              instance,  you  can  use  the  \".na\",  \".nf\",  \".fi\",  and \".ad\"\n"
     ]
    },
    {
     "name": "stdout",
     "output_type": "stream",
     "text": [
      "              requests to temporarily disable adjusting and filling.\n"
     ]
    },
    {
     "name": "stdout",
     "output_type": "stream",
     "text": [
      "\n"
     ]
    },
    {
     "name": "stdout",
     "output_type": "stream",
     "text": [
      "       -\b-p\bp _\bs_\bt_\br_\bi_\bn_\bg, -\b--\b-p\bpr\bre\bep\bpr\bro\boc\bce\bes\bss\bso\bor\br=\b=_\bs_\bt_\br_\bi_\bn_\bg\n"
     ]
    },
    {
     "name": "stdout",
     "output_type": "stream",
     "text": [
      "              Specify the sequence of preprocessors to  run  before  n\bnr\bro\bof\bff\bf  or\n"
     ]
    },
    {
     "name": "stdout",
     "output_type": "stream",
     "text": [
      "              t\btr\bro\bof\bff\bf/g\bgr\bro\bof\bff\bf.  Not all installations will have a full set of pre‐\n"
     ]
    },
    {
     "name": "stdout",
     "output_type": "stream",
     "text": [
      "              processors.  Some of the preprocessors and the letters  used  to\n"
     ]
    },
    {
     "name": "stdout",
     "output_type": "stream",
     "text": [
      "              designate  them are: e\beq\bqn\bn (e\be), g\bgr\bra\bap\bp (g\bg), p\bpi\bic\bc (p\bp), t\btb\bbl\bl (t\bt), v\bvg\bgr\bri\bin\bnd\bd\n"
     ]
    },
    {
     "name": "stdout",
     "output_type": "stream",
     "text": [
      "              (v\bv), r\bre\bef\bfe\ber\br (r\br).  This option overrides the $M\bMA\bAN\bNR\bRO\bOF\bFF\bFS\bSE\bEQ\bQ  environ‐\n"
     ]
    },
    {
     "name": "stdout",
     "output_type": "stream",
     "text": [
      "              ment  variable.   z\bzs\bso\boe\bel\bli\bim\bm  is  always run as the very first pre‐\n"
     ]
    },
    {
     "name": "stdout",
     "output_type": "stream",
     "text": [
      "              processor.\n"
     ]
    },
    {
     "name": "stdout",
     "output_type": "stream",
     "text": [
      "\n"
     ]
    },
    {
     "name": "stdout",
     "output_type": "stream",
     "text": [
      "       -\b-t\bt, -\b--\b-t\btr\bro\bof\bff\bf\n"
     ]
    },
    {
     "name": "stdout",
     "output_type": "stream",
     "text": [
      "              Use _\bg_\br_\bo_\bf_\bf _\b-_\bm_\ba_\bn_\bd_\bo_\bc to format the manual  page  to  stdout.   This\n"
     ]
    },
    {
     "name": "stdout",
     "output_type": "stream",
     "text": [
      "              option is not required in conjunction with -\b-H\bH, -\b-T\bT, or -\b-Z\bZ.\n"
     ]
    },
    {
     "name": "stdout",
     "output_type": "stream",
     "text": [
      "\n"
     ]
    },
    {
     "name": "stdout",
     "output_type": "stream",
     "text": [
      "       -\b-T\bT[_\bd_\be_\bv_\bi_\bc_\be], -\b--\b-t\btr\bro\bof\bff\bf-\b-d\bde\bev\bvi\bic\bce\be[=_\bd_\be_\bv_\bi_\bc_\be]\n"
     ]
    },
    {
     "name": "stdout",
     "output_type": "stream",
     "text": [
      "              This option is used to change g\bgr\bro\bof\bff\bf (or possibly t\btr\bro\bof\bff\bf'\b's\bs) output\n"
     ]
    },
    {
     "name": "stdout",
     "output_type": "stream",
     "text": [
      "              to be suitable for a device other than the default.  It  implies\n"
     ]
    },
    {
     "name": "stdout",
     "output_type": "stream",
     "text": [
      "              -\b-t\bt.   Examples  (provided  with Groff-1.17) include d\bdv\bvi\bi, l\bla\bat\bti\bin\bn1\b1,\n"
     ]
    },
    {
     "name": "stdout",
     "output_type": "stream",
     "text": [
      "              p\bps\bs, u\but\btf\bf8\b8, X\bX7\b75\b5 and X\bX1\b10\b00\b0.\n"
     ]
    },
    {
     "name": "stdout",
     "output_type": "stream",
     "text": [
      "\n"
     ]
    },
    {
     "name": "stdout",
     "output_type": "stream",
     "text": [
      "       -\b-H\bH[_\bb_\br_\bo_\bw_\bs_\be_\br], -\b--\b-h\bht\btm\bml\bl[=_\bb_\br_\bo_\bw_\bs_\be_\br]\n"
     ]
    },
    {
     "name": "stdout",
     "output_type": "stream",
     "text": [
      "              This option will cause g\bgr\bro\bof\bff\bf to produce HTML  output,  and  will\n"
     ]
    },
    {
     "name": "stdout",
     "output_type": "stream",
     "text": [
      "              display  that output in a web browser.  The choice of browser is\n"
     ]
    },
    {
     "name": "stdout",
     "output_type": "stream",
     "text": [
      "              determined by the optional _\bb_\br_\bo_\bw_\bs_\be_\br argument if one is  provided,\n"
     ]
    },
    {
     "name": "stdout",
     "output_type": "stream",
     "text": [
      "              by  the  $B\bBR\bRO\bOW\bWS\bSE\bER\bR  environment  variable,  or  by a compile-time\n"
     ]
    },
    {
     "name": "stdout",
     "output_type": "stream",
     "text": [
      "              default if that is unset (usually l\bly\byn\bnx\bx).   This  option  implies\n"
     ]
    },
    {
     "name": "stdout",
     "output_type": "stream",
     "text": [
      "              -\b-t\bt, and will only work with G\bGN\bNU\bU t\btr\bro\bof\bff\bf.\n"
     ]
    },
    {
     "name": "stdout",
     "output_type": "stream",
     "text": [
      "\n"
     ]
    },
    {
     "name": "stdout",
     "output_type": "stream",
     "text": [
      "       -\b-X\bX[_\bd_\bp_\bi], -\b--\b-g\bgx\bxd\bdi\bit\btv\bvi\bie\bew\bw[=_\bd_\bp_\bi]\n"
     ]
    },
    {
     "name": "stdout",
     "output_type": "stream",
     "text": [
      "              This  option  displays the output of g\bgr\bro\bof\bff\bf in a graphical window\n"
     ]
    },
    {
     "name": "stdout",
     "output_type": "stream",
     "text": [
      "              using the g\bgx\bxd\bdi\bit\btv\bvi\bie\bew\bw program.  The _\bd_\bp_\bi (dots per inch) may be 75,\n"
     ]
    },
    {
     "name": "stdout",
     "output_type": "stream",
     "text": [
      "              75-12,  100, or 100-12, defaulting to 75; the -12 variants use a\n"
     ]
    },
    {
     "name": "stdout",
     "output_type": "stream",
     "text": [
      "              12-point base font.   This  option  implies  -\b-T\bT  with  the  X75,\n"
     ]
    },
    {
     "name": "stdout",
     "output_type": "stream",
     "text": [
      "              X75-12, X100, or X100-12 device respectively.\n"
     ]
    },
    {
     "name": "stdout",
     "output_type": "stream",
     "text": [
      "\n"
     ]
    },
    {
     "name": "stdout",
     "output_type": "stream",
     "text": [
      "       -\b-Z\bZ, -\b--\b-d\bdi\bit\btr\bro\bof\bff\bf\n"
     ]
    },
    {
     "name": "stdout",
     "output_type": "stream",
     "text": [
      "              g\bgr\bro\bof\bff\bf  will run t\btr\bro\bof\bff\bf and then use an appropriate post-processor\n"
     ]
    },
    {
     "name": "stdout",
     "output_type": "stream",
     "text": [
      "              to produce output suitable for  the  chosen  device.   If  _\bg_\br_\bo_\bf_\bf\n"
     ]
    },
    {
     "name": "stdout",
     "output_type": "stream",
     "text": [
      "              _\b-_\bm_\ba_\bn_\bd_\bo_\bc  is  g\bgr\bro\bof\bff\bf, this option is passed to g\bgr\bro\bof\bff\bf and will sup‐\n"
     ]
    },
    {
     "name": "stdout",
     "output_type": "stream",
     "text": [
      "              press the use of a post-processor.  It implies -\b-t\bt.\n"
     ]
    },
    {
     "name": "stdout",
     "output_type": "stream",
     "text": [
      "\n"
     ]
    },
    {
     "name": "stdout",
     "output_type": "stream",
     "text": [
      "   G\bGe\bet\btt\bti\bin\bng\bg h\bhe\bel\blp\bp\n"
     ]
    },
    {
     "name": "stdout",
     "output_type": "stream",
     "text": [
      "       -\b-?\b?, -\b--\b-h\bhe\bel\blp\bp\n"
     ]
    },
    {
     "name": "stdout",
     "output_type": "stream",
     "text": [
      "              Print a help message and exit.\n"
     ]
    },
    {
     "name": "stdout",
     "output_type": "stream",
     "text": [
      "\n"
     ]
    },
    {
     "name": "stdout",
     "output_type": "stream",
     "text": [
      "       -\b--\b-u\bus\bsa\bag\bge\be\n"
     ]
    },
    {
     "name": "stdout",
     "output_type": "stream",
     "text": [
      "              Print a short usage message and exit.\n"
     ]
    },
    {
     "name": "stdout",
     "output_type": "stream",
     "text": [
      "\n"
     ]
    },
    {
     "name": "stdout",
     "output_type": "stream",
     "text": [
      "       -\b-V\bV, -\b--\b-v\bve\ber\brs\bsi\bio\bon\bn\n"
     ]
    },
    {
     "name": "stdout",
     "output_type": "stream",
     "text": [
      "              Display version information.\n"
     ]
    },
    {
     "name": "stdout",
     "output_type": "stream",
     "text": [
      "\n"
     ]
    },
    {
     "name": "stdout",
     "output_type": "stream",
     "text": [
      "E\bEX\bXI\bIT\bT S\bST\bTA\bAT\bTU\bUS\bS\n"
     ]
    },
    {
     "name": "stdout",
     "output_type": "stream",
     "text": [
      "       0\b0      Successful program execution.\n"
     ]
    },
    {
     "name": "stdout",
     "output_type": "stream",
     "text": [
      "\n"
     ]
    },
    {
     "name": "stdout",
     "output_type": "stream",
     "text": [
      "       1\b1      Usage, syntax or configuration file error.\n"
     ]
    },
    {
     "name": "stdout",
     "output_type": "stream",
     "text": [
      "\n"
     ]
    },
    {
     "name": "stdout",
     "output_type": "stream",
     "text": [
      "       2\b2      Operational error.\n"
     ]
    },
    {
     "name": "stdout",
     "output_type": "stream",
     "text": [
      "\n"
     ]
    },
    {
     "name": "stdout",
     "output_type": "stream",
     "text": [
      "       3\b3      A child process returned a non-zero exit status.\n"
     ]
    },
    {
     "name": "stdout",
     "output_type": "stream",
     "text": [
      "\n"
     ]
    },
    {
     "name": "stdout",
     "output_type": "stream",
     "text": [
      "       1\b16\b6     At least one of the pages/files/keywords didn't exist or  wasn't\n"
     ]
    },
    {
     "name": "stdout",
     "output_type": "stream",
     "text": [
      "              matched.\n"
     ]
    },
    {
     "name": "stdout",
     "output_type": "stream",
     "text": [
      "\n"
     ]
    },
    {
     "name": "stdout",
     "output_type": "stream",
     "text": [
      "E\bEN\bNV\bVI\bIR\bRO\bON\bNM\bME\bEN\bNT\bT\n"
     ]
    },
    {
     "name": "stdout",
     "output_type": "stream",
     "text": [
      "       M\bMA\bAN\bNP\bPA\bAT\bTH\bH\n"
     ]
    },
    {
     "name": "stdout",
     "output_type": "stream",
     "text": [
      "              If  $M\bMA\bAN\bNP\bPA\bAT\bTH\bH is set, its value is used as the path to search for\n"
     ]
    },
    {
     "name": "stdout",
     "output_type": "stream",
     "text": [
      "              manual pages.\n"
     ]
    },
    {
     "name": "stdout",
     "output_type": "stream",
     "text": [
      "\n"
     ]
    },
    {
     "name": "stdout",
     "output_type": "stream",
     "text": [
      "       M\bMA\bAN\bNR\bRO\bOF\bFF\bFO\bOP\bPT\bT\n"
     ]
    },
    {
     "name": "stdout",
     "output_type": "stream",
     "text": [
      "              The contents of $M\bMA\bAN\bNR\bRO\bOF\bFF\bFO\bOP\bPT\bT are added to the command line  every\n"
     ]
    },
    {
     "name": "stdout",
     "output_type": "stream",
     "text": [
      "              time m\bma\ban\bn invokes the formatter (n\bnr\bro\bof\bff\bf, t\btr\bro\bof\bff\bf, or g\bgr\bro\bof\bff\bf).\n"
     ]
    },
    {
     "name": "stdout",
     "output_type": "stream",
     "text": [
      "\n"
     ]
    },
    {
     "name": "stdout",
     "output_type": "stream",
     "text": [
      "       M\bMA\bAN\bNR\bRO\bOF\bFF\bFS\bSE\bEQ\bQ\n"
     ]
    },
    {
     "name": "stdout",
     "output_type": "stream",
     "text": [
      "              If $M\bMA\bAN\bNR\bRO\bOF\bFF\bFS\bSE\bEQ\bQ is set, its value is used to determine the set of\n"
     ]
    },
    {
     "name": "stdout",
     "output_type": "stream",
     "text": [
      "              preprocessors to pass each manual  page  through.   The  default\n"
     ]
    },
    {
     "name": "stdout",
     "output_type": "stream",
     "text": [
      "              preprocessor list is system dependent.\n"
     ]
    },
    {
     "name": "stdout",
     "output_type": "stream",
     "text": [
      "\n"
     ]
    },
    {
     "name": "stdout",
     "output_type": "stream",
     "text": [
      "       M\bMA\bAN\bNS\bSE\bEC\bCT\bT\n"
     ]
    },
    {
     "name": "stdout",
     "output_type": "stream",
     "text": [
      "              If  $M\bMA\bAN\bNS\bSE\bEC\bCT\bT is set, its value is a colon-delimited list of sec‐\n"
     ]
    },
    {
     "name": "stdout",
     "output_type": "stream",
     "text": [
      "              tions and it is used  to  determine  which  manual  sections  to\n"
     ]
    },
    {
     "name": "stdout",
     "output_type": "stream",
     "text": [
      "              search and in what order.\n"
     ]
    },
    {
     "name": "stdout",
     "output_type": "stream",
     "text": [
      "\n"
     ]
    },
    {
     "name": "stdout",
     "output_type": "stream",
     "text": [
      "       M\bMA\bAN\bNP\bPA\bAG\bGE\bER\bR, P\bPA\bAG\bGE\bER\bR\n"
     ]
    },
    {
     "name": "stdout",
     "output_type": "stream",
     "text": [
      "              If $M\bMA\bAN\bNP\bPA\bAG\bGE\bER\bR or $P\bPA\bAG\bGE\bER\bR is set ($M\bMA\bAN\bNP\bPA\bAG\bGE\bER\bR is used in preference),\n"
     ]
    },
    {
     "name": "stdout",
     "output_type": "stream",
     "text": [
      "              its value is used as the name of the program used to display the\n"
     ]
    },
    {
     "name": "stdout",
     "output_type": "stream",
     "text": [
      "              manual page.  By default, l\ble\bes\bss\bs -\b-s\bs is used.\n"
     ]
    },
    {
     "name": "stdout",
     "output_type": "stream",
     "text": [
      "\n"
     ]
    },
    {
     "name": "stdout",
     "output_type": "stream",
     "text": [
      "              The  value  may be a simple command name or a command with argu‐\n"
     ]
    },
    {
     "name": "stdout",
     "output_type": "stream",
     "text": [
      "              ments, and may use shell quoting (backslashes, single quotes, or\n"
     ]
    },
    {
     "name": "stdout",
     "output_type": "stream",
     "text": [
      "              double  quotes).   It may not use pipes to connect multiple com‐\n"
     ]
    },
    {
     "name": "stdout",
     "output_type": "stream",
     "text": [
      "              mands; if you need that, use a wrapper script,  which  may  take\n"
     ]
    },
    {
     "name": "stdout",
     "output_type": "stream",
     "text": [
      "              the file to display either as an argument or on standard input.\n"
     ]
    },
    {
     "name": "stdout",
     "output_type": "stream",
     "text": [
      "\n"
     ]
    },
    {
     "name": "stdout",
     "output_type": "stream",
     "text": [
      "       M\bMA\bAN\bNL\bLE\bES\bSS\bS\n"
     ]
    },
    {
     "name": "stdout",
     "output_type": "stream",
     "text": [
      "              If  $M\bMA\bAN\bNL\bLE\bES\bSS\bS  is set, m\bma\ban\bn will not perform any of its usual pro‐\n"
     ]
    },
    {
     "name": "stdout",
     "output_type": "stream",
     "text": [
      "              cessing to set up a prompt string for the l\ble\bes\bss\bs pager.   Instead,\n"
     ]
    },
    {
     "name": "stdout",
     "output_type": "stream",
     "text": [
      "              the  value  of $M\bMA\bAN\bNL\bLE\bES\bSS\bS will be copied verbatim into $L\bLE\bES\bSS\bS.  For\n"
     ]
    },
    {
     "name": "stdout",
     "output_type": "stream",
     "text": [
      "              example, if you want to set the prompt string unconditionally to\n"
     ]
    },
    {
     "name": "stdout",
     "output_type": "stream",
     "text": [
      "              “my prompt string”, set $M\bMA\bAN\bNL\bLE\bES\bSS\bS to ‘-\b-P\bPs\bsm\bmy\by p\bpr\bro\bom\bmp\bpt\bt s\bst\btr\bri\bin\bng\bg’.\n"
     ]
    },
    {
     "name": "stdout",
     "output_type": "stream",
     "text": [
      "\n"
     ]
    },
    {
     "name": "stdout",
     "output_type": "stream",
     "text": [
      "       B\bBR\bRO\bOW\bWS\bSE\bER\bR\n"
     ]
    },
    {
     "name": "stdout",
     "output_type": "stream",
     "text": [
      "              If  $B\bBR\bRO\bOW\bWS\bSE\bER\bR is set, its value is a colon-delimited list of com‐\n"
     ]
    },
    {
     "name": "stdout",
     "output_type": "stream",
     "text": [
      "              mands, each of which in turn is used  to  try  to  start  a  web\n"
     ]
    },
    {
     "name": "stdout",
     "output_type": "stream",
     "text": [
      "              browser  for  m\bma\ban\bn  -\b--\b-h\bht\btm\bml\bl.  In each command, _\b%_\bs is replaced by a\n"
     ]
    },
    {
     "name": "stdout",
     "output_type": "stream",
     "text": [
      "              filename containing the HTML output from g\bgr\bro\bof\bff\bf, _\b%_\b%  is  replaced\n"
     ]
    },
    {
     "name": "stdout",
     "output_type": "stream",
     "text": [
      "              by a single percent sign (%), and _\b%_\bc is replaced by a colon (:).\n"
     ]
    },
    {
     "name": "stdout",
     "output_type": "stream",
     "text": [
      "\n"
     ]
    },
    {
     "name": "stdout",
     "output_type": "stream",
     "text": [
      "       S\bSY\bYS\bST\bTE\bEM\bM If  $S\bSY\bYS\bST\bTE\bEM\bM  is  set,  it will have the same effect as if it had\n"
     ]
    },
    {
     "name": "stdout",
     "output_type": "stream",
     "text": [
      "              been specified as the argument to the -\b-m\bm option.\n"
     ]
    },
    {
     "name": "stdout",
     "output_type": "stream",
     "text": [
      "\n"
     ]
    },
    {
     "name": "stdout",
     "output_type": "stream",
     "text": [
      "       M\bMA\bAN\bNO\bOP\bPT\bT If $M\bMA\bAN\bNO\bOP\bPT\bT is set, it will be parsed prior to m\bma\ban\bn'\b's\bs command line\n"
     ]
    },
    {
     "name": "stdout",
     "output_type": "stream",
     "text": [
      "              and  is expected to be in a similar format.  As all of the other\n"
     ]
    },
    {
     "name": "stdout",
     "output_type": "stream",
     "text": [
      "              m\bma\ban\bn specific environment variables can be expressed  as  command\n"
     ]
    },
    {
     "name": "stdout",
     "output_type": "stream",
     "text": [
      "              line  options,  and  are  thus  candidates for being included in\n"
     ]
    },
    {
     "name": "stdout",
     "output_type": "stream",
     "text": [
      "              $M\bMA\bAN\bNO\bOP\bPT\bT it is expected that they will become obsolete.  N.B. All\n"
     ]
    },
    {
     "name": "stdout",
     "output_type": "stream",
     "text": [
      "              spaces  that  should be interpreted as part of an option's argu‐\n"
     ]
    },
    {
     "name": "stdout",
     "output_type": "stream",
     "text": [
      "              ment must be escaped.\n"
     ]
    },
    {
     "name": "stdout",
     "output_type": "stream",
     "text": [
      "\n"
     ]
    },
    {
     "name": "stdout",
     "output_type": "stream",
     "text": [
      "       M\bMA\bAN\bNW\bWI\bID\bDT\bTH\bH\n"
     ]
    },
    {
     "name": "stdout",
     "output_type": "stream",
     "text": [
      "              If $M\bMA\bAN\bNW\bWI\bID\bDT\bTH\bH is set, its value is used as the  line  length  for\n"
     ]
    },
    {
     "name": "stdout",
     "output_type": "stream",
     "text": [
      "              which  manual pages should be formatted.  If it is not set, man‐\n"
     ]
    },
    {
     "name": "stdout",
     "output_type": "stream",
     "text": [
      "              ual pages will be formatted with a line  length  appropriate  to\n"
     ]
    },
    {
     "name": "stdout",
     "output_type": "stream",
     "text": [
      "              the  current terminal (using an i\bio\boc\bct\btl\bl(2) if available, the value\n"
     ]
    },
    {
     "name": "stdout",
     "output_type": "stream",
     "text": [
      "              of $C\bCO\bOL\bLU\bUM\bMN\bNS\bS, or falling back to  80  characters  if  neither  is\n"
     ]
    },
    {
     "name": "stdout",
     "output_type": "stream",
     "text": [
      "              available).   Cat pages will only be saved when the default for‐\n"
     ]
    },
    {
     "name": "stdout",
     "output_type": "stream",
     "text": [
      "              matting can be used, that is when the terminal  line  length  is\n"
     ]
    },
    {
     "name": "stdout",
     "output_type": "stream",
     "text": [
      "              between 66 and 80 characters.\n"
     ]
    },
    {
     "name": "stdout",
     "output_type": "stream",
     "text": [
      "\n"
     ]
    },
    {
     "name": "stdout",
     "output_type": "stream",
     "text": [
      "       M\bMA\bAN\bN_\b_K\bKE\bEE\bEP\bP_\b_F\bFO\bOR\bRM\bMA\bAT\bTT\bTI\bIN\bNG\bG\n"
     ]
    },
    {
     "name": "stdout",
     "output_type": "stream",
     "text": [
      "              Normally,  when output is not being directed to a terminal (such\n"
     ]
    },
    {
     "name": "stdout",
     "output_type": "stream",
     "text": [
      "              as to a file or a pipe), formatting characters are discarded  to\n"
     ]
    },
    {
     "name": "stdout",
     "output_type": "stream",
     "text": [
      "              make  it  easier to read the result without special tools.  How‐\n"
     ]
    },
    {
     "name": "stdout",
     "output_type": "stream",
     "text": [
      "              ever, if $M\bMA\bAN\bN_\b_K\bKE\bEE\bEP\bP_\b_F\bFO\bOR\bRM\bMA\bAT\bTT\bTI\bIN\bNG\bG is set  to  any  non-empty  value,\n"
     ]
    },
    {
     "name": "stdout",
     "output_type": "stream",
     "text": [
      "              these  formatting  characters  are retained.  This may be useful\n"
     ]
    },
    {
     "name": "stdout",
     "output_type": "stream",
     "text": [
      "              for wrappers around m\bma\ban\bn that can  interpret  formatting  charac‐\n"
     ]
    },
    {
     "name": "stdout",
     "output_type": "stream",
     "text": [
      "              ters.\n"
     ]
    },
    {
     "name": "stdout",
     "output_type": "stream",
     "text": [
      "\n"
     ]
    },
    {
     "name": "stdout",
     "output_type": "stream",
     "text": [
      "       M\bMA\bAN\bN_\b_K\bKE\bEE\bEP\bP_\b_S\bST\bTD\bDE\bER\bRR\bR\n"
     ]
    },
    {
     "name": "stdout",
     "output_type": "stream",
     "text": [
      "              Normally,  when  output is being directed to a terminal (usually\n"
     ]
    },
    {
     "name": "stdout",
     "output_type": "stream",
     "text": [
      "              to a pager), any error output from the command used  to  produce\n"
     ]
    },
    {
     "name": "stdout",
     "output_type": "stream",
     "text": [
      "              formatted  versions of manual pages is discarded to avoid inter‐\n"
     ]
    },
    {
     "name": "stdout",
     "output_type": "stream",
     "text": [
      "              fering with the pager's display.  Programs such as  g\bgr\bro\bof\bff\bf  often\n"
     ]
    },
    {
     "name": "stdout",
     "output_type": "stream",
     "text": [
      "              produce  relatively  minor  error  messages  about typographical\n"
     ]
    },
    {
     "name": "stdout",
     "output_type": "stream",
     "text": [
      "              problems such as poor alignment, which are unsightly and  gener‐\n"
     ]
    },
    {
     "name": "stdout",
     "output_type": "stream",
     "text": [
      "              ally  confusing when displayed along with the manual page.  How‐\n"
     ]
    },
    {
     "name": "stdout",
     "output_type": "stream",
     "text": [
      "              ever,  some  users   want   to   see   them   anyway,   so,   if\n"
     ]
    },
    {
     "name": "stdout",
     "output_type": "stream",
     "text": [
      "              $M\bMA\bAN\bN_\b_K\bKE\bEE\bEP\bP_\b_S\bST\bTD\bDE\bER\bRR\bR  is  set  to  any non-empty value, error output\n"
     ]
    },
    {
     "name": "stdout",
     "output_type": "stream",
     "text": [
      "              will be displayed as usual.\n"
     ]
    },
    {
     "name": "stdout",
     "output_type": "stream",
     "text": [
      "\n"
     ]
    },
    {
     "name": "stdout",
     "output_type": "stream",
     "text": [
      "       L\bLA\bAN\bNG\bG, L\bLC\bC_\b_M\bME\bES\bSS\bSA\bAG\bGE\bES\bS\n"
     ]
    },
    {
     "name": "stdout",
     "output_type": "stream",
     "text": [
      "              Depending on system and implementation, either or both of  $L\bLA\bAN\bNG\bG\n"
     ]
    },
    {
     "name": "stdout",
     "output_type": "stream",
     "text": [
      "              and  $L\bLC\bC_\b_M\bME\bES\bSS\bSA\bAG\bGE\bES\bS  will  be interrogated for the current message\n"
     ]
    },
    {
     "name": "stdout",
     "output_type": "stream",
     "text": [
      "              locale.  m\bma\ban\bn will display its messages in that locale (if avail‐\n"
     ]
    },
    {
     "name": "stdout",
     "output_type": "stream",
     "text": [
      "              able).  See s\bse\bet\btl\blo\boc\bca\bal\ble\be(3) for precise details.\n"
     ]
    },
    {
     "name": "stdout",
     "output_type": "stream",
     "text": [
      "\n"
     ]
    },
    {
     "name": "stdout",
     "output_type": "stream",
     "text": [
      "F\bFI\bIL\bLE\bES\bS\n"
     ]
    },
    {
     "name": "stdout",
     "output_type": "stream",
     "text": [
      "       _\b/_\be_\bt_\bc_\b/_\bm_\ba_\bn_\b__\bd_\bb_\b._\bc_\bo_\bn_\bf\n"
     ]
    },
    {
     "name": "stdout",
     "output_type": "stream",
     "text": [
      "              man-db configuration file.\n"
     ]
    },
    {
     "name": "stdout",
     "output_type": "stream",
     "text": [
      "\n"
     ]
    },
    {
     "name": "stdout",
     "output_type": "stream",
     "text": [
      "       _\b/_\bu_\bs_\br_\b/_\bs_\bh_\ba_\br_\be_\b/_\bm_\ba_\bn\n"
     ]
    },
    {
     "name": "stdout",
     "output_type": "stream",
     "text": [
      "              A global manual page hierarchy.\n"
     ]
    },
    {
     "name": "stdout",
     "output_type": "stream",
     "text": [
      "\n"
     ]
    },
    {
     "name": "stdout",
     "output_type": "stream",
     "text": [
      "       _\b/_\bu_\bs_\br_\b/_\bs_\bh_\ba_\br_\be_\b/_\bm_\ba_\bn_\b/_\bi_\bn_\bd_\be_\bx_\b._\b(_\bb_\bt_\b|_\bd_\bb_\b|_\bd_\bi_\br_\b|_\bp_\ba_\bg_\b)\n"
     ]
    },
    {
     "name": "stdout",
     "output_type": "stream",
     "text": [
      "              A traditional global _\bi_\bn_\bd_\be_\bx database cache.\n"
     ]
    },
    {
     "name": "stdout",
     "output_type": "stream",
     "text": [
      "\n"
     ]
    },
    {
     "name": "stdout",
     "output_type": "stream",
     "text": [
      "       _\b/_\bv_\ba_\br_\b/_\bc_\ba_\bc_\bh_\be_\b/_\bm_\ba_\bn_\b/_\bi_\bn_\bd_\be_\bx_\b._\b(_\bb_\bt_\b|_\bd_\bb_\b|_\bd_\bi_\br_\b|_\bp_\ba_\bg_\b)\n"
     ]
    },
    {
     "name": "stdout",
     "output_type": "stream",
     "text": [
      "              An FHS compliant global _\bi_\bn_\bd_\be_\bx database cache.\n"
     ]
    },
    {
     "name": "stdout",
     "output_type": "stream",
     "text": [
      "\n"
     ]
    },
    {
     "name": "stdout",
     "output_type": "stream",
     "text": [
      "S\bSE\bEE\bE A\bAL\bLS\bSO\bO\n"
     ]
    },
    {
     "name": "stdout",
     "output_type": "stream",
     "text": [
      "       a\bap\bpr\bro\bop\bpo\bos\bs(1),   g\bgr\bro\bof\bff\bf(1),   l\ble\bes\bss\bs(1),   m\bma\ban\bnp\bpa\bat\bth\bh(1),   n\bnr\bro\bof\bff\bf(1),  t\btr\bro\bof\bff\bf(1),\n"
     ]
    },
    {
     "name": "stdout",
     "output_type": "stream",
     "text": [
      "       w\bwh\bha\bat\bti\bis\bs(1), z\bzs\bso\boe\bel\bli\bim\bm(1), s\bse\bet\btl\blo\boc\bca\bal\ble\be(3), m\bma\ban\bnp\bpa\bat\bth\bh(5),  a\bas\bsc\bci\bii\bi(7),  l\bla\bat\bti\bin\bn1\b1(7),\n"
     ]
    },
    {
     "name": "stdout",
     "output_type": "stream",
     "text": [
      "       m\bma\ban\bn(7), c\bca\bat\btm\bma\ban\bn(8), m\bma\ban\bnd\bdb\bb(8), the man-db package manual, F\bFS\bSS\bST\bTN\bND\bD\n"
     ]
    },
    {
     "name": "stdout",
     "output_type": "stream",
     "text": [
      "\n"
     ]
    },
    {
     "name": "stdout",
     "output_type": "stream",
     "text": [
      "H\bHI\bIS\bST\bTO\bOR\bRY\bY\n"
     ]
    },
    {
     "name": "stdout",
     "output_type": "stream",
     "text": [
      "       1990, 1991 - Originally written by John W. Eaton (jwe@che.utexas.edu).\n"
     ]
    },
    {
     "name": "stdout",
     "output_type": "stream",
     "text": [
      "\n"
     ]
    },
    {
     "name": "stdout",
     "output_type": "stream",
     "text": [
      "       Dec 23 1992: Rik Faith (faith@cs.unc.edu) applied bug fixes supplied by\n"
     ]
    },
    {
     "name": "stdout",
     "output_type": "stream",
     "text": [
      "       Willem Kasdorp (wkasdo@nikhefk.nikef.nl).\n"
     ]
    },
    {
     "name": "stdout",
     "output_type": "stream",
     "text": [
      "\n"
     ]
    },
    {
     "name": "stdout",
     "output_type": "stream",
     "text": [
      "       30th April 1994 - 23rd February 2000: Wilf. (G.Wilford@ee.surrey.ac.uk)\n"
     ]
    },
    {
     "name": "stdout",
     "output_type": "stream",
     "text": [
      "       has been developing and maintaining this package with the help of a few\n"
     ]
    },
    {
     "name": "stdout",
     "output_type": "stream",
     "text": [
      "       dedicated people.\n"
     ]
    },
    {
     "name": "stdout",
     "output_type": "stream",
     "text": [
      "\n"
     ]
    },
    {
     "name": "stdout",
     "output_type": "stream",
     "text": [
      "       30th  October  1996  -  30th  March  2001:   Fabrizio   Polacco   <fpo‐\n"
     ]
    },
    {
     "name": "stdout",
     "output_type": "stream",
     "text": [
      "       lacco@debian.org>  maintained  and enhanced this package for the Debian\n"
     ]
    },
    {
     "name": "stdout",
     "output_type": "stream",
     "text": [
      "       project, with the help of all the community.\n"
     ]
    },
    {
     "name": "stdout",
     "output_type": "stream",
     "text": [
      "\n"
     ]
    },
    {
     "name": "stdout",
     "output_type": "stream",
     "text": [
      "       31st March 2001 - present day: Colin  Watson  <cjwatson@debian.org>  is\n"
     ]
    },
    {
     "name": "stdout",
     "output_type": "stream",
     "text": [
      "       now developing and maintaining man-db.\n"
     ]
    },
    {
     "name": "stdout",
     "output_type": "stream",
     "text": [
      "\n"
     ]
    },
    {
     "name": "stdout",
     "output_type": "stream",
     "text": [
      "\n"
     ]
    },
    {
     "name": "stdout",
     "output_type": "stream",
     "text": [
      "\n"
     ]
    },
    {
     "name": "stdout",
     "output_type": "stream",
     "text": [
      "2.6.3                             2012-09-17                            MAN(1)\n"
     ]
    }
   ],
   "source": [
    "# obtenir de l'aide sur la commande man ...\n",
    "man man  "
   ]
  },
  {
   "cell_type": "markdown",
   "id": "8beb6a80-dc8d-4e67-97a7-921cd9b260fa",
   "metadata": {},
   "source": [
    "```{tip} \n",
    "*Raccourcis dans l'aide*:\n",
    "- `/color` : pour chercher le terme ‘color’.\n",
    "- `n` : (**n**ext) pour chercher la prochaine occurrence de 'truc'.\n",
    "- `p`: (**p**revious) pour chercher l'occurrence précédente de 'truc'.\n",
    "- `q` : pour **q**uitter l'aide.\n",
    "```\n",
    "\n",
    "## Zoom sur la commande ls\n",
    "### La commande ls et ses arguments\n",
    "\n",
    "La commande ls peut prendre un certain nombre d'arguments.\n",
    "\n",
    "Parmis les arguments principaux:\n",
    "- `-l` (**l**ong/lot) donne beaucoup d'informations sur les fichiers.\n",
    "- `-a` (**a**ll) montre tous les fichiers y compris ceux qui sont cachés*.\n",
    "- `-t` (**t**ime) trie par date de modification.\n",
    "- `-h` (**h**uman-readable) affiche les tailles des fichiers en unités lisibles\n",
    "- `-r` (**r**everse) inverse l'ordre du tri.\n",
    "\n",
    "On peut combiner les arguments : `ls -l --all`\n",
    "\n",
    "On peut fusionner les arguments (au format court) : `ls -la`\n",
    "\n",
    "**Sous Linux les noms des fichiers cachés commencent par un point (e.g '.bashrc').**\n",
    "\n",
    "### La commande ls et ses arguments\n"
   ]
  },
  {
   "cell_type": "code",
   "execution_count": 7,
   "id": "522cdded-ef16-48bd-a6d5-44166f2e9983",
   "metadata": {},
   "outputs": [],
   "source": [
    "# On se déplace dans le dossier\n",
    "cd /shared/bank/homo_sapiens/hg38/fasta   "
   ]
  },
  {
   "cell_type": "code",
   "execution_count": 8,
   "id": "073a8483-9bb3-4c3b-8467-969fdd1f183b",
   "metadata": {},
   "outputs": [
    {
     "name": "stdout",
     "output_type": "stream",
     "text": [
      "hg38.fa  hg38.fa.fai\n"
     ]
    }
   ],
   "source": [
    "# On liste les fichiers\n",
    "ls   "
   ]
  },
  {
   "cell_type": "code",
   "execution_count": 9,
   "id": "c5cac783-20eb-4dd0-9db5-68e5c4bda2ea",
   "metadata": {},
   "outputs": [
    {
     "name": "stdout",
     "output_type": "stream",
     "text": [
      "total 3196788\n"
     ]
    },
    {
     "name": "stdout",
     "output_type": "stream",
     "text": [
      "-rw-rw-r-- 1 glecorguille glecorguille 3273481150 16 janv.  2014 hg38.fa\n"
     ]
    },
    {
     "name": "stdout",
     "output_type": "stream",
     "text": [
      "-rw-rw-r-- 1 glecorguille glecorguille      19381 21 nov.   2016 hg38.fa.fai\n"
     ]
    }
   ],
   "source": [
    "# Information détaillée sur les fichiers (taille, date modif,...)\n",
    "ls -l "
   ]
  },
  {
   "cell_type": "code",
   "execution_count": 10,
   "id": "abe63358-85f1-45fa-9a9b-c8c95e8bff8b",
   "metadata": {},
   "outputs": [
    {
     "name": "stdout",
     "output_type": "stream",
     "text": [
      "total 3,1G\n"
     ]
    },
    {
     "name": "stdout",
     "output_type": "stream",
     "text": [
      "-rw-rw-r-- 1 glecorguille glecorguille 3,1G 16 janv.  2014 hg38.fa\n"
     ]
    },
    {
     "name": "stdout",
     "output_type": "stream",
     "text": [
      "-rw-rw-r-- 1 glecorguille glecorguille  19K 21 nov.   2016 hg38.fa.fai\n"
     ]
    }
   ],
   "source": [
    "# Vue détaillée des fichiers et tailles en Ko,Mo,Go,To... \n",
    "ls -lh"
   ]
  },
  {
   "cell_type": "code",
   "execution_count": 11,
   "id": "8d0692c7-a926-4357-891d-347d834b2dd3",
   "metadata": {},
   "outputs": [
    {
     "name": "stdout",
     "output_type": "stream",
     "text": [
      "total 3,1G\n"
     ]
    },
    {
     "name": "stdout",
     "output_type": "stream",
     "text": [
      "-rw-rw-r-- 1 glecorguille glecorguille  19K 21 nov.   2016 hg38.fa.fai\n"
     ]
    },
    {
     "name": "stdout",
     "output_type": "stream",
     "text": [
      "-rw-rw-r-- 1 glecorguille glecorguille 3,1G 16 janv.  2014 hg38.fa\n"
     ]
    }
   ],
   "source": [
    "# Vue détaillée des fichiers, tailles en Ko,Mo,Go,To…, tri par date\n",
    "ls -tlh"
   ]
  },
  {
   "cell_type": "code",
   "execution_count": 12,
   "id": "e8ccc0c9-4c19-4eff-9bec-54a67a9b9c0e",
   "metadata": {},
   "outputs": [
    {
     "name": "stdout",
     "output_type": "stream",
     "text": [
      "total 3,1G\n"
     ]
    },
    {
     "name": "stdout",
     "output_type": "stream",
     "text": [
      "-rw-rw-r-- 1 glecorguille glecorguille 3,1G 16 janv.  2014 hg38.fa\n"
     ]
    },
    {
     "name": "stdout",
     "output_type": "stream",
     "text": [
      "-rw-rw-r-- 1 glecorguille glecorguille  19K 21 nov.   2016 hg38.fa.fai\n"
     ]
    }
   ],
   "source": [
    "# Vue détaillée des fichiers, tailles en Ko,Mo,Go,To…, tri par date\n",
    "# du plus ancien au plus récent\n",
    "ls -rtlh"
   ]
  },
  {
   "cell_type": "markdown",
   "id": "91d860bf-2e10-44fe-98e6-37e8df22788b",
   "metadata": {},
   "source": [
    "```{note}\n",
    "- ATTENTION aux espaces, nécessaires entre la commande et ses arguments. La commande `ls-l` n'existe pas !\n",
    "- Le comportement par défaut de ls est de trier par ordre alphabétique en tenant compte de la casse (i.e majuscule minuscule).\n",
    "```"
   ]
  }
 ],
 "metadata": {
  "kernelspec": {
   "display_name": "Bash",
   "language": "bash",
   "name": "bash"
  },
  "language_info": {
   "codemirror_mode": "shell",
   "file_extension": ".sh",
   "mimetype": "text/x-sh",
   "name": "bash"
  }
 },
 "nbformat": 4,
 "nbformat_minor": 5
}