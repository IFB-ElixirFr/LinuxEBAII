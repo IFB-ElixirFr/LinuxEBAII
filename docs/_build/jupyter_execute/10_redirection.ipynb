{
 "cells": [
  {
   "cell_type": "markdown",
   "id": "a63f1e8a-07b8-4cd1-912f-f45f9f6c1dd9",
   "metadata": {},
   "source": [
    "# Redirections\n",
    "\n",
    "![](images/redirection.png)\n",
    "\n",
    "- Entrée standard (stdin): **un fichier** ou du texte (**un flux** de texte).\n",
    "- Sortie standard (stdout, “output 1”): renvoyée à l’écran par défaut **et transférée via le tube**.\n",
    "- Erreur standard (stderr, “output 2”): renvoyée à l’écran par défaut **et non transférée via le tube**.\n",
    "- Opérateurs de redirection\n",
    "    - `|` : le caractère “pipe” passe le flux de texte stdin à une autre commande\n",
    "    - `> file.txt` : stocke le flux stdout en créant (ou écrasant) le fichier file.txt\n",
    "    - `>> file.txt` : stocke le flux stdout en ajoutant des lignes dans le fichier file.txt\n",
    "    - `2> log.txt` : stocke le flux stderr dans un fichier nommé log.txt\n",
    "    - `1> file.txt 2> log.txt` : stocke stdout dans un fichier et stderr dans un autre\n",
    "\n",
    "```{note}\n",
    "Si vous souhaitez rediriger stdout et stderr dans le même fichier : `&> monFichier.txt`\n",
    "```\n",
    "\n",
    "## Un exemple\n",
    "\n",
    "Compter le nombre de fichiers d’extension “bed” présents dans le répertoire où vous êtes."
   ]
  },
  {
   "cell_type": "code",
   "execution_count": 1,
   "id": "5d618a3a-f359-4b23-82c5-9a400e71e3b5",
   "metadata": {},
   "outputs": [
    {
     "name": "stdout",
     "output_type": "stream",
     "text": [
      "1\n",
      "\u001b[?2004h"
     ]
    },
    {
     "name": "stdout",
     "output_type": "stream",
     "text": [
      "\u001b[?2004l\r",
      "1\n"
     ]
    },
    {
     "name": "stdout",
     "output_type": "stream",
     "text": [
      "\u001b[?2004h"
     ]
    },
    {
     "ename": "",
     "evalue": "1",
     "output_type": "error",
     "traceback": []
    }
   ],
   "source": [
    "cd /shared/projects/form_2022_32/coursLinux/demo/annotations/hg38/bed\n",
    "ls -l *.bed | wc -l"
   ]
  },
  {
   "cell_type": "markdown",
   "id": "3fb75f45-a674-4809-bb1f-60693200ac5f",
   "metadata": {},
   "source": [
    "### Exercices\n",
    "`````{tab-set}\n",
    "````{tab-item} Questions\n",
    "- **Hommage à Marseille**\n",
    "    - Utilisez les commandes **head** pour visualiser les 51 premières lignes du fichier hg38_exons.bed et renvoyer le résultat dans **less**\n",
    "- **Hommage au finistère**\n",
    "    - Utilisez les commandes **head** et **tail** pour récupérer la 29ème ligne du fichier hg38_exons.bed.\n",
    "````\n",
    "\n",
    "````{tab-item} Solutions\n",
    "```bash \n",
    "# On utilise head puis un tube qui renvoie vers less. \n",
    "# Tapez q pour quitter.\n",
    "head -n 51 hg38_exons.bed | less \n",
    "```\n",
    "\n",
    "```bash \n",
    "# On récupère les 29 premières lignes avec head,\n",
    "# puis on extrait de ce flux de texte la dernière ligne avec tail\n",
    "head -n 29 hg38_exons.bed | tail -n 1\n",
    "```\n",
    "````\n",
    "`````"
   ]
  },
  {
   "cell_type": "markdown",
   "id": "f74d8727-b004-4b2b-b113-02d6371ec3f7",
   "metadata": {},
   "source": [
    "## Demo: enchaînements de commandes"
   ]
  },
  {
   "cell_type": "code",
   "execution_count": 2,
   "id": "5bd37764-0585-461c-814b-1d77d5ee047a",
   "metadata": {},
   "outputs": [
    {
     "name": "stdout",
     "output_type": "stream",
     "text": [
      "chr1\n",
      "chr10\n",
      "chr11\n",
      "chr12\n",
      "chr13\n",
      "chr14\n",
      "chr15\n",
      "chr16\n",
      "chr17\n",
      "chr18\n",
      "chr19\n",
      "chr2\n",
      "chr20\n",
      "chr21\n",
      "chr22\n",
      "chr3\n",
      "chr4\n",
      "chr5\n",
      "chr6\n",
      "chr7\n",
      "chr8\n",
      "chr9\n",
      "chrX\n",
      "chrY\n"
     ]
    }
   ],
   "source": [
    "# Obtenir la liste non redondante de chromosomes présents dans le fichier\n",
    "cut -f 1 hg38_exons.bed | sort | uniq"
   ]
  },
  {
   "cell_type": "code",
   "execution_count": 3,
   "id": "0634ce51-91cc-402b-afe5-0a0e91d17a1f",
   "metadata": {},
   "outputs": [
    {
     "name": "stdout",
     "output_type": "stream",
     "text": [
      "24\n"
     ]
    }
   ],
   "source": [
    "# Nombre de chromosomes différents\n",
    "cut -f 1 hg38_exons.bed | sort | uniq | wc -l"
   ]
  },
  {
   "cell_type": "code",
   "execution_count": 4,
   "id": "a466b494-b4c1-4e16-aeab-f530b5ca7640",
   "metadata": {},
   "outputs": [
    {
     "name": "stdout",
     "output_type": "stream",
     "text": [
      " 117347 chr1\n",
      "  46414 chr10\n",
      "  75294 chr11\n",
      "  72970 chr12\n",
      "  20371 chr13\n",
      "  43618 chr14\n",
      "  47068 chr15\n",
      "  60375 chr16\n",
      "  77950 chr17\n",
      "  22378 chr18\n",
      "  73716 chr19\n",
      "  97092 chr2\n",
      "  28097 chr20\n",
      "  14332 chr21\n",
      "  27854 chr22\n",
      "  80596 chr3\n",
      "  49351 chr4\n",
      "  55719 chr5\n",
      "  56433 chr6\n",
      "  60961 chr7\n",
      "  45192 chr8\n",
      "  45468 chr9\n",
      "  39510 chrX\n",
      "   3764 chrY\n"
     ]
    }
   ],
   "source": [
    "# Obtenir la liste des chromosomes présents dans le fichier et \n",
    "# le nombre d'occurrence de chacun d'entre eux\n",
    "# ‘-c=count’\n",
    "cut -f 1 hg38_exons.bed | sort | uniq -c"
   ]
  },
  {
   "cell_type": "code",
   "execution_count": 5,
   "id": "b8d56440-173e-4920-8634-8d3bd5191fec",
   "metadata": {},
   "outputs": [
    {
     "name": "stdout",
     "output_type": "stream",
     "text": [
      " 117347 chr1\n",
      "  97092 chr2\n",
      "  80596 chr3\n",
      "  77950 chr17\n",
      "  75294 chr11\n",
      "  73716 chr19\n",
      "  72970 chr12\n",
      "  60961 chr7\n",
      "  60375 chr16\n",
      "  56433 chr6\n",
      "  55719 chr5\n",
      "  49351 chr4\n",
      "  47068 chr15\n",
      "  46414 chr10\n",
      "  45468 chr9\n",
      "  45192 chr8\n",
      "  43618 chr14\n",
      "  39510 chrX\n",
      "  28097 chr20\n",
      "  27854 chr22\n",
      "  22378 chr18\n",
      "  20371 chr13\n",
      "  14332 chr21\n",
      "   3764 chrY\n"
     ]
    }
   ],
   "source": [
    "# La liste des chromosomes présents dans le fichier et leur nombre trié\n",
    "# par ordre décroissant (-r: reverse, -n: numeric, -k: ‘kolonne’)\n",
    "cut -f 1 hg38_exons.bed | sort | uniq -c | sort -nr -k 1,1"
   ]
  },
  {
   "cell_type": "markdown",
   "id": "6cef784c-a24f-4c44-91a2-d957cdfae3f3",
   "metadata": {},
   "source": [
    "```{note}\n",
    "La commande uniq permet d'éliminer les doublons dans un flux de texte trié\n",
    "```\n",
    "\n",
    "### Exercice I \n",
    "\n",
    "- En quoi la commande `less` diffère-t-elle de la commande `more` ? (15 pts)\n",
    "- En utilisant la command `grep` indiquez : (5 pts)\n",
    "    - Combien y-a-t-il  **d'exons** sur le **chromosome 22** ?\n",
    "    - Combien de lignes correspondant aux exons présents sur le chromosome chr22 contiennent le terme lincRNA ?\n",
    "\n",
    "### Solution"
   ]
  },
  {
   "cell_type": "code",
   "execution_count": 6,
   "id": "b715a7c4-5b4e-41c3-9529-273552bc6f95",
   "metadata": {},
   "outputs": [
    {
     "name": "stdout",
     "output_type": "stream",
     "text": [
      "27854\n"
     ]
    }
   ],
   "source": [
    "grep \"chr22\" hg38_exons.bed | wc -l"
   ]
  },
  {
   "cell_type": "code",
   "execution_count": 7,
   "id": "de353c28-e7aa-45a8-8050-2f995ccc9049",
   "metadata": {},
   "outputs": [
    {
     "name": "stdout",
     "output_type": "stream",
     "text": [
      "846\n"
     ]
    }
   ],
   "source": [
    "grep \"chr22\" hg38_exons.bed | grep \"lincRNA\" | wc -l"
   ]
  },
  {
   "cell_type": "code",
   "execution_count": 8,
   "id": "dacf1b3d-de47-427f-9fed-5279b17aa850",
   "metadata": {},
   "outputs": [
    {
     "name": "stdout",
     "output_type": "stream",
     "text": [
      "27854\n"
     ]
    }
   ],
   "source": [
    "grep -c \"chr22\" hg38_exons.bed "
   ]
  },
  {
   "cell_type": "code",
   "execution_count": 9,
   "id": "ea54abb9-2ab0-4bb5-8a0d-d3e6c3a73d50",
   "metadata": {},
   "outputs": [
    {
     "name": "stdout",
     "output_type": "stream",
     "text": [
      "846\n"
     ]
    }
   ],
   "source": [
    "grep \"chr22\" hg38_exons.bed | grep -c \"lincRNA\""
   ]
  }
 ],
 "metadata": {
  "kernelspec": {
   "display_name": "Bash",
   "language": "bash",
   "name": "bash"
  },
  "language_info": {
   "codemirror_mode": "shell",
   "file_extension": ".sh",
   "mimetype": "text/x-sh",
   "name": "bash"
  }
 },
 "nbformat": 4,
 "nbformat_minor": 5
}