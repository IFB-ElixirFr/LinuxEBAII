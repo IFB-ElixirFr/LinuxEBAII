{
 "cells": [
  {
   "cell_type": "markdown",
   "id": "f786962c-1ae4-41f7-96d8-2121ee0f85d0",
   "metadata": {},
   "source": [
    "# Prototype(s) d'une commande\n",
    "\n",
    "- Une commande réalise une tâche (trier, sélectionner, ouvrir, aligner des reads,...).\n",
    "- Elle dispose d'un certain nombre d'arguments qui peuvent être facultatifs et qui peuvent modifier son mode de fonctionnement.\n",
    "    - Les noms des arguments ne sont pas standardisés\n",
    "- Ces arguments peuvent ou non prendre des valeurs.\n",
    "- De manière générale une instruction dans le terminal commence toujours par le nom d'une commande\n",
    "- Dans le premier exemple ci-dessous on dira 'moins v'."
   ]
  },
  {
   "cell_type": "code",
   "execution_count": null,
   "id": "93134784-c348-4789-a3eb-826104d76b57",
   "metadata": {},
   "outputs": [],
   "source": [
    "# Exemple d'argument sans valeur associée\n",
    "# v pouvant signifier verbose, version (ou autre suivant la commande).\n",
    "module load fastqc\n",
    "fastqc -v # quelle est la version du logiciel fastqc sur ce serveur ?"
   ]
  },
  {
   "cell_type": "code",
   "execution_count": null,
   "id": "",
   "metadata": {},
   "outputs": [],
   "source": [
    "# Exemple de commande avec une valeur choisie par l'utilisateur \n",
    "cd /shared/projects/form_2022_32" # Se déplacer dans l’arborescence des fichiers (cd : change directory)"
   ]
  },
  {
   "cell_type": "code",
   "execution_count": null,
   "id": "efd7f884-243a-467e-9bcd-330234fd346b",
   "metadata": {},
   "outputs": [],
   "source": [
    "# Exemple d'argument avec valeur associée \n",
    "tree -L 1 # Afficher sous forme d’arbre l’arborescence sur un niveau"
   ]
  },
  {
   "cell_type": "markdown",
   "id": "6ca92e41-7564-4e23-bbca-9530001bce05",
   "metadata": {},
   "source": [
    "- De manière générale, Ies arguments peuvent être utilisés sous leurs formes courtes ou sous leurs formes longues (plus explicites/lisibles mais plus longues à taper…).\n",
    "- Les formes longues sont généralement précédées de deux tirets (dans l'exemple ci dessous on dira 'moins-moins help) "
   ]
  },
  {
   "cell_type": "code",
   "execution_count": null,
   "id": "f2c51271-084a-4c6f-aec0-607b53eb98f6",
   "metadata": {},
   "outputs": [],
   "source": [
    "# Demander de l'aide (help) sur fastqc avec l'argument -h\n",
    "fastqc -h  "
   ]
  },
  {
   "cell_type": "code",
   "execution_count": null,
   "id": "74cefc0e-5f75-4ccc-935f-2c7a50b3337a",
   "metadata": {},
   "outputs": [],
   "source": [
    "# La commande précédente est équivalente mais un peu plus lisible\n",
    "fastqc --help"
   ]
  },
  {
   "cell_type": "markdown",
   "id": "832cb1e5-3a48-4177-8a62-c0630dac68af",
   "metadata": {},
   "source": [
    "## Trouver de l'aide !\n",
    "\n",
    "Appeler la police, appeler son collègue, chercher sur internet ou utiliser la commande **man** (**man**uel)"
   ]
  },
  {
   "cell_type": "code",
   "execution_count": null,
   "id": "c343fd57-c0de-4a6e-9f7b-989bc747bd2b",
   "metadata": {},
   "outputs": [],
   "source": [
    "# obtenir de l'aide sur la commande ls\n",
    "man ls  "
   ]
  },
  {
   "cell_type": "code",
   "execution_count": null,
   "id": "3aad58dd-1ec9-45ce-83cf-efd0b76d0517",
   "metadata": {},
   "outputs": [],
   "source": [
    "# obtenir de l'aide sur la commande man ...\n",
    "man man  "
   ]
  },
  {
   "cell_type": "markdown",
   "id": "8beb6a80-dc8d-4e67-97a7-921cd9b260fa",
   "metadata": {},
   "source": [
    "```{tip} \n",
    "*Raccourcis dans l'aide*:\n",
    "- `/color` : pour chercher le terme ‘color’.\n",
    "- `n` : (**n**ext) pour chercher la prochaine occurrence de 'truc'.\n",
    "- `p`: (**p**revious) pour chercher l'occurrence précédente de 'truc'.\n",
    "- `q` : pour **q**uitter l'aide.\n",
    "```\n",
    "\n",
    "## Zoom sur la commande ls\n",
    "### La commande ls et ses arguments\n",
    "\n",
    "La commande ls peut prendre un certain nombre d'arguments.\n",
    "\n",
    "Parmis les arguments principaux:\n",
    "- `-l` (**l**ong/lot) donne beaucoup d'informations sur les fichiers.\n",
    "- `-a` (**a**ll) montre tous les fichiers y compris ceux qui sont cachés*.\n",
    "- `-t` (**t**ime) trie par date de modification.\n",
    "- `-h` (**h**uman-readable) affiche les tailles des fichiers en unités lisibles\n",
    "- `-r` (**r**everse) inverse l'ordre du tri.\n",
    "\n",
    "On peut combiner les arguments : `ls -l --all`\n",
    "\n",
    "On peut fusionner les arguments (au format court) : `ls -la`\n",
    "\n",
    "**Sous Linux les noms des fichiers cachés commencent par un point (e.g '.bashrc').**\n",
    "\n",
    "### La commande ls et ses arguments\n"
   ]
  },
  {
   "cell_type": "code",
   "execution_count": null,
   "id": "522cdded-ef16-48bd-a6d5-44166f2e9983",
   "metadata": {},
   "outputs": [],
   "source": [
    "# On se déplace dans le dossier\n",
    "cd /shared/bank/homo_sapiens/hg38/fasta   "
   ]
  },
  {
   "cell_type": "code",
   "execution_count": null,
   "id": "073a8483-9bb3-4c3b-8467-969fdd1f183b",
   "metadata": {},
   "outputs": [],
   "source": [
    "# On liste les fichiers\n",
    "ls   "
   ]
  },
  {
   "cell_type": "code",
   "execution_count": null,
   "id": "c5cac783-20eb-4dd0-9db5-68e5c4bda2ea",
   "metadata": {},
   "outputs": [],
   "source": [
    "# Information détaillée sur les fichiers (taille, date modif,...)\n",
    "ls -l "
   ]
  },
  {
   "cell_type": "code",
   "execution_count": null,
   "id": "abe63358-85f1-45fa-9a9b-c8c95e8bff8b",
   "metadata": {},
   "outputs": [],
   "source": [
    "# Vue détaillée des fichiers et tailles en Ko,Mo,Go,To... \n",
    "ls -lh"
   ]
  },
  {
   "cell_type": "code",
   "execution_count": null,
   "id": "8d0692c7-a926-4357-891d-347d834b2dd3",
   "metadata": {},
   "outputs": [],
   "source": [
    "# Vue détaillée des fichiers, tailles en Ko,Mo,Go,To…, tri par date\n",
    "ls -tlh"
   ]
  },
  {
   "cell_type": "code",
   "execution_count": null,
   "id": "e8ccc0c9-4c19-4eff-9bec-54a67a9b9c0e",
   "metadata": {},
   "outputs": [],
   "source": [
    "# Vue détaillée des fichiers, tailles en Ko,Mo,Go,To…, tri par date\n",
    "# du plus ancien au plus récent\n",
    "ls -rtlh"
   ]
  },
  {
   "cell_type": "markdown",
   "id": "91d860bf-2e10-44fe-98e6-37e8df22788b",
   "metadata": {},
   "source": [
    "```{note}\n",
    "- ATTENTION aux espaces, nécessaires entre la commande et ses arguments. La commande `ls-l` n'existe pas !\n",
    "- Le comportement par défaut de ls est de trier par ordre alphabétique en tenant compte de la casse (ie. majuscule minuscule).\n",
    "```"
   ]
  }
 ],
 "metadata": {
  "kernelspec": {
   "display_name": "Bash",
   "language": "bash",
   "name": "bash"
  },
  "language_info": {
   "codemirror_mode": "shell",
   "file_extension": ".sh",
   "mimetype": "text/x-sh",
   "name": "bash"
  }
 },
 "nbformat": 4,
 "nbformat_minor": 5
}
