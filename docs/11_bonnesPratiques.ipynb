{
 "cells": [
  {
   "cell_type": "markdown",
   "id": "853df181-6861-42d7-9e8b-104519cf838a",
   "metadata": {},
   "source": [
    "# Quelques bonnes pratiques...\n",
    "\n",
    "## Évitez les espaces !\n",
    "\n",
    "Vous remarquerez que les fichiers et dossiers sous Linux ne contiennent généralement pas d'espaces. Il sont remplacés par un tiret bas : `_`\n",
    "\n",
    "Bien qu'il soit possible d'utiliser des espaces dans les noms de fichiers/dossiers, cette pratique risque de d'engendrer des erreurs !\n",
    "\n",
    "Voyons ça d'un peu plus près...\n",
    "\n",
    "Vous connaissez la syntaxe générique des commandes linux:"
   ]
  },
  {
   "cell_type": "code",
   "execution_count": null,
   "id": "45838249",
   "metadata": {
    "vscode": {
     "languageId": "shellscript"
    }
   },
   "outputs": [],
   "source": [
    "command [options] argument1 argument2"
   ]
  },
  {
   "cell_type": "markdown",
   "id": "321d72fb",
   "metadata": {},
   "source": [
    "Ici, les arguments sont séparés par des espaces. Si vous essayez d'utiliser directement des noms de fichiers avec des espaces, ils seront traités comme des arguments distincts plutôt que comme un seul argument.\n",
    "\n",
    "Exemple - on veut écrire le texte \"bonjour EBAII 2023\" dans le fichier : `bonjour ebaii.txt`"
   ]
  },
  {
   "cell_type": "code",
   "execution_count": null,
   "id": "2a0d8b62",
   "metadata": {
    "vscode": {
     "languageId": "shellscript"
    }
   },
   "outputs": [],
   "source": [
    "echo bonjour EBAII 2023 > bonjour ebaii.txt\n",
    "cat bonjour ebaii.txt"
   ]
  },
  {
   "cell_type": "markdown",
   "id": "5e4fd5df",
   "metadata": {},
   "source": [
    "on obtient une erreur ! Linux ne comprend pas que `bonjour ebaii.txt` est un seul argument. Il traite `bonjour` et `ebaii.txt` séparément.\n",
    "\n",
    "Quand on regarde le contenu du fichier `bonjour` qui a été créé, on comprend comment notre commande a été traitée par le système.\n",
    "\n",
    "```bash\n",
    "$ cat bonjour\n",
    "bonjour EBAII 2023 ebaii.txt\n",
    "```"
   ]
  },
  {
   "cell_type": "markdown",
   "id": "de5d1201",
   "metadata": {},
   "source": [
    "Alors, comment gérer les espaces dans les noms de fichiers/dossiers ? Vous avez 2 possibilités:\n",
    "\n",
    "1. Enveloppez le nom complet du fichier entre guillemets : `\"bonjour ebaii.txt\"`\n",
    "\n",
    "2. Échapper chaque espace à l'aide du caractère barre oblique inverse : `bonjour\\ ebaii.txt`"
   ]
  },
  {
   "cell_type": "code",
   "execution_count": null,
   "id": "aea6fd24",
   "metadata": {
    "vscode": {
     "languageId": "shellscript"
    }
   },
   "outputs": [],
   "source": [
    "echo bonjour EBAII 2023 > \"bonjour ebaii.txt\"\n",
    "cat \"bonjour ebaii.txt\""
   ]
  },
  {
   "cell_type": "code",
   "execution_count": null,
   "id": "431dcbf2",
   "metadata": {
    "vscode": {
     "languageId": "shellscript"
    }
   },
   "outputs": [],
   "source": [
    "echo bonjour EBAII 2023 > bonjour\\ ebaii.txt\n",
    "cat bonjour\\ ebaii.txt"
   ]
  },
  {
   "cell_type": "markdown",
   "id": "79c5b385",
   "metadata": {},
   "source": [
    "C'est utile, mais pas très lisible : Exemple pour un chemin `/home/user/mon\\ dossier\\ de\\ projet/experience\\ jour \\ 1/fichier\\ resultats.csv`\n",
    "\n",
    "**CONCLUSION** : Pour vous éviter de gros soucis et aussi ne pas froisser les bioinformaticiens les plus suceptibles, il faut éviter d'utiliser les espaces dans vos noms de fichiers/dossier et de les remplacer par le tiret bas: `_`"
   ]
  },
  {
   "cell_type": "markdown",
   "id": "7c5eea73-180c-4e23-9577-b03e2e9cb4b3",
   "metadata": {},
   "source": [
    "## Attention aux fichiers provenant de Windows/MacOS\n",
    "\n",
    "Bien que Linux soit un sytème complet, performant, permettant de réaliser tous les traitements de fichiers, vous aurez surement besoin d'importer un fichier (référence, fichier texte, script) provenant de Windows ou MacOS.\n",
    "\n",
    "Cet acte aussi anodin qu'on pourrait le croire peut vous conduire à une succession d'erreurs difficiles à identifier, mais finalement tellement simples à résoudre en amont.\n",
    "\n",
    "Imaginons que vous souhaitiez écrire un nouveau script bash pour tester vos nouvelles compétences. Un simple script de quelques lignes...\n",
    "\n",
    "Mais en voyant le travail collosale pour maitriser un éditeur de texte sous Linux (pourtant c'est super simple !! si si !!), vous vous dites qu'après tout je vais éditer mon script dans mon traitement de texte favoris, puis je l'enregistrerai au format texte pour le télécharger ensuite dans le dossier `home` du cluster de calcul.\n",
    "\n",
    "Chargeons le script suivant, donnons lui les droits d'éxécution avec la commande `chmod +x` et affichons le contenu du script:"
   ]
  },
  {
   "cell_type": "code",
   "execution_count": null,
   "id": "1e172bce",
   "metadata": {
    "vscode": {
     "languageId": "shellscript"
    }
   },
   "outputs": [],
   "source": [
    "wget https://raw.githubusercontent.com/IFB-ElixirFr/LinuxEBAII/EBAII23/docs/data/my_script_windows.sh\n",
    "chmod +x my_script_windows.sh\n",
    "cat my_script_windows.sh"
   ]
  },
  {
   "cell_type": "markdown",
   "id": "9cdcd194",
   "metadata": {},
   "source": [
    "La commande cat affiche les lignes suivantes essayons de comprendre rapidement ce que fait notre script :\n",
    "\n",
    "```bash\n",
    "#!/bin/bash\n",
    "#Ecrit hostname dans une variable\n",
    "host_name=$(hostname)\n",
    "#Affiche hostname avec la commande echo\n",
    "echo \"hostname: $host_name\"\n",
    "```\n",
    "\n",
    "Jusqu'ici tout va bien... On va executer notre script:"
   ]
  },
  {
   "cell_type": "code",
   "execution_count": null,
   "id": "dd6bd2e3",
   "metadata": {
    "vscode": {
     "languageId": "shellscript"
    }
   },
   "outputs": [],
   "source": [
    "./my_script_windows.sh"
   ]
  },
  {
   "cell_type": "markdown",
   "id": "11c027aa",
   "metadata": {},
   "source": [
    "Le shell vous retourne une erreur : `\"/bin/bash^M : mauvais interpréteur: Aucun fichier ou dossier de ce type\"` ?????\n",
    "\n",
    "Pourtant le script semble bien écrit ? Alors il faut aller chercher plus loin..."
   ]
  },
  {
   "cell_type": "markdown",
   "id": "f2482340",
   "metadata": {},
   "source": [
    "Dans un fichier texte, plusieurs conventions incompatibles existent pour représenter la fin de ligne ou la fin de paragraphe. Les trois conventions principales trouvent leur origine dans des systèmes d’exploitation concurrents:\n",
    "\n",
    "1. Dans la convention « Unix » (Linux), la fin de ligne est indiquée par le caractère saut de ligne (LF - Line Feed, code 10 de la table ASCII).\n",
    "2. Dans la convention « Mac », la fin de ligne est indiquée par le caractère retour chariot (CR - Carriage Return , code 13 de la table ASCII).\n",
    "3. Dans la convention « DOS » (Windows), la fin de ligne est indiquée par la combinaison des deux caractères CR puis LF.\n",
    "\n",
    "On va regarder le fichier un peu plus en détail avec la commande:"
   ]
  },
  {
   "cell_type": "code",
   "execution_count": null,
   "id": "bd2dc384",
   "metadata": {
    "vscode": {
     "languageId": "shellscript"
    }
   },
   "outputs": [],
   "source": [
    "cat -A my_script_windows.sh"
   ]
  },
  {
   "cell_type": "markdown",
   "id": "9e566dca",
   "metadata": {},
   "source": [
    "Les lignes suivantes s'affichent :\n",
    "\n",
    "```bash\n",
    "#!/bin/bash^M$\n",
    "#Ecrit hostname dans une variable^M$\n",
    "host_name=$(hostname)^M$\n",
    "#Affiche hostname avec la commande echo^M$\n",
    "echo \"hostname: $host_name\"^M$\n",
    "```\n",
    "\n",
    "Les caractères `^M` en fin de ligne apparaissent lorsque vous créez un fichier texte sur Windows et que vous transférez le fichier sur Linux par exemple avec SCP ou FTP. Ils correspondent au retour chariot de fichier sur DOS.\n",
    "\n",
    "En effet, comme vu plus haut, le retour chariot est différent dans le monde Linux et le monde Windows.\n",
    "\n",
    "On va utiliser la commande `File` afin d'obtenir des informations sur le type de fichier. C’est une commande utile lorsque l’on tombe sur un fichier inconnu ou que l’on a des doutes quant au type de fichier.:"
   ]
  },
  {
   "cell_type": "code",
   "execution_count": null,
   "id": "d0ab07e8",
   "metadata": {
    "vscode": {
     "languageId": "shellscript"
    }
   },
   "outputs": [],
   "source": [
    "file my_script_windows.sh"
   ]
  },
  {
   "cell_type": "markdown",
   "id": "6954da16",
   "metadata": {},
   "source": [
    "```bash\n",
    "my_script_windows.sh: Bourne-Again shell script, ASCII text executable, with CRLF line terminators\n",
    "```\n",
    "\n",
    "Et oui le fichier n'est pas au bon format : `with CRLF line terminators` ==> il s'agit d'un fichier de type \"DOS\" probablement édité dans Windows\n",
    "\n",
    "Pour éviter tout problème futur, on va convertir notre fichier au bon format avec la commande `dos2unix - DOS/MAC to UNIX text file format converter`"
   ]
  },
  {
   "cell_type": "code",
   "execution_count": null,
   "id": "604ca262",
   "metadata": {
    "vscode": {
     "languageId": "shellscript"
    }
   },
   "outputs": [],
   "source": [
    "dos2unix my_script_windows.sh\n",
    "file my_script_windows.sh"
   ]
  },
  {
   "cell_type": "markdown",
   "id": "b8d2a0d2",
   "metadata": {},
   "source": [
    "```bash\n",
    "my_script_windows.sh: Bourne-Again shell script, ASCII text executable\n",
    "```\n",
    "\n",
    "Cette fois on a bien un fichier au format texte, compatible Linux"
   ]
  },
  {
   "cell_type": "code",
   "execution_count": null,
   "id": "512b6c3c",
   "metadata": {
    "vscode": {
     "languageId": "shellscript"
    }
   },
   "outputs": [],
   "source": [
    "cat -A my_script_windows.sh\n",
    "./my_script_windows.sh"
   ]
  },
  {
   "cell_type": "markdown",
   "id": "b9295eca",
   "metadata": {},
   "source": [
    "**CONCLUSION** : ici nous avons vu l'exemple d'un script, mais ce pourrait être un fichier fasta, un fichier d'annotation, etc... La règle à appliquer est la suivante : dès que vous importez un fichier qui a été créé ou modifié dans un autre système d'exploitation (Windows, MacOS), vérifier bien le type de fichier avec la commande `File`.\n",
    "\n",
    "Si besoin, utilisez la commande `dos2unix` pour le convertir et ainsi éviter de potentiels erreurs difficiles à identifier !"
   ]
  }
 ],
 "metadata": {
  "kernelspec": {
   "display_name": "Bash",
   "language": "bash",
   "name": "bash"
  },
  "language_info": {
   "codemirror_mode": "shell",
   "file_extension": ".sh",
   "mimetype": "text/x-sh",
   "name": "bash"
  }
 },
 "nbformat": 4,
 "nbformat_minor": 5
}
