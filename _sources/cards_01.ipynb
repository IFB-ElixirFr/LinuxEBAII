{
 "cells": [
  {
   "cell_type": "markdown",
   "id": "3c983742-6ae9-4b23-8ed4-09c10d83cb7a",
   "metadata": {},
   "source": [
    "# Fiches de révision"
   ]
  },
  {
   "cell_type": "code",
   "execution_count": null,
   "id": "5c488e20-6415-4878-9af5-a4d9e4ba8b1c",
   "metadata": {
    "tags": [
     "remove-input"
    ]
   },
   "outputs": [],
   "source": [
    "from jupytercards import md2json, display_flashcards"
   ]
  },
  {
   "cell_type": "code",
   "execution_count": null,
   "id": "2d493f84-34b2-4a0b-a4ae-24a72195edc8",
   "metadata": {
    "tags": [
     "remove-input"
    ]
   },
   "outputs": [],
   "source": [
    "cards='''\n",
    "\n",
    "## ls\n",
    "Que fait la commande `ls` ? \n",
    "\n",
    "---\n",
    "List information about the FILEs (the current directory by default). \n",
    "'''\n",
    "myjson=md2json(cards , \"cards.json\")\n",
    "display_flashcards(myjson)\n",
    "\n",
    "\n",
    "cards2='''\n",
    "\n",
    "## cd\n",
    "Que fait la commande `pwd` ? \n",
    "\n",
    "---\n",
    "Print the full filename of the current working directory.\n",
    "'''\n",
    "myjson2=md2json(cards2 , \"cards2.json\")\n",
    "display_flashcards(myjson2)"
   ]
  }
 ],
 "metadata": {
  "kernelspec": {
   "display_name": "Python 3.7",
   "language": "python",
   "name": "python3"
  },
  "language_info": {
   "codemirror_mode": {
    "name": "ipython",
    "version": 3
   },
   "file_extension": ".py",
   "mimetype": "text/x-python",
   "name": "python",
   "nbconvert_exporter": "python",
   "pygments_lexer": "ipython3",
   "version": "3.7.12"
  }
 },
 "nbformat": 4,
 "nbformat_minor": 5
}
