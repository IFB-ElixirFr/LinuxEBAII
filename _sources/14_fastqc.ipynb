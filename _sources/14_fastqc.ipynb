{
 "cells": [
  {
   "cell_type": "markdown",
   "id": "114e0ffb-261c-4bf8-824d-f8c716ab8249",
   "metadata": {},
   "source": [
    "# Analyser la qualité avec fastQC\n",
    "Fast Quality Control (FastQC)\n",
    "\n",
    "Propose un certain nombre de diagrammes pour évaluer la qualité du séquençage.\n",
    "\n",
    "`fastqc [-o output dir] [--(no)extract] [-f fastq|bam|sam] fq1 fq2 ...`"
   ]
  },
  {
   "cell_type": "code",
   "execution_count": 4,
   "id": "fcbdb25b-9eb6-4f27-9dfe-181d63dc8de8",
   "metadata": {},
   "outputs": [],
   "source": [
    "# On remonte d’un niveau dans l’arborescence\n",
    "cd /shared/projects/form_2022_32/coursLinux/chip-seq/                                   "
   ]
  },
  {
   "cell_type": "code",
   "execution_count": 5,
   "id": "c04cf63f-f525-4c4e-b651-311a944cb739",
   "metadata": {},
   "outputs": [],
   "source": [
    "# On créé un répertoire\n",
    "mkdir qc"
   ]
  },
  {
   "cell_type": "code",
   "execution_count": 8,
   "id": "f62d1d24-4960-4fc7-830a-a78d6b28817e",
   "metadata": {},
   "outputs": [
    {
     "name": "stdout",
     "output_type": "stream",
     "text": [
      "total 16\n",
      "drwxrwx---+ 2 tdenecker tdenecker 4096 Nov 10 17:27 bam\n",
      "drwxrwx---+ 3 tdenecker tdenecker 4096 Nov 10 17:53 fastq\n",
      "drwxrwx---+ 2 tdenecker tdenecker 4096 Nov 10 17:52 qc\n",
      "-rw-rw----+ 1 tdenecker tdenecker   86 Nov 10 17:53 siNT_ER_E2_r3_chr21_fastqc.log\n"
     ]
    }
   ],
   "source": [
    "# 2 instructions sur la même ligne séparées par ‘;’\n",
    "ls -l ; cd qc"
   ]
  },
  {
   "cell_type": "code",
   "execution_count": 6,
   "id": "7ef4706a-dc99-452b-a598-119cfea9af6d",
   "metadata": {},
   "outputs": [],
   "source": [
    "# Charge l'outil fastqc dans l’environnement  \n",
    "module load fastqc/0.11.8 "
   ]
  },
  {
   "cell_type": "code",
   "execution_count": null,
   "id": "e936c9d7-611e-4cef-819b-e6b30e1a565d",
   "metadata": {},
   "outputs": [],
   "source": [
    "# Obtenir de l’aide \n",
    "fastqc -h "
   ]
  },
  {
   "cell_type": "code",
   "execution_count": 9,
   "id": "ceca01be-4100-4b9f-97d1-6699064ad885",
   "metadata": {},
   "outputs": [
    {
     "name": "stdout",
     "output_type": "stream",
     "text": [
      "Analysis complete for siNT_ER_E2_r3_chr21.fastq\n"
     ]
    }
   ],
   "source": [
    "# Lancer fastqc \n",
    "fastqc -f fastq -o ./ ../fastq/siNT_ER_E2_r3_chr21.fastq 2> siNT_ER_E2_r3_chr21_fastqc.log"
   ]
  },
  {
   "cell_type": "markdown",
   "id": "78b257f0-8100-43c8-88a5-1ea7d0bb056f",
   "metadata": {},
   "source": [
    "```bash\n",
    "less siNT_ER_E2_r3_chr21_fastqc.log  \n",
    "```"
   ]
  },
  {
   "cell_type": "code",
   "execution_count": null,
   "id": "479b166a-606d-44fd-a0e4-f49894796c0d",
   "metadata": {},
   "outputs": [],
   "source": [
    "# Que voyez vous ?\n",
    "ls "
   ]
  },
  {
   "cell_type": "markdown",
   "id": "7bf7dcba-7115-4beb-b06e-72190bb877b0",
   "metadata": {},
   "source": [
    "## Jupyter Lab : accès au fichier html\n",
    "\n",
    "Côté gauche, avec l’onglet \"répertoire\" se placer à la racine du cluster\n",
    "\n",
    "Sélectionner les répertoires jusqu’au répertoire de travail `/shared/projects/<project>/chip-seq/qc` (adapter `<projet>`)  \n",
    "\n",
    "Cliquer sur le fichier html pour l’ouvrir dans un nouvel onglet\n",
    "\n",
    "![](images/ebaii_acces_html.png)\n",
    "\n",
    "## Télécharger les résultats avec Cyberduck (OSX)\n",
    "\n",
    "![](images/ebaii_cyberduck1.png)\n",
    "\n",
    "![](images/ebaii_cyberduck2.png)\n",
    "\n",
    "![](images/ebaii_cyberduck3.png)\n",
    "\n",
    "![](images/ebaii_cyberduck4.png)\n",
    "\n",
    "![](images/ebaii_cyberduck5.png)\n",
    "\n",
    "## Résultats de FastQC\n",
    "\n",
    "Exploration des résultats de fastqc en interactif.\n",
    "- A quoi correspond le diagramme “Per base sequence quality”.\n",
    "- A quoi correspond le diagramme “Per sequence quality score” ?\n",
    "- A quoi correspond le diagramme “Per base sequence content” ?\n",
    "- A quoi correspond le diagramme “Per sequence GC content” ?\n",
    "- A quoi correspond le diagramme “Per sequence N content” ?\n",
    "- A quoi correspond le diagramme “Sequence length distribution” ?\n",
    "- A quoi correspond le diagramme “Sequence duplication level” ?\n",
    "- A quoi correspond le diagramme “Kmer content” ?\n",
    "\n",
    "![](images/ebaii_fastqc_tricolore.png)\n",
    "\n",
    "## Basic Statistics\n",
    "\n",
    "\n",
    "`````{admonition} This admonition was styled...\n",
    ":class: tip\n",
    "With a tip class!\n",
    "`````\n",
    "\n",
    "\n",
    "Basic Statistics never raises a warning.\n",
    "Basic Statistics never raises an error.\n",
    "\n",
    "\n",
    "::::{grid}\n",
    ":gutter: 2\n",
    "\n",
    ":::{grid-item}\n",
    ":outline:\n",
    "![](images/ebaii_fastqc_stat.png)\n",
    ":::\n",
    ":::{grid-item}\n",
    ":outline:\n",
    "The Basic Statistics module generates some simple composition statistics for the file analysed.  \n",
    "- Filename\n",
    "- File type\n",
    "- Encoding: Says which ASCII encoding of quality values was found in this file.  \n",
    "- Total Sequences: A count of the total number of sequences processed. \n",
    "- Filtered Sequences: \n",
    "- Sequence Length\n",
    "- %GC\n",
    "\n",
    "`````{admonition} Warning\n",
    ":class: caution\n",
    "Basic Statistics never raises a warning.\n",
    "`````\n",
    "\n",
    "`````{admonition} Error\n",
    ":class: danger\n",
    "Basic Statistics never raises an error.\n",
    "`````\n",
    ":::\n",
    "::::"
   ]
  },
  {
   "cell_type": "code",
   "execution_count": null,
   "id": "e677f3ec-1eee-48ff-82c3-9ff5dff3a8f4",
   "metadata": {},
   "outputs": [],
   "source": []
  }
 ],
 "metadata": {
  "kernelspec": {
   "display_name": "Bash",
   "language": "bash",
   "name": "bash"
  },
  "language_info": {
   "codemirror_mode": "shell",
   "file_extension": ".sh",
   "mimetype": "text/x-sh",
   "name": "bash"
  }
 },
 "nbformat": 4,
 "nbformat_minor": 5
}
