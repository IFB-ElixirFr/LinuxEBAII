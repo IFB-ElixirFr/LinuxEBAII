{
 "cells": [
  {
   "cell_type": "markdown",
   "id": "b2a7d8ce-5f40-420a-a82e-df4870adfa1b",
   "metadata": {},
   "source": [
    "# Quizz 2"
   ]
  },
  {
   "cell_type": "code",
   "execution_count": 2,
   "id": "f15a99fe-4bd9-4db1-a56f-fcad81134ff1",
   "metadata": {
    "tags": [
     "remove-input"
    ]
   },
   "outputs": [
    {
     "ename": "ModuleNotFoundError",
     "evalue": "No module named 'jupyterquiz'",
     "output_type": "error",
     "traceback": [
      "\u001b[0;31m---------------------------------------------------------------------------\u001b[0m",
      "\u001b[0;31mModuleNotFoundError\u001b[0m                       Traceback (most recent call last)",
      "Cell \u001b[0;32mIn [2], line 1\u001b[0m\n\u001b[0;32m----> 1\u001b[0m \u001b[38;5;28;01mfrom\u001b[39;00m \u001b[38;5;21;01mjupyterquiz\u001b[39;00m \u001b[38;5;28;01mimport\u001b[39;00m display_quiz\n\u001b[1;32m      2\u001b[0m display_quiz(example)\n",
      "\u001b[0;31mModuleNotFoundError\u001b[0m: No module named 'jupyterquiz'"
     ]
    }
   ],
   "source": [
    "from jupyterquiz import display_quiz\n",
    "\n",
    "q1=[{\n",
    "        \"question\": \"Comment de module différents sont disponibles sur le cluster de l'IFB ?\",\n",
    "        \"type\": \"numeric\",\n",
    "        \"answers\": [\n",
    "            {\n",
    "                \"type\": \"value\",\n",
    "                \"value\": 740, \n",
    "                \"correct\": True,\n",
    "                \"feedback\": \"Bravo !\"\n",
    "            },\n",
    "            {\n",
    "                \"type\": \"range\",\n",
    "                \"range\": [ 650, 750], \n",
    "                \"correct\": False,\n",
    "                \"feedback\": \"Pas assez précis ;) Peut $etre avec la commande : module avail -l | wc -l\"\n",
    "            },\n",
    "            {\n",
    "                \"type\": \"default\",\n",
    "                \"feedback\": \"Try :  module avail -l | wc -l\"\n",
    "            }\n",
    "        ]\n",
    "    }]\n",
    "\n",
    "display_quiz(q1)"
   ]
  }
 ],
 "metadata": {
  "kernelspec": {
   "display_name": "Python 3.7",
   "language": "python",
   "name": "python3"
  },
  "language_info": {
   "codemirror_mode": {
    "name": "ipython",
    "version": 3
   },
   "file_extension": ".py",
   "mimetype": "text/x-python",
   "name": "python",
   "nbconvert_exporter": "python",
   "pygments_lexer": "ipython3",
   "version": "3.7.12"
  }
 },
 "nbformat": 4,
 "nbformat_minor": 5
}
