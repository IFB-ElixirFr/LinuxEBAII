{
 "cells": [
  {
   "cell_type": "markdown",
   "id": "f786962c-1ae4-41f7-96d8-2121ee0f85d0",
   "metadata": {},
   "source": [
    "---\n",
    "jupytext:\n",
    "  formats: md:myst\n",
    "  text_representation:\n",
    "    extension: .md\n",
    "    format_name: myst\n",
    "kernelspec:\n",
    "  display_name: bash\n",
    "  language: bash\n",
    "  name: bash\n",
    "---\n",
    "\n",
    "# Prototype(s) d'une commande\n",
    "\n",
    "- Une commande réalise une tâche (trier, sélectionner, ouvrir, aligner des reads,...).\n",
    "- Elle dispose d'un certain nombre d'arguments qui peuvent être facultatifs et qui peuvent modifier son mode de fonctionnement.\n",
    "    - Les noms des arguments ne sont pas standardisés\n",
    "- Ces arguments peuvent ou non prendre des valeurs.\n",
    "- De manière générale une instruction dans le terminal commence toujours par le nom d'une commande\n",
    "- Dans le premier exemple ci-dessous on dira 'moins v'."
   ]
  },
  {
   "cell_type": "code",
   "execution_count": null,
   "id": "93134784-c348-4789-a3eb-826104d76b57",
   "metadata": {},
   "outputs": [],
   "source": [
    "# Exemple d'argument sans valeur associée\n",
    "# v pouvant signifier verbose, version (ou autre suivant la commande).\n",
    "module load fastqc\n",
    "fastqc -v # quelle est la version du logiciel fastqc sur ce serveur ?"
   ]
  },
  {
   "cell_type": "code",
   "execution_count": null,
   "id": "efd7f884-243a-467e-9bcd-330234fd346b",
   "metadata": {},
   "outputs": [],
   "source": [
    "# Exemple d'argument avec valeur associée \n",
    "tree -L 2 # Afficher sous forme d’arbre l’arborescence sur deux niveaux"
   ]
  },
  {
   "cell_type": "markdown",
   "id": "6ca92e41-7564-4e23-bbca-9530001bce05",
   "metadata": {},
   "source": [
    "- De manière générale, Ies arguments peuvent être utilisés sous leurs formes courtes ou sous leurs formes longues (plus explicites/lisibles mais plus longues à taper…).\n",
    "- Les formes longues sont généralement précédées de deux tirets (dans l'exemple ci dessous on dira 'moins-moins help) "
   ]
  },
  {
   "cell_type": "code",
   "execution_count": null,
   "id": "f2c51271-084a-4c6f-aec0-607b53eb98f6",
   "metadata": {},
   "outputs": [],
   "source": [
    "# Demander de l'aide (help) sur fastqc avec l'argument -h\n",
    "fastqc -h  "
   ]
  },
  {
   "cell_type": "code",
   "execution_count": null,
   "id": "74cefc0e-5f75-4ccc-935f-2c7a50b3337a",
   "metadata": {},
   "outputs": [],
   "source": [
    "# La commande précédente est équivalente mais un peu plus lisible\n",
    "fastqc --help"
   ]
  },
  {
   "cell_type": "markdown",
   "id": "832cb1e5-3a48-4177-8a62-c0630dac68af",
   "metadata": {},
   "source": [
    "## Trouver de l'aide !\n",
    "\n",
    "Appeler la police, appeler son collègue, chercher sur internet ou utiliser la commande **man** (**man**uel)"
   ]
  },
  {
   "cell_type": "code",
   "execution_count": null,
   "id": "c343fd57-c0de-4a6e-9f7b-989bc747bd2b",
   "metadata": {},
   "outputs": [],
   "source": [
    "# obtenir de l'aide sur la commande ls\n",
    "man ls  "
   ]
  },
  {
   "cell_type": "code",
   "execution_count": null,
   "id": "3aad58dd-1ec9-45ce-83cf-efd0b76d0517",
   "metadata": {},
   "outputs": [],
   "source": [
    "# obtenir de l'aide sur la commande man ...\n",
    "man man  "
   ]
  },
  {
   "cell_type": "code",
   "execution_count": null,
   "id": "347f430d-f1ef-4c74-9d78-2d8a5303b956",
   "metadata": {},
   "outputs": [],
   "source": [
    "```{tip} \n",
    "*Raccourcis dans l'aide*:\n",
    "- `/color` : pour chercher le terme ‘color’.\n",
    "- `n` : (**n**ext) pour chercher la prochaine occurrence de 'truc'.\n",
    "- `p`: (**p**revious) pour chercher l'occurrence précédente de 'truc'.\n",
    "- `q` : pour **q**uitter l'aide.\n",
    "```\n",
    "\n",
    "## Zoom sur la commande ls\n",
    "### La commande ls et ses arguments\n",
    "\n",
    "La commande ls peut prendre un certain nombre d'arguments.\n",
    "\n",
    "Parmis les arguments principaux:\n",
    "- `-l` (**l**ong/lot) donne beaucoup d'informations sur les fichiers.\n",
    "- `-a` (**a**ll) montre tous les fichiers y compris ceux qui sont cachés*.\n",
    "- `-t` (**t**ime) trie par date de modification.\n",
    "- `-h` (**h**uman-readable) affiche les tailles des fichiers en unités lisibles\n",
    "- `-r` (**r**everse) inverse l'ordre du tri.\n",
    "\n",
    "On peut combiner les arguments : `ls -l --all`\n",
    "\n",
    "On peut fusionner les arguments (au format court) : `ls -la`\n",
    "\n",
    "**Sous Linux les noms des fichiers cachés commencent par un point (e.g '.bashrc').**\n",
    "\n",
    "### La commande ls et ses arguments\n"
   ]
  }
 ],
 "metadata": {
  "kernelspec": {
   "display_name": "Bash",
   "language": "bash",
   "name": "bash"
  },
  "language_info": {
   "codemirror_mode": "shell",
   "file_extension": ".sh",
   "mimetype": "text/x-sh",
   "name": "bash"
  }
 },
 "nbformat": 4,
 "nbformat_minor": 5
}
