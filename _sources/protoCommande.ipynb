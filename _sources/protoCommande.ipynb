{
 "cells": [
  {
   "cell_type": "markdown",
   "id": "f786962c-1ae4-41f7-96d8-2121ee0f85d0",
   "metadata": {},
   "source": [
    "# Prototype(s) d'une commande\n",
    "\n",
    "- Une commande réalise une tâche (trier, sélectionner, ouvrir, aligner des reads,...).\n",
    "- Elle dispose d'un certain nombre d'arguments qui peuvent être facultatifs et qui peuvent modifier son mode de fonctionnement.\n",
    "    - Les noms des arguments ne sont pas standardisés\n",
    "- Ces arguments peuvent ou non prendre des valeurs.\n",
    "- De manière générale une instruction dans le terminal commence toujours par le nom d'une commande\n",
    "- Dans le premier exemple ci-dessous on dira 'moins v'."
   ]
  },
  {
   "cell_type": "code",
   "execution_count": null,
   "id": "93134784-c348-4789-a3eb-826104d76b57",
   "metadata": {},
   "outputs": [],
   "source": [
    "# Exemple d'argument sans valeur associée\n",
    "# v pouvant signifier verbose, version (ou autre suivant la commande).\n",
    "fastqc -v # quelle est la version du logiciel fastqc sur ce serveur ?"
   ]
  },
  {
   "cell_type": "code",
   "execution_count": null,
   "id": "efd7f884-243a-467e-9bcd-330234fd346b",
   "metadata": {},
   "outputs": [],
   "source": [
    "# Exemple d'argument avec valeur associée \n",
    "tree -L 2 # Afficher sous forme d’arbre l’arborescence sur deux niveaux"
   ]
  },
  {
   "cell_type": "markdown",
   "id": "6ca92e41-7564-4e23-bbca-9530001bce05",
   "metadata": {},
   "source": [
    "- De manière générale, Ies arguments peuvent être utilisés sous leurs formes courtes ou sous leurs formes longues (plus explicites/lisibles mais plus longues à taper…).\n",
    "- Les formes longues sont généralement précédées de deux tirets (dans l'exemple ci dessous on dira 'moins-moins help) "
   ]
  },
  {
   "cell_type": "code",
   "execution_count": null,
   "id": "f2c51271-084a-4c6f-aec0-607b53eb98f6",
   "metadata": {},
   "outputs": [],
   "source": [
    "# Demander de l'aide (help) sur fastqc avec l'argument -h\n",
    "fastqc -h  "
   ]
  }
 ],
 "metadata": {
  "kernelspec": {
   "display_name": "Bash",
   "language": "bash",
   "name": "bash"
  },
  "language_info": {
   "codemirror_mode": "shell",
   "file_extension": ".sh",
   "mimetype": "text/x-sh",
   "name": "bash"
  }
 },
 "nbformat": 4,
 "nbformat_minor": 5
}
