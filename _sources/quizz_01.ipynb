{
 "cells": [
  {
   "cell_type": "markdown",
   "id": "b2a7d8ce-5f40-420a-a82e-df4870adfa1b",
   "metadata": {},
   "source": [
    "# Quizz 1"
   ]
  },
  {
   "cell_type": "code",
   "execution_count": 2,
   "id": "f15a99fe-4bd9-4db1-a56f-fcad81134ff1",
   "metadata": {
    "tags": [
     "remove-input"
    ]
   },
   "outputs": [
    {
     "ename": "ModuleNotFoundError",
     "evalue": "No module named 'jupyterquiz'",
     "output_type": "error",
     "traceback": [
      "\u001b[0;31m---------------------------------------------------------------------------\u001b[0m",
      "\u001b[0;31mModuleNotFoundError\u001b[0m                       Traceback (most recent call last)",
      "Cell \u001b[0;32mIn [2], line 1\u001b[0m\n\u001b[0;32m----> 1\u001b[0m \u001b[38;5;28;01mfrom\u001b[39;00m \u001b[38;5;21;01mjupyterquiz\u001b[39;00m \u001b[38;5;28;01mimport\u001b[39;00m display_quiz\n\u001b[1;32m      2\u001b[0m display_quiz(example)\n",
      "\u001b[0;31mModuleNotFoundError\u001b[0m: No module named 'jupyterquiz'"
     ]
    }
   ],
   "source": [
    "from jupyterquiz import display_quiz\n",
    "\n",
    "quizz =[{\n",
    "        \"question\": \"Comment charger un module sur le cluster de l'IFB ?\",\n",
    "        \"type\": \"multiple_choice\",\n",
    "        \"answers\": [\n",
    "            {\n",
    "                \"code\": \"module avail -l\",\n",
    "                \"correct\": False\n",
    "            },\n",
    "            {\n",
    "                \"code\": \"module load\",\n",
    "                \"correct\": True\n",
    "            },\n",
    "            {\n",
    "                \"code\": \"module charge\",\n",
    "                \"correct\": False\n",
    "            }\n",
    "        ]\n",
    "    },\n",
    "    {\n",
    "        \"question\": \"Comment se connecter au cluster de l'IFB ?\",\n",
    "        \"type\": \"multiple_choice\",\n",
    "        \"answers\": [\n",
    "            {\n",
    "                \"code\": \"SSH\",\n",
    "                \"correct\": True\n",
    "            },\n",
    "            {\n",
    "                \"code\": \"Jypyter\",\n",
    "                \"correct\": True\n",
    "            },\n",
    "            {\n",
    "                \"code\": \"Galaxy\",\n",
    "                \"correct\": True\n",
    "            },\n",
    "            {\n",
    "                \"code\": \"En branchant mon ordinateur directement dessus\",\n",
    "                \"correct\": False\n",
    "            }\n",
    "        ]\n",
    "    },\n",
    "    {\n",
    "        \"question\": \"BASH est le seul langage compris par le Shell ?\",\n",
    "        \"type\": \"multiple_choice\",\n",
    "        \"answers\": [\n",
    "            {\n",
    "                \"code\": \"Vrai\",\n",
    "                \"correct\": True,\n",
    "                \"feedback\": \"Il y a aussi : bsh, ksh, csh, zsh,…\"\n",
    "            },\n",
    "            {\n",
    "                \"code\": \"Faux\",\n",
    "                \"correct\": False,\n",
    "                \"feedback\": \"Il y a aussi : bsh, ksh, csh, zsh,…\"\n",
    "            },\n",
    "        ]\n",
    "    }\n",
    "]\n",
    "display_quiz(quizz)"
   ]
  }
 ],
 "metadata": {
  "kernelspec": {
   "display_name": "Python 3.7",
   "language": "python",
   "name": "python3"
  },
  "language_info": {
   "codemirror_mode": {
    "name": "ipython",
    "version": 3
   },
   "file_extension": ".py",
   "mimetype": "text/x-python",
   "name": "python",
   "nbconvert_exporter": "python",
   "pygments_lexer": "ipython3",
   "version": "3.7.12"
  }
 },
 "nbformat": 4,
 "nbformat_minor": 5
}
