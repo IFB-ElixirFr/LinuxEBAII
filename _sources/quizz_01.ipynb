{
 "cells": [
  {
   "cell_type": "code",
   "execution_count": 1,
   "id": "ebeaa25c-4a3e-4dc0-8257-6ddd6d867457",
   "metadata": {},
   "outputs": [],
   "source": [
    "example=[{\n",
    "        \"question\": \"The variable mylist is a Python list. Choose which code snippet will append the item 3 to mylist.\",\n",
    "        \"type\": \"multiple_choice\",\n",
    "        \"answers\": [\n",
    "            {\n",
    "                \"code\": \"mylist+=3\",\n",
    "                \"correct\": False\n",
    "            },\n",
    "            {\n",
    "                \"code\": \"mylist+=[3]\",\n",
    "                \"correct\": True\n",
    "            },\n",
    "            {\n",
    "                \"code\": \"mylist+={3}\",\n",
    "                \"correct\": False\n",
    "            }\n",
    "        ]\n",
    "    }]"
   ]
  },
  {
   "cell_type": "code",
   "execution_count": 2,
   "id": "f15a99fe-4bd9-4db1-a56f-fcad81134ff1",
   "metadata": {},
   "outputs": [
    {
     "ename": "ModuleNotFoundError",
     "evalue": "No module named 'jupyterquiz'",
     "output_type": "error",
     "traceback": [
      "\u001b[0;31m---------------------------------------------------------------------------\u001b[0m",
      "\u001b[0;31mModuleNotFoundError\u001b[0m                       Traceback (most recent call last)",
      "Cell \u001b[0;32mIn [2], line 1\u001b[0m\n\u001b[0;32m----> 1\u001b[0m \u001b[38;5;28;01mfrom\u001b[39;00m \u001b[38;5;21;01mjupyterquiz\u001b[39;00m \u001b[38;5;28;01mimport\u001b[39;00m display_quiz\n\u001b[1;32m      2\u001b[0m display_quiz(example)\n",
      "\u001b[0;31mModuleNotFoundError\u001b[0m: No module named 'jupyterquiz'"
     ]
    }
   ],
   "source": [
    "from jupyterquiz import display_quiz\n",
    "display_quiz(example)"
   ]
  },
  {
   "cell_type": "code",
   "execution_count": null,
   "id": "d49b616d-f1a8-4366-bf55-dd89c46fec9b",
   "metadata": {},
   "outputs": [],
   "source": []
  }
 ],
 "metadata": {
  "kernelspec": {
   "display_name": "Python 3.7",
   "language": "python",
   "name": "python3"
  },
  "language_info": {
   "codemirror_mode": {
    "name": "ipython",
    "version": 3
   },
   "file_extension": ".py",
   "mimetype": "text/x-python",
   "name": "python",
   "nbconvert_exporter": "python",
   "pygments_lexer": "ipython3",
   "version": "3.7.12"
  }
 },
 "nbformat": 4,
 "nbformat_minor": 5
}
