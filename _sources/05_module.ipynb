{
 "cells": [
  {
   "cell_type": "markdown",
   "id": "99893e70-9066-45b8-9fa8-7a9d9ef3fcb8",
   "metadata": {},
   "source": [
    "# Charger l'environnement logiciel\n",
    "\n",
    "- Les administrateurs du cluster ont effectué les installations via le gestionnaire de  logiciels Conda. \n",
    "    - Permet l’installation facile des programmes et de leurs dépendances.\n",
    "    - Le dépôt Bioconda met à disposition de nombreux outils bioinformatiques.\n",
    "- La commande module va charger l'environnement Conda dans votre session\n",
    "\n",
    "```bash\n",
    "# Afficher la liste des environnements disponibles\n",
    "module avail -l   \n",
    "```"
   ]
  },
  {
   "cell_type": "code",
   "execution_count": 1,
   "id": "f816ec39-22b7-4b26-9931-172676e22951",
   "metadata": {},
   "outputs": [],
   "source": [
    "# Charger fastqc dans votre environnement\n",
    "module load fastqc/0.11.8 # La version est facultative "
   ]
  },
  {
   "cell_type": "markdown",
   "id": "10e0a95a-b986-4963-980d-010142235db8",
   "metadata": {},
   "source": [
    "```bash\n",
    "# On peut aussi décharger\n",
    "module unload fastqc/0.11.8 \n",
    "```"
   ]
  },
  {
   "cell_type": "code",
   "execution_count": null,
   "id": "d3b3660e-3e36-4d18-8050-4c15c480598c",
   "metadata": {},
   "outputs": [],
   "source": []
  }
 ],
 "metadata": {
  "kernelspec": {
   "display_name": "Bash",
   "language": "bash",
   "name": "bash"
  },
  "language_info": {
   "codemirror_mode": "shell",
   "file_extension": ".sh",
   "mimetype": "text/x-sh",
   "name": "bash"
  }
 },
 "nbformat": 4,
 "nbformat_minor": 5
}
